{
 "cells": [
  {
   "cell_type": "code",
   "execution_count": 1,
   "id": "5cfa3371",
   "metadata": {},
   "outputs": [],
   "source": [
    "import pandas as pd\n",
    "import numpy as np"
   ]
  },
  {
   "cell_type": "code",
   "execution_count": 91,
   "id": "2fc67864",
   "metadata": {},
   "outputs": [
    {
     "data": {
      "text/html": [
       "<div>\n",
       "<style scoped>\n",
       "    .dataframe tbody tr th:only-of-type {\n",
       "        vertical-align: middle;\n",
       "    }\n",
       "\n",
       "    .dataframe tbody tr th {\n",
       "        vertical-align: top;\n",
       "    }\n",
       "\n",
       "    .dataframe thead th {\n",
       "        text-align: right;\n",
       "    }\n",
       "</style>\n",
       "<table border=\"1\" class=\"dataframe\">\n",
       "  <thead>\n",
       "    <tr style=\"text-align: right;\">\n",
       "      <th></th>\n",
       "      <th>Period\\Unit:</th>\n",
       "      <th>[Australian dollar ]</th>\n",
       "      <th>[Bulgarian lev ]</th>\n",
       "      <th>[Brazilian real ]</th>\n",
       "      <th>[Canadian dollar ]</th>\n",
       "      <th>[Swiss franc ]</th>\n",
       "      <th>[Chinese yuan renminbi ]</th>\n",
       "      <th>[Cypriot pound ]</th>\n",
       "      <th>[Czech koruna ]</th>\n",
       "      <th>[Danish krone ]</th>\n",
       "      <th>...</th>\n",
       "      <th>[Romanian leu ]</th>\n",
       "      <th>[Russian rouble ]</th>\n",
       "      <th>[Swedish krona ]</th>\n",
       "      <th>[Singapore dollar ]</th>\n",
       "      <th>[Slovenian tolar ]</th>\n",
       "      <th>[Slovak koruna ]</th>\n",
       "      <th>[Thai baht ]</th>\n",
       "      <th>[Turkish lira ]</th>\n",
       "      <th>[US dollar ]</th>\n",
       "      <th>[South African rand ]</th>\n",
       "    </tr>\n",
       "  </thead>\n",
       "  <tbody>\n",
       "    <tr>\n",
       "      <th>0</th>\n",
       "      <td>2023-05-26</td>\n",
       "      <td>1.6439</td>\n",
       "      <td>1.9558</td>\n",
       "      <td>5.3878</td>\n",
       "      <td>1.463</td>\n",
       "      <td>0.9707</td>\n",
       "      <td>7.5874</td>\n",
       "      <td>NaN</td>\n",
       "      <td>23.648</td>\n",
       "      <td>7.4489</td>\n",
       "      <td>...</td>\n",
       "      <td>4.9572</td>\n",
       "      <td>NaN</td>\n",
       "      <td>11.528</td>\n",
       "      <td>1.452</td>\n",
       "      <td>NaN</td>\n",
       "      <td>NaN</td>\n",
       "      <td>37.263</td>\n",
       "      <td>21.5340</td>\n",
       "      <td>1.0751</td>\n",
       "      <td>21.0148</td>\n",
       "    </tr>\n",
       "    <tr>\n",
       "      <th>1</th>\n",
       "      <td>2023-05-25</td>\n",
       "      <td>1.6443</td>\n",
       "      <td>1.9558</td>\n",
       "      <td>5.332</td>\n",
       "      <td>1.4599</td>\n",
       "      <td>0.9708</td>\n",
       "      <td>7.5891</td>\n",
       "      <td>NaN</td>\n",
       "      <td>23.645</td>\n",
       "      <td>7.4502</td>\n",
       "      <td>...</td>\n",
       "      <td>4.9495</td>\n",
       "      <td>NaN</td>\n",
       "      <td>11.549</td>\n",
       "      <td>1.4515</td>\n",
       "      <td>NaN</td>\n",
       "      <td>NaN</td>\n",
       "      <td>37.154</td>\n",
       "      <td>21.3944</td>\n",
       "      <td>1.0735</td>\n",
       "      <td>20.7466</td>\n",
       "    </tr>\n",
       "    <tr>\n",
       "      <th>2</th>\n",
       "      <td>2023-05-24</td>\n",
       "      <td>1.6402</td>\n",
       "      <td>1.9558</td>\n",
       "      <td>5.3397</td>\n",
       "      <td>1.46</td>\n",
       "      <td>0.9732</td>\n",
       "      <td>7.6005</td>\n",
       "      <td>NaN</td>\n",
       "      <td>23.671</td>\n",
       "      <td>7.4477</td>\n",
       "      <td>...</td>\n",
       "      <td>4.9614</td>\n",
       "      <td>NaN</td>\n",
       "      <td>11.5103</td>\n",
       "      <td>1.4526</td>\n",
       "      <td>NaN</td>\n",
       "      <td>NaN</td>\n",
       "      <td>37.171</td>\n",
       "      <td>21.4487</td>\n",
       "      <td>1.0785</td>\n",
       "      <td>20.7479</td>\n",
       "    </tr>\n",
       "    <tr>\n",
       "      <th>3</th>\n",
       "      <td>2023-05-23</td>\n",
       "      <td>1.6282</td>\n",
       "      <td>1.9558</td>\n",
       "      <td>5.3649</td>\n",
       "      <td>1.4571</td>\n",
       "      <td>0.9718</td>\n",
       "      <td>7.6039</td>\n",
       "      <td>NaN</td>\n",
       "      <td>23.681</td>\n",
       "      <td>7.4475</td>\n",
       "      <td>...</td>\n",
       "      <td>4.9720</td>\n",
       "      <td>NaN</td>\n",
       "      <td>11.4494</td>\n",
       "      <td>1.4527</td>\n",
       "      <td>NaN</td>\n",
       "      <td>NaN</td>\n",
       "      <td>37.435</td>\n",
       "      <td>21.3993</td>\n",
       "      <td>1.0779</td>\n",
       "      <td>20.792</td>\n",
       "    </tr>\n",
       "    <tr>\n",
       "      <th>4</th>\n",
       "      <td>2023-05-22</td>\n",
       "      <td>1.6294</td>\n",
       "      <td>1.9558</td>\n",
       "      <td>5.4056</td>\n",
       "      <td>1.4618</td>\n",
       "      <td>0.97</td>\n",
       "      <td>7.6067</td>\n",
       "      <td>NaN</td>\n",
       "      <td>23.676</td>\n",
       "      <td>7.4478</td>\n",
       "      <td>...</td>\n",
       "      <td>4.9737</td>\n",
       "      <td>NaN</td>\n",
       "      <td>11.3765</td>\n",
       "      <td>1.4554</td>\n",
       "      <td>NaN</td>\n",
       "      <td>NaN</td>\n",
       "      <td>37.282</td>\n",
       "      <td>21.4629</td>\n",
       "      <td>1.0822</td>\n",
       "      <td>20.9137</td>\n",
       "    </tr>\n",
       "  </tbody>\n",
       "</table>\n",
       "<p>5 rows × 41 columns</p>\n",
       "</div>"
      ],
      "text/plain": [
       "  Period\\Unit: [Australian dollar ] [Bulgarian lev ] [Brazilian real ]  \\\n",
       "0   2023-05-26               1.6439           1.9558            5.3878   \n",
       "1   2023-05-25               1.6443           1.9558             5.332   \n",
       "2   2023-05-24               1.6402           1.9558            5.3397   \n",
       "3   2023-05-23               1.6282           1.9558            5.3649   \n",
       "4   2023-05-22               1.6294           1.9558            5.4056   \n",
       "\n",
       "  [Canadian dollar ] [Swiss franc ] [Chinese yuan renminbi ] [Cypriot pound ]  \\\n",
       "0              1.463         0.9707                   7.5874              NaN   \n",
       "1             1.4599         0.9708                   7.5891              NaN   \n",
       "2               1.46         0.9732                   7.6005              NaN   \n",
       "3             1.4571         0.9718                   7.6039              NaN   \n",
       "4             1.4618           0.97                   7.6067              NaN   \n",
       "\n",
       "  [Czech koruna ] [Danish krone ]  ... [Romanian leu ] [Russian rouble ]  \\\n",
       "0          23.648          7.4489  ...          4.9572               NaN   \n",
       "1          23.645          7.4502  ...          4.9495               NaN   \n",
       "2          23.671          7.4477  ...          4.9614               NaN   \n",
       "3          23.681          7.4475  ...          4.9720               NaN   \n",
       "4          23.676          7.4478  ...          4.9737               NaN   \n",
       "\n",
       "  [Swedish krona ] [Singapore dollar ] [Slovenian tolar ] [Slovak koruna ]  \\\n",
       "0           11.528               1.452                NaN              NaN   \n",
       "1           11.549              1.4515                NaN              NaN   \n",
       "2          11.5103              1.4526                NaN              NaN   \n",
       "3          11.4494              1.4527                NaN              NaN   \n",
       "4          11.3765              1.4554                NaN              NaN   \n",
       "\n",
       "  [Thai baht ] [Turkish lira ] [US dollar ]  [South African rand ]  \n",
       "0       37.263         21.5340       1.0751                21.0148  \n",
       "1       37.154         21.3944       1.0735                20.7466  \n",
       "2       37.171         21.4487       1.0785                20.7479  \n",
       "3       37.435         21.3993       1.0779                 20.792  \n",
       "4       37.282         21.4629       1.0822                20.9137  \n",
       "\n",
       "[5 rows x 41 columns]"
      ]
     },
     "execution_count": 91,
     "metadata": {},
     "output_type": "execute_result"
    }
   ],
   "source": [
    "df=pd.read_csv(\"euro-daily-hist_1999_2022.csv\")\n",
    "df.head()"
   ]
  },
  {
   "cell_type": "code",
   "execution_count": 92,
   "id": "914d316c",
   "metadata": {},
   "outputs": [
    {
     "name": "stdout",
     "output_type": "stream",
     "text": [
      "<class 'pandas.core.frame.DataFrame'>\n",
      "RangeIndex: 6311 entries, 0 to 6310\n",
      "Data columns (total 41 columns):\n",
      " #   Column                    Non-Null Count  Dtype  \n",
      "---  ------                    --------------  -----  \n",
      " 0   Period                    6311 non-null   object \n",
      " 1   [Australian dollar ]      6311 non-null   object \n",
      " 2   [Bulgarian lev ]          5909 non-null   object \n",
      " 3   [Brazilian real ]         6043 non-null   object \n",
      " 4   [Canadian dollar ]        6311 non-null   object \n",
      " 5   [Swiss franc ]            6311 non-null   object \n",
      " 6   [Chinese yuan renminbi ]  6043 non-null   object \n",
      " 7   [Cypriot pound ]          2346 non-null   object \n",
      " 8   [Czech koruna ]           6311 non-null   object \n",
      " 9   [Danish krone ]           6311 non-null   object \n",
      " 10  [Estonian kroon ]         3130 non-null   object \n",
      " 11  [UK pound sterling ]      6311 non-null   object \n",
      " 12  [Greek drachma ]          520 non-null    object \n",
      " 13  [Hong Kong dollar ]       6311 non-null   object \n",
      " 14  [Croatian kuna ]          5941 non-null   object \n",
      " 15  [Hungarian forint ]       6311 non-null   object \n",
      " 16  [Indonesian rupiah ]      6311 non-null   object \n",
      " 17  [Israeli shekel ]         6043 non-null   object \n",
      " 18  Indian_rupee              6043 non-null   object \n",
      " 19  [Iceland krona ]          3904 non-null   float64\n",
      " 20  [Japanese yen ]           6311 non-null   object \n",
      " 21  [Korean won ]             6311 non-null   object \n",
      " 22  [Lithuanian litas ]       4159 non-null   object \n",
      " 23  [Latvian lats ]           3904 non-null   object \n",
      " 24  [Maltese lira ]           2346 non-null   object \n",
      " 25  [Mexican peso ]           6311 non-null   object \n",
      " 26  [Malaysian ringgit ]      6311 non-null   object \n",
      " 27  [Norwegian krone ]        6311 non-null   object \n",
      " 28  [New Zealand dollar ]     6311 non-null   object \n",
      " 29  [Philippine peso ]        6311 non-null   object \n",
      " 30  [Polish zloty ]           6311 non-null   object \n",
      " 31  [Romanian leu ]           6249 non-null   float64\n",
      " 32  [Russian rouble ]         5994 non-null   object \n",
      " 33  [Swedish krona ]          6311 non-null   object \n",
      " 34  [Singapore dollar ]       6311 non-null   object \n",
      " 35  [Slovenian tolar ]        2085 non-null   object \n",
      " 36  [Slovak koruna ]          2608 non-null   object \n",
      " 37  [Thai baht ]              6311 non-null   object \n",
      " 38  [Turkish lira ]           6249 non-null   float64\n",
      " 39  [US dollar ]              6311 non-null   object \n",
      " 40  [South African rand ]     6311 non-null   object \n",
      "dtypes: float64(3), object(38)\n",
      "memory usage: 2.0+ MB\n"
     ]
    }
   ],
   "source": [
    "df.rename(columns={'[Indian rupee ]':'Indian_rupee','Period\\\\Unit:':'Period'},inplace=True)\n",
    "df.info()"
   ]
  },
  {
   "cell_type": "code",
   "execution_count": 112,
   "id": "14b6a442",
   "metadata": {},
   "outputs": [
    {
     "data": {
      "text/html": [
       "<div>\n",
       "<style scoped>\n",
       "    .dataframe tbody tr th:only-of-type {\n",
       "        vertical-align: middle;\n",
       "    }\n",
       "\n",
       "    .dataframe tbody tr th {\n",
       "        vertical-align: top;\n",
       "    }\n",
       "\n",
       "    .dataframe thead th {\n",
       "        text-align: right;\n",
       "    }\n",
       "</style>\n",
       "<table border=\"1\" class=\"dataframe\">\n",
       "  <thead>\n",
       "    <tr style=\"text-align: right;\">\n",
       "      <th></th>\n",
       "      <th>Period</th>\n",
       "      <th>Indian_rupee</th>\n",
       "    </tr>\n",
       "  </thead>\n",
       "  <tbody>\n",
       "    <tr>\n",
       "      <th>0</th>\n",
       "      <td>2023-05-26</td>\n",
       "      <td>88.8049</td>\n",
       "    </tr>\n",
       "    <tr>\n",
       "      <th>1</th>\n",
       "      <td>2023-05-25</td>\n",
       "      <td>88.8055</td>\n",
       "    </tr>\n",
       "    <tr>\n",
       "      <th>2</th>\n",
       "      <td>2023-05-24</td>\n",
       "      <td>89.1473</td>\n",
       "    </tr>\n",
       "    <tr>\n",
       "      <th>3</th>\n",
       "      <td>2023-05-23</td>\n",
       "      <td>89.2675</td>\n",
       "    </tr>\n",
       "    <tr>\n",
       "      <th>4</th>\n",
       "      <td>2023-05-22</td>\n",
       "      <td>89.671</td>\n",
       "    </tr>\n",
       "  </tbody>\n",
       "</table>\n",
       "</div>"
      ],
      "text/plain": [
       "       Period Indian_rupee\n",
       "0  2023-05-26      88.8049\n",
       "1  2023-05-25      88.8055\n",
       "2  2023-05-24      89.1473\n",
       "3  2023-05-23      89.2675\n",
       "4  2023-05-22       89.671"
      ]
     },
     "execution_count": 112,
     "metadata": {},
     "output_type": "execute_result"
    }
   ],
   "source": [
    "new_df=df[['Period','Indian_rupee']]\n",
    "new_df.head()"
   ]
  },
  {
   "cell_type": "code",
   "execution_count": 113,
   "id": "4e041507",
   "metadata": {},
   "outputs": [
    {
     "data": {
      "text/plain": [
       "(6311, 2)"
      ]
     },
     "execution_count": 113,
     "metadata": {},
     "output_type": "execute_result"
    }
   ],
   "source": [
    "new_df.shape"
   ]
  },
  {
   "cell_type": "code",
   "execution_count": 95,
   "id": "5460ffdc",
   "metadata": {},
   "outputs": [],
   "source": [
    "import matplotlib.pyplot as plt\n",
    "import seaborn as sn"
   ]
  },
  {
   "cell_type": "code",
   "execution_count": 101,
   "id": "56b2ba4d",
   "metadata": {},
   "outputs": [
    {
     "data": {
      "image/png": "[encoded data removed]",
      "text/plain": [
       "<Figure size 1400x500 with 1 Axes>"
      ]
     },
     "metadata": {},
     "output_type": "display_data"
    }
   ],
   "source": [
    "plt.figure(figsize=(14,5))\n",
    "plt.xlabel('Period')\n",
    "plt.xticks(rotation=90)\n",
    "plt.ylabel('Indian_rupee')\n",
    "sn.lineplot(data=new_df,x=new_df['Period'],y=new_df['Indian_rupee'])\n",
    "plt.show()"
   ]
  },
  {
   "cell_type": "code",
   "execution_count": 119,
   "id": "d48f319c",
   "metadata": {},
   "outputs": [
    {
     "data": {
      "text/plain": [
       "Period          0\n",
       "Indian_rupee    0\n",
       "dtype: int64"
      ]
     },
     "execution_count": 119,
     "metadata": {},
     "output_type": "execute_result"
    }
   ],
   "source": [
    "new_df.isna().sum()"
   ]
  },
  {
   "cell_type": "code",
   "execution_count": 117,
   "id": "26f8e362",
   "metadata": {},
   "outputs": [
    {
     "name": "stderr",
     "output_type": "stream",
     "text": [
      "/tmp/ipykernel_46488/1925939579.py:1: SettingWithCopyWarning: \n",
      "A value is trying to be set on a copy of a slice from a DataFrame\n",
      "\n",
      "See the caveats in the documentation: https://pandas.pydata.org/pandas-docs/stable/user_guide/indexing.html#returning-a-view-versus-a-copy\n",
      "  new_df.dropna(inplace=True)\n"
     ]
    }
   ],
   "source": [
    "new_df.dropna(inplace=True)"
   ]
  },
  {
   "cell_type": "code",
   "execution_count": 120,
   "id": "20a6185e",
   "metadata": {},
   "outputs": [
    {
     "name": "stdout",
     "output_type": "stream",
     "text": [
      "<class 'pandas.core.frame.DataFrame'>\n",
      "Int64Index: 6043 entries, 0 to 6042\n",
      "Data columns (total 2 columns):\n",
      " #   Column        Non-Null Count  Dtype \n",
      "---  ------        --------------  ----- \n",
      " 0   Period        6043 non-null   object\n",
      " 1   Indian_rupee  6043 non-null   object\n",
      "dtypes: object(2)\n",
      "memory usage: 141.6+ KB\n"
     ]
    }
   ],
   "source": [
    "new_df.info()"
   ]
  },
  {
   "cell_type": "code",
   "execution_count": 121,
   "id": "854c0e19",
   "metadata": {},
   "outputs": [
    {
     "data": {
      "image/png": "[encoded data removed]",
      "text/plain": [
       "<Figure size 1400x500 with 1 Axes>"
      ]
     },
     "metadata": {},
     "output_type": "display_data"
    }
   ],
   "source": [
    "plt.figure(figsize=(14,5))\n",
    "plt.xlabel('Period')\n",
    "plt.xticks(rotation=90)\n",
    "plt.ylabel('Indian_rupee')\n",
    "sn.lineplot(data=new_df,x=new_df['Period'],y=new_df['Indian_rupee'])\n",
    "plt.show()"
   ]
  },
  {
   "cell_type": "code",
   "execution_count": 329,
   "id": "7e71adc4",
   "metadata": {},
   "outputs": [
    {
     "name": "stdout",
     "output_type": "stream",
     "text": [
      "<class 'pandas.core.frame.DataFrame'>\n",
      "Int64Index: 6043 entries, 0 to 6042\n",
      "Data columns (total 2 columns):\n",
      " #   Column        Non-Null Count  Dtype         \n",
      "---  ------        --------------  -----         \n",
      " 0   Period        6043 non-null   datetime64[ns]\n",
      " 1   Indian_rupee  6043 non-null   object        \n",
      "dtypes: datetime64[ns](1), object(1)\n",
      "memory usage: 141.6+ KB\n"
     ]
    },
    {
     "name": "stderr",
     "output_type": "stream",
     "text": [
      "/tmp/ipykernel_46488/850449454.py:1: SettingWithCopyWarning: \n",
      "A value is trying to be set on a copy of a slice from a DataFrame.\n",
      "Try using .loc[row_indexer,col_indexer] = value instead\n",
      "\n",
      "See the caveats in the documentation: https://pandas.pydata.org/pandas-docs/stable/user_guide/indexing.html#returning-a-view-versus-a-copy\n",
      "  new_df['Period']=pd.to_datetime(new_df['Period'])\n"
     ]
    }
   ],
   "source": [
    "new_df['Period']=pd.to_datetime(new_df['Period'])\n",
    "new_df.info()"
   ]
  },
  {
   "cell_type": "code",
   "execution_count": 293,
   "id": "242a46ed",
   "metadata": {},
   "outputs": [
    {
     "data": {
      "text/html": [
       "<div>\n",
       "<style scoped>\n",
       "    .dataframe tbody tr th:only-of-type {\n",
       "        vertical-align: middle;\n",
       "    }\n",
       "\n",
       "    .dataframe tbody tr th {\n",
       "        vertical-align: top;\n",
       "    }\n",
       "\n",
       "    .dataframe thead th {\n",
       "        text-align: right;\n",
       "    }\n",
       "</style>\n",
       "<table border=\"1\" class=\"dataframe\">\n",
       "  <thead>\n",
       "    <tr style=\"text-align: right;\">\n",
       "      <th></th>\n",
       "      <th>Indian_rupee</th>\n",
       "    </tr>\n",
       "    <tr>\n",
       "      <th>Period</th>\n",
       "      <th></th>\n",
       "    </tr>\n",
       "  </thead>\n",
       "  <tbody>\n",
       "    <tr>\n",
       "      <th>2023-05-26</th>\n",
       "      <td>88.8049</td>\n",
       "    </tr>\n",
       "    <tr>\n",
       "      <th>2023-05-25</th>\n",
       "      <td>88.8055</td>\n",
       "    </tr>\n",
       "    <tr>\n",
       "      <th>2023-05-24</th>\n",
       "      <td>89.1473</td>\n",
       "    </tr>\n",
       "    <tr>\n",
       "      <th>2023-05-23</th>\n",
       "      <td>89.2675</td>\n",
       "    </tr>\n",
       "    <tr>\n",
       "      <th>2023-05-22</th>\n",
       "      <td>89.671</td>\n",
       "    </tr>\n",
       "    <tr>\n",
       "      <th>...</th>\n",
       "      <td>...</td>\n",
       "    </tr>\n",
       "    <tr>\n",
       "      <th>2000-01-19</th>\n",
       "      <td>44.006</td>\n",
       "    </tr>\n",
       "    <tr>\n",
       "      <th>2000-01-18</th>\n",
       "      <td>43.998</td>\n",
       "    </tr>\n",
       "    <tr>\n",
       "      <th>2000-01-17</th>\n",
       "      <td>43.979</td>\n",
       "    </tr>\n",
       "    <tr>\n",
       "      <th>2000-01-14</th>\n",
       "      <td>44.473</td>\n",
       "    </tr>\n",
       "    <tr>\n",
       "      <th>2000-01-13</th>\n",
       "      <td>44.724</td>\n",
       "    </tr>\n",
       "  </tbody>\n",
       "</table>\n",
       "<p>6043 rows × 1 columns</p>\n",
       "</div>"
      ],
      "text/plain": [
       "           Indian_rupee\n",
       "Period                 \n",
       "2023-05-26      88.8049\n",
       "2023-05-25      88.8055\n",
       "2023-05-24      89.1473\n",
       "2023-05-23      89.2675\n",
       "2023-05-22       89.671\n",
       "...                 ...\n",
       "2000-01-19       44.006\n",
       "2000-01-18       43.998\n",
       "2000-01-17       43.979\n",
       "2000-01-14       44.473\n",
       "2000-01-13       44.724\n",
       "\n",
       "[6043 rows x 1 columns]"
      ]
     },
     "execution_count": 293,
     "metadata": {},
     "output_type": "execute_result"
    }
   ],
   "source": [
    "ind_rupee=new_df.set_index('Period')\n",
    "ind_rupee"
   ]
  },
  {
   "cell_type": "code",
   "execution_count": 294,
   "id": "7e3ea619",
   "metadata": {
    "scrolled": true
   },
   "outputs": [
    {
     "data": {
      "text/html": [
       "<div>\n",
       "<style scoped>\n",
       "    .dataframe tbody tr th:only-of-type {\n",
       "        vertical-align: middle;\n",
       "    }\n",
       "\n",
       "    .dataframe tbody tr th {\n",
       "        vertical-align: top;\n",
       "    }\n",
       "\n",
       "    .dataframe thead th {\n",
       "        text-align: right;\n",
       "    }\n",
       "</style>\n",
       "<table border=\"1\" class=\"dataframe\">\n",
       "  <thead>\n",
       "    <tr style=\"text-align: right;\">\n",
       "      <th></th>\n",
       "      <th>Indian_rupee</th>\n",
       "    </tr>\n",
       "    <tr>\n",
       "      <th>Period</th>\n",
       "      <th></th>\n",
       "    </tr>\n",
       "  </thead>\n",
       "  <tbody>\n",
       "    <tr>\n",
       "      <th>2000-01-13</th>\n",
       "      <td>44.724</td>\n",
       "    </tr>\n",
       "    <tr>\n",
       "      <th>2000-01-14</th>\n",
       "      <td>44.473</td>\n",
       "    </tr>\n",
       "    <tr>\n",
       "      <th>2000-01-17</th>\n",
       "      <td>43.979</td>\n",
       "    </tr>\n",
       "    <tr>\n",
       "      <th>2000-01-18</th>\n",
       "      <td>43.998</td>\n",
       "    </tr>\n",
       "    <tr>\n",
       "      <th>2000-01-19</th>\n",
       "      <td>44.006</td>\n",
       "    </tr>\n",
       "    <tr>\n",
       "      <th>...</th>\n",
       "      <td>...</td>\n",
       "    </tr>\n",
       "    <tr>\n",
       "      <th>2023-05-22</th>\n",
       "      <td>89.671</td>\n",
       "    </tr>\n",
       "    <tr>\n",
       "      <th>2023-05-23</th>\n",
       "      <td>89.2675</td>\n",
       "    </tr>\n",
       "    <tr>\n",
       "      <th>2023-05-24</th>\n",
       "      <td>89.1473</td>\n",
       "    </tr>\n",
       "    <tr>\n",
       "      <th>2023-05-25</th>\n",
       "      <td>88.8055</td>\n",
       "    </tr>\n",
       "    <tr>\n",
       "      <th>2023-05-26</th>\n",
       "      <td>88.8049</td>\n",
       "    </tr>\n",
       "  </tbody>\n",
       "</table>\n",
       "<p>6043 rows × 1 columns</p>\n",
       "</div>"
      ],
      "text/plain": [
       "           Indian_rupee\n",
       "Period                 \n",
       "2000-01-13       44.724\n",
       "2000-01-14       44.473\n",
       "2000-01-17       43.979\n",
       "2000-01-18       43.998\n",
       "2000-01-19       44.006\n",
       "...                 ...\n",
       "2023-05-22       89.671\n",
       "2023-05-23      89.2675\n",
       "2023-05-24      89.1473\n",
       "2023-05-25      88.8055\n",
       "2023-05-26      88.8049\n",
       "\n",
       "[6043 rows x 1 columns]"
      ]
     },
     "execution_count": 294,
     "metadata": {},
     "output_type": "execute_result"
    }
   ],
   "source": [
    "ind_rupee.sort_index(inplace=True)\n",
    "ind_rupee"
   ]
  },
  {
   "cell_type": "code",
   "execution_count": 295,
   "id": "c08c9c41",
   "metadata": {},
   "outputs": [
    {
     "data": {
      "text/plain": [
       "DatetimeIndex(['2000-04-21', '2000-04-24', '2000-05-01', '2000-12-25',\n",
       "               '2000-12-26', '2001-01-01', '2001-04-13', '2001-04-16',\n",
       "               '2001-05-01', '2001-12-25', '2001-12-26', '2001-12-31',\n",
       "               '2002-01-01', '2002-03-29', '2002-04-01', '2002-05-01',\n",
       "               '2002-12-25', '2002-12-26', '2003-01-01', '2003-04-18',\n",
       "               '2003-04-21', '2003-05-01', '2003-12-25', '2003-12-26',\n",
       "               '2004-01-01', '2004-04-09', '2004-04-12', '2005-03-25',\n",
       "               '2005-03-28', '2005-12-26', '2006-04-14', '2006-04-17',\n",
       "               '2006-05-01', '2006-12-25', '2006-12-26', '2007-01-01',\n",
       "               '2007-04-06', '2007-04-09', '2007-05-01', '2007-12-25',\n",
       "               '2007-12-26', '2008-01-01', '2008-03-21', '2008-03-24',\n",
       "               '2008-05-01', '2008-12-25', '2008-12-26', '2009-01-01',\n",
       "               '2009-04-10', '2009-04-13', '2009-05-01', '2009-12-25',\n",
       "               '2010-01-01', '2010-04-02', '2010-04-05', '2011-04-22',\n",
       "               '2011-04-25', '2011-12-26', '2012-04-06', '2012-04-09',\n",
       "               '2012-05-01'],\n",
       "              dtype='datetime64[ns]', name='Period', freq=None)"
      ]
     },
     "execution_count": 295,
     "metadata": {},
     "output_type": "execute_result"
    }
   ],
   "source": [
    "ind_rupee[ind_rupee['Indian_rupee']=='-'].index"
   ]
  },
  {
   "cell_type": "code",
   "execution_count": 296,
   "id": "7127b116",
   "metadata": {},
   "outputs": [],
   "source": [
    "ind_rupee.drop(list(ind_rupee[ind_rupee['Indian_rupee']=='-'].index),axis=0,inplace=True)"
   ]
  },
  {
   "cell_type": "code",
   "execution_count": 297,
   "id": "8903ad02",
   "metadata": {},
   "outputs": [
    {
     "data": {
      "text/plain": [
       "(5982, 1)"
      ]
     },
     "execution_count": 297,
     "metadata": {},
     "output_type": "execute_result"
    }
   ],
   "source": [
    "ind_rupee.shape"
   ]
  },
  {
   "cell_type": "code",
   "execution_count": 298,
   "id": "dc9276c3",
   "metadata": {},
   "outputs": [
    {
     "name": "stdout",
     "output_type": "stream",
     "text": [
      "<class 'pandas.core.frame.DataFrame'>\n",
      "DatetimeIndex: 5982 entries, 2000-01-13 to 2023-05-26\n",
      "Data columns (total 1 columns):\n",
      " #   Column        Non-Null Count  Dtype  \n",
      "---  ------        --------------  -----  \n",
      " 0   Indian_rupee  5982 non-null   float64\n",
      "dtypes: float64(1)\n",
      "memory usage: 93.5 KB\n"
     ]
    }
   ],
   "source": [
    "ind_rupee['Indian_rupee']=pd.to_numeric(ind_rupee['Indian_rupee'])\n",
    "ind_rupee.info()"
   ]
  },
  {
   "cell_type": "code",
   "execution_count": 299,
   "id": "77d26f93",
   "metadata": {},
   "outputs": [],
   "source": [
    "# Calculate and plot rolling mean and standard Deviation for 12 months"
   ]
  },
  {
   "cell_type": "code",
   "execution_count": 300,
   "id": "801b852f",
   "metadata": {},
   "outputs": [],
   "source": [
    "ind_rupee['roll_mean']=ind_rupee['Indian_rupee'].rolling(window=365).mean()\n",
    "ind_rupee['roll_std']=ind_rupee['Indian_rupee'].rolling(window=365).std()"
   ]
  },
  {
   "cell_type": "code",
   "execution_count": 301,
   "id": "d1cfcc9f",
   "metadata": {},
   "outputs": [
    {
     "name": "stdout",
     "output_type": "stream",
     "text": [
      "Period\n",
      "2000-01-13          NaN\n",
      "2000-01-14          NaN\n",
      "2000-01-17          NaN\n",
      "2000-01-18          NaN\n",
      "2000-01-19          NaN\n",
      "                ...    \n",
      "2023-05-22    84.383565\n",
      "2023-05-23    84.393880\n",
      "2023-05-24    84.404243\n",
      "2023-05-25    84.413554\n",
      "2023-05-26    84.423766\n",
      "Name: roll_mean, Length: 5982, dtype: float64\n",
      "Period\n",
      "2000-01-13         NaN\n",
      "2000-01-14         NaN\n",
      "2000-01-17         NaN\n",
      "2000-01-18         NaN\n",
      "2000-01-19         NaN\n",
      "                ...   \n",
      "2023-05-22    3.336409\n",
      "2023-05-23    3.345685\n",
      "2023-05-24    3.354547\n",
      "2023-05-25    3.362046\n",
      "2023-05-26    3.369720\n",
      "Name: roll_std, Length: 5982, dtype: float64\n"
     ]
    }
   ],
   "source": [
    "print(ind_rupee['roll_mean'])\n",
    "print(ind_rupee['roll_std'])"
   ]
  },
  {
   "cell_type": "code",
   "execution_count": 148,
   "id": "09abcdb7",
   "metadata": {},
   "outputs": [
    {
     "data": {
      "image/png": "[encoded data removed]",
      "text/plain": [
       "<Figure size 1200x600 with 1 Axes>"
      ]
     },
     "metadata": {},
     "output_type": "display_data"
    }
   ],
   "source": [
    "import seaborn as sns\n",
    "plt.figure(figsize=(12,6))\n",
    "sns.lineplot(data=ind_rupee,x=ind_rupee.index,y=ind_rupee.Indian_rupee)\n",
    "sns.lineplot(data=ind_rupee,x=ind_rupee.index,y=ind_rupee.roll_mean)\n",
    "sns.lineplot(data=ind_rupee,x=ind_rupee.index,y=ind_rupee.roll_std)\n",
    "plt.show()"
   ]
  },
  {
   "cell_type": "code",
   "execution_count": 149,
   "id": "f488ba92",
   "metadata": {},
   "outputs": [],
   "source": [
    "# Our mean is not stationary but standard deviation is stationary, so our data is not stationary "
   ]
  },
  {
   "cell_type": "code",
   "execution_count": 150,
   "id": "1011b06f",
   "metadata": {},
   "outputs": [],
   "source": [
    "# To analyse Time-Series Analysis both rollmean and rolldeviation must same(stationary)"
   ]
  },
  {
   "cell_type": "code",
   "execution_count": null,
   "id": "0b0a30a6",
   "metadata": {},
   "outputs": [],
   "source": [
    "# Shift data to make rollmean and rolldeviation stationary"
   ]
  },
  {
   "cell_type": "code",
   "execution_count": 302,
   "id": "68fec228",
   "metadata": {},
   "outputs": [],
   "source": [
    "shift_ind_rupee=ind_rupee.copy()"
   ]
  },
  {
   "cell_type": "code",
   "execution_count": 303,
   "id": "c0f612e9",
   "metadata": {},
   "outputs": [],
   "source": [
    "shift_ind_rupee.drop(['roll_mean','roll_std'],axis=1,inplace=True)"
   ]
  },
  {
   "cell_type": "code",
   "execution_count": 304,
   "id": "8a56c31b",
   "metadata": {},
   "outputs": [
    {
     "data": {
      "text/html": [
       "<div>\n",
       "<style scoped>\n",
       "    .dataframe tbody tr th:only-of-type {\n",
       "        vertical-align: middle;\n",
       "    }\n",
       "\n",
       "    .dataframe tbody tr th {\n",
       "        vertical-align: top;\n",
       "    }\n",
       "\n",
       "    .dataframe thead th {\n",
       "        text-align: right;\n",
       "    }\n",
       "</style>\n",
       "<table border=\"1\" class=\"dataframe\">\n",
       "  <thead>\n",
       "    <tr style=\"text-align: right;\">\n",
       "      <th></th>\n",
       "      <th>Indian_rupee</th>\n",
       "    </tr>\n",
       "    <tr>\n",
       "      <th>Period</th>\n",
       "      <th></th>\n",
       "    </tr>\n",
       "  </thead>\n",
       "  <tbody>\n",
       "    <tr>\n",
       "      <th>2000-01-13</th>\n",
       "      <td>44.7240</td>\n",
       "    </tr>\n",
       "    <tr>\n",
       "      <th>2000-01-14</th>\n",
       "      <td>44.4730</td>\n",
       "    </tr>\n",
       "    <tr>\n",
       "      <th>2000-01-17</th>\n",
       "      <td>43.9790</td>\n",
       "    </tr>\n",
       "    <tr>\n",
       "      <th>2000-01-18</th>\n",
       "      <td>43.9980</td>\n",
       "    </tr>\n",
       "    <tr>\n",
       "      <th>2000-01-19</th>\n",
       "      <td>44.0060</td>\n",
       "    </tr>\n",
       "    <tr>\n",
       "      <th>...</th>\n",
       "      <td>...</td>\n",
       "    </tr>\n",
       "    <tr>\n",
       "      <th>2023-05-22</th>\n",
       "      <td>89.6710</td>\n",
       "    </tr>\n",
       "    <tr>\n",
       "      <th>2023-05-23</th>\n",
       "      <td>89.2675</td>\n",
       "    </tr>\n",
       "    <tr>\n",
       "      <th>2023-05-24</th>\n",
       "      <td>89.1473</td>\n",
       "    </tr>\n",
       "    <tr>\n",
       "      <th>2023-05-25</th>\n",
       "      <td>88.8055</td>\n",
       "    </tr>\n",
       "    <tr>\n",
       "      <th>2023-05-26</th>\n",
       "      <td>88.8049</td>\n",
       "    </tr>\n",
       "  </tbody>\n",
       "</table>\n",
       "<p>5982 rows × 1 columns</p>\n",
       "</div>"
      ],
      "text/plain": [
       "            Indian_rupee\n",
       "Period                  \n",
       "2000-01-13       44.7240\n",
       "2000-01-14       44.4730\n",
       "2000-01-17       43.9790\n",
       "2000-01-18       43.9980\n",
       "2000-01-19       44.0060\n",
       "...                  ...\n",
       "2023-05-22       89.6710\n",
       "2023-05-23       89.2675\n",
       "2023-05-24       89.1473\n",
       "2023-05-25       88.8055\n",
       "2023-05-26       88.8049\n",
       "\n",
       "[5982 rows x 1 columns]"
      ]
     },
     "execution_count": 304,
     "metadata": {},
     "output_type": "execute_result"
    }
   ],
   "source": [
    "shift_ind_rupee"
   ]
  },
  {
   "cell_type": "code",
   "execution_count": 305,
   "id": "e726c679",
   "metadata": {},
   "outputs": [
    {
     "name": "stdout",
     "output_type": "stream",
     "text": [
      "            Indian_rupee   shift  shiftDiff\n",
      "Period                                     \n",
      "2000-01-13        44.724     NaN        NaN\n",
      "2000-01-14        44.473     NaN        NaN\n",
      "2000-01-17        43.979     NaN        NaN\n",
      "2000-01-18        43.998     NaN        NaN\n",
      "2000-01-19        44.006     NaN        NaN\n",
      "2000-01-20        43.940     NaN        NaN\n",
      "2000-01-21        43.968     NaN        NaN\n",
      "2000-01-24        43.731     NaN        NaN\n",
      "2000-01-25        43.630     NaN        NaN\n",
      "2000-01-26        43.654     NaN        NaN\n",
      "2000-01-27        43.416  44.724     -1.308\n",
      "2000-01-28        42.936  44.473     -1.537\n",
      "2000-01-31        42.718  43.979     -1.261\n",
      "2000-02-01        42.364  43.998     -1.634\n",
      "2000-02-02        42.350  44.006     -1.656\n",
      "2000-02-03        42.432  43.940     -1.508\n",
      "2000-02-04        42.935  43.968     -1.033\n",
      "2000-02-07        42.583  43.731     -1.148\n",
      "2000-02-08        43.189  43.630     -0.441\n",
      "2000-02-09        43.312  43.654     -0.342\n",
      "2000-02-10        43.023  43.416     -0.393\n",
      "2000-02-11        42.770  42.936     -0.166\n",
      "2000-02-14        43.020  42.718      0.302\n",
      "2000-02-15        42.659  42.364      0.295\n",
      "2000-02-16        42.789  42.350      0.439\n",
      "2000-02-17        43.281  42.432      0.849\n",
      "2000-02-18        43.018  42.935      0.083\n",
      "2000-02-21        43.007  42.583      0.424\n",
      "2000-02-22        43.692  43.189      0.503\n",
      "2000-02-23        43.902  43.312      0.590\n",
      "2000-02-24        43.182  43.023      0.159\n",
      "2000-02-25        42.808  42.770      0.038\n",
      "2000-02-28        42.030  43.020     -0.990\n",
      "2000-02-29        42.353  42.659     -0.306\n",
      "2000-03-01        42.136  42.789     -0.653\n",
      "2000-03-02        42.376  43.281     -0.905\n",
      "2000-03-03        42.079  43.018     -0.939\n",
      "2000-03-06        42.005  43.007     -1.002\n",
      "2000-03-07        41.771  43.692     -1.921\n",
      "2000-03-08        41.571  43.902     -2.331\n"
     ]
    }
   ],
   "source": [
    "# By default, shift is by 1 time period (here, one month)\n",
    "# Create a new column which will contain the shifted value from Ind_rupee column\n",
    "shift_ind_rupee['shift']=shift_ind_rupee['Indian_rupee'].shift(10)\n",
    "shift_ind_rupee['shiftDiff']=shift_ind_rupee['Indian_rupee']-shift_ind_rupee['shift']\n",
    "print(shift_ind_rupee.head(40))"
   ]
  },
  {
   "cell_type": "code",
   "execution_count": 190,
   "id": "6139da97",
   "metadata": {},
   "outputs": [],
   "source": [
    "# Test Staionarity"
   ]
  },
  {
   "cell_type": "code",
   "execution_count": 306,
   "id": "c52d550b",
   "metadata": {},
   "outputs": [],
   "source": [
    "from statsmodels.tsa.stattools import adfuller"
   ]
  },
  {
   "cell_type": "code",
   "execution_count": 307,
   "id": "1f692934",
   "metadata": {},
   "outputs": [],
   "source": [
    "not_na=shift_ind_rupee.dropna()"
   ]
  },
  {
   "cell_type": "code",
   "execution_count": 308,
   "id": "c7f65298",
   "metadata": {},
   "outputs": [
    {
     "name": "stderr",
     "output_type": "stream",
     "text": [
      "/tmp/ipykernel_46488/764167102.py:1: SettingWithCopyWarning: \n",
      "A value is trying to be set on a copy of a slice from a DataFrame.\n",
      "Try using .loc[row_indexer,col_indexer] = value instead\n",
      "\n",
      "See the caveats in the documentation: https://pandas.pydata.org/pandas-docs/stable/user_guide/indexing.html#returning-a-view-versus-a-copy\n",
      "  not_na['roll_mean']=not_na['shiftDiff'].rolling(window=365).mean()\n",
      "/tmp/ipykernel_46488/764167102.py:2: SettingWithCopyWarning: \n",
      "A value is trying to be set on a copy of a slice from a DataFrame.\n",
      "Try using .loc[row_indexer,col_indexer] = value instead\n",
      "\n",
      "See the caveats in the documentation: https://pandas.pydata.org/pandas-docs/stable/user_guide/indexing.html#returning-a-view-versus-a-copy\n",
      "  not_na['roll_std']=not_na['shiftDiff'].rolling(window=365).std()\n"
     ]
    }
   ],
   "source": [
    "not_na['roll_mean']=not_na['shiftDiff'].rolling(window=365).mean()\n",
    "not_na['roll_std']=not_na['shiftDiff'].rolling(window=365).std()"
   ]
  },
  {
   "cell_type": "code",
   "execution_count": 309,
   "id": "52bc6f10",
   "metadata": {},
   "outputs": [
    {
     "data": {
      "text/html": [
       "<div>\n",
       "<style scoped>\n",
       "    .dataframe tbody tr th:only-of-type {\n",
       "        vertical-align: middle;\n",
       "    }\n",
       "\n",
       "    .dataframe tbody tr th {\n",
       "        vertical-align: top;\n",
       "    }\n",
       "\n",
       "    .dataframe thead th {\n",
       "        text-align: right;\n",
       "    }\n",
       "</style>\n",
       "<table border=\"1\" class=\"dataframe\">\n",
       "  <thead>\n",
       "    <tr style=\"text-align: right;\">\n",
       "      <th></th>\n",
       "      <th>Indian_rupee</th>\n",
       "      <th>shift</th>\n",
       "      <th>shiftDiff</th>\n",
       "      <th>roll_mean</th>\n",
       "      <th>roll_std</th>\n",
       "    </tr>\n",
       "    <tr>\n",
       "      <th>Period</th>\n",
       "      <th></th>\n",
       "      <th></th>\n",
       "      <th></th>\n",
       "      <th></th>\n",
       "      <th></th>\n",
       "    </tr>\n",
       "  </thead>\n",
       "  <tbody>\n",
       "    <tr>\n",
       "      <th>2000-01-27</th>\n",
       "      <td>43.416</td>\n",
       "      <td>44.724</td>\n",
       "      <td>-1.308</td>\n",
       "      <td>NaN</td>\n",
       "      <td>NaN</td>\n",
       "    </tr>\n",
       "    <tr>\n",
       "      <th>2000-01-28</th>\n",
       "      <td>42.936</td>\n",
       "      <td>44.473</td>\n",
       "      <td>-1.537</td>\n",
       "      <td>NaN</td>\n",
       "      <td>NaN</td>\n",
       "    </tr>\n",
       "    <tr>\n",
       "      <th>2000-01-31</th>\n",
       "      <td>42.718</td>\n",
       "      <td>43.979</td>\n",
       "      <td>-1.261</td>\n",
       "      <td>NaN</td>\n",
       "      <td>NaN</td>\n",
       "    </tr>\n",
       "    <tr>\n",
       "      <th>2000-02-01</th>\n",
       "      <td>42.364</td>\n",
       "      <td>43.998</td>\n",
       "      <td>-1.634</td>\n",
       "      <td>NaN</td>\n",
       "      <td>NaN</td>\n",
       "    </tr>\n",
       "    <tr>\n",
       "      <th>2000-02-02</th>\n",
       "      <td>42.350</td>\n",
       "      <td>44.006</td>\n",
       "      <td>-1.656</td>\n",
       "      <td>NaN</td>\n",
       "      <td>NaN</td>\n",
       "    </tr>\n",
       "    <tr>\n",
       "      <th>...</th>\n",
       "      <td>...</td>\n",
       "      <td>...</td>\n",
       "      <td>...</td>\n",
       "      <td>...</td>\n",
       "      <td>...</td>\n",
       "    </tr>\n",
       "    <tr>\n",
       "      <th>2001-08-15</th>\n",
       "      <td>42.990</td>\n",
       "      <td>41.562</td>\n",
       "      <td>1.428</td>\n",
       "      <td>-0.007205</td>\n",
       "      <td>1.039703</td>\n",
       "    </tr>\n",
       "    <tr>\n",
       "      <th>2001-08-16</th>\n",
       "      <td>43.105</td>\n",
       "      <td>41.395</td>\n",
       "      <td>1.710</td>\n",
       "      <td>0.000068</td>\n",
       "      <td>1.042408</td>\n",
       "    </tr>\n",
       "    <tr>\n",
       "      <th>2001-08-17</th>\n",
       "      <td>43.085</td>\n",
       "      <td>41.487</td>\n",
       "      <td>1.598</td>\n",
       "      <td>0.003630</td>\n",
       "      <td>1.045644</td>\n",
       "    </tr>\n",
       "    <tr>\n",
       "      <th>2001-08-20</th>\n",
       "      <td>43.113</td>\n",
       "      <td>41.478</td>\n",
       "      <td>1.635</td>\n",
       "      <td>0.009271</td>\n",
       "      <td>1.048880</td>\n",
       "    </tr>\n",
       "    <tr>\n",
       "      <th>2001-08-21</th>\n",
       "      <td>43.042</td>\n",
       "      <td>41.322</td>\n",
       "      <td>1.720</td>\n",
       "      <td>0.014115</td>\n",
       "      <td>1.052690</td>\n",
       "    </tr>\n",
       "  </tbody>\n",
       "</table>\n",
       "<p>400 rows × 5 columns</p>\n",
       "</div>"
      ],
      "text/plain": [
       "            Indian_rupee   shift  shiftDiff  roll_mean  roll_std\n",
       "Period                                                          \n",
       "2000-01-27        43.416  44.724     -1.308        NaN       NaN\n",
       "2000-01-28        42.936  44.473     -1.537        NaN       NaN\n",
       "2000-01-31        42.718  43.979     -1.261        NaN       NaN\n",
       "2000-02-01        42.364  43.998     -1.634        NaN       NaN\n",
       "2000-02-02        42.350  44.006     -1.656        NaN       NaN\n",
       "...                  ...     ...        ...        ...       ...\n",
       "2001-08-15        42.990  41.562      1.428  -0.007205  1.039703\n",
       "2001-08-16        43.105  41.395      1.710   0.000068  1.042408\n",
       "2001-08-17        43.085  41.487      1.598   0.003630  1.045644\n",
       "2001-08-20        43.113  41.478      1.635   0.009271  1.048880\n",
       "2001-08-21        43.042  41.322      1.720   0.014115  1.052690\n",
       "\n",
       "[400 rows x 5 columns]"
      ]
     },
     "execution_count": 309,
     "metadata": {},
     "output_type": "execute_result"
    }
   ],
   "source": [
    "not_na.head(400)"
   ]
  },
  {
   "cell_type": "code",
   "execution_count": 310,
   "id": "2cc57898",
   "metadata": {},
   "outputs": [
    {
     "name": "stdout",
     "output_type": "stream",
     "text": [
      "Period\n",
      "2000-01-27         NaN\n",
      "2000-01-28         NaN\n",
      "2000-01-31         NaN\n",
      "2000-02-01         NaN\n",
      "2000-02-02         NaN\n",
      "                ...   \n",
      "2023-05-22    0.108671\n",
      "2023-05-23    0.105752\n",
      "2023-05-24    0.102579\n",
      "2023-05-25    0.099682\n",
      "2023-05-26    0.098901\n",
      "Name: roll_mean, Length: 5972, dtype: float64\n",
      "Period\n",
      "2000-01-27         NaN\n",
      "2000-01-28         NaN\n",
      "2000-01-31         NaN\n",
      "2000-02-01         NaN\n",
      "2000-02-02         NaN\n",
      "                ...   \n",
      "2023-05-22    1.252689\n",
      "2023-05-23    1.253288\n",
      "2023-05-24    1.253786\n",
      "2023-05-25    1.254845\n",
      "2023-05-26    1.255265\n",
      "Name: roll_std, Length: 5972, dtype: float64\n"
     ]
    }
   ],
   "source": [
    "print(not_na['roll_mean'])\n",
    "print(not_na['roll_std'])"
   ]
  },
  {
   "cell_type": "code",
   "execution_count": 311,
   "id": "c7b22b6d",
   "metadata": {},
   "outputs": [
    {
     "data": {
      "text/html": [
       "<div>\n",
       "<style scoped>\n",
       "    .dataframe tbody tr th:only-of-type {\n",
       "        vertical-align: middle;\n",
       "    }\n",
       "\n",
       "    .dataframe tbody tr th {\n",
       "        vertical-align: top;\n",
       "    }\n",
       "\n",
       "    .dataframe thead th {\n",
       "        text-align: right;\n",
       "    }\n",
       "</style>\n",
       "<table border=\"1\" class=\"dataframe\">\n",
       "  <thead>\n",
       "    <tr style=\"text-align: right;\">\n",
       "      <th></th>\n",
       "      <th>Indian_rupee</th>\n",
       "      <th>shift</th>\n",
       "      <th>shiftDiff</th>\n",
       "      <th>roll_mean</th>\n",
       "      <th>roll_std</th>\n",
       "    </tr>\n",
       "    <tr>\n",
       "      <th>Period</th>\n",
       "      <th></th>\n",
       "      <th></th>\n",
       "      <th></th>\n",
       "      <th></th>\n",
       "      <th></th>\n",
       "    </tr>\n",
       "  </thead>\n",
       "  <tbody>\n",
       "    <tr>\n",
       "      <th>2001-07-03</th>\n",
       "      <td>40.0400</td>\n",
       "      <td>40.2330</td>\n",
       "      <td>-0.1930</td>\n",
       "      <td>-0.105899</td>\n",
       "      <td>1.051200</td>\n",
       "    </tr>\n",
       "    <tr>\n",
       "      <th>2001-07-04</th>\n",
       "      <td>39.8110</td>\n",
       "      <td>39.9400</td>\n",
       "      <td>-0.1290</td>\n",
       "      <td>-0.102668</td>\n",
       "      <td>1.049306</td>\n",
       "    </tr>\n",
       "    <tr>\n",
       "      <th>2001-07-05</th>\n",
       "      <td>39.6700</td>\n",
       "      <td>40.1600</td>\n",
       "      <td>-0.4900</td>\n",
       "      <td>-0.099800</td>\n",
       "      <td>1.046802</td>\n",
       "    </tr>\n",
       "    <tr>\n",
       "      <th>2001-07-06</th>\n",
       "      <td>39.5460</td>\n",
       "      <td>40.0590</td>\n",
       "      <td>-0.5130</td>\n",
       "      <td>-0.097751</td>\n",
       "      <td>1.045254</td>\n",
       "    </tr>\n",
       "    <tr>\n",
       "      <th>2001-07-09</th>\n",
       "      <td>39.8800</td>\n",
       "      <td>40.4820</td>\n",
       "      <td>-0.6020</td>\n",
       "      <td>-0.094923</td>\n",
       "      <td>1.042479</td>\n",
       "    </tr>\n",
       "    <tr>\n",
       "      <th>...</th>\n",
       "      <td>...</td>\n",
       "      <td>...</td>\n",
       "      <td>...</td>\n",
       "      <td>...</td>\n",
       "      <td>...</td>\n",
       "    </tr>\n",
       "    <tr>\n",
       "      <th>2023-05-22</th>\n",
       "      <td>89.6710</td>\n",
       "      <td>90.2775</td>\n",
       "      <td>-0.6065</td>\n",
       "      <td>0.108671</td>\n",
       "      <td>1.252689</td>\n",
       "    </tr>\n",
       "    <tr>\n",
       "      <th>2023-05-23</th>\n",
       "      <td>89.2675</td>\n",
       "      <td>89.9495</td>\n",
       "      <td>-0.6820</td>\n",
       "      <td>0.105752</td>\n",
       "      <td>1.253288</td>\n",
       "    </tr>\n",
       "    <tr>\n",
       "      <th>2023-05-24</th>\n",
       "      <td>89.1473</td>\n",
       "      <td>89.8185</td>\n",
       "      <td>-0.6712</td>\n",
       "      <td>0.102579</td>\n",
       "      <td>1.253786</td>\n",
       "    </tr>\n",
       "    <tr>\n",
       "      <th>2023-05-25</th>\n",
       "      <td>88.8055</td>\n",
       "      <td>89.6905</td>\n",
       "      <td>-0.8850</td>\n",
       "      <td>0.099682</td>\n",
       "      <td>1.254845</td>\n",
       "    </tr>\n",
       "    <tr>\n",
       "      <th>2023-05-26</th>\n",
       "      <td>88.8049</td>\n",
       "      <td>89.5200</td>\n",
       "      <td>-0.7151</td>\n",
       "      <td>0.098901</td>\n",
       "      <td>1.255265</td>\n",
       "    </tr>\n",
       "  </tbody>\n",
       "</table>\n",
       "<p>5608 rows × 5 columns</p>\n",
       "</div>"
      ],
      "text/plain": [
       "            Indian_rupee    shift  shiftDiff  roll_mean  roll_std\n",
       "Period                                                           \n",
       "2001-07-03       40.0400  40.2330    -0.1930  -0.105899  1.051200\n",
       "2001-07-04       39.8110  39.9400    -0.1290  -0.102668  1.049306\n",
       "2001-07-05       39.6700  40.1600    -0.4900  -0.099800  1.046802\n",
       "2001-07-06       39.5460  40.0590    -0.5130  -0.097751  1.045254\n",
       "2001-07-09       39.8800  40.4820    -0.6020  -0.094923  1.042479\n",
       "...                  ...      ...        ...        ...       ...\n",
       "2023-05-22       89.6710  90.2775    -0.6065   0.108671  1.252689\n",
       "2023-05-23       89.2675  89.9495    -0.6820   0.105752  1.253288\n",
       "2023-05-24       89.1473  89.8185    -0.6712   0.102579  1.253786\n",
       "2023-05-25       88.8055  89.6905    -0.8850   0.099682  1.254845\n",
       "2023-05-26       88.8049  89.5200    -0.7151   0.098901  1.255265\n",
       "\n",
       "[5608 rows x 5 columns]"
      ]
     },
     "execution_count": 311,
     "metadata": {},
     "output_type": "execute_result"
    }
   ],
   "source": [
    "not_na=not_na.dropna()\n",
    "not_na"
   ]
  },
  {
   "cell_type": "code",
   "execution_count": 312,
   "id": "86e9611b",
   "metadata": {},
   "outputs": [
    {
     "name": "stdout",
     "output_type": "stream",
     "text": [
      "(-11.439709489995916, 6.2216707988104334e-21, 30, 5577, {'1%': -3.4315230881147225, '5%': -2.862058389900819, '10%': -2.5670459375427312}, 6872.018735082962)\n"
     ]
    }
   ],
   "source": [
    "adftest=adfuller(not_na['shiftDiff'])\n",
    "print(adftest)"
   ]
  },
  {
   "cell_type": "code",
   "execution_count": 313,
   "id": "890a201e",
   "metadata": {},
   "outputs": [
    {
     "name": "stdout",
     "output_type": "stream",
     "text": [
      "Test Statistic            -1.143971e+01\n",
      "p-value                    6.221671e-21\n",
      "#lags used                 3.000000e+01\n",
      "no of observations used    5.577000e+03\n",
      "dtype: float64\n"
     ]
    }
   ],
   "source": [
    "stats=pd.Series(adftest[0:4],index=['Test Statistic','p-value','#lags used','no of observations used'])\n",
    "print(stats)"
   ]
  },
  {
   "cell_type": "code",
   "execution_count": 314,
   "id": "9db812f2",
   "metadata": {},
   "outputs": [
    {
     "name": "stdout",
     "output_type": "stream",
     "text": [
      "criticality  1% : -3.4315230881147225\n",
      "criticality  5% : -2.862058389900819\n",
      "criticality  10% : -2.5670459375427312\n"
     ]
    }
   ],
   "source": [
    "for key, values in adftest[4].items():\n",
    "    print('criticality ',key,\":\",values)"
   ]
  },
  {
   "cell_type": "code",
   "execution_count": 266,
   "id": "540466e2",
   "metadata": {},
   "outputs": [],
   "source": [
    "# We will see that our test statistic < Critical value in all the cases, so we do reject\n",
    "# the Null Hypothesis(H0 - Data is not Stationary)\n",
    "# It means our data is stationary"
   ]
  },
  {
   "cell_type": "code",
   "execution_count": 213,
   "id": "f43bf643",
   "metadata": {},
   "outputs": [
    {
     "data": {
      "image/png": "[encoded data removed]",
      "text/plain": [
       "<Figure size 1200x600 with 1 Axes>"
      ]
     },
     "metadata": {},
     "output_type": "display_data"
    }
   ],
   "source": [
    "plt.figure(figsize=(12,6))\n",
    "sns.lineplot(data=not_na,x=not_na.index,y=not_na.Indian_rupee)\n",
    "sns.lineplot(data=not_na,x=not_na.index,y=not_na.roll_mean)\n",
    "sns.lineplot(data=not_na,x=not_na.index,y=not_na.roll_std)\n",
    "plt.show()"
   ]
  },
  {
   "cell_type": "code",
   "execution_count": 214,
   "id": "b3cc961c",
   "metadata": {},
   "outputs": [],
   "source": [
    "# ARIMA (Autoregressive Integrated Moving Average)\n",
    "# ARIMA(p,d,q)\n",
    "# p - Auto regressive (PACF Fn)\n",
    "# d - Integreted (Shift)\n",
    "# q - Moving Average (ACF Fn)\n",
    "# Auto Correlation Function (ACF)\n",
    "# Partially Auto Correlation Function (PACF)"
   ]
  },
  {
   "cell_type": "code",
   "execution_count": 315,
   "id": "871659d7",
   "metadata": {},
   "outputs": [
    {
     "data": {
      "text/html": [
       "<div>\n",
       "<style scoped>\n",
       "    .dataframe tbody tr th:only-of-type {\n",
       "        vertical-align: middle;\n",
       "    }\n",
       "\n",
       "    .dataframe tbody tr th {\n",
       "        vertical-align: top;\n",
       "    }\n",
       "\n",
       "    .dataframe thead th {\n",
       "        text-align: right;\n",
       "    }\n",
       "</style>\n",
       "<table border=\"1\" class=\"dataframe\">\n",
       "  <thead>\n",
       "    <tr style=\"text-align: right;\">\n",
       "      <th></th>\n",
       "      <th>Indian_rupee</th>\n",
       "      <th>roll_mean</th>\n",
       "      <th>roll_std</th>\n",
       "    </tr>\n",
       "    <tr>\n",
       "      <th>Period</th>\n",
       "      <th></th>\n",
       "      <th></th>\n",
       "      <th></th>\n",
       "    </tr>\n",
       "  </thead>\n",
       "  <tbody>\n",
       "    <tr>\n",
       "      <th>2000-01-13</th>\n",
       "      <td>44.724</td>\n",
       "      <td>NaN</td>\n",
       "      <td>NaN</td>\n",
       "    </tr>\n",
       "    <tr>\n",
       "      <th>2000-01-14</th>\n",
       "      <td>44.473</td>\n",
       "      <td>NaN</td>\n",
       "      <td>NaN</td>\n",
       "    </tr>\n",
       "    <tr>\n",
       "      <th>2000-01-17</th>\n",
       "      <td>43.979</td>\n",
       "      <td>NaN</td>\n",
       "      <td>NaN</td>\n",
       "    </tr>\n",
       "    <tr>\n",
       "      <th>2000-01-18</th>\n",
       "      <td>43.998</td>\n",
       "      <td>NaN</td>\n",
       "      <td>NaN</td>\n",
       "    </tr>\n",
       "    <tr>\n",
       "      <th>2000-01-19</th>\n",
       "      <td>44.006</td>\n",
       "      <td>NaN</td>\n",
       "      <td>NaN</td>\n",
       "    </tr>\n",
       "  </tbody>\n",
       "</table>\n",
       "</div>"
      ],
      "text/plain": [
       "            Indian_rupee  roll_mean  roll_std\n",
       "Period                                       \n",
       "2000-01-13        44.724        NaN       NaN\n",
       "2000-01-14        44.473        NaN       NaN\n",
       "2000-01-17        43.979        NaN       NaN\n",
       "2000-01-18        43.998        NaN       NaN\n",
       "2000-01-19        44.006        NaN       NaN"
      ]
     },
     "execution_count": 315,
     "metadata": {},
     "output_type": "execute_result"
    }
   ],
   "source": [
    "ind_rupee.head()"
   ]
  },
  {
   "cell_type": "code",
   "execution_count": 316,
   "id": "39c8edd9",
   "metadata": {},
   "outputs": [
    {
     "data": {
      "text/plain": [
       "Indian_rupee      0\n",
       "roll_mean       364\n",
       "roll_std        364\n",
       "dtype: int64"
      ]
     },
     "execution_count": 316,
     "metadata": {},
     "output_type": "execute_result"
    }
   ],
   "source": [
    "ind_rupee.isna().sum()"
   ]
  },
  {
   "cell_type": "code",
   "execution_count": 268,
   "id": "ce46bbb6",
   "metadata": {},
   "outputs": [
    {
     "data": {
      "text/html": [
       "<div>\n",
       "<style scoped>\n",
       "    .dataframe tbody tr th:only-of-type {\n",
       "        vertical-align: middle;\n",
       "    }\n",
       "\n",
       "    .dataframe tbody tr th {\n",
       "        vertical-align: top;\n",
       "    }\n",
       "\n",
       "    .dataframe thead th {\n",
       "        text-align: right;\n",
       "    }\n",
       "</style>\n",
       "<table border=\"1\" class=\"dataframe\">\n",
       "  <thead>\n",
       "    <tr style=\"text-align: right;\">\n",
       "      <th></th>\n",
       "      <th>Indian_rupee</th>\n",
       "      <th>shift</th>\n",
       "      <th>shiftDiff</th>\n",
       "      <th>roll_mean</th>\n",
       "      <th>roll_std</th>\n",
       "    </tr>\n",
       "    <tr>\n",
       "      <th>Period</th>\n",
       "      <th></th>\n",
       "      <th></th>\n",
       "      <th></th>\n",
       "      <th></th>\n",
       "      <th></th>\n",
       "    </tr>\n",
       "  </thead>\n",
       "  <tbody>\n",
       "    <tr>\n",
       "      <th>2001-07-03</th>\n",
       "      <td>40.040</td>\n",
       "      <td>40.233</td>\n",
       "      <td>-0.193</td>\n",
       "      <td>-0.105899</td>\n",
       "      <td>1.051200</td>\n",
       "    </tr>\n",
       "    <tr>\n",
       "      <th>2001-07-04</th>\n",
       "      <td>39.811</td>\n",
       "      <td>39.940</td>\n",
       "      <td>-0.129</td>\n",
       "      <td>-0.102668</td>\n",
       "      <td>1.049306</td>\n",
       "    </tr>\n",
       "    <tr>\n",
       "      <th>2001-07-05</th>\n",
       "      <td>39.670</td>\n",
       "      <td>40.160</td>\n",
       "      <td>-0.490</td>\n",
       "      <td>-0.099800</td>\n",
       "      <td>1.046802</td>\n",
       "    </tr>\n",
       "    <tr>\n",
       "      <th>2001-07-06</th>\n",
       "      <td>39.546</td>\n",
       "      <td>40.059</td>\n",
       "      <td>-0.513</td>\n",
       "      <td>-0.097751</td>\n",
       "      <td>1.045254</td>\n",
       "    </tr>\n",
       "    <tr>\n",
       "      <th>2001-07-09</th>\n",
       "      <td>39.880</td>\n",
       "      <td>40.482</td>\n",
       "      <td>-0.602</td>\n",
       "      <td>-0.094923</td>\n",
       "      <td>1.042479</td>\n",
       "    </tr>\n",
       "  </tbody>\n",
       "</table>\n",
       "</div>"
      ],
      "text/plain": [
       "            Indian_rupee   shift  shiftDiff  roll_mean  roll_std\n",
       "Period                                                          \n",
       "2001-07-03        40.040  40.233     -0.193  -0.105899  1.051200\n",
       "2001-07-04        39.811  39.940     -0.129  -0.102668  1.049306\n",
       "2001-07-05        39.670  40.160     -0.490  -0.099800  1.046802\n",
       "2001-07-06        39.546  40.059     -0.513  -0.097751  1.045254\n",
       "2001-07-09        39.880  40.482     -0.602  -0.094923  1.042479"
      ]
     },
     "execution_count": 268,
     "metadata": {},
     "output_type": "execute_result"
    }
   ],
   "source": [
    "not_na.head()"
   ]
  },
  {
   "cell_type": "code",
   "execution_count": 317,
   "id": "438c1ee9",
   "metadata": {},
   "outputs": [
    {
     "name": "stdout",
     "output_type": "stream",
     "text": [
      "            Indian_rupee  firstDiff  Diff12\n",
      "Period                                     \n",
      "2001-07-03        40.040        NaN     NaN\n",
      "2001-07-04        39.811     -0.229     NaN\n",
      "2001-07-05        39.670     -0.141     NaN\n",
      "2001-07-06        39.546     -0.124     NaN\n",
      "2001-07-09        39.880      0.334     NaN\n"
     ]
    }
   ],
   "source": [
    "airP=not_na[['Indian_rupee']].copy(deep=True)\n",
    "airP['firstDiff']=airP['Indian_rupee'].diff()\n",
    "airP['Diff12']=airP['Indian_rupee'].diff(12) # Thiswill be used later in SARIMAX\n",
    "print(airP.head())"
   ]
  },
  {
   "cell_type": "code",
   "execution_count": 318,
   "id": "bee2d806",
   "metadata": {},
   "outputs": [],
   "source": [
    "from statsmodels.tsa.arima.model import ARIMA\n",
    "from statsmodels.graphics.tsaplots import plot_acf,plot_pacf"
   ]
  },
  {
   "cell_type": "code",
   "execution_count": 319,
   "id": "b102d16c",
   "metadata": {},
   "outputs": [
    {
     "data": {
      "image/png": "[encoded data removed]",
      "text/plain": [
       "<Figure size 640x480 with 1 Axes>"
      ]
     },
     "metadata": {},
     "output_type": "display_data"
    },
    {
     "data": {
      "image/png": "[encoded data removed]",
      "text/plain": [
       "<Figure size 640x480 with 1 Axes>"
      ]
     },
     "metadata": {},
     "output_type": "display_data"
    }
   ],
   "source": [
    "plot_pacf(airP['firstDiff'].dropna(),lags=30)\n",
    "plt.show()\n",
    "# Shaded area is insignificant area\n",
    "# PACF gives us the auto regressive values (i.e. p)\n",
    "# First 'p' is 5 (the x-axis coordinate) whose value is ~0.1(the y-axis coordinate)\n",
    "# So significant p values are 5,6,9 etc\n",
    "\n",
    "# Now let us take this value as p and find q, for which we need ACF\n",
    "plot_acf(airP['firstDiff'].dropna(),lags=30)\n",
    "plt.show()"
   ]
  },
  {
   "cell_type": "code",
   "execution_count": 320,
   "id": "5f20e0e5",
   "metadata": {},
   "outputs": [],
   "source": [
    "# Results of ACF are similar to that of PACF\n",
    "# Interpretation: We got q. Significant q values are 5,9, etc) \n",
    "\n",
    "# Let us take p = 5, q = 9 (both are significant) and d = 1 (already known)"
   ]
  },
  {
   "cell_type": "code",
   "execution_count": 321,
   "id": "a5c179c1",
   "metadata": {},
   "outputs": [
    {
     "name": "stdout",
     "output_type": "stream",
     "text": [
      "            Indian_rupee  firstDiff  Diff12\n",
      "Period                                     \n",
      "2016-10-25       72.6370    -0.1605 -1.6735\n",
      "2016-10-26       73.0255     0.3885 -1.2070\n",
      "2016-10-27       73.0135    -0.0120 -0.7625\n",
      "2016-10-28       72.9575    -0.0560 -0.6525\n",
      "2016-10-31       73.0940     0.1365 -0.7435\n",
      "            Indian_rupee  firstDiff  Diff12\n",
      "Period                                     \n",
      "2016-11-01       73.5425     0.4485  0.1045\n",
      "2016-11-02       73.9710     0.4285  0.5145\n",
      "2016-11-03       73.8460    -0.1250  0.5115\n",
      "2016-11-04       74.0395     0.1935  0.8505\n",
      "2016-11-07       73.8440    -0.1955  0.4995\n"
     ]
    }
   ],
   "source": [
    "train = airP[:round(len(airP)*70/100)] # Take the first 70% data\n",
    "print(train.tail()) # Just to check where it ends\n",
    "\n",
    "test = airP[round(len(airP)*70/100):] # Take the last 30% data, starting from 71%\n",
    "print(test.head()) # Just to check where it starts\n"
   ]
  },
  {
   "cell_type": "code",
   "execution_count": 322,
   "id": "83cedd0d",
   "metadata": {},
   "outputs": [
    {
     "name": "stdout",
     "output_type": "stream",
     "text": [
      "<class 'pandas.core.frame.DataFrame'>\n",
      "DatetimeIndex: 3926 entries, 2001-07-03 to 2016-10-31\n",
      "Data columns (total 3 columns):\n",
      " #   Column        Non-Null Count  Dtype  \n",
      "---  ------        --------------  -----  \n",
      " 0   Indian_rupee  3926 non-null   float64\n",
      " 1   firstDiff     3925 non-null   float64\n",
      " 2   Diff12        3914 non-null   float64\n",
      "dtypes: float64(3)\n",
      "memory usage: 122.7 KB\n"
     ]
    }
   ],
   "source": [
    "train.info()"
   ]
  },
  {
   "cell_type": "code",
   "execution_count": 323,
   "id": "b4b37de6",
   "metadata": {},
   "outputs": [
    {
     "name": "stderr",
     "output_type": "stream",
     "text": [
      "/home/dai/anaconda3/lib/python3.11/site-packages/statsmodels/tsa/base/tsa_model.py:473: ValueWarning: A date index has been provided, but it has no associated frequency information and so will be ignored when e.g. forecasting.\n",
      "  self._init_dates(dates, freq)\n",
      "/home/dai/anaconda3/lib/python3.11/site-packages/statsmodels/tsa/base/tsa_model.py:473: ValueWarning: A date index has been provided, but it has no associated frequency information and so will be ignored when e.g. forecasting.\n",
      "  self._init_dates(dates, freq)\n",
      "/home/dai/anaconda3/lib/python3.11/site-packages/statsmodels/tsa/base/tsa_model.py:473: ValueWarning: A date index has been provided, but it has no associated frequency information and so will be ignored when e.g. forecasting.\n",
      "  self._init_dates(dates, freq)\n",
      "/home/dai/anaconda3/lib/python3.11/site-packages/statsmodels/base/model.py:607: ConvergenceWarning: Maximum Likelihood optimization failed to converge. Check mle_retvals\n",
      "  warnings.warn(\"Maximum Likelihood optimization failed to \"\n"
     ]
    }
   ],
   "source": [
    "# Build ARIMA model\n",
    "\n",
    "model = ARIMA(train['Indian_rupee'],order=(5,1,9)) # Parameters: p, d, q\n",
    "model_fit = model.fit()"
   ]
  },
  {
   "cell_type": "code",
   "execution_count": 331,
   "id": "01273b6b",
   "metadata": {},
   "outputs": [
    {
     "ename": "KeyError",
     "evalue": "'The `start` argument could not be matched to a location related to the index of the data.'",
     "output_type": "error",
     "traceback": [
      "\u001b[0;31m---------------------------------------------------------------------------\u001b[0m",
      "\u001b[0;31mInvalidIndexError\u001b[0m                         Traceback (most recent call last)",
      "File \u001b[0;32m~/anaconda3/lib/python3.11/site-packages/statsmodels/tsa/base/tsa_model.py:249\u001b[0m, in \u001b[0;36mget_index_label_loc\u001b[0;34m(key, index, row_labels)\u001b[0m\n\u001b[1;32m    248\u001b[0m \u001b[38;5;28;01mif\u001b[39;00m \u001b[38;5;129;01mnot\u001b[39;00m \u001b[38;5;28misinstance\u001b[39m(key, (\u001b[38;5;28mint\u001b[39m, np\u001b[38;5;241m.\u001b[39minteger)):\n\u001b[0;32m--> 249\u001b[0m     loc \u001b[38;5;241m=\u001b[39m row_labels\u001b[38;5;241m.\u001b[39mget_loc(key)\n\u001b[1;32m    250\u001b[0m \u001b[38;5;28;01melse\u001b[39;00m:\n",
      "File \u001b[0;32m~/anaconda3/lib/python3.11/site-packages/pandas/core/indexes/datetimes.py:690\u001b[0m, in \u001b[0;36mDatetimeIndex.get_loc\u001b[0;34m(self, key, method, tolerance)\u001b[0m\n\u001b[1;32m    683\u001b[0m \u001b[38;5;250m\u001b[39m\u001b[38;5;124;03m\"\"\"\u001b[39;00m\n\u001b[1;32m    684\u001b[0m \u001b[38;5;124;03mGet integer location for requested label\u001b[39;00m\n\u001b[1;32m    685\u001b[0m \n\u001b[0;32m   (...)\u001b[0m\n\u001b[1;32m    688\u001b[0m \u001b[38;5;124;03mloc : int\u001b[39;00m\n\u001b[1;32m    689\u001b[0m \u001b[38;5;124;03m\"\"\"\u001b[39;00m\n\u001b[0;32m--> 690\u001b[0m \u001b[38;5;28mself\u001b[39m\u001b[38;5;241m.\u001b[39m_check_indexing_error(key)\n\u001b[1;32m    692\u001b[0m orig_key \u001b[38;5;241m=\u001b[39m key\n",
      "File \u001b[0;32m~/anaconda3/lib/python3.11/site-packages/pandas/core/indexes/base.py:5925\u001b[0m, in \u001b[0;36mIndex._check_indexing_error\u001b[0;34m(self, key)\u001b[0m\n\u001b[1;32m   5922\u001b[0m \u001b[38;5;28;01mif\u001b[39;00m \u001b[38;5;129;01mnot\u001b[39;00m is_scalar(key):\n\u001b[1;32m   5923\u001b[0m     \u001b[38;5;66;03m# if key is not a scalar, directly raise an error (the code below\u001b[39;00m\n\u001b[1;32m   5924\u001b[0m     \u001b[38;5;66;03m# would convert to numpy arrays and raise later any way) - GH29926\u001b[39;00m\n\u001b[0;32m-> 5925\u001b[0m     \u001b[38;5;28;01mraise\u001b[39;00m InvalidIndexError(key)\n",
      "\u001b[0;31mInvalidIndexError\u001b[0m:             Indian_rupee  firstDiff  Diff12\nPeriod                                     \n2016-11-01       73.5425     0.4485  0.1045\n2016-11-02       73.9710     0.4285  0.5145\n2016-11-03       73.8460    -0.1250  0.5115\n2016-11-04       74.0395     0.1935  0.8505\n2016-11-07       73.8440    -0.1955  0.4995\n...                  ...        ...     ...\n2023-05-22       89.6710     0.2495 -0.8785\n2023-05-23       89.2675    -0.4035 -0.7335\n2023-05-24       89.1473    -0.1202 -1.1302\n2023-05-25       88.8055    -0.3418 -1.1440\n2023-05-26       88.8049    -0.0006 -1.0136\n\n[1682 rows x 3 columns]",
      "\nDuring handling of the above exception, another exception occurred:\n",
      "\u001b[0;31mKeyError\u001b[0m                                  Traceback (most recent call last)",
      "File \u001b[0;32m~/anaconda3/lib/python3.11/site-packages/statsmodels/tsa/base/tsa_model.py:358\u001b[0m, in \u001b[0;36mget_prediction_index\u001b[0;34m(start, end, nobs, base_index, index, silent, index_none, index_generated, data)\u001b[0m\n\u001b[1;32m    357\u001b[0m \u001b[38;5;28;01mtry\u001b[39;00m:\n\u001b[0;32m--> 358\u001b[0m     start, _, start_oos \u001b[38;5;241m=\u001b[39m get_index_label_loc(\n\u001b[1;32m    359\u001b[0m         start, base_index, data\u001b[38;5;241m.\u001b[39mrow_labels\n\u001b[1;32m    360\u001b[0m     )\n\u001b[1;32m    361\u001b[0m \u001b[38;5;28;01mexcept\u001b[39;00m \u001b[38;5;167;01mKeyError\u001b[39;00m:\n",
      "File \u001b[0;32m~/anaconda3/lib/python3.11/site-packages/statsmodels/tsa/base/tsa_model.py:281\u001b[0m, in \u001b[0;36mget_index_label_loc\u001b[0;34m(key, index, row_labels)\u001b[0m\n\u001b[1;32m    280\u001b[0m     \u001b[38;5;28;01mexcept\u001b[39;00m:\n\u001b[0;32m--> 281\u001b[0m         \u001b[38;5;28;01mraise\u001b[39;00m e\n\u001b[1;32m    282\u001b[0m \u001b[38;5;28;01mreturn\u001b[39;00m loc, index, index_was_expanded\n",
      "File \u001b[0;32m~/anaconda3/lib/python3.11/site-packages/statsmodels/tsa/base/tsa_model.py:245\u001b[0m, in \u001b[0;36mget_index_label_loc\u001b[0;34m(key, index, row_labels)\u001b[0m\n\u001b[1;32m    244\u001b[0m \u001b[38;5;28;01mtry\u001b[39;00m:\n\u001b[0;32m--> 245\u001b[0m     loc, index, index_was_expanded \u001b[38;5;241m=\u001b[39m get_index_loc(key, index)\n\u001b[1;32m    246\u001b[0m \u001b[38;5;28;01mexcept\u001b[39;00m \u001b[38;5;167;01mKeyError\u001b[39;00m \u001b[38;5;28;01mas\u001b[39;00m e:\n",
      "File \u001b[0;32m~/anaconda3/lib/python3.11/site-packages/statsmodels/tsa/base/tsa_model.py:195\u001b[0m, in \u001b[0;36mget_index_loc\u001b[0;34m(key, index)\u001b[0m\n\u001b[1;32m    194\u001b[0m \u001b[38;5;28;01mexcept\u001b[39;00m (\u001b[38;5;167;01mIndexError\u001b[39;00m, \u001b[38;5;167;01mValueError\u001b[39;00m) \u001b[38;5;28;01mas\u001b[39;00m e:\n\u001b[0;32m--> 195\u001b[0m     \u001b[38;5;28;01mraise\u001b[39;00m \u001b[38;5;167;01mKeyError\u001b[39;00m(\u001b[38;5;28mstr\u001b[39m(e))\n\u001b[1;32m    196\u001b[0m loc \u001b[38;5;241m=\u001b[39m key\n",
      "\u001b[0;31mKeyError\u001b[0m: 'only integers, slices (`:`), ellipsis (`...`), numpy.newaxis (`None`) and integer or boolean arrays are valid indices'",
      "\nDuring handling of the above exception, another exception occurred:\n",
      "\u001b[0;31mKeyError\u001b[0m                                  Traceback (most recent call last)",
      "Cell \u001b[0;32mIn[331], line 2\u001b[0m\n\u001b[1;32m      1\u001b[0m \u001b[38;5;66;03m#prediction = model_fit.predict(start=test.index[0],end=test.index[-1])\u001b[39;00m\n\u001b[0;32m----> 2\u001b[0m prediction \u001b[38;5;241m=\u001b[39m model_fit\u001b[38;5;241m.\u001b[39mpredict(test)\n",
      "File \u001b[0;32m~/anaconda3/lib/python3.11/site-packages/statsmodels/base/wrapper.py:113\u001b[0m, in \u001b[0;36mmake_wrapper.<locals>.wrapper\u001b[0;34m(self, *args, **kwargs)\u001b[0m\n\u001b[1;32m    111\u001b[0m     obj \u001b[38;5;241m=\u001b[39m data\u001b[38;5;241m.\u001b[39mwrap_output(func(results, \u001b[38;5;241m*\u001b[39margs, \u001b[38;5;241m*\u001b[39m\u001b[38;5;241m*\u001b[39mkwargs), how[\u001b[38;5;241m0\u001b[39m], how[\u001b[38;5;241m1\u001b[39m:])\n\u001b[1;32m    112\u001b[0m \u001b[38;5;28;01melif\u001b[39;00m how:\n\u001b[0;32m--> 113\u001b[0m     obj \u001b[38;5;241m=\u001b[39m data\u001b[38;5;241m.\u001b[39mwrap_output(func(results, \u001b[38;5;241m*\u001b[39margs, \u001b[38;5;241m*\u001b[39m\u001b[38;5;241m*\u001b[39mkwargs), how)\n\u001b[1;32m    114\u001b[0m \u001b[38;5;28;01mreturn\u001b[39;00m obj\n",
      "File \u001b[0;32m~/anaconda3/lib/python3.11/site-packages/statsmodels/tsa/statespace/mlemodel.py:3487\u001b[0m, in \u001b[0;36mMLEResults.predict\u001b[0;34m(self, start, end, dynamic, information_set, signal_only, **kwargs)\u001b[0m\n\u001b[1;32m   3422\u001b[0m \u001b[38;5;250m\u001b[39m\u001b[38;5;124mr\u001b[39m\u001b[38;5;124;03m\"\"\"\u001b[39;00m\n\u001b[1;32m   3423\u001b[0m \u001b[38;5;124;03mIn-sample prediction and out-of-sample forecasting\u001b[39;00m\n\u001b[1;32m   3424\u001b[0m \n\u001b[0;32m   (...)\u001b[0m\n\u001b[1;32m   3484\u001b[0m \u001b[38;5;124;03m    including confidence intervals.\u001b[39;00m\n\u001b[1;32m   3485\u001b[0m \u001b[38;5;124;03m\"\"\"\u001b[39;00m\n\u001b[1;32m   3486\u001b[0m \u001b[38;5;66;03m# Perform the prediction\u001b[39;00m\n\u001b[0;32m-> 3487\u001b[0m prediction_results \u001b[38;5;241m=\u001b[39m \u001b[38;5;28mself\u001b[39m\u001b[38;5;241m.\u001b[39mget_prediction(\n\u001b[1;32m   3488\u001b[0m     start, end, dynamic, information_set\u001b[38;5;241m=\u001b[39minformation_set,\n\u001b[1;32m   3489\u001b[0m     signal_only\u001b[38;5;241m=\u001b[39msignal_only, \u001b[38;5;241m*\u001b[39m\u001b[38;5;241m*\u001b[39mkwargs)\n\u001b[1;32m   3490\u001b[0m \u001b[38;5;28;01mreturn\u001b[39;00m prediction_results\u001b[38;5;241m.\u001b[39mpredicted_mean\n",
      "File \u001b[0;32m~/anaconda3/lib/python3.11/site-packages/statsmodels/tsa/statespace/mlemodel.py:3340\u001b[0m, in \u001b[0;36mMLEResults.get_prediction\u001b[0;34m(self, start, end, dynamic, information_set, signal_only, index, exog, extend_model, extend_kwargs, **kwargs)\u001b[0m\n\u001b[1;32m   3336\u001b[0m     start \u001b[38;5;241m=\u001b[39m \u001b[38;5;241m0\u001b[39m\n\u001b[1;32m   3338\u001b[0m \u001b[38;5;66;03m# Handle start, end, dynamic\u001b[39;00m\n\u001b[1;32m   3339\u001b[0m start, end, out_of_sample, prediction_index \u001b[38;5;241m=\u001b[39m (\n\u001b[0;32m-> 3340\u001b[0m     \u001b[38;5;28mself\u001b[39m\u001b[38;5;241m.\u001b[39mmodel\u001b[38;5;241m.\u001b[39m_get_prediction_index(start, end, index))\n\u001b[1;32m   3342\u001b[0m \u001b[38;5;66;03m# Handle `dynamic`\u001b[39;00m\n\u001b[1;32m   3343\u001b[0m \u001b[38;5;28;01mif\u001b[39;00m \u001b[38;5;28misinstance\u001b[39m(dynamic, (\u001b[38;5;28mstr\u001b[39m, dt\u001b[38;5;241m.\u001b[39mdatetime, pd\u001b[38;5;241m.\u001b[39mTimestamp)):\n",
      "File \u001b[0;32m~/anaconda3/lib/python3.11/site-packages/statsmodels/tsa/base/tsa_model.py:836\u001b[0m, in \u001b[0;36mTimeSeriesModel._get_prediction_index\u001b[0;34m(self, start, end, index, silent)\u001b[0m\n\u001b[1;32m    780\u001b[0m \u001b[38;5;250m\u001b[39m\u001b[38;5;124;03m\"\"\"\u001b[39;00m\n\u001b[1;32m    781\u001b[0m \u001b[38;5;124;03mGet the location of a specific key in an index or model row labels\u001b[39;00m\n\u001b[1;32m    782\u001b[0m \n\u001b[0;32m   (...)\u001b[0m\n\u001b[1;32m    833\u001b[0m \u001b[38;5;124;03msince we have required them to be full indexes, there is no ambiguity).\u001b[39;00m\n\u001b[1;32m    834\u001b[0m \u001b[38;5;124;03m\"\"\"\u001b[39;00m\n\u001b[1;32m    835\u001b[0m nobs \u001b[38;5;241m=\u001b[39m \u001b[38;5;28mlen\u001b[39m(\u001b[38;5;28mself\u001b[39m\u001b[38;5;241m.\u001b[39mendog)\n\u001b[0;32m--> 836\u001b[0m \u001b[38;5;28;01mreturn\u001b[39;00m get_prediction_index(\n\u001b[1;32m    837\u001b[0m     start,\n\u001b[1;32m    838\u001b[0m     end,\n\u001b[1;32m    839\u001b[0m     nobs,\n\u001b[1;32m    840\u001b[0m     base_index\u001b[38;5;241m=\u001b[39m\u001b[38;5;28mself\u001b[39m\u001b[38;5;241m.\u001b[39m_index,\n\u001b[1;32m    841\u001b[0m     index\u001b[38;5;241m=\u001b[39mindex,\n\u001b[1;32m    842\u001b[0m     silent\u001b[38;5;241m=\u001b[39msilent,\n\u001b[1;32m    843\u001b[0m     index_none\u001b[38;5;241m=\u001b[39m\u001b[38;5;28mself\u001b[39m\u001b[38;5;241m.\u001b[39m_index_none,\n\u001b[1;32m    844\u001b[0m     index_generated\u001b[38;5;241m=\u001b[39m\u001b[38;5;28mself\u001b[39m\u001b[38;5;241m.\u001b[39m_index_generated,\n\u001b[1;32m    845\u001b[0m     data\u001b[38;5;241m=\u001b[39m\u001b[38;5;28mself\u001b[39m\u001b[38;5;241m.\u001b[39mdata,\n\u001b[1;32m    846\u001b[0m )\n",
      "File \u001b[0;32m~/anaconda3/lib/python3.11/site-packages/statsmodels/tsa/base/tsa_model.py:362\u001b[0m, in \u001b[0;36mget_prediction_index\u001b[0;34m(start, end, nobs, base_index, index, silent, index_none, index_generated, data)\u001b[0m\n\u001b[1;32m    358\u001b[0m     start, _, start_oos \u001b[38;5;241m=\u001b[39m get_index_label_loc(\n\u001b[1;32m    359\u001b[0m         start, base_index, data\u001b[38;5;241m.\u001b[39mrow_labels\n\u001b[1;32m    360\u001b[0m     )\n\u001b[1;32m    361\u001b[0m \u001b[38;5;28;01mexcept\u001b[39;00m \u001b[38;5;167;01mKeyError\u001b[39;00m:\n\u001b[0;32m--> 362\u001b[0m     \u001b[38;5;28;01mraise\u001b[39;00m \u001b[38;5;167;01mKeyError\u001b[39;00m(\n\u001b[1;32m    363\u001b[0m         \u001b[38;5;124m\"\u001b[39m\u001b[38;5;124mThe `start` argument could not be matched to a\u001b[39m\u001b[38;5;124m\"\u001b[39m\n\u001b[1;32m    364\u001b[0m         \u001b[38;5;124m\"\u001b[39m\u001b[38;5;124m location related to the index of the data.\u001b[39m\u001b[38;5;124m\"\u001b[39m\n\u001b[1;32m    365\u001b[0m     )\n\u001b[1;32m    366\u001b[0m \u001b[38;5;28;01mif\u001b[39;00m end \u001b[38;5;129;01mis\u001b[39;00m \u001b[38;5;28;01mNone\u001b[39;00m:\n\u001b[1;32m    367\u001b[0m     end \u001b[38;5;241m=\u001b[39m \u001b[38;5;28mmax\u001b[39m(start, \u001b[38;5;28mlen\u001b[39m(base_index) \u001b[38;5;241m-\u001b[39m \u001b[38;5;241m1\u001b[39m)\n",
      "\u001b[0;31mKeyError\u001b[0m: 'The `start` argument could not be matched to a location related to the index of the data.'"
     ]
    }
   ],
   "source": [
    "#prediction = model_fit.predict(start=test.index[0],end=test.index[-1])\n",
    "prediction = model_fit.predict(test)"
   ]
  },
  {
   "cell_type": "code",
   "execution_count": null,
   "id": "b4cfdda4",
   "metadata": {},
   "outputs": [],
   "source": [
    "airP['arimaPred'] = prediction\n",
    "print(airP.tail())"
   ]
  },
  {
   "cell_type": "code",
   "execution_count": 238,
   "id": "e56bfe3e",
   "metadata": {},
   "outputs": [
    {
     "name": "stdout",
     "output_type": "stream",
     "text": [
      "            Indian_rupee  firstDiff  arimaPred\n",
      "Period                                        \n",
      "2016-10-25       72.6370    -0.1605  72.811045\n",
      "2016-10-26       73.0255     0.3885  72.648763\n",
      "2016-10-27       73.0135    -0.0120  73.037443\n",
      "2016-10-28       72.9575    -0.0560  72.988621\n",
      "2016-10-31       73.0940     0.1365  72.955818\n",
      "            Indian_rupee  firstDiff  arimaPred\n",
      "Period                                        \n",
      "2016-11-01       73.5425     0.4485  73.100161\n",
      "2016-11-02       73.9710     0.4285  73.559929\n",
      "2016-11-03       73.8460    -0.1250  73.970194\n",
      "2016-11-04       74.0395     0.1935  73.841917\n",
      "2016-11-07       73.8440    -0.1955  74.056970\n"
     ]
    },
    {
     "name": "stderr",
     "output_type": "stream",
     "text": [
      "/home/dai/anaconda3/lib/python3.11/site-packages/statsmodels/tsa/base/tsa_model.py:473: ValueWarning: A date index has been provided, but it has no associated frequency information and so will be ignored when e.g. forecasting.\n",
      "  self._init_dates(dates, freq)\n",
      "/home/dai/anaconda3/lib/python3.11/site-packages/statsmodels/tsa/base/tsa_model.py:473: ValueWarning: A date index has been provided, but it has no associated frequency information and so will be ignored when e.g. forecasting.\n",
      "  self._init_dates(dates, freq)\n",
      "/home/dai/anaconda3/lib/python3.11/site-packages/statsmodels/tsa/base/tsa_model.py:473: ValueWarning: A date index has been provided, but it has no associated frequency information and so will be ignored when e.g. forecasting.\n",
      "  self._init_dates(dates, freq)\n",
      "/home/dai/anaconda3/lib/python3.11/site-packages/statsmodels/base/model.py:607: ConvergenceWarning: Maximum Likelihood optimization failed to converge. Check mle_retvals\n",
      "  warnings.warn(\"Maximum Likelihood optimization failed to \"\n"
     ]
    },
    {
     "ename": "KeyError",
     "evalue": "'The `start` argument could not be matched to a location related to the index of the data.'",
     "output_type": "error",
     "traceback": [
      "\u001b[0;31m---------------------------------------------------------------------------\u001b[0m",
      "\u001b[0;31mKeyError\u001b[0m                                  Traceback (most recent call last)",
      "File \u001b[0;32m~/anaconda3/lib/python3.11/site-packages/pandas/core/indexes/base.py:3802\u001b[0m, in \u001b[0;36mIndex.get_loc\u001b[0;34m(self, key, method, tolerance)\u001b[0m\n\u001b[1;32m   3801\u001b[0m \u001b[38;5;28;01mtry\u001b[39;00m:\n\u001b[0;32m-> 3802\u001b[0m     \u001b[38;5;28;01mreturn\u001b[39;00m \u001b[38;5;28mself\u001b[39m\u001b[38;5;241m.\u001b[39m_engine\u001b[38;5;241m.\u001b[39mget_loc(casted_key)\n\u001b[1;32m   3803\u001b[0m \u001b[38;5;28;01mexcept\u001b[39;00m \u001b[38;5;167;01mKeyError\u001b[39;00m \u001b[38;5;28;01mas\u001b[39;00m err:\n",
      "File \u001b[0;32m~/anaconda3/lib/python3.11/site-packages/pandas/_libs/index.pyx:138\u001b[0m, in \u001b[0;36mpandas._libs.index.IndexEngine.get_loc\u001b[0;34m()\u001b[0m\n",
      "File \u001b[0;32m~/anaconda3/lib/python3.11/site-packages/pandas/_libs/index.pyx:165\u001b[0m, in \u001b[0;36mpandas._libs.index.IndexEngine.get_loc\u001b[0;34m()\u001b[0m\n",
      "File \u001b[0;32mpandas/_libs/hashtable_class_helper.pxi:5745\u001b[0m, in \u001b[0;36mpandas._libs.hashtable.PyObjectHashTable.get_item\u001b[0;34m()\u001b[0m\n",
      "File \u001b[0;32mpandas/_libs/hashtable_class_helper.pxi:5753\u001b[0m, in \u001b[0;36mpandas._libs.hashtable.PyObjectHashTable.get_item\u001b[0;34m()\u001b[0m\n",
      "\u001b[0;31mKeyError\u001b[0m: '2016-11-01'",
      "\nThe above exception was the direct cause of the following exception:\n",
      "\u001b[0;31mKeyError\u001b[0m                                  Traceback (most recent call last)",
      "File \u001b[0;32m~/anaconda3/lib/python3.11/site-packages/statsmodels/tsa/base/tsa_model.py:249\u001b[0m, in \u001b[0;36mget_index_label_loc\u001b[0;34m(key, index, row_labels)\u001b[0m\n\u001b[1;32m    248\u001b[0m \u001b[38;5;28;01mif\u001b[39;00m \u001b[38;5;129;01mnot\u001b[39;00m \u001b[38;5;28misinstance\u001b[39m(key, (\u001b[38;5;28mint\u001b[39m, np\u001b[38;5;241m.\u001b[39minteger)):\n\u001b[0;32m--> 249\u001b[0m     loc \u001b[38;5;241m=\u001b[39m row_labels\u001b[38;5;241m.\u001b[39mget_loc(key)\n\u001b[1;32m    250\u001b[0m \u001b[38;5;28;01melse\u001b[39;00m:\n",
      "File \u001b[0;32m~/anaconda3/lib/python3.11/site-packages/pandas/core/indexes/base.py:3804\u001b[0m, in \u001b[0;36mIndex.get_loc\u001b[0;34m(self, key, method, tolerance)\u001b[0m\n\u001b[1;32m   3803\u001b[0m \u001b[38;5;28;01mexcept\u001b[39;00m \u001b[38;5;167;01mKeyError\u001b[39;00m \u001b[38;5;28;01mas\u001b[39;00m err:\n\u001b[0;32m-> 3804\u001b[0m     \u001b[38;5;28;01mraise\u001b[39;00m \u001b[38;5;167;01mKeyError\u001b[39;00m(key) \u001b[38;5;28;01mfrom\u001b[39;00m \u001b[38;5;21;01merr\u001b[39;00m\n\u001b[1;32m   3805\u001b[0m \u001b[38;5;28;01mexcept\u001b[39;00m \u001b[38;5;167;01mTypeError\u001b[39;00m:\n\u001b[1;32m   3806\u001b[0m     \u001b[38;5;66;03m# If we have a listlike key, _check_indexing_error will raise\u001b[39;00m\n\u001b[1;32m   3807\u001b[0m     \u001b[38;5;66;03m#  InvalidIndexError. Otherwise we fall through and re-raise\u001b[39;00m\n\u001b[1;32m   3808\u001b[0m     \u001b[38;5;66;03m#  the TypeError.\u001b[39;00m\n",
      "\u001b[0;31mKeyError\u001b[0m: '2016-11-01'",
      "\nDuring handling of the above exception, another exception occurred:\n",
      "\u001b[0;31mKeyError\u001b[0m                                  Traceback (most recent call last)",
      "File \u001b[0;32m~/anaconda3/lib/python3.11/site-packages/statsmodels/tsa/base/tsa_model.py:358\u001b[0m, in \u001b[0;36mget_prediction_index\u001b[0;34m(start, end, nobs, base_index, index, silent, index_none, index_generated, data)\u001b[0m\n\u001b[1;32m    357\u001b[0m \u001b[38;5;28;01mtry\u001b[39;00m:\n\u001b[0;32m--> 358\u001b[0m     start, _, start_oos \u001b[38;5;241m=\u001b[39m get_index_label_loc(\n\u001b[1;32m    359\u001b[0m         start, base_index, data\u001b[38;5;241m.\u001b[39mrow_labels\n\u001b[1;32m    360\u001b[0m     )\n\u001b[1;32m    361\u001b[0m \u001b[38;5;28;01mexcept\u001b[39;00m \u001b[38;5;167;01mKeyError\u001b[39;00m:\n",
      "File \u001b[0;32m~/anaconda3/lib/python3.11/site-packages/statsmodels/tsa/base/tsa_model.py:281\u001b[0m, in \u001b[0;36mget_index_label_loc\u001b[0;34m(key, index, row_labels)\u001b[0m\n\u001b[1;32m    280\u001b[0m     \u001b[38;5;28;01mexcept\u001b[39;00m:\n\u001b[0;32m--> 281\u001b[0m         \u001b[38;5;28;01mraise\u001b[39;00m e\n\u001b[1;32m    282\u001b[0m \u001b[38;5;28;01mreturn\u001b[39;00m loc, index, index_was_expanded\n",
      "File \u001b[0;32m~/anaconda3/lib/python3.11/site-packages/statsmodels/tsa/base/tsa_model.py:245\u001b[0m, in \u001b[0;36mget_index_label_loc\u001b[0;34m(key, index, row_labels)\u001b[0m\n\u001b[1;32m    244\u001b[0m \u001b[38;5;28;01mtry\u001b[39;00m:\n\u001b[0;32m--> 245\u001b[0m     loc, index, index_was_expanded \u001b[38;5;241m=\u001b[39m get_index_loc(key, index)\n\u001b[1;32m    246\u001b[0m \u001b[38;5;28;01mexcept\u001b[39;00m \u001b[38;5;167;01mKeyError\u001b[39;00m \u001b[38;5;28;01mas\u001b[39;00m e:\n",
      "File \u001b[0;32m~/anaconda3/lib/python3.11/site-packages/statsmodels/tsa/base/tsa_model.py:195\u001b[0m, in \u001b[0;36mget_index_loc\u001b[0;34m(key, index)\u001b[0m\n\u001b[1;32m    194\u001b[0m \u001b[38;5;28;01mexcept\u001b[39;00m (\u001b[38;5;167;01mIndexError\u001b[39;00m, \u001b[38;5;167;01mValueError\u001b[39;00m) \u001b[38;5;28;01mas\u001b[39;00m e:\n\u001b[0;32m--> 195\u001b[0m     \u001b[38;5;28;01mraise\u001b[39;00m \u001b[38;5;167;01mKeyError\u001b[39;00m(\u001b[38;5;28mstr\u001b[39m(e))\n\u001b[1;32m    196\u001b[0m loc \u001b[38;5;241m=\u001b[39m key\n",
      "\u001b[0;31mKeyError\u001b[0m: 'only integers, slices (`:`), ellipsis (`...`), numpy.newaxis (`None`) and integer or boolean arrays are valid indices'",
      "\nDuring handling of the above exception, another exception occurred:\n",
      "\u001b[0;31mKeyError\u001b[0m                                  Traceback (most recent call last)",
      "Cell \u001b[0;32mIn[238], line 15\u001b[0m\n\u001b[1;32m     13\u001b[0m model \u001b[38;5;241m=\u001b[39m ARIMA(train[\u001b[38;5;124m'\u001b[39m\u001b[38;5;124mIndian_rupee\u001b[39m\u001b[38;5;124m'\u001b[39m],order\u001b[38;5;241m=\u001b[39m(\u001b[38;5;241m5\u001b[39m,\u001b[38;5;241m1\u001b[39m,\u001b[38;5;241m9\u001b[39m)) \u001b[38;5;66;03m# Parameters: p, d, q\u001b[39;00m\n\u001b[1;32m     14\u001b[0m model_fit \u001b[38;5;241m=\u001b[39m model\u001b[38;5;241m.\u001b[39mfit()\n\u001b[0;32m---> 15\u001b[0m prediction \u001b[38;5;241m=\u001b[39m model_fit\u001b[38;5;241m.\u001b[39mpredict(start\u001b[38;5;241m=\u001b[39mtest\u001b[38;5;241m.\u001b[39mindex[\u001b[38;5;241m0\u001b[39m],end\u001b[38;5;241m=\u001b[39mtest\u001b[38;5;241m.\u001b[39mindex[\u001b[38;5;241m-\u001b[39m\u001b[38;5;241m1\u001b[39m])\n\u001b[1;32m     16\u001b[0m airP[\u001b[38;5;124m'\u001b[39m\u001b[38;5;124marimaPred\u001b[39m\u001b[38;5;124m'\u001b[39m] \u001b[38;5;241m=\u001b[39m prediction\n\u001b[1;32m     17\u001b[0m \u001b[38;5;28mprint\u001b[39m(airP\u001b[38;5;241m.\u001b[39mtail())\n",
      "File \u001b[0;32m~/anaconda3/lib/python3.11/site-packages/statsmodels/base/wrapper.py:113\u001b[0m, in \u001b[0;36mmake_wrapper.<locals>.wrapper\u001b[0;34m(self, *args, **kwargs)\u001b[0m\n\u001b[1;32m    111\u001b[0m     obj \u001b[38;5;241m=\u001b[39m data\u001b[38;5;241m.\u001b[39mwrap_output(func(results, \u001b[38;5;241m*\u001b[39margs, \u001b[38;5;241m*\u001b[39m\u001b[38;5;241m*\u001b[39mkwargs), how[\u001b[38;5;241m0\u001b[39m], how[\u001b[38;5;241m1\u001b[39m:])\n\u001b[1;32m    112\u001b[0m \u001b[38;5;28;01melif\u001b[39;00m how:\n\u001b[0;32m--> 113\u001b[0m     obj \u001b[38;5;241m=\u001b[39m data\u001b[38;5;241m.\u001b[39mwrap_output(func(results, \u001b[38;5;241m*\u001b[39margs, \u001b[38;5;241m*\u001b[39m\u001b[38;5;241m*\u001b[39mkwargs), how)\n\u001b[1;32m    114\u001b[0m \u001b[38;5;28;01mreturn\u001b[39;00m obj\n",
      "File \u001b[0;32m~/anaconda3/lib/python3.11/site-packages/statsmodels/tsa/statespace/mlemodel.py:3487\u001b[0m, in \u001b[0;36mMLEResults.predict\u001b[0;34m(self, start, end, dynamic, information_set, signal_only, **kwargs)\u001b[0m\n\u001b[1;32m   3422\u001b[0m \u001b[38;5;250m\u001b[39m\u001b[38;5;124mr\u001b[39m\u001b[38;5;124;03m\"\"\"\u001b[39;00m\n\u001b[1;32m   3423\u001b[0m \u001b[38;5;124;03mIn-sample prediction and out-of-sample forecasting\u001b[39;00m\n\u001b[1;32m   3424\u001b[0m \n\u001b[0;32m   (...)\u001b[0m\n\u001b[1;32m   3484\u001b[0m \u001b[38;5;124;03m    including confidence intervals.\u001b[39;00m\n\u001b[1;32m   3485\u001b[0m \u001b[38;5;124;03m\"\"\"\u001b[39;00m\n\u001b[1;32m   3486\u001b[0m \u001b[38;5;66;03m# Perform the prediction\u001b[39;00m\n\u001b[0;32m-> 3487\u001b[0m prediction_results \u001b[38;5;241m=\u001b[39m \u001b[38;5;28mself\u001b[39m\u001b[38;5;241m.\u001b[39mget_prediction(\n\u001b[1;32m   3488\u001b[0m     start, end, dynamic, information_set\u001b[38;5;241m=\u001b[39minformation_set,\n\u001b[1;32m   3489\u001b[0m     signal_only\u001b[38;5;241m=\u001b[39msignal_only, \u001b[38;5;241m*\u001b[39m\u001b[38;5;241m*\u001b[39mkwargs)\n\u001b[1;32m   3490\u001b[0m \u001b[38;5;28;01mreturn\u001b[39;00m prediction_results\u001b[38;5;241m.\u001b[39mpredicted_mean\n",
      "File \u001b[0;32m~/anaconda3/lib/python3.11/site-packages/statsmodels/tsa/statespace/mlemodel.py:3340\u001b[0m, in \u001b[0;36mMLEResults.get_prediction\u001b[0;34m(self, start, end, dynamic, information_set, signal_only, index, exog, extend_model, extend_kwargs, **kwargs)\u001b[0m\n\u001b[1;32m   3336\u001b[0m     start \u001b[38;5;241m=\u001b[39m \u001b[38;5;241m0\u001b[39m\n\u001b[1;32m   3338\u001b[0m \u001b[38;5;66;03m# Handle start, end, dynamic\u001b[39;00m\n\u001b[1;32m   3339\u001b[0m start, end, out_of_sample, prediction_index \u001b[38;5;241m=\u001b[39m (\n\u001b[0;32m-> 3340\u001b[0m     \u001b[38;5;28mself\u001b[39m\u001b[38;5;241m.\u001b[39mmodel\u001b[38;5;241m.\u001b[39m_get_prediction_index(start, end, index))\n\u001b[1;32m   3342\u001b[0m \u001b[38;5;66;03m# Handle `dynamic`\u001b[39;00m\n\u001b[1;32m   3343\u001b[0m \u001b[38;5;28;01mif\u001b[39;00m \u001b[38;5;28misinstance\u001b[39m(dynamic, (\u001b[38;5;28mstr\u001b[39m, dt\u001b[38;5;241m.\u001b[39mdatetime, pd\u001b[38;5;241m.\u001b[39mTimestamp)):\n",
      "File \u001b[0;32m~/anaconda3/lib/python3.11/site-packages/statsmodels/tsa/base/tsa_model.py:836\u001b[0m, in \u001b[0;36mTimeSeriesModel._get_prediction_index\u001b[0;34m(self, start, end, index, silent)\u001b[0m\n\u001b[1;32m    780\u001b[0m \u001b[38;5;250m\u001b[39m\u001b[38;5;124;03m\"\"\"\u001b[39;00m\n\u001b[1;32m    781\u001b[0m \u001b[38;5;124;03mGet the location of a specific key in an index or model row labels\u001b[39;00m\n\u001b[1;32m    782\u001b[0m \n\u001b[0;32m   (...)\u001b[0m\n\u001b[1;32m    833\u001b[0m \u001b[38;5;124;03msince we have required them to be full indexes, there is no ambiguity).\u001b[39;00m\n\u001b[1;32m    834\u001b[0m \u001b[38;5;124;03m\"\"\"\u001b[39;00m\n\u001b[1;32m    835\u001b[0m nobs \u001b[38;5;241m=\u001b[39m \u001b[38;5;28mlen\u001b[39m(\u001b[38;5;28mself\u001b[39m\u001b[38;5;241m.\u001b[39mendog)\n\u001b[0;32m--> 836\u001b[0m \u001b[38;5;28;01mreturn\u001b[39;00m get_prediction_index(\n\u001b[1;32m    837\u001b[0m     start,\n\u001b[1;32m    838\u001b[0m     end,\n\u001b[1;32m    839\u001b[0m     nobs,\n\u001b[1;32m    840\u001b[0m     base_index\u001b[38;5;241m=\u001b[39m\u001b[38;5;28mself\u001b[39m\u001b[38;5;241m.\u001b[39m_index,\n\u001b[1;32m    841\u001b[0m     index\u001b[38;5;241m=\u001b[39mindex,\n\u001b[1;32m    842\u001b[0m     silent\u001b[38;5;241m=\u001b[39msilent,\n\u001b[1;32m    843\u001b[0m     index_none\u001b[38;5;241m=\u001b[39m\u001b[38;5;28mself\u001b[39m\u001b[38;5;241m.\u001b[39m_index_none,\n\u001b[1;32m    844\u001b[0m     index_generated\u001b[38;5;241m=\u001b[39m\u001b[38;5;28mself\u001b[39m\u001b[38;5;241m.\u001b[39m_index_generated,\n\u001b[1;32m    845\u001b[0m     data\u001b[38;5;241m=\u001b[39m\u001b[38;5;28mself\u001b[39m\u001b[38;5;241m.\u001b[39mdata,\n\u001b[1;32m    846\u001b[0m )\n",
      "File \u001b[0;32m~/anaconda3/lib/python3.11/site-packages/statsmodels/tsa/base/tsa_model.py:362\u001b[0m, in \u001b[0;36mget_prediction_index\u001b[0;34m(start, end, nobs, base_index, index, silent, index_none, index_generated, data)\u001b[0m\n\u001b[1;32m    358\u001b[0m     start, _, start_oos \u001b[38;5;241m=\u001b[39m get_index_label_loc(\n\u001b[1;32m    359\u001b[0m         start, base_index, data\u001b[38;5;241m.\u001b[39mrow_labels\n\u001b[1;32m    360\u001b[0m     )\n\u001b[1;32m    361\u001b[0m \u001b[38;5;28;01mexcept\u001b[39;00m \u001b[38;5;167;01mKeyError\u001b[39;00m:\n\u001b[0;32m--> 362\u001b[0m     \u001b[38;5;28;01mraise\u001b[39;00m \u001b[38;5;167;01mKeyError\u001b[39;00m(\n\u001b[1;32m    363\u001b[0m         \u001b[38;5;124m\"\u001b[39m\u001b[38;5;124mThe `start` argument could not be matched to a\u001b[39m\u001b[38;5;124m\"\u001b[39m\n\u001b[1;32m    364\u001b[0m         \u001b[38;5;124m\"\u001b[39m\u001b[38;5;124m location related to the index of the data.\u001b[39m\u001b[38;5;124m\"\u001b[39m\n\u001b[1;32m    365\u001b[0m     )\n\u001b[1;32m    366\u001b[0m \u001b[38;5;28;01mif\u001b[39;00m end \u001b[38;5;129;01mis\u001b[39;00m \u001b[38;5;28;01mNone\u001b[39;00m:\n\u001b[1;32m    367\u001b[0m     end \u001b[38;5;241m=\u001b[39m \u001b[38;5;28mmax\u001b[39m(start, \u001b[38;5;28mlen\u001b[39m(base_index) \u001b[38;5;241m-\u001b[39m \u001b[38;5;241m1\u001b[39m)\n",
      "\u001b[0;31mKeyError\u001b[0m: 'The `start` argument could not be matched to a location related to the index of the data.'"
     ]
    }
   ],
   "source": [
    "\n",
    "\n",
    "\n",
    "\n",
    "# Plot"
   ]
  },
  {
   "cell_type": "code",
   "execution_count": 235,
   "id": "f8232471",
   "metadata": {},
   "outputs": [
    {
     "data": {
      "image/png": "[encoded data removed]",
      "text/plain": [
       "<Figure size 640x480 with 1 Axes>"
      ]
     },
     "metadata": {},
     "output_type": "display_data"
    }
   ],
   "source": [
    "sns.lineplot(data=airP,x=airP.index,y='Indian_rupee')\n",
    "\n",
    "plt.show()"
   ]
  },
  {
   "cell_type": "code",
   "execution_count": 236,
   "id": "a73e51b6",
   "metadata": {},
   "outputs": [
    {
     "data": {
      "image/png": "[encoded data removed]",
      "text/plain": [
       "<Figure size 640x480 with 1 Axes>"
      ]
     },
     "metadata": {},
     "output_type": "display_data"
    }
   ],
   "source": [
    "sns.lineplot(data=airP,x=airP.index,y='arimaPred')\n",
    "plt.show()"
   ]
  },
  {
   "cell_type": "code",
   "execution_count": 237,
   "id": "4c6dadc4",
   "metadata": {},
   "outputs": [],
   "source": [
    "# Conclusion: The ARIMA prediction is good"
   ]
  },
  {
   "cell_type": "code",
   "execution_count": null,
   "id": "22a1ca72",
   "metadata": {},
   "outputs": [],
   "source": []
  },
  {
   "cell_type": "code",
   "execution_count": null,
   "id": "d9a886bb",
   "metadata": {},
   "outputs": [],
   "source": []
  },
  {
   "cell_type": "code",
   "execution_count": null,
   "id": "935b1887",
   "metadata": {},
   "outputs": [],
   "source": []
  },
  {
   "cell_type": "code",
   "execution_count": null,
   "id": "caf81c6d",
   "metadata": {},
   "outputs": [],
   "source": []
  },
  {
   "cell_type": "code",
   "execution_count": null,
   "id": "1ea3395c",
   "metadata": {},
   "outputs": [],
   "source": []
  },
  {
   "cell_type": "code",
   "execution_count": null,
   "id": "ab57b912",
   "metadata": {},
   "outputs": [],
   "source": []
  },
  {
   "cell_type": "code",
   "execution_count": null,
   "id": "f2e4b7e0",
   "metadata": {},
   "outputs": [],
   "source": []
  },
  {
   "cell_type": "code",
   "execution_count": null,
   "id": "1be2046e",
   "metadata": {},
   "outputs": [],
   "source": []
  },
  {
   "cell_type": "code",
   "execution_count": null,
   "id": "c86cf073",
   "metadata": {},
   "outputs": [],
   "source": []
  },
  {
   "cell_type": "code",
   "execution_count": null,
   "id": "ec8e620c",
   "metadata": {},
   "outputs": [],
   "source": []
  }
 ],
 "metadata": {
  "kernelspec": {
   "display_name": "Python 3 (ipykernel)",
   "language": "python",
   "name": "python3"
  },
  "language_info": {
   "codemirror_mode": {
    "name": "ipython",
    "version": 3
   },
   "file_extension": ".py",
   "mimetype": "text/x-python",
   "name": "python",
   "nbconvert_exporter": "python",
   "pygments_lexer": "ipython3",
   "version": "3.11.4"
  }
 },
 "nbformat": 4,
 "nbformat_minor": 5
}
