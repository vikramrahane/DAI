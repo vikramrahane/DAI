{
 "cells": [
  {
   "cell_type": "code",
   "execution_count": 1,
   "id": "1bca1728",
   "metadata": {},
   "outputs": [],
   "source": [
    "import pandas as pd\n",
    "import numpy as np"
   ]
  },
  {
   "cell_type": "markdown",
   "id": "cc11da32",
   "metadata": {},
   "source": [
    "## a. Read the entire dataset using pandas dataframe and build the file by appending each file in an optimized manner"
   ]
  },
  {
   "cell_type": "code",
   "execution_count": 2,
   "id": "aa3d88aa",
   "metadata": {},
   "outputs": [
    {
     "data": {
      "text/html": [
       "<div>\n",
       "<style scoped>\n",
       "    .dataframe tbody tr th:only-of-type {\n",
       "        vertical-align: middle;\n",
       "    }\n",
       "\n",
       "    .dataframe tbody tr th {\n",
       "        vertical-align: top;\n",
       "    }\n",
       "\n",
       "    .dataframe thead th {\n",
       "        text-align: right;\n",
       "    }\n",
       "</style>\n",
       "<table border=\"1\" class=\"dataframe\">\n",
       "  <thead>\n",
       "    <tr style=\"text-align: right;\">\n",
       "      <th></th>\n",
       "      <th>tripduration</th>\n",
       "      <th>starttime</th>\n",
       "      <th>stoptime</th>\n",
       "      <th>start station id</th>\n",
       "      <th>start station name</th>\n",
       "      <th>start station latitude</th>\n",
       "      <th>start station longitude</th>\n",
       "      <th>end station id</th>\n",
       "      <th>end station name</th>\n",
       "      <th>end station latitude</th>\n",
       "      <th>end station longitude</th>\n",
       "      <th>bikeid</th>\n",
       "      <th>usertype</th>\n",
       "      <th>birth year</th>\n",
       "      <th>gender</th>\n",
       "    </tr>\n",
       "  </thead>\n",
       "  <tbody>\n",
       "    <tr>\n",
       "      <th>0</th>\n",
       "      <td>326</td>\n",
       "      <td>2013-10-01 00:01:08</td>\n",
       "      <td>2013-10-01 00:06:34</td>\n",
       "      <td>239</td>\n",
       "      <td>Willoughby St &amp; Fleet St</td>\n",
       "      <td>40.691966</td>\n",
       "      <td>-73.981302</td>\n",
       "      <td>366</td>\n",
       "      <td>Clinton Ave &amp; Myrtle Ave</td>\n",
       "      <td>40.693261</td>\n",
       "      <td>-73.968896</td>\n",
       "      <td>16052</td>\n",
       "      <td>Subscriber</td>\n",
       "      <td>1982</td>\n",
       "      <td>1</td>\n",
       "    </tr>\n",
       "    <tr>\n",
       "      <th>1</th>\n",
       "      <td>729</td>\n",
       "      <td>2013-10-01 00:01:21</td>\n",
       "      <td>2013-10-01 00:13:30</td>\n",
       "      <td>322</td>\n",
       "      <td>Clinton St &amp; Tillary St</td>\n",
       "      <td>40.696192</td>\n",
       "      <td>-73.991218</td>\n",
       "      <td>398</td>\n",
       "      <td>Atlantic Ave &amp; Furman St</td>\n",
       "      <td>40.691652</td>\n",
       "      <td>-73.999979</td>\n",
       "      <td>19412</td>\n",
       "      <td>Customer</td>\n",
       "      <td>\\N</td>\n",
       "      <td>0</td>\n",
       "    </tr>\n",
       "    <tr>\n",
       "      <th>2</th>\n",
       "      <td>520</td>\n",
       "      <td>2013-10-01 00:01:24</td>\n",
       "      <td>2013-10-01 00:10:04</td>\n",
       "      <td>174</td>\n",
       "      <td>E 25 St &amp; 1 Ave</td>\n",
       "      <td>40.738177</td>\n",
       "      <td>-73.977387</td>\n",
       "      <td>403</td>\n",
       "      <td>E 2 St &amp; 2 Ave</td>\n",
       "      <td>40.725029</td>\n",
       "      <td>-73.990697</td>\n",
       "      <td>19645</td>\n",
       "      <td>Subscriber</td>\n",
       "      <td>1984</td>\n",
       "      <td>1</td>\n",
       "    </tr>\n",
       "    <tr>\n",
       "      <th>3</th>\n",
       "      <td>281</td>\n",
       "      <td>2013-10-01 00:01:25</td>\n",
       "      <td>2013-10-01 00:06:06</td>\n",
       "      <td>430</td>\n",
       "      <td>York St &amp; Jay St</td>\n",
       "      <td>40.701485</td>\n",
       "      <td>-73.986569</td>\n",
       "      <td>323</td>\n",
       "      <td>Lawrence St &amp; Willoughby St</td>\n",
       "      <td>40.692362</td>\n",
       "      <td>-73.986317</td>\n",
       "      <td>16992</td>\n",
       "      <td>Subscriber</td>\n",
       "      <td>1985</td>\n",
       "      <td>1</td>\n",
       "    </tr>\n",
       "    <tr>\n",
       "      <th>4</th>\n",
       "      <td>196</td>\n",
       "      <td>2013-10-01 00:01:27</td>\n",
       "      <td>2013-10-01 00:04:43</td>\n",
       "      <td>403</td>\n",
       "      <td>E 2 St &amp; 2 Ave</td>\n",
       "      <td>40.725029</td>\n",
       "      <td>-73.990697</td>\n",
       "      <td>401</td>\n",
       "      <td>Allen St &amp; Rivington St</td>\n",
       "      <td>40.720196</td>\n",
       "      <td>-73.989978</td>\n",
       "      <td>15690</td>\n",
       "      <td>Subscriber</td>\n",
       "      <td>1986</td>\n",
       "      <td>1</td>\n",
       "    </tr>\n",
       "  </tbody>\n",
       "</table>\n",
       "</div>"
      ],
      "text/plain": [
       "   tripduration            starttime             stoptime  start station id  \\\n",
       "0           326  2013-10-01 00:01:08  2013-10-01 00:06:34               239   \n",
       "1           729  2013-10-01 00:01:21  2013-10-01 00:13:30               322   \n",
       "2           520  2013-10-01 00:01:24  2013-10-01 00:10:04               174   \n",
       "3           281  2013-10-01 00:01:25  2013-10-01 00:06:06               430   \n",
       "4           196  2013-10-01 00:01:27  2013-10-01 00:04:43               403   \n",
       "\n",
       "         start station name  start station latitude  start station longitude  \\\n",
       "0  Willoughby St & Fleet St               40.691966               -73.981302   \n",
       "1   Clinton St & Tillary St               40.696192               -73.991218   \n",
       "2           E 25 St & 1 Ave               40.738177               -73.977387   \n",
       "3          York St & Jay St               40.701485               -73.986569   \n",
       "4            E 2 St & 2 Ave               40.725029               -73.990697   \n",
       "\n",
       "   end station id             end station name  end station latitude  \\\n",
       "0             366     Clinton Ave & Myrtle Ave             40.693261   \n",
       "1             398     Atlantic Ave & Furman St             40.691652   \n",
       "2             403               E 2 St & 2 Ave             40.725029   \n",
       "3             323  Lawrence St & Willoughby St             40.692362   \n",
       "4             401      Allen St & Rivington St             40.720196   \n",
       "\n",
       "   end station longitude  bikeid    usertype birth year  gender  \n",
       "0             -73.968896   16052  Subscriber       1982       1  \n",
       "1             -73.999979   19412    Customer         \\N       0  \n",
       "2             -73.990697   19645  Subscriber       1984       1  \n",
       "3             -73.986317   16992  Subscriber       1985       1  \n",
       "4             -73.989978   15690  Subscriber       1986       1  "
      ]
     },
     "execution_count": 2,
     "metadata": {},
     "output_type": "execute_result"
    }
   ],
   "source": [
    "tandem=pd.read_csv(\"2013-10 - Citi Bike trip data.csv\")\n",
    "tandem.head()"
   ]
  },
  {
   "cell_type": "markdown",
   "id": "b54f2ea4",
   "metadata": {},
   "source": [
    "## b. What was the time duration for the average trip taken? (Use plotting techniques and write your observations for the same.)"
   ]
  },
  {
   "cell_type": "code",
   "execution_count": 3,
   "id": "c02c42e0",
   "metadata": {},
   "outputs": [],
   "source": [
    "import matplotlib.pyplot as plt\n",
    "import seaborn as sns"
   ]
  },
  {
   "cell_type": "code",
   "execution_count": 4,
   "id": "90f7a875",
   "metadata": {},
   "outputs": [
    {
     "data": {
      "text/plain": [
       "0    326\n",
       "1    729\n",
       "2    520\n",
       "3    281\n",
       "4    196\n",
       "Name: tripduration, dtype: int64"
      ]
     },
     "execution_count": 4,
     "metadata": {},
     "output_type": "execute_result"
    }
   ],
   "source": [
    "tandem['tripduration'].head()"
   ]
  },
  {
   "cell_type": "code",
   "execution_count": 5,
   "id": "a56dbd07",
   "metadata": {},
   "outputs": [
    {
     "name": "stderr",
     "output_type": "stream",
     "text": [
      "/tmp/ipykernel_21504/2010593682.py:2: UserWarning: \n",
      "\n",
      "`distplot` is a deprecated function and will be removed in seaborn v0.14.0.\n",
      "\n",
      "Please adapt your code to use either `displot` (a figure-level function with\n",
      "similar flexibility) or `kdeplot` (an axes-level function for kernel density plots).\n",
      "\n",
      "For a guide to updating your code to use the new functions, please see\n",
      "https://gist.github.com/mwaskom/de44147ed2974457ad6372750bbe5751\n",
      "\n",
      "  sns.distplot(tandem['tripduration'],hist=None,label='Trip Duration')\n"
     ]
    },
    {
     "data": {
      "image/png": "[encoded data removed]",
      "text/plain": [
       "<Figure size 1500x600 with 1 Axes>"
      ]
     },
     "metadata": {},
     "output_type": "display_data"
    }
   ],
   "source": [
    "plt.figure(figsize=(15,6))\n",
    "sns.distplot(tandem['tripduration'],hist=None,label='Trip Duration')\n",
    "plt.legend()\n",
    "plt.title(\"Distribution of Trip Duration\")\n",
    "\n",
    "plt.show()"
   ]
  },
  {
   "cell_type": "code",
   "execution_count": 6,
   "id": "b0e9c89f",
   "metadata": {},
   "outputs": [
    {
     "data": {
      "image/png": "[encoded data removed]",
      "text/plain": [
       "<Figure size 640x480 with 1 Axes>"
      ]
     },
     "metadata": {},
     "output_type": "display_data"
    }
   ],
   "source": [
    "sns.histplot(tandem['tripduration'],bins=30)\n",
    "plt.show()"
   ]
  },
  {
   "cell_type": "code",
   "execution_count": 7,
   "id": "401c0666",
   "metadata": {},
   "outputs": [
    {
     "data": {
      "text/plain": [
       "count    1.037712e+06\n",
       "mean     8.256148e+02\n",
       "std      2.000373e+03\n",
       "min      6.000000e+01\n",
       "25%      3.940000e+02\n",
       "50%      6.220000e+02\n",
       "75%      1.005000e+03\n",
       "max      1.259480e+06\n",
       "Name: tripduration, dtype: float64"
      ]
     },
     "execution_count": 7,
     "metadata": {},
     "output_type": "execute_result"
    }
   ],
   "source": [
    "tandem['tripduration'].describe()"
   ]
  },
  {
   "cell_type": "code",
   "execution_count": 8,
   "id": "e92b1cf9",
   "metadata": {},
   "outputs": [
    {
     "name": "stdout",
     "output_type": "stream",
     "text": [
      "Standard Deviation is  2000.3722684576578\n"
     ]
    }
   ],
   "source": [
    "print(\"Standard Deviation is \",np.std(tandem['tripduration']))"
   ]
  },
  {
   "cell_type": "code",
   "execution_count": 9,
   "id": "479a3837",
   "metadata": {},
   "outputs": [
    {
     "data": {
      "text/plain": [
       "'Conclusion:\\n    Based on my observations, the time duration for the average trip taken is 825.61 sec but maximum records are \\n    between the range of 60 sec to ~200 sec. In given dataset some Outliers may be exist by looking to mean. \\n'"
      ]
     },
     "execution_count": 9,
     "metadata": {},
     "output_type": "execute_result"
    }
   ],
   "source": [
    "'''Conclusion:\n",
    "    Based on my observations, the time duration for the average trip taken is 825.61 sec but maximum records are \n",
    "    between the range of 60 sec to ~200 sec. In given dataset some Outliers may be exist by looking to mean. \n",
    "'''"
   ]
  },
  {
   "cell_type": "markdown",
   "id": "540a2a91",
   "metadata": {},
   "source": [
    "### c. Is there any correlation between the months and the trip duration? Use scatter plot and comment your observations from the plot"
   ]
  },
  {
   "cell_type": "code",
   "execution_count": 10,
   "id": "667e6d3c",
   "metadata": {},
   "outputs": [
    {
     "name": "stdout",
     "output_type": "stream",
     "text": [
      "<class 'pandas.core.series.Series'>\n",
      "RangeIndex: 1037712 entries, 0 to 1037711\n",
      "Series name: starttime\n",
      "Non-Null Count    Dtype \n",
      "--------------    ----- \n",
      "1037712 non-null  object\n",
      "dtypes: object(1)\n",
      "memory usage: 7.9+ MB\n"
     ]
    }
   ],
   "source": [
    "tandem['starttime'].info()"
   ]
  },
  {
   "cell_type": "code",
   "execution_count": 11,
   "id": "539789b4",
   "metadata": {},
   "outputs": [
    {
     "data": {
      "text/html": [
       "<div>\n",
       "<style scoped>\n",
       "    .dataframe tbody tr th:only-of-type {\n",
       "        vertical-align: middle;\n",
       "    }\n",
       "\n",
       "    .dataframe tbody tr th {\n",
       "        vertical-align: top;\n",
       "    }\n",
       "\n",
       "    .dataframe thead th {\n",
       "        text-align: right;\n",
       "    }\n",
       "</style>\n",
       "<table border=\"1\" class=\"dataframe\">\n",
       "  <thead>\n",
       "    <tr style=\"text-align: right;\">\n",
       "      <th></th>\n",
       "      <th>tripduration</th>\n",
       "      <th>starttime</th>\n",
       "      <th>stoptime</th>\n",
       "      <th>start station id</th>\n",
       "      <th>start station name</th>\n",
       "      <th>start station latitude</th>\n",
       "      <th>start station longitude</th>\n",
       "      <th>end station id</th>\n",
       "      <th>end station name</th>\n",
       "      <th>end station latitude</th>\n",
       "      <th>end station longitude</th>\n",
       "      <th>bikeid</th>\n",
       "      <th>usertype</th>\n",
       "      <th>birth year</th>\n",
       "      <th>gender</th>\n",
       "      <th>trip_month</th>\n",
       "    </tr>\n",
       "  </thead>\n",
       "  <tbody>\n",
       "    <tr>\n",
       "      <th>0</th>\n",
       "      <td>326</td>\n",
       "      <td>2013-10-01 00:01:08</td>\n",
       "      <td>2013-10-01 00:06:34</td>\n",
       "      <td>239</td>\n",
       "      <td>Willoughby St &amp; Fleet St</td>\n",
       "      <td>40.691966</td>\n",
       "      <td>-73.981302</td>\n",
       "      <td>366</td>\n",
       "      <td>Clinton Ave &amp; Myrtle Ave</td>\n",
       "      <td>40.693261</td>\n",
       "      <td>-73.968896</td>\n",
       "      <td>16052</td>\n",
       "      <td>Subscriber</td>\n",
       "      <td>1982</td>\n",
       "      <td>1</td>\n",
       "      <td>10</td>\n",
       "    </tr>\n",
       "    <tr>\n",
       "      <th>1</th>\n",
       "      <td>729</td>\n",
       "      <td>2013-10-01 00:01:21</td>\n",
       "      <td>2013-10-01 00:13:30</td>\n",
       "      <td>322</td>\n",
       "      <td>Clinton St &amp; Tillary St</td>\n",
       "      <td>40.696192</td>\n",
       "      <td>-73.991218</td>\n",
       "      <td>398</td>\n",
       "      <td>Atlantic Ave &amp; Furman St</td>\n",
       "      <td>40.691652</td>\n",
       "      <td>-73.999979</td>\n",
       "      <td>19412</td>\n",
       "      <td>Customer</td>\n",
       "      <td>\\N</td>\n",
       "      <td>0</td>\n",
       "      <td>10</td>\n",
       "    </tr>\n",
       "    <tr>\n",
       "      <th>2</th>\n",
       "      <td>520</td>\n",
       "      <td>2013-10-01 00:01:24</td>\n",
       "      <td>2013-10-01 00:10:04</td>\n",
       "      <td>174</td>\n",
       "      <td>E 25 St &amp; 1 Ave</td>\n",
       "      <td>40.738177</td>\n",
       "      <td>-73.977387</td>\n",
       "      <td>403</td>\n",
       "      <td>E 2 St &amp; 2 Ave</td>\n",
       "      <td>40.725029</td>\n",
       "      <td>-73.990697</td>\n",
       "      <td>19645</td>\n",
       "      <td>Subscriber</td>\n",
       "      <td>1984</td>\n",
       "      <td>1</td>\n",
       "      <td>10</td>\n",
       "    </tr>\n",
       "    <tr>\n",
       "      <th>3</th>\n",
       "      <td>281</td>\n",
       "      <td>2013-10-01 00:01:25</td>\n",
       "      <td>2013-10-01 00:06:06</td>\n",
       "      <td>430</td>\n",
       "      <td>York St &amp; Jay St</td>\n",
       "      <td>40.701485</td>\n",
       "      <td>-73.986569</td>\n",
       "      <td>323</td>\n",
       "      <td>Lawrence St &amp; Willoughby St</td>\n",
       "      <td>40.692362</td>\n",
       "      <td>-73.986317</td>\n",
       "      <td>16992</td>\n",
       "      <td>Subscriber</td>\n",
       "      <td>1985</td>\n",
       "      <td>1</td>\n",
       "      <td>10</td>\n",
       "    </tr>\n",
       "    <tr>\n",
       "      <th>4</th>\n",
       "      <td>196</td>\n",
       "      <td>2013-10-01 00:01:27</td>\n",
       "      <td>2013-10-01 00:04:43</td>\n",
       "      <td>403</td>\n",
       "      <td>E 2 St &amp; 2 Ave</td>\n",
       "      <td>40.725029</td>\n",
       "      <td>-73.990697</td>\n",
       "      <td>401</td>\n",
       "      <td>Allen St &amp; Rivington St</td>\n",
       "      <td>40.720196</td>\n",
       "      <td>-73.989978</td>\n",
       "      <td>15690</td>\n",
       "      <td>Subscriber</td>\n",
       "      <td>1986</td>\n",
       "      <td>1</td>\n",
       "      <td>10</td>\n",
       "    </tr>\n",
       "  </tbody>\n",
       "</table>\n",
       "</div>"
      ],
      "text/plain": [
       "   tripduration            starttime             stoptime  start station id  \\\n",
       "0           326  2013-10-01 00:01:08  2013-10-01 00:06:34               239   \n",
       "1           729  2013-10-01 00:01:21  2013-10-01 00:13:30               322   \n",
       "2           520  2013-10-01 00:01:24  2013-10-01 00:10:04               174   \n",
       "3           281  2013-10-01 00:01:25  2013-10-01 00:06:06               430   \n",
       "4           196  2013-10-01 00:01:27  2013-10-01 00:04:43               403   \n",
       "\n",
       "         start station name  start station latitude  start station longitude  \\\n",
       "0  Willoughby St & Fleet St               40.691966               -73.981302   \n",
       "1   Clinton St & Tillary St               40.696192               -73.991218   \n",
       "2           E 25 St & 1 Ave               40.738177               -73.977387   \n",
       "3          York St & Jay St               40.701485               -73.986569   \n",
       "4            E 2 St & 2 Ave               40.725029               -73.990697   \n",
       "\n",
       "   end station id             end station name  end station latitude  \\\n",
       "0             366     Clinton Ave & Myrtle Ave             40.693261   \n",
       "1             398     Atlantic Ave & Furman St             40.691652   \n",
       "2             403               E 2 St & 2 Ave             40.725029   \n",
       "3             323  Lawrence St & Willoughby St             40.692362   \n",
       "4             401      Allen St & Rivington St             40.720196   \n",
       "\n",
       "   end station longitude  bikeid    usertype birth year  gender  trip_month  \n",
       "0             -73.968896   16052  Subscriber       1982       1          10  \n",
       "1             -73.999979   19412    Customer         \\N       0          10  \n",
       "2             -73.990697   19645  Subscriber       1984       1          10  \n",
       "3             -73.986317   16992  Subscriber       1985       1          10  \n",
       "4             -73.989978   15690  Subscriber       1986       1          10  "
      ]
     },
     "execution_count": 11,
     "metadata": {},
     "output_type": "execute_result"
    }
   ],
   "source": [
    "tandem['trip_month']=pd.to_datetime(tandem['starttime'])\n",
    "tandem['trip_month']=tandem['trip_month'].map(lambda x: x.month)\n",
    "tandem.head()"
   ]
  },
  {
   "cell_type": "code",
   "execution_count": 12,
   "id": "4ba23529",
   "metadata": {},
   "outputs": [
    {
     "data": {
      "image/png": "[encoded data removed]",
      "text/plain": [
       "<Figure size 640x480 with 1 Axes>"
      ]
     },
     "metadata": {},
     "output_type": "display_data"
    }
   ],
   "source": [
    "sns.scatterplot(x=tandem['tripduration'],y=tandem['trip_month'])\n",
    "plt.show()"
   ]
  },
  {
   "cell_type": "code",
   "execution_count": null,
   "id": "f71c15b1",
   "metadata": {},
   "outputs": [],
   "source": [
    "'''Conclusion:\n",
    "    Based on my observations, all records are from Month 10(October). So, In this dataset there is no significant\n",
    "    correlation between 'month' and 'tripduration'.\n",
    "'''"
   ]
  },
  {
   "cell_type": "markdown",
   "id": "0a05aaf4",
   "metadata": {},
   "source": [
    "### d. Do seasons affect the duration of a trip ? Comment your observations."
   ]
  },
  {
   "cell_type": "code",
   "execution_count": null,
   "id": "f8cda95c",
   "metadata": {},
   "outputs": [],
   "source": [
    "'''Conclusion:\n",
    "    Based on my observations, in given dataset there is no related feature for seasons and also all records are from\n",
    "    Month 10(October). So, In this dataset seasons does not affect duration of a trip.\n",
    "'''"
   ]
  },
  {
   "cell_type": "markdown",
   "id": "b05308e0",
   "metadata": {},
   "source": [
    "### e. Using multivariate exploration, explain whether there is any relation between short trips and the users."
   ]
  },
  {
   "cell_type": "code",
   "execution_count": 19,
   "id": "0faf8ae4",
   "metadata": {},
   "outputs": [],
   "source": [
    "short_trips=tandem[tandem['tripduration']<400] # We consider short trip as upto 400 Seconds"
   ]
  },
  {
   "cell_type": "code",
   "execution_count": 20,
   "id": "c1b7f8f0",
   "metadata": {},
   "outputs": [
    {
     "data": {
      "text/plain": [
       "(266242, 16)"
      ]
     },
     "execution_count": 20,
     "metadata": {},
     "output_type": "execute_result"
    }
   ],
   "source": [
    "short_trips.shape"
   ]
  },
  {
   "cell_type": "code",
   "execution_count": null,
   "id": "1ff7a2cf",
   "metadata": {},
   "outputs": [],
   "source": []
  },
  {
   "cell_type": "code",
   "execution_count": null,
   "id": "e13984ac",
   "metadata": {},
   "outputs": [],
   "source": []
  },
  {
   "cell_type": "code",
   "execution_count": null,
   "id": "0d226b3b",
   "metadata": {},
   "outputs": [],
   "source": []
  },
  {
   "cell_type": "code",
   "execution_count": null,
   "id": "98026a58",
   "metadata": {},
   "outputs": [],
   "source": []
  }
 ],
 "metadata": {
  "kernelspec": {
   "display_name": "Python 3 (ipykernel)",
   "language": "python",
   "name": "python3"
  },
  "language_info": {
   "codemirror_mode": {
    "name": "ipython",
    "version": 3
   },
   "file_extension": ".py",
   "mimetype": "text/x-python",
   "name": "python",
   "nbconvert_exporter": "python",
   "pygments_lexer": "ipython3",
   "version": "3.11.4"
  }
 },
 "nbformat": 4,
 "nbformat_minor": 5
}
