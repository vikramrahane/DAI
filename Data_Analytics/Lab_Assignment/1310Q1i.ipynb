{
 "cells": [
  {
   "cell_type": "code",
   "execution_count": 1,
   "id": "45820d97",
   "metadata": {},
   "outputs": [],
   "source": [
    "import pandas as pd"
   ]
  },
  {
   "cell_type": "markdown",
   "id": "21ddc260",
   "metadata": {},
   "source": [
    "# Q1"
   ]
  },
  {
   "cell_type": "markdown",
   "id": "60f49d1c",
   "metadata": {},
   "source": [
    "## 1"
   ]
  },
  {
   "cell_type": "code",
   "execution_count": 5,
   "id": "4cd2fefb",
   "metadata": {},
   "outputs": [],
   "source": [
    "data={'Tom':[1,5,True,8.5,3,2,False,'d',1.2,45],'Brick':[7.1,2.5,11.56,8.5,3,True,2,'d',1.2,45],\n",
    "      'Harry':[False,8.5,True,9.5,3,4,False,'d',12,4.5]}\n",
    "index=[True,False,True,False,True,False,True,False,True,False]"
   ]
  },
  {
   "cell_type": "code",
   "execution_count": 7,
   "id": "7b8c3bbd",
   "metadata": {},
   "outputs": [
    {
     "data": {
      "text/html": [
       "<div>\n",
       "<style scoped>\n",
       "    .dataframe tbody tr th:only-of-type {\n",
       "        vertical-align: middle;\n",
       "    }\n",
       "\n",
       "    .dataframe tbody tr th {\n",
       "        vertical-align: top;\n",
       "    }\n",
       "\n",
       "    .dataframe thead th {\n",
       "        text-align: right;\n",
       "    }\n",
       "</style>\n",
       "<table border=\"1\" class=\"dataframe\">\n",
       "  <thead>\n",
       "    <tr style=\"text-align: right;\">\n",
       "      <th></th>\n",
       "      <th>Tom</th>\n",
       "      <th>Brick</th>\n",
       "      <th>Harry</th>\n",
       "    </tr>\n",
       "  </thead>\n",
       "  <tbody>\n",
       "    <tr>\n",
       "      <th>True</th>\n",
       "      <td>1</td>\n",
       "      <td>7.1</td>\n",
       "      <td>False</td>\n",
       "    </tr>\n",
       "    <tr>\n",
       "      <th>False</th>\n",
       "      <td>5</td>\n",
       "      <td>2.5</td>\n",
       "      <td>8.5</td>\n",
       "    </tr>\n",
       "    <tr>\n",
       "      <th>True</th>\n",
       "      <td>True</td>\n",
       "      <td>11.56</td>\n",
       "      <td>True</td>\n",
       "    </tr>\n",
       "    <tr>\n",
       "      <th>False</th>\n",
       "      <td>8.5</td>\n",
       "      <td>8.5</td>\n",
       "      <td>9.5</td>\n",
       "    </tr>\n",
       "    <tr>\n",
       "      <th>True</th>\n",
       "      <td>3</td>\n",
       "      <td>3</td>\n",
       "      <td>3</td>\n",
       "    </tr>\n",
       "    <tr>\n",
       "      <th>False</th>\n",
       "      <td>2</td>\n",
       "      <td>True</td>\n",
       "      <td>4</td>\n",
       "    </tr>\n",
       "    <tr>\n",
       "      <th>True</th>\n",
       "      <td>False</td>\n",
       "      <td>2</td>\n",
       "      <td>False</td>\n",
       "    </tr>\n",
       "    <tr>\n",
       "      <th>False</th>\n",
       "      <td>d</td>\n",
       "      <td>d</td>\n",
       "      <td>d</td>\n",
       "    </tr>\n",
       "    <tr>\n",
       "      <th>True</th>\n",
       "      <td>1.2</td>\n",
       "      <td>1.2</td>\n",
       "      <td>12</td>\n",
       "    </tr>\n",
       "    <tr>\n",
       "      <th>False</th>\n",
       "      <td>45</td>\n",
       "      <td>45</td>\n",
       "      <td>4.5</td>\n",
       "    </tr>\n",
       "  </tbody>\n",
       "</table>\n",
       "</div>"
      ],
      "text/plain": [
       "         Tom  Brick  Harry\n",
       "True       1    7.1  False\n",
       "False      5    2.5    8.5\n",
       "True    True  11.56   True\n",
       "False    8.5    8.5    9.5\n",
       "True       3      3      3\n",
       "False      2   True      4\n",
       "True   False      2  False\n",
       "False      d      d      d\n",
       "True     1.2    1.2     12\n",
       "False     45     45    4.5"
      ]
     },
     "execution_count": 7,
     "metadata": {},
     "output_type": "execute_result"
    }
   ],
   "source": [
    "df1=pd.DataFrame(data=data,index=index)\n",
    "df"
   ]
  },
  {
   "cell_type": "code",
   "execution_count": 8,
   "id": "0b7766f3",
   "metadata": {},
   "outputs": [],
   "source": [
    "df1.to_csv(\"First.csv\")"
   ]
  },
  {
   "cell_type": "code",
   "execution_count": 11,
   "id": "fbbe25fd",
   "metadata": {},
   "outputs": [],
   "source": [
    "data1={'Tom':[False,8.5,True,9.5,3,4,False,'d',12,4.5],'Brick':[1,5,True,8.5,3,2,False,'d',1.2,45],\n",
    "      'Harry':[7.1,2.5,11.56,8.5,3,True,2,'d',1.2,45]}"
   ]
  },
  {
   "cell_type": "code",
   "execution_count": 12,
   "id": "f5141cec",
   "metadata": {},
   "outputs": [],
   "source": [
    "df2=pd.DataFrame(data=data1,index=index)"
   ]
  },
  {
   "cell_type": "code",
   "execution_count": 13,
   "id": "69b93da1",
   "metadata": {},
   "outputs": [],
   "source": [
    "df2.to_csv(\"second.csv\")"
   ]
  },
  {
   "cell_type": "markdown",
   "id": "342970db",
   "metadata": {},
   "source": [
    "## 2"
   ]
  },
  {
   "cell_type": "code",
   "execution_count": 23,
   "id": "d1ab4987",
   "metadata": {},
   "outputs": [],
   "source": [
    "import numpy as np"
   ]
  },
  {
   "cell_type": "code",
   "execution_count": 42,
   "id": "3d6e79dc",
   "metadata": {},
   "outputs": [],
   "source": [
    "data={'A':[1,2,np.NaN,4,5,6,7,np.NaN,9,10],'B':[np.NaN,1.2,1.3,np.NaN,1.5,1.6,1.7,1.8,np.NaN,1.11],\n",
    "      'C':['a','h',np.NaN,'u','y','t','r','s','x','z'],'D':[9,8,7,6,5,np.NaN,3,2,1,0],\n",
    "      'E':['b','n','m','g','h','j',np.NaN,'l','r','e']}"
   ]
  },
  {
   "cell_type": "code",
   "execution_count": 43,
   "id": "aa490f45",
   "metadata": {},
   "outputs": [
    {
     "data": {
      "text/html": [
       "<div>\n",
       "<style scoped>\n",
       "    .dataframe tbody tr th:only-of-type {\n",
       "        vertical-align: middle;\n",
       "    }\n",
       "\n",
       "    .dataframe tbody tr th {\n",
       "        vertical-align: top;\n",
       "    }\n",
       "\n",
       "    .dataframe thead th {\n",
       "        text-align: right;\n",
       "    }\n",
       "</style>\n",
       "<table border=\"1\" class=\"dataframe\">\n",
       "  <thead>\n",
       "    <tr style=\"text-align: right;\">\n",
       "      <th></th>\n",
       "      <th>A</th>\n",
       "      <th>B</th>\n",
       "      <th>C</th>\n",
       "      <th>D</th>\n",
       "      <th>E</th>\n",
       "    </tr>\n",
       "  </thead>\n",
       "  <tbody>\n",
       "    <tr>\n",
       "      <th>0</th>\n",
       "      <td>1.0</td>\n",
       "      <td>NaN</td>\n",
       "      <td>a</td>\n",
       "      <td>9.0</td>\n",
       "      <td>b</td>\n",
       "    </tr>\n",
       "    <tr>\n",
       "      <th>1</th>\n",
       "      <td>2.0</td>\n",
       "      <td>1.20</td>\n",
       "      <td>h</td>\n",
       "      <td>8.0</td>\n",
       "      <td>n</td>\n",
       "    </tr>\n",
       "    <tr>\n",
       "      <th>2</th>\n",
       "      <td>NaN</td>\n",
       "      <td>1.30</td>\n",
       "      <td>NaN</td>\n",
       "      <td>7.0</td>\n",
       "      <td>m</td>\n",
       "    </tr>\n",
       "    <tr>\n",
       "      <th>3</th>\n",
       "      <td>4.0</td>\n",
       "      <td>NaN</td>\n",
       "      <td>u</td>\n",
       "      <td>6.0</td>\n",
       "      <td>g</td>\n",
       "    </tr>\n",
       "    <tr>\n",
       "      <th>4</th>\n",
       "      <td>5.0</td>\n",
       "      <td>1.50</td>\n",
       "      <td>y</td>\n",
       "      <td>5.0</td>\n",
       "      <td>h</td>\n",
       "    </tr>\n",
       "    <tr>\n",
       "      <th>5</th>\n",
       "      <td>6.0</td>\n",
       "      <td>1.60</td>\n",
       "      <td>t</td>\n",
       "      <td>NaN</td>\n",
       "      <td>j</td>\n",
       "    </tr>\n",
       "    <tr>\n",
       "      <th>6</th>\n",
       "      <td>7.0</td>\n",
       "      <td>1.70</td>\n",
       "      <td>r</td>\n",
       "      <td>3.0</td>\n",
       "      <td>NaN</td>\n",
       "    </tr>\n",
       "    <tr>\n",
       "      <th>7</th>\n",
       "      <td>NaN</td>\n",
       "      <td>1.80</td>\n",
       "      <td>s</td>\n",
       "      <td>2.0</td>\n",
       "      <td>l</td>\n",
       "    </tr>\n",
       "    <tr>\n",
       "      <th>8</th>\n",
       "      <td>9.0</td>\n",
       "      <td>NaN</td>\n",
       "      <td>x</td>\n",
       "      <td>1.0</td>\n",
       "      <td>r</td>\n",
       "    </tr>\n",
       "    <tr>\n",
       "      <th>9</th>\n",
       "      <td>10.0</td>\n",
       "      <td>1.11</td>\n",
       "      <td>z</td>\n",
       "      <td>0.0</td>\n",
       "      <td>e</td>\n",
       "    </tr>\n",
       "  </tbody>\n",
       "</table>\n",
       "</div>"
      ],
      "text/plain": [
       "      A     B    C    D    E\n",
       "0   1.0   NaN    a  9.0    b\n",
       "1   2.0  1.20    h  8.0    n\n",
       "2   NaN  1.30  NaN  7.0    m\n",
       "3   4.0   NaN    u  6.0    g\n",
       "4   5.0  1.50    y  5.0    h\n",
       "5   6.0  1.60    t  NaN    j\n",
       "6   7.0  1.70    r  3.0  NaN\n",
       "7   NaN  1.80    s  2.0    l\n",
       "8   9.0   NaN    x  1.0    r\n",
       "9  10.0  1.11    z  0.0    e"
      ]
     },
     "execution_count": 43,
     "metadata": {},
     "output_type": "execute_result"
    }
   ],
   "source": [
    "df=pd.DataFrame(data)\n",
    "df"
   ]
  },
  {
   "cell_type": "code",
   "execution_count": 44,
   "id": "40c4b146",
   "metadata": {},
   "outputs": [
    {
     "name": "stdout",
     "output_type": "stream",
     "text": [
      "<class 'pandas.core.frame.DataFrame'>\n",
      "RangeIndex: 10 entries, 0 to 9\n",
      "Data columns (total 5 columns):\n",
      " #   Column  Non-Null Count  Dtype  \n",
      "---  ------  --------------  -----  \n",
      " 0   A       8 non-null      float64\n",
      " 1   B       7 non-null      float64\n",
      " 2   C       9 non-null      object \n",
      " 3   D       9 non-null      float64\n",
      " 4   E       9 non-null      object \n",
      "dtypes: float64(3), object(2)\n",
      "memory usage: 532.0+ bytes\n"
     ]
    }
   ],
   "source": [
    "df.info()"
   ]
  },
  {
   "cell_type": "code",
   "execution_count": 45,
   "id": "e81fd443",
   "metadata": {},
   "outputs": [
    {
     "name": "stderr",
     "output_type": "stream",
     "text": [
      "/tmp/ipykernel_5874/1351106731.py:1: FutureWarning: The default value of numeric_only in DataFrame.mean is deprecated. In a future version, it will default to False. In addition, specifying 'numeric_only=None' is deprecated. Select only valid columns or specify the value of numeric_only to silence this warning.\n",
      "  df.fillna(df.mean(),inplace=True)\n"
     ]
    },
    {
     "data": {
      "text/html": [
       "<div>\n",
       "<style scoped>\n",
       "    .dataframe tbody tr th:only-of-type {\n",
       "        vertical-align: middle;\n",
       "    }\n",
       "\n",
       "    .dataframe tbody tr th {\n",
       "        vertical-align: top;\n",
       "    }\n",
       "\n",
       "    .dataframe thead th {\n",
       "        text-align: right;\n",
       "    }\n",
       "</style>\n",
       "<table border=\"1\" class=\"dataframe\">\n",
       "  <thead>\n",
       "    <tr style=\"text-align: right;\">\n",
       "      <th></th>\n",
       "      <th>A</th>\n",
       "      <th>B</th>\n",
       "      <th>C</th>\n",
       "      <th>D</th>\n",
       "      <th>E</th>\n",
       "    </tr>\n",
       "  </thead>\n",
       "  <tbody>\n",
       "    <tr>\n",
       "      <th>0</th>\n",
       "      <td>1.0</td>\n",
       "      <td>1.458571</td>\n",
       "      <td>a</td>\n",
       "      <td>9.000000</td>\n",
       "      <td>b</td>\n",
       "    </tr>\n",
       "    <tr>\n",
       "      <th>1</th>\n",
       "      <td>2.0</td>\n",
       "      <td>1.200000</td>\n",
       "      <td>h</td>\n",
       "      <td>8.000000</td>\n",
       "      <td>n</td>\n",
       "    </tr>\n",
       "    <tr>\n",
       "      <th>2</th>\n",
       "      <td>5.5</td>\n",
       "      <td>1.300000</td>\n",
       "      <td>NaN</td>\n",
       "      <td>7.000000</td>\n",
       "      <td>m</td>\n",
       "    </tr>\n",
       "    <tr>\n",
       "      <th>3</th>\n",
       "      <td>4.0</td>\n",
       "      <td>1.458571</td>\n",
       "      <td>u</td>\n",
       "      <td>6.000000</td>\n",
       "      <td>g</td>\n",
       "    </tr>\n",
       "    <tr>\n",
       "      <th>4</th>\n",
       "      <td>5.0</td>\n",
       "      <td>1.500000</td>\n",
       "      <td>y</td>\n",
       "      <td>5.000000</td>\n",
       "      <td>h</td>\n",
       "    </tr>\n",
       "    <tr>\n",
       "      <th>5</th>\n",
       "      <td>6.0</td>\n",
       "      <td>1.600000</td>\n",
       "      <td>t</td>\n",
       "      <td>4.555556</td>\n",
       "      <td>j</td>\n",
       "    </tr>\n",
       "    <tr>\n",
       "      <th>6</th>\n",
       "      <td>7.0</td>\n",
       "      <td>1.700000</td>\n",
       "      <td>r</td>\n",
       "      <td>3.000000</td>\n",
       "      <td>NaN</td>\n",
       "    </tr>\n",
       "    <tr>\n",
       "      <th>7</th>\n",
       "      <td>5.5</td>\n",
       "      <td>1.800000</td>\n",
       "      <td>s</td>\n",
       "      <td>2.000000</td>\n",
       "      <td>l</td>\n",
       "    </tr>\n",
       "    <tr>\n",
       "      <th>8</th>\n",
       "      <td>9.0</td>\n",
       "      <td>1.458571</td>\n",
       "      <td>x</td>\n",
       "      <td>1.000000</td>\n",
       "      <td>r</td>\n",
       "    </tr>\n",
       "    <tr>\n",
       "      <th>9</th>\n",
       "      <td>10.0</td>\n",
       "      <td>1.110000</td>\n",
       "      <td>z</td>\n",
       "      <td>0.000000</td>\n",
       "      <td>e</td>\n",
       "    </tr>\n",
       "  </tbody>\n",
       "</table>\n",
       "</div>"
      ],
      "text/plain": [
       "      A         B    C         D    E\n",
       "0   1.0  1.458571    a  9.000000    b\n",
       "1   2.0  1.200000    h  8.000000    n\n",
       "2   5.5  1.300000  NaN  7.000000    m\n",
       "3   4.0  1.458571    u  6.000000    g\n",
       "4   5.0  1.500000    y  5.000000    h\n",
       "5   6.0  1.600000    t  4.555556    j\n",
       "6   7.0  1.700000    r  3.000000  NaN\n",
       "7   5.5  1.800000    s  2.000000    l\n",
       "8   9.0  1.458571    x  1.000000    r\n",
       "9  10.0  1.110000    z  0.000000    e"
      ]
     },
     "execution_count": 45,
     "metadata": {},
     "output_type": "execute_result"
    }
   ],
   "source": [
    "# replace missing values in numerical column only by using aggregate fn mean()\n",
    "df.fillna(df.mean(),inplace=True)\n",
    "df"
   ]
  },
  {
   "cell_type": "code",
   "execution_count": 47,
   "id": "bdf53d8e",
   "metadata": {},
   "outputs": [
    {
     "data": {
      "text/html": [
       "<div>\n",
       "<style scoped>\n",
       "    .dataframe tbody tr th:only-of-type {\n",
       "        vertical-align: middle;\n",
       "    }\n",
       "\n",
       "    .dataframe tbody tr th {\n",
       "        vertical-align: top;\n",
       "    }\n",
       "\n",
       "    .dataframe thead th {\n",
       "        text-align: right;\n",
       "    }\n",
       "</style>\n",
       "<table border=\"1\" class=\"dataframe\">\n",
       "  <thead>\n",
       "    <tr style=\"text-align: right;\">\n",
       "      <th></th>\n",
       "      <th>A</th>\n",
       "      <th>B</th>\n",
       "      <th>C</th>\n",
       "      <th>D</th>\n",
       "      <th>E</th>\n",
       "    </tr>\n",
       "  </thead>\n",
       "  <tbody>\n",
       "    <tr>\n",
       "      <th>0</th>\n",
       "      <td>1.0</td>\n",
       "      <td>1.458571</td>\n",
       "      <td>a</td>\n",
       "      <td>9.000000</td>\n",
       "      <td>b</td>\n",
       "    </tr>\n",
       "    <tr>\n",
       "      <th>1</th>\n",
       "      <td>2.0</td>\n",
       "      <td>1.200000</td>\n",
       "      <td>h</td>\n",
       "      <td>8.000000</td>\n",
       "      <td>n</td>\n",
       "    </tr>\n",
       "    <tr>\n",
       "      <th>3</th>\n",
       "      <td>4.0</td>\n",
       "      <td>1.458571</td>\n",
       "      <td>u</td>\n",
       "      <td>6.000000</td>\n",
       "      <td>g</td>\n",
       "    </tr>\n",
       "    <tr>\n",
       "      <th>4</th>\n",
       "      <td>5.0</td>\n",
       "      <td>1.500000</td>\n",
       "      <td>y</td>\n",
       "      <td>5.000000</td>\n",
       "      <td>h</td>\n",
       "    </tr>\n",
       "    <tr>\n",
       "      <th>5</th>\n",
       "      <td>6.0</td>\n",
       "      <td>1.600000</td>\n",
       "      <td>t</td>\n",
       "      <td>4.555556</td>\n",
       "      <td>j</td>\n",
       "    </tr>\n",
       "    <tr>\n",
       "      <th>7</th>\n",
       "      <td>5.5</td>\n",
       "      <td>1.800000</td>\n",
       "      <td>s</td>\n",
       "      <td>2.000000</td>\n",
       "      <td>l</td>\n",
       "    </tr>\n",
       "    <tr>\n",
       "      <th>8</th>\n",
       "      <td>9.0</td>\n",
       "      <td>1.458571</td>\n",
       "      <td>x</td>\n",
       "      <td>1.000000</td>\n",
       "      <td>r</td>\n",
       "    </tr>\n",
       "    <tr>\n",
       "      <th>9</th>\n",
       "      <td>10.0</td>\n",
       "      <td>1.110000</td>\n",
       "      <td>z</td>\n",
       "      <td>0.000000</td>\n",
       "      <td>e</td>\n",
       "    </tr>\n",
       "  </tbody>\n",
       "</table>\n",
       "</div>"
      ],
      "text/plain": [
       "      A         B  C         D  E\n",
       "0   1.0  1.458571  a  9.000000  b\n",
       "1   2.0  1.200000  h  8.000000  n\n",
       "3   4.0  1.458571  u  6.000000  g\n",
       "4   5.0  1.500000  y  5.000000  h\n",
       "5   6.0  1.600000  t  4.555556  j\n",
       "7   5.5  1.800000  s  2.000000  l\n",
       "8   9.0  1.458571  x  1.000000  r\n",
       "9  10.0  1.110000  z  0.000000  e"
      ]
     },
     "execution_count": 47,
     "metadata": {},
     "output_type": "execute_result"
    }
   ],
   "source": [
    "df.dropna(inplace=True)\n",
    "df"
   ]
  },
  {
   "cell_type": "markdown",
   "id": "66e813e2",
   "metadata": {},
   "source": [
    "## 3"
   ]
  },
  {
   "cell_type": "code",
   "execution_count": 48,
   "id": "2f68cd50",
   "metadata": {},
   "outputs": [],
   "source": [
    "data={'Abhilash':[1,2,3,4,5,6,7,8,9,10],'Ankit':[11,12,13,14,15,16,17,18,19,20],\n",
    "      'Ashok':[21,22,23,24,25,26,27,28,29,30],'Asif':[9,8,7,6,5,4,3,2,1,0],\n",
    "      'Anjaan':[20,19,18,17,16,15,14,13,12,11]}"
   ]
  },
  {
   "cell_type": "code",
   "execution_count": 51,
   "id": "5b319bd3",
   "metadata": {},
   "outputs": [
    {
     "data": {
      "text/html": [
       "<div>\n",
       "<style scoped>\n",
       "    .dataframe tbody tr th:only-of-type {\n",
       "        vertical-align: middle;\n",
       "    }\n",
       "\n",
       "    .dataframe tbody tr th {\n",
       "        vertical-align: top;\n",
       "    }\n",
       "\n",
       "    .dataframe thead th {\n",
       "        text-align: right;\n",
       "    }\n",
       "</style>\n",
       "<table border=\"1\" class=\"dataframe\">\n",
       "  <thead>\n",
       "    <tr style=\"text-align: right;\">\n",
       "      <th></th>\n",
       "      <th>Abhilash</th>\n",
       "      <th>Ankit</th>\n",
       "      <th>Ashok</th>\n",
       "      <th>Asif</th>\n",
       "      <th>Anjaan</th>\n",
       "    </tr>\n",
       "  </thead>\n",
       "  <tbody>\n",
       "    <tr>\n",
       "      <th>0</th>\n",
       "      <td>1</td>\n",
       "      <td>11</td>\n",
       "      <td>21</td>\n",
       "      <td>9</td>\n",
       "      <td>20</td>\n",
       "    </tr>\n",
       "    <tr>\n",
       "      <th>1</th>\n",
       "      <td>2</td>\n",
       "      <td>12</td>\n",
       "      <td>22</td>\n",
       "      <td>8</td>\n",
       "      <td>19</td>\n",
       "    </tr>\n",
       "    <tr>\n",
       "      <th>2</th>\n",
       "      <td>3</td>\n",
       "      <td>13</td>\n",
       "      <td>23</td>\n",
       "      <td>7</td>\n",
       "      <td>18</td>\n",
       "    </tr>\n",
       "    <tr>\n",
       "      <th>3</th>\n",
       "      <td>4</td>\n",
       "      <td>14</td>\n",
       "      <td>24</td>\n",
       "      <td>6</td>\n",
       "      <td>17</td>\n",
       "    </tr>\n",
       "    <tr>\n",
       "      <th>4</th>\n",
       "      <td>5</td>\n",
       "      <td>15</td>\n",
       "      <td>25</td>\n",
       "      <td>5</td>\n",
       "      <td>16</td>\n",
       "    </tr>\n",
       "    <tr>\n",
       "      <th>5</th>\n",
       "      <td>6</td>\n",
       "      <td>16</td>\n",
       "      <td>26</td>\n",
       "      <td>4</td>\n",
       "      <td>15</td>\n",
       "    </tr>\n",
       "    <tr>\n",
       "      <th>6</th>\n",
       "      <td>7</td>\n",
       "      <td>17</td>\n",
       "      <td>27</td>\n",
       "      <td>3</td>\n",
       "      <td>14</td>\n",
       "    </tr>\n",
       "    <tr>\n",
       "      <th>7</th>\n",
       "      <td>8</td>\n",
       "      <td>18</td>\n",
       "      <td>28</td>\n",
       "      <td>2</td>\n",
       "      <td>13</td>\n",
       "    </tr>\n",
       "    <tr>\n",
       "      <th>8</th>\n",
       "      <td>9</td>\n",
       "      <td>19</td>\n",
       "      <td>29</td>\n",
       "      <td>1</td>\n",
       "      <td>12</td>\n",
       "    </tr>\n",
       "    <tr>\n",
       "      <th>9</th>\n",
       "      <td>10</td>\n",
       "      <td>20</td>\n",
       "      <td>30</td>\n",
       "      <td>0</td>\n",
       "      <td>11</td>\n",
       "    </tr>\n",
       "  </tbody>\n",
       "</table>\n",
       "</div>"
      ],
      "text/plain": [
       "   Abhilash  Ankit  Ashok  Asif  Anjaan\n",
       "0         1     11     21     9      20\n",
       "1         2     12     22     8      19\n",
       "2         3     13     23     7      18\n",
       "3         4     14     24     6      17\n",
       "4         5     15     25     5      16\n",
       "5         6     16     26     4      15\n",
       "6         7     17     27     3      14\n",
       "7         8     18     28     2      13\n",
       "8         9     19     29     1      12\n",
       "9        10     20     30     0      11"
      ]
     },
     "execution_count": 51,
     "metadata": {},
     "output_type": "execute_result"
    }
   ],
   "source": [
    "df=pd.DataFrame(data=data)\n",
    "df"
   ]
  },
  {
   "cell_type": "code",
   "execution_count": 52,
   "id": "11c827c5",
   "metadata": {},
   "outputs": [
    {
     "data": {
      "text/plain": [
       "0    121\n",
       "1    144\n",
       "2    169\n",
       "3    196\n",
       "4    225\n",
       "5    256\n",
       "6    289\n",
       "7    324\n",
       "8    361\n",
       "9    400\n",
       "Name: Ankit, dtype: int64"
      ]
     },
     "execution_count": 52,
     "metadata": {},
     "output_type": "execute_result"
    }
   ],
   "source": [
    "# on Column\n",
    "df['Ankit'].map(lambda x:x*x)"
   ]
  },
  {
   "cell_type": "code",
   "execution_count": 54,
   "id": "86679e01",
   "metadata": {},
   "outputs": [
    {
     "data": {
      "text/plain": [
       "Abhilash      4\n",
       "Ankit       144\n",
       "Ashok       484\n",
       "Asif         64\n",
       "Anjaan      361\n",
       "Name: 1, dtype: int64"
      ]
     },
     "execution_count": 54,
     "metadata": {},
     "output_type": "execute_result"
    }
   ],
   "source": [
    "# On Row\n",
    "df.iloc[1].map(lambda x: x*x)"
   ]
  },
  {
   "cell_type": "markdown",
   "id": "631789a5",
   "metadata": {},
   "source": [
    "## 4"
   ]
  },
  {
   "cell_type": "code",
   "execution_count": 59,
   "id": "2d7bffb8",
   "metadata": {},
   "outputs": [
    {
     "data": {
      "text/html": [
       "<div>\n",
       "<style scoped>\n",
       "    .dataframe tbody tr th:only-of-type {\n",
       "        vertical-align: middle;\n",
       "    }\n",
       "\n",
       "    .dataframe tbody tr th {\n",
       "        vertical-align: top;\n",
       "    }\n",
       "\n",
       "    .dataframe thead th {\n",
       "        text-align: right;\n",
       "    }\n",
       "</style>\n",
       "<table border=\"1\" class=\"dataframe\">\n",
       "  <thead>\n",
       "    <tr style=\"text-align: right;\">\n",
       "      <th></th>\n",
       "      <th>Series Code</th>\n",
       "      <th>Frequency</th>\n",
       "      <th>Series</th>\n",
       "      <th>Units of measurement</th>\n",
       "      <th>Location</th>\n",
       "      <th>Age group</th>\n",
       "      <th>Sex</th>\n",
       "      <th>Reference Area</th>\n",
       "      <th>Source type</th>\n",
       "      <th>Time period</th>\n",
       "      <th>Observation Value</th>\n",
       "      <th>Unit multiplier</th>\n",
       "      <th>Nature of data points</th>\n",
       "      <th>Time period details</th>\n",
       "      <th>Source details</th>\n",
       "      <th>Footnotes</th>\n",
       "    </tr>\n",
       "  </thead>\n",
       "  <tbody>\n",
       "    <tr>\n",
       "      <th>0</th>\n",
       "      <td>IT_USE_ii99</td>\n",
       "      <td>Annual</td>\n",
       "      <td>Internet users</td>\n",
       "      <td>Per 100 population</td>\n",
       "      <td>Total (national level)</td>\n",
       "      <td>All age ranges</td>\n",
       "      <td>Both sexes</td>\n",
       "      <td>India</td>\n",
       "      <td>Not available</td>\n",
       "      <td>1999</td>\n",
       "      <td>0.2</td>\n",
       "      <td>Units</td>\n",
       "      <td>Country Data</td>\n",
       "      <td>1999</td>\n",
       "      <td>Ministry of Information Technology</td>\n",
       "      <td>NaN</td>\n",
       "    </tr>\n",
       "    <tr>\n",
       "      <th>1</th>\n",
       "      <td>IT_USE_ii99</td>\n",
       "      <td>Annual</td>\n",
       "      <td>Internet users</td>\n",
       "      <td>Per 100 population</td>\n",
       "      <td>Total (national level)</td>\n",
       "      <td>All age ranges</td>\n",
       "      <td>Both sexes</td>\n",
       "      <td>India</td>\n",
       "      <td>Not available</td>\n",
       "      <td>2002</td>\n",
       "      <td>3.2</td>\n",
       "      <td>Units</td>\n",
       "      <td>Country Data</td>\n",
       "      <td>2002</td>\n",
       "      <td>Ministry of Information Technology</td>\n",
       "      <td>NaN</td>\n",
       "    </tr>\n",
       "    <tr>\n",
       "      <th>2</th>\n",
       "      <td>IT_USE_ii99</td>\n",
       "      <td>Annual</td>\n",
       "      <td>Internet users</td>\n",
       "      <td>Per 100 population</td>\n",
       "      <td>Total (national level)</td>\n",
       "      <td>All age ranges</td>\n",
       "      <td>Both sexes</td>\n",
       "      <td>India</td>\n",
       "      <td>Not available</td>\n",
       "      <td>2006</td>\n",
       "      <td>7.0</td>\n",
       "      <td>Units</td>\n",
       "      <td>Country Data</td>\n",
       "      <td>2006</td>\n",
       "      <td>Ministry of Information Technology</td>\n",
       "      <td>NaN</td>\n",
       "    </tr>\n",
       "    <tr>\n",
       "      <th>3</th>\n",
       "      <td>SE_ADT_1524</td>\n",
       "      <td>Annual</td>\n",
       "      <td>Literacy rate</td>\n",
       "      <td>Percent</td>\n",
       "      <td>Total (national level)</td>\n",
       "      <td>15-24 year olds</td>\n",
       "      <td>Both sexes</td>\n",
       "      <td>India</td>\n",
       "      <td>Not available</td>\n",
       "      <td>1991</td>\n",
       "      <td>48.5</td>\n",
       "      <td>Units</td>\n",
       "      <td>Country Data</td>\n",
       "      <td>1991</td>\n",
       "      <td>Planning Commission</td>\n",
       "      <td>NaN</td>\n",
       "    </tr>\n",
       "    <tr>\n",
       "      <th>4</th>\n",
       "      <td>SE_ADT_1524</td>\n",
       "      <td>Annual</td>\n",
       "      <td>Literacy rate</td>\n",
       "      <td>Percent</td>\n",
       "      <td>Total (national level)</td>\n",
       "      <td>15-24 year olds</td>\n",
       "      <td>Both sexes</td>\n",
       "      <td>India</td>\n",
       "      <td>Not available</td>\n",
       "      <td>2001</td>\n",
       "      <td>76.4</td>\n",
       "      <td>Units</td>\n",
       "      <td>Country Data</td>\n",
       "      <td>2001</td>\n",
       "      <td>Planning Commission</td>\n",
       "      <td>NaN</td>\n",
       "    </tr>\n",
       "    <tr>\n",
       "      <th>5</th>\n",
       "      <td>SH_DYN_MORT</td>\n",
       "      <td>Annual</td>\n",
       "      <td>Under-five mortality rate</td>\n",
       "      <td>Per 1,000 live births</td>\n",
       "      <td>Total (national level)</td>\n",
       "      <td>under 5 year olds</td>\n",
       "      <td>Both sexes</td>\n",
       "      <td>India</td>\n",
       "      <td>Not available</td>\n",
       "      <td>1992</td>\n",
       "      <td>109.3</td>\n",
       "      <td>Units</td>\n",
       "      <td>Country Data</td>\n",
       "      <td>1992</td>\n",
       "      <td>National Family Health Survey</td>\n",
       "      <td>NaN</td>\n",
       "    </tr>\n",
       "    <tr>\n",
       "      <th>6</th>\n",
       "      <td>SH_DYN_MORT</td>\n",
       "      <td>Annual</td>\n",
       "      <td>Under-five mortality rate</td>\n",
       "      <td>Per 1,000 live births</td>\n",
       "      <td>Total (national level)</td>\n",
       "      <td>under 5 year olds</td>\n",
       "      <td>Both sexes</td>\n",
       "      <td>India</td>\n",
       "      <td>Not available</td>\n",
       "      <td>1998</td>\n",
       "      <td>94.9</td>\n",
       "      <td>Units</td>\n",
       "      <td>Country Data</td>\n",
       "      <td>1998</td>\n",
       "      <td>National Family Health Survey</td>\n",
       "      <td>NaN</td>\n",
       "    </tr>\n",
       "    <tr>\n",
       "      <th>7</th>\n",
       "      <td>SH_DYN_MORT</td>\n",
       "      <td>Annual</td>\n",
       "      <td>Under-five mortality rate</td>\n",
       "      <td>Per 1,000 live births</td>\n",
       "      <td>Total (national level)</td>\n",
       "      <td>under 5 year olds</td>\n",
       "      <td>Both sexes</td>\n",
       "      <td>India</td>\n",
       "      <td>Not available</td>\n",
       "      <td>2005</td>\n",
       "      <td>74.3</td>\n",
       "      <td>Units</td>\n",
       "      <td>Country Data</td>\n",
       "      <td>2005</td>\n",
       "      <td>National Family Health Survey</td>\n",
       "      <td>NaN</td>\n",
       "    </tr>\n",
       "    <tr>\n",
       "      <th>8</th>\n",
       "      <td>SH_STA_BRTC</td>\n",
       "      <td>Annual</td>\n",
       "      <td>Births attended by skilled health personnel</td>\n",
       "      <td>Percent</td>\n",
       "      <td>Total (national level)</td>\n",
       "      <td>Not applicable</td>\n",
       "      <td>Not applicable</td>\n",
       "      <td>India</td>\n",
       "      <td>Not available</td>\n",
       "      <td>1992</td>\n",
       "      <td>33.0</td>\n",
       "      <td>Units</td>\n",
       "      <td>Country Data</td>\n",
       "      <td>1992</td>\n",
       "      <td>National Family Health Survey</td>\n",
       "      <td>NaN</td>\n",
       "    </tr>\n",
       "    <tr>\n",
       "      <th>9</th>\n",
       "      <td>SH_STA_BRTC</td>\n",
       "      <td>Annual</td>\n",
       "      <td>Births attended by skilled health personnel</td>\n",
       "      <td>Percent</td>\n",
       "      <td>Total (national level)</td>\n",
       "      <td>Not applicable</td>\n",
       "      <td>Not applicable</td>\n",
       "      <td>India</td>\n",
       "      <td>Not available</td>\n",
       "      <td>1998</td>\n",
       "      <td>42.4</td>\n",
       "      <td>Units</td>\n",
       "      <td>Country Data</td>\n",
       "      <td>1998</td>\n",
       "      <td>National Family Health Survey</td>\n",
       "      <td>NaN</td>\n",
       "    </tr>\n",
       "    <tr>\n",
       "      <th>10</th>\n",
       "      <td>SH_STA_BRTC</td>\n",
       "      <td>Annual</td>\n",
       "      <td>Births attended by skilled health personnel</td>\n",
       "      <td>Percent</td>\n",
       "      <td>Total (national level)</td>\n",
       "      <td>Not applicable</td>\n",
       "      <td>Not applicable</td>\n",
       "      <td>India</td>\n",
       "      <td>Not available</td>\n",
       "      <td>2005</td>\n",
       "      <td>48.2</td>\n",
       "      <td>Units</td>\n",
       "      <td>Country Data</td>\n",
       "      <td>2005</td>\n",
       "      <td>National Family Health Survey</td>\n",
       "      <td>NaN</td>\n",
       "    </tr>\n",
       "    <tr>\n",
       "      <th>11</th>\n",
       "      <td>SH_STA_MORT</td>\n",
       "      <td>Annual</td>\n",
       "      <td>Maternal mortality ratio</td>\n",
       "      <td>Per 100,000 live births</td>\n",
       "      <td>Total (national level)</td>\n",
       "      <td>All age ranges</td>\n",
       "      <td>Female</td>\n",
       "      <td>India</td>\n",
       "      <td>Not available</td>\n",
       "      <td>1997</td>\n",
       "      <td>398.0</td>\n",
       "      <td>Units</td>\n",
       "      <td>Country Data</td>\n",
       "      <td>1997</td>\n",
       "      <td>Sample Registration System</td>\n",
       "      <td>NaN</td>\n",
       "    </tr>\n",
       "    <tr>\n",
       "      <th>12</th>\n",
       "      <td>SH_STA_MORT</td>\n",
       "      <td>Annual</td>\n",
       "      <td>Maternal mortality ratio</td>\n",
       "      <td>Per 100,000 live births</td>\n",
       "      <td>Total (national level)</td>\n",
       "      <td>All age ranges</td>\n",
       "      <td>Female</td>\n",
       "      <td>India</td>\n",
       "      <td>Not available</td>\n",
       "      <td>2000</td>\n",
       "      <td>327.0</td>\n",
       "      <td>Units</td>\n",
       "      <td>Country Data</td>\n",
       "      <td>2000</td>\n",
       "      <td>Sample Registration System</td>\n",
       "      <td>NaN</td>\n",
       "    </tr>\n",
       "    <tr>\n",
       "      <th>13</th>\n",
       "      <td>SH_STA_MORT</td>\n",
       "      <td>Annual</td>\n",
       "      <td>Maternal mortality ratio</td>\n",
       "      <td>Per 100,000 live births</td>\n",
       "      <td>Total (national level)</td>\n",
       "      <td>All age ranges</td>\n",
       "      <td>Female</td>\n",
       "      <td>India</td>\n",
       "      <td>Not available</td>\n",
       "      <td>2002</td>\n",
       "      <td>301.0</td>\n",
       "      <td>Units</td>\n",
       "      <td>Country Data</td>\n",
       "      <td>2002</td>\n",
       "      <td>Sample Registration System</td>\n",
       "      <td>NaN</td>\n",
       "    </tr>\n",
       "    <tr>\n",
       "      <th>14</th>\n",
       "      <td>SH_TBS_PREV</td>\n",
       "      <td>Annual</td>\n",
       "      <td>Tuberculosis prevalence rate</td>\n",
       "      <td>Per 100,000 population</td>\n",
       "      <td>Total (national level)</td>\n",
       "      <td>All age ranges</td>\n",
       "      <td>Both sexes</td>\n",
       "      <td>India</td>\n",
       "      <td>Not available</td>\n",
       "      <td>1990</td>\n",
       "      <td>503.0</td>\n",
       "      <td>Units</td>\n",
       "      <td>Country Data</td>\n",
       "      <td>1990</td>\n",
       "      <td>NaN</td>\n",
       "      <td>NaN</td>\n",
       "    </tr>\n",
       "    <tr>\n",
       "      <th>15</th>\n",
       "      <td>SH_TBS_PREV</td>\n",
       "      <td>Annual</td>\n",
       "      <td>Tuberculosis prevalence rate</td>\n",
       "      <td>Per 100,000 population</td>\n",
       "      <td>Total (national level)</td>\n",
       "      <td>All age ranges</td>\n",
       "      <td>Both sexes</td>\n",
       "      <td>India</td>\n",
       "      <td>Not available</td>\n",
       "      <td>2000</td>\n",
       "      <td>412.0</td>\n",
       "      <td>Units</td>\n",
       "      <td>Country Data</td>\n",
       "      <td>2000</td>\n",
       "      <td>NaN</td>\n",
       "      <td>NaN</td>\n",
       "    </tr>\n",
       "    <tr>\n",
       "      <th>16</th>\n",
       "      <td>SH_TBS_PREV</td>\n",
       "      <td>Annual</td>\n",
       "      <td>Tuberculosis prevalence rate</td>\n",
       "      <td>Per 100,000 population</td>\n",
       "      <td>Total (national level)</td>\n",
       "      <td>All age ranges</td>\n",
       "      <td>Both sexes</td>\n",
       "      <td>India</td>\n",
       "      <td>Not available</td>\n",
       "      <td>2001</td>\n",
       "      <td>371.0</td>\n",
       "      <td>Units</td>\n",
       "      <td>Country Data</td>\n",
       "      <td>2001</td>\n",
       "      <td>NaN</td>\n",
       "      <td>NaN</td>\n",
       "    </tr>\n",
       "    <tr>\n",
       "      <th>17</th>\n",
       "      <td>SH_TBS_PREV</td>\n",
       "      <td>Annual</td>\n",
       "      <td>Tuberculosis prevalence rate</td>\n",
       "      <td>Per 100,000 population</td>\n",
       "      <td>Total (national level)</td>\n",
       "      <td>All age ranges</td>\n",
       "      <td>Both sexes</td>\n",
       "      <td>India</td>\n",
       "      <td>Not available</td>\n",
       "      <td>2002</td>\n",
       "      <td>343.0</td>\n",
       "      <td>Units</td>\n",
       "      <td>Country Data</td>\n",
       "      <td>2002</td>\n",
       "      <td>NaN</td>\n",
       "      <td>NaN</td>\n",
       "    </tr>\n",
       "    <tr>\n",
       "      <th>18</th>\n",
       "      <td>SH_TBS_PREV</td>\n",
       "      <td>Annual</td>\n",
       "      <td>Tuberculosis prevalence rate</td>\n",
       "      <td>Per 100,000 population</td>\n",
       "      <td>Total (national level)</td>\n",
       "      <td>All age ranges</td>\n",
       "      <td>Both sexes</td>\n",
       "      <td>India</td>\n",
       "      <td>Not available</td>\n",
       "      <td>2003</td>\n",
       "      <td>287.0</td>\n",
       "      <td>Units</td>\n",
       "      <td>Country Data</td>\n",
       "      <td>2003</td>\n",
       "      <td>NaN</td>\n",
       "      <td>NaN</td>\n",
       "    </tr>\n",
       "    <tr>\n",
       "      <th>19</th>\n",
       "      <td>SH_TBS_PREV</td>\n",
       "      <td>Annual</td>\n",
       "      <td>Tuberculosis prevalence rate</td>\n",
       "      <td>Per 100,000 population</td>\n",
       "      <td>Total (national level)</td>\n",
       "      <td>All age ranges</td>\n",
       "      <td>Both sexes</td>\n",
       "      <td>India</td>\n",
       "      <td>Not available</td>\n",
       "      <td>2004</td>\n",
       "      <td>312.0</td>\n",
       "      <td>Units</td>\n",
       "      <td>Country Data</td>\n",
       "      <td>2004</td>\n",
       "      <td>NaN</td>\n",
       "      <td>NaN</td>\n",
       "    </tr>\n",
       "    <tr>\n",
       "      <th>20</th>\n",
       "      <td>SI_POV_NAHC</td>\n",
       "      <td>Annual</td>\n",
       "      <td>Population below national poverty line</td>\n",
       "      <td>Percent</td>\n",
       "      <td>Total (national level)</td>\n",
       "      <td>All age ranges</td>\n",
       "      <td>Both sexes</td>\n",
       "      <td>India</td>\n",
       "      <td>Not available</td>\n",
       "      <td>1993</td>\n",
       "      <td>36.0</td>\n",
       "      <td>Units</td>\n",
       "      <td>Country Data</td>\n",
       "      <td>1993</td>\n",
       "      <td>Planning Commission</td>\n",
       "      <td>NaN</td>\n",
       "    </tr>\n",
       "    <tr>\n",
       "      <th>21</th>\n",
       "      <td>SI_POV_NAHC</td>\n",
       "      <td>Annual</td>\n",
       "      <td>Population below national poverty line</td>\n",
       "      <td>Percent</td>\n",
       "      <td>Total (national level)</td>\n",
       "      <td>All age ranges</td>\n",
       "      <td>Both sexes</td>\n",
       "      <td>India</td>\n",
       "      <td>Not available</td>\n",
       "      <td>1999</td>\n",
       "      <td>26.1</td>\n",
       "      <td>Units</td>\n",
       "      <td>Country Data</td>\n",
       "      <td>1999</td>\n",
       "      <td>Planning Commission</td>\n",
       "      <td>NaN</td>\n",
       "    </tr>\n",
       "    <tr>\n",
       "      <th>22</th>\n",
       "      <td>SI_POV_NAHC</td>\n",
       "      <td>Annual</td>\n",
       "      <td>Population below national poverty line</td>\n",
       "      <td>Percent</td>\n",
       "      <td>Total (national level)</td>\n",
       "      <td>All age ranges</td>\n",
       "      <td>Both sexes</td>\n",
       "      <td>India</td>\n",
       "      <td>Not available</td>\n",
       "      <td>2004</td>\n",
       "      <td>27.5</td>\n",
       "      <td>Units</td>\n",
       "      <td>Country Data</td>\n",
       "      <td>2004</td>\n",
       "      <td>Planning Commission</td>\n",
       "      <td>NaN</td>\n",
       "    </tr>\n",
       "    <tr>\n",
       "      <th>23</th>\n",
       "      <td>SI_POV_NAHC</td>\n",
       "      <td>Annual</td>\n",
       "      <td>Population below national poverty line</td>\n",
       "      <td>Percent</td>\n",
       "      <td>Total (national level)</td>\n",
       "      <td>All age ranges</td>\n",
       "      <td>Both sexes</td>\n",
       "      <td>India</td>\n",
       "      <td>Not available</td>\n",
       "      <td>2005</td>\n",
       "      <td>21.8</td>\n",
       "      <td>Units</td>\n",
       "      <td>Country Data</td>\n",
       "      <td>2005</td>\n",
       "      <td>Planning Commission</td>\n",
       "      <td>NaN</td>\n",
       "    </tr>\n",
       "    <tr>\n",
       "      <th>24</th>\n",
       "      <td>SL_EMP_NAGR</td>\n",
       "      <td>Annual</td>\n",
       "      <td>Share women in wage employment in the non-agri...</td>\n",
       "      <td>Percent</td>\n",
       "      <td>Total (national level)</td>\n",
       "      <td>All age ranges</td>\n",
       "      <td>Female</td>\n",
       "      <td>India</td>\n",
       "      <td>Not available</td>\n",
       "      <td>1999</td>\n",
       "      <td>16.0</td>\n",
       "      <td>Units</td>\n",
       "      <td>Country Data</td>\n",
       "      <td>1999</td>\n",
       "      <td>National Sample Survey Organization</td>\n",
       "      <td>NaN</td>\n",
       "    </tr>\n",
       "    <tr>\n",
       "      <th>25</th>\n",
       "      <td>SL_EMP_NAGR</td>\n",
       "      <td>Annual</td>\n",
       "      <td>Share women in wage employment in the non-agri...</td>\n",
       "      <td>Percent</td>\n",
       "      <td>Total (national level)</td>\n",
       "      <td>All age ranges</td>\n",
       "      <td>Female</td>\n",
       "      <td>India</td>\n",
       "      <td>Not available</td>\n",
       "      <td>2004</td>\n",
       "      <td>20.2</td>\n",
       "      <td>Units</td>\n",
       "      <td>Country Data</td>\n",
       "      <td>2004</td>\n",
       "      <td>National Sample Survey Organization</td>\n",
       "      <td>NaN</td>\n",
       "    </tr>\n",
       "    <tr>\n",
       "      <th>26</th>\n",
       "      <td>SN_STA_MALN</td>\n",
       "      <td>Annual</td>\n",
       "      <td>Children moderately or severely underweight</td>\n",
       "      <td>Percent</td>\n",
       "      <td>Total (national level)</td>\n",
       "      <td>under 5 year olds</td>\n",
       "      <td>Both sexes</td>\n",
       "      <td>India</td>\n",
       "      <td>Not available</td>\n",
       "      <td>1992</td>\n",
       "      <td>51.5</td>\n",
       "      <td>Units</td>\n",
       "      <td>Country Data</td>\n",
       "      <td>1992</td>\n",
       "      <td>National Family Health Survey</td>\n",
       "      <td>NaN</td>\n",
       "    </tr>\n",
       "    <tr>\n",
       "      <th>27</th>\n",
       "      <td>SN_STA_MALN</td>\n",
       "      <td>Annual</td>\n",
       "      <td>Children moderately or severely underweight</td>\n",
       "      <td>Percent</td>\n",
       "      <td>Total (national level)</td>\n",
       "      <td>under 5 year olds</td>\n",
       "      <td>Both sexes</td>\n",
       "      <td>India</td>\n",
       "      <td>Not available</td>\n",
       "      <td>1998</td>\n",
       "      <td>47.0</td>\n",
       "      <td>Units</td>\n",
       "      <td>Country Data</td>\n",
       "      <td>1998</td>\n",
       "      <td>National Family Health Survey</td>\n",
       "      <td>NaN</td>\n",
       "    </tr>\n",
       "    <tr>\n",
       "      <th>28</th>\n",
       "      <td>SN_STA_MALN</td>\n",
       "      <td>Annual</td>\n",
       "      <td>Children moderately or severely underweight</td>\n",
       "      <td>Percent</td>\n",
       "      <td>Total (national level)</td>\n",
       "      <td>under 5 year olds</td>\n",
       "      <td>Both sexes</td>\n",
       "      <td>India</td>\n",
       "      <td>Not available</td>\n",
       "      <td>2005</td>\n",
       "      <td>45.9</td>\n",
       "      <td>Units</td>\n",
       "      <td>Country Data</td>\n",
       "      <td>2005</td>\n",
       "      <td>National Family Health Survey</td>\n",
       "      <td>NaN</td>\n",
       "    </tr>\n",
       "  </tbody>\n",
       "</table>\n",
       "</div>"
      ],
      "text/plain": [
       "    Series Code Frequency                                             Series  \\\n",
       "0   IT_USE_ii99    Annual                                     Internet users   \n",
       "1   IT_USE_ii99    Annual                                     Internet users   \n",
       "2   IT_USE_ii99    Annual                                     Internet users   \n",
       "3   SE_ADT_1524    Annual                                      Literacy rate   \n",
       "4   SE_ADT_1524    Annual                                      Literacy rate   \n",
       "5   SH_DYN_MORT    Annual                          Under-five mortality rate   \n",
       "6   SH_DYN_MORT    Annual                          Under-five mortality rate   \n",
       "7   SH_DYN_MORT    Annual                          Under-five mortality rate   \n",
       "8   SH_STA_BRTC    Annual        Births attended by skilled health personnel   \n",
       "9   SH_STA_BRTC    Annual        Births attended by skilled health personnel   \n",
       "10  SH_STA_BRTC    Annual        Births attended by skilled health personnel   \n",
       "11  SH_STA_MORT    Annual                           Maternal mortality ratio   \n",
       "12  SH_STA_MORT    Annual                           Maternal mortality ratio   \n",
       "13  SH_STA_MORT    Annual                           Maternal mortality ratio   \n",
       "14  SH_TBS_PREV    Annual                       Tuberculosis prevalence rate   \n",
       "15  SH_TBS_PREV    Annual                       Tuberculosis prevalence rate   \n",
       "16  SH_TBS_PREV    Annual                       Tuberculosis prevalence rate   \n",
       "17  SH_TBS_PREV    Annual                       Tuberculosis prevalence rate   \n",
       "18  SH_TBS_PREV    Annual                       Tuberculosis prevalence rate   \n",
       "19  SH_TBS_PREV    Annual                       Tuberculosis prevalence rate   \n",
       "20  SI_POV_NAHC    Annual             Population below national poverty line   \n",
       "21  SI_POV_NAHC    Annual             Population below national poverty line   \n",
       "22  SI_POV_NAHC    Annual             Population below national poverty line   \n",
       "23  SI_POV_NAHC    Annual             Population below national poverty line   \n",
       "24  SL_EMP_NAGR    Annual  Share women in wage employment in the non-agri...   \n",
       "25  SL_EMP_NAGR    Annual  Share women in wage employment in the non-agri...   \n",
       "26  SN_STA_MALN    Annual        Children moderately or severely underweight   \n",
       "27  SN_STA_MALN    Annual        Children moderately or severely underweight   \n",
       "28  SN_STA_MALN    Annual        Children moderately or severely underweight   \n",
       "\n",
       "       Units of measurement                Location          Age group  \\\n",
       "0        Per 100 population  Total (national level)     All age ranges   \n",
       "1        Per 100 population  Total (national level)     All age ranges   \n",
       "2        Per 100 population  Total (national level)     All age ranges   \n",
       "3                   Percent  Total (national level)    15-24 year olds   \n",
       "4                   Percent  Total (national level)    15-24 year olds   \n",
       "5     Per 1,000 live births  Total (national level)  under 5 year olds   \n",
       "6     Per 1,000 live births  Total (national level)  under 5 year olds   \n",
       "7     Per 1,000 live births  Total (national level)  under 5 year olds   \n",
       "8                   Percent  Total (national level)     Not applicable   \n",
       "9                   Percent  Total (national level)     Not applicable   \n",
       "10                  Percent  Total (national level)     Not applicable   \n",
       "11  Per 100,000 live births  Total (national level)     All age ranges   \n",
       "12  Per 100,000 live births  Total (national level)     All age ranges   \n",
       "13  Per 100,000 live births  Total (national level)     All age ranges   \n",
       "14   Per 100,000 population  Total (national level)     All age ranges   \n",
       "15   Per 100,000 population  Total (national level)     All age ranges   \n",
       "16   Per 100,000 population  Total (national level)     All age ranges   \n",
       "17   Per 100,000 population  Total (national level)     All age ranges   \n",
       "18   Per 100,000 population  Total (national level)     All age ranges   \n",
       "19   Per 100,000 population  Total (national level)     All age ranges   \n",
       "20                  Percent  Total (national level)     All age ranges   \n",
       "21                  Percent  Total (national level)     All age ranges   \n",
       "22                  Percent  Total (national level)     All age ranges   \n",
       "23                  Percent  Total (national level)     All age ranges   \n",
       "24                  Percent  Total (national level)     All age ranges   \n",
       "25                  Percent  Total (national level)     All age ranges   \n",
       "26                  Percent  Total (national level)  under 5 year olds   \n",
       "27                  Percent  Total (national level)  under 5 year olds   \n",
       "28                  Percent  Total (national level)  under 5 year olds   \n",
       "\n",
       "               Sex Reference Area    Source type  Time period  \\\n",
       "0       Both sexes          India  Not available         1999   \n",
       "1       Both sexes          India  Not available         2002   \n",
       "2       Both sexes          India  Not available         2006   \n",
       "3       Both sexes          India  Not available         1991   \n",
       "4       Both sexes          India  Not available         2001   \n",
       "5       Both sexes          India  Not available         1992   \n",
       "6       Both sexes          India  Not available         1998   \n",
       "7       Both sexes          India  Not available         2005   \n",
       "8   Not applicable          India  Not available         1992   \n",
       "9   Not applicable          India  Not available         1998   \n",
       "10  Not applicable          India  Not available         2005   \n",
       "11          Female          India  Not available         1997   \n",
       "12          Female          India  Not available         2000   \n",
       "13          Female          India  Not available         2002   \n",
       "14      Both sexes          India  Not available         1990   \n",
       "15      Both sexes          India  Not available         2000   \n",
       "16      Both sexes          India  Not available         2001   \n",
       "17      Both sexes          India  Not available         2002   \n",
       "18      Both sexes          India  Not available         2003   \n",
       "19      Both sexes          India  Not available         2004   \n",
       "20      Both sexes          India  Not available         1993   \n",
       "21      Both sexes          India  Not available         1999   \n",
       "22      Both sexes          India  Not available         2004   \n",
       "23      Both sexes          India  Not available         2005   \n",
       "24          Female          India  Not available         1999   \n",
       "25          Female          India  Not available         2004   \n",
       "26      Both sexes          India  Not available         1992   \n",
       "27      Both sexes          India  Not available         1998   \n",
       "28      Both sexes          India  Not available         2005   \n",
       "\n",
       "    Observation Value Unit multiplier Nature of data points  \\\n",
       "0                 0.2           Units          Country Data   \n",
       "1                 3.2           Units          Country Data   \n",
       "2                 7.0           Units          Country Data   \n",
       "3                48.5           Units          Country Data   \n",
       "4                76.4           Units          Country Data   \n",
       "5               109.3           Units          Country Data   \n",
       "6                94.9           Units          Country Data   \n",
       "7                74.3           Units          Country Data   \n",
       "8                33.0           Units          Country Data   \n",
       "9                42.4           Units          Country Data   \n",
       "10               48.2           Units          Country Data   \n",
       "11              398.0           Units          Country Data   \n",
       "12              327.0           Units          Country Data   \n",
       "13              301.0           Units          Country Data   \n",
       "14              503.0           Units          Country Data   \n",
       "15              412.0           Units          Country Data   \n",
       "16              371.0           Units          Country Data   \n",
       "17              343.0           Units          Country Data   \n",
       "18              287.0           Units          Country Data   \n",
       "19              312.0           Units          Country Data   \n",
       "20               36.0           Units          Country Data   \n",
       "21               26.1           Units          Country Data   \n",
       "22               27.5           Units          Country Data   \n",
       "23               21.8           Units          Country Data   \n",
       "24               16.0           Units          Country Data   \n",
       "25               20.2           Units          Country Data   \n",
       "26               51.5           Units          Country Data   \n",
       "27               47.0           Units          Country Data   \n",
       "28               45.9           Units          Country Data   \n",
       "\n",
       "    Time period details                       Source details  Footnotes  \n",
       "0                  1999   Ministry of Information Technology        NaN  \n",
       "1                  2002   Ministry of Information Technology        NaN  \n",
       "2                  2006   Ministry of Information Technology        NaN  \n",
       "3                  1991                  Planning Commission        NaN  \n",
       "4                  2001                  Planning Commission        NaN  \n",
       "5                  1992        National Family Health Survey        NaN  \n",
       "6                  1998        National Family Health Survey        NaN  \n",
       "7                  2005        National Family Health Survey        NaN  \n",
       "8                  1992        National Family Health Survey        NaN  \n",
       "9                  1998        National Family Health Survey        NaN  \n",
       "10                 2005        National Family Health Survey        NaN  \n",
       "11                 1997           Sample Registration System        NaN  \n",
       "12                 2000           Sample Registration System        NaN  \n",
       "13                 2002           Sample Registration System        NaN  \n",
       "14                 1990                                  NaN        NaN  \n",
       "15                 2000                                  NaN        NaN  \n",
       "16                 2001                                  NaN        NaN  \n",
       "17                 2002                                  NaN        NaN  \n",
       "18                 2003                                  NaN        NaN  \n",
       "19                 2004                                  NaN        NaN  \n",
       "20                 1993                  Planning Commission        NaN  \n",
       "21                 1999                  Planning Commission        NaN  \n",
       "22                 2004                  Planning Commission        NaN  \n",
       "23                 2005                  Planning Commission        NaN  \n",
       "24                 1999  National Sample Survey Organization        NaN  \n",
       "25                 2004  National Sample Survey Organization        NaN  \n",
       "26                 1992        National Family Health Survey        NaN  \n",
       "27                 1998        National Family Health Survey        NaN  \n",
       "28                 2005        National Family Health Survey        NaN  "
      ]
     },
     "execution_count": 59,
     "metadata": {},
     "output_type": "execute_result"
    }
   ],
   "source": [
    "country_data=pd.read_csv(\"CountryDataIND.csv\")\n",
    "country_data"
   ]
  },
  {
   "cell_type": "code",
   "execution_count": 60,
   "id": "68d41a02",
   "metadata": {},
   "outputs": [
    {
     "name": "stdout",
     "output_type": "stream",
     "text": [
      "<class 'pandas.core.frame.DataFrame'>\n",
      "RangeIndex: 29 entries, 0 to 28\n",
      "Data columns (total 16 columns):\n",
      " #   Column                 Non-Null Count  Dtype  \n",
      "---  ------                 --------------  -----  \n",
      " 0   Series Code            29 non-null     object \n",
      " 1   Frequency              29 non-null     object \n",
      " 2   Series                 29 non-null     object \n",
      " 3   Units of measurement   29 non-null     object \n",
      " 4   Location               29 non-null     object \n",
      " 5   Age group              29 non-null     object \n",
      " 6   Sex                    29 non-null     object \n",
      " 7   Reference Area         29 non-null     object \n",
      " 8   Source type            29 non-null     object \n",
      " 9   Time period            29 non-null     int64  \n",
      " 10  Observation Value      29 non-null     float64\n",
      " 11  Unit multiplier        29 non-null     object \n",
      " 12  Nature of data points  29 non-null     object \n",
      " 13  Time period details    29 non-null     int64  \n",
      " 14  Source details         23 non-null     object \n",
      " 15  Footnotes              0 non-null      float64\n",
      "dtypes: float64(2), int64(2), object(12)\n",
      "memory usage: 3.8+ KB\n"
     ]
    }
   ],
   "source": [
    "country_data.info()"
   ]
  },
  {
   "cell_type": "code",
   "execution_count": 56,
   "id": "8624e79f",
   "metadata": {},
   "outputs": [
    {
     "data": {
      "text/html": [
       "<div>\n",
       "<style scoped>\n",
       "    .dataframe tbody tr th:only-of-type {\n",
       "        vertical-align: middle;\n",
       "    }\n",
       "\n",
       "    .dataframe tbody tr th {\n",
       "        vertical-align: top;\n",
       "    }\n",
       "\n",
       "    .dataframe thead th {\n",
       "        text-align: right;\n",
       "    }\n",
       "</style>\n",
       "<table border=\"1\" class=\"dataframe\">\n",
       "  <thead>\n",
       "    <tr style=\"text-align: right;\">\n",
       "      <th></th>\n",
       "      <th>Time period</th>\n",
       "      <th>Observation Value</th>\n",
       "      <th>Time period details</th>\n",
       "      <th>Footnotes</th>\n",
       "    </tr>\n",
       "  </thead>\n",
       "  <tbody>\n",
       "    <tr>\n",
       "      <th>count</th>\n",
       "      <td>29.000000</td>\n",
       "      <td>29.000000</td>\n",
       "      <td>29.000000</td>\n",
       "      <td>0.0</td>\n",
       "    </tr>\n",
       "    <tr>\n",
       "      <th>mean</th>\n",
       "      <td>1999.551724</td>\n",
       "      <td>140.806897</td>\n",
       "      <td>1999.551724</td>\n",
       "      <td>NaN</td>\n",
       "    </tr>\n",
       "    <tr>\n",
       "      <th>std</th>\n",
       "      <td>4.807629</td>\n",
       "      <td>156.922569</td>\n",
       "      <td>4.807629</td>\n",
       "      <td>NaN</td>\n",
       "    </tr>\n",
       "    <tr>\n",
       "      <th>min</th>\n",
       "      <td>1990.000000</td>\n",
       "      <td>0.200000</td>\n",
       "      <td>1990.000000</td>\n",
       "      <td>NaN</td>\n",
       "    </tr>\n",
       "    <tr>\n",
       "      <th>25%</th>\n",
       "      <td>1998.000000</td>\n",
       "      <td>27.500000</td>\n",
       "      <td>1998.000000</td>\n",
       "      <td>NaN</td>\n",
       "    </tr>\n",
       "    <tr>\n",
       "      <th>50%</th>\n",
       "      <td>2000.000000</td>\n",
       "      <td>48.500000</td>\n",
       "      <td>2000.000000</td>\n",
       "      <td>NaN</td>\n",
       "    </tr>\n",
       "    <tr>\n",
       "      <th>75%</th>\n",
       "      <td>2004.000000</td>\n",
       "      <td>301.000000</td>\n",
       "      <td>2004.000000</td>\n",
       "      <td>NaN</td>\n",
       "    </tr>\n",
       "    <tr>\n",
       "      <th>max</th>\n",
       "      <td>2006.000000</td>\n",
       "      <td>503.000000</td>\n",
       "      <td>2006.000000</td>\n",
       "      <td>NaN</td>\n",
       "    </tr>\n",
       "  </tbody>\n",
       "</table>\n",
       "</div>"
      ],
      "text/plain": [
       "       Time period  Observation Value  Time period details  Footnotes\n",
       "count    29.000000          29.000000            29.000000        0.0\n",
       "mean   1999.551724         140.806897          1999.551724        NaN\n",
       "std       4.807629         156.922569             4.807629        NaN\n",
       "min    1990.000000           0.200000          1990.000000        NaN\n",
       "25%    1998.000000          27.500000          1998.000000        NaN\n",
       "50%    2000.000000          48.500000          2000.000000        NaN\n",
       "75%    2004.000000         301.000000          2004.000000        NaN\n",
       "max    2006.000000         503.000000          2006.000000        NaN"
      ]
     },
     "execution_count": 56,
     "metadata": {},
     "output_type": "execute_result"
    }
   ],
   "source": [
    "country_data.describe()"
   ]
  },
  {
   "cell_type": "code",
   "execution_count": 61,
   "id": "b13376e2",
   "metadata": {},
   "outputs": [
    {
     "data": {
      "text/plain": [
       "Series Code               0\n",
       "Frequency                 0\n",
       "Series                    0\n",
       "Units of measurement      0\n",
       "Location                  0\n",
       "Age group                 0\n",
       "Sex                       0\n",
       "Reference Area            0\n",
       "Source type               0\n",
       "Time period               0\n",
       "Observation Value         0\n",
       "Unit multiplier           0\n",
       "Nature of data points     0\n",
       "Time period details       0\n",
       "Source details            6\n",
       "Footnotes                29\n",
       "dtype: int64"
      ]
     },
     "execution_count": 61,
     "metadata": {},
     "output_type": "execute_result"
    }
   ],
   "source": [
    "# Total Null Values in Each Column\n",
    "country_data.isnull().sum()"
   ]
  },
  {
   "cell_type": "markdown",
   "id": "34ce809d",
   "metadata": {},
   "source": [
    "### 5 Plot a histogram by keeping the bin size to 10 for the column name = ‘Observation Value’. Also Plot a scatter plot between ‘observation Value’ and ‘Time Period’"
   ]
  },
  {
   "cell_type": "code",
   "execution_count": 62,
   "id": "e0c7fe34",
   "metadata": {},
   "outputs": [],
   "source": [
    "import matplotlib.pyplot as plt"
   ]
  },
  {
   "cell_type": "code",
   "execution_count": 63,
   "id": "ed2a6a19",
   "metadata": {},
   "outputs": [
    {
     "data": {
      "image/png": "[encoded data removed]",
      "text/plain": [
       "<Figure size 640x480 with 1 Axes>"
      ]
     },
     "metadata": {},
     "output_type": "display_data"
    }
   ],
   "source": [
    "plt.hist(country_data['Observation Value'],bins=10)\n",
    "plt.show()"
   ]
  },
  {
   "cell_type": "code",
   "execution_count": 75,
   "id": "cfbd4ee0",
   "metadata": {},
   "outputs": [
    {
     "data": {
      "image/png": "[encoded data removed]",
      "text/plain": [
       "<Figure size 640x480 with 1 Axes>"
      ]
     },
     "metadata": {},
     "output_type": "display_data"
    }
   ],
   "source": [
    "plt.scatter(country_data['Observation Value'],country_data['Time period details'],color='green',marker='*')\n",
    "plt.xlabel('Observation Value')\n",
    "plt.ylabel('Time period details')\n",
    "plt.title('Observation Value Vs Time period details')\n",
    "plt.show()"
   ]
  },
  {
   "cell_type": "markdown",
   "id": "09700fc3",
   "metadata": {},
   "source": [
    "# Q2"
   ]
  },
  {
   "cell_type": "markdown",
   "id": "f55668a0",
   "metadata": {},
   "source": [
    "## Suppose you have landed to a job and the first task you’ve assigned to prepare a report which includes the following:"
   ]
  },
  {
   "cell_type": "markdown",
   "id": "3ffd1e2b",
   "metadata": {},
   "source": [
    "### 1. Player Count\n",
    "### o Total Number of Players"
   ]
  },
  {
   "cell_type": "code",
   "execution_count": 77,
   "id": "91fdac6a",
   "metadata": {},
   "outputs": [
    {
     "data": {
      "text/html": [
       "<div>\n",
       "<style scoped>\n",
       "    .dataframe tbody tr th:only-of-type {\n",
       "        vertical-align: middle;\n",
       "    }\n",
       "\n",
       "    .dataframe tbody tr th {\n",
       "        vertical-align: top;\n",
       "    }\n",
       "\n",
       "    .dataframe thead th {\n",
       "        text-align: right;\n",
       "    }\n",
       "</style>\n",
       "<table border=\"1\" class=\"dataframe\">\n",
       "  <thead>\n",
       "    <tr style=\"text-align: right;\">\n",
       "      <th></th>\n",
       "      <th>Purchase ID</th>\n",
       "      <th>SN</th>\n",
       "      <th>Age</th>\n",
       "      <th>Gender</th>\n",
       "      <th>Item ID</th>\n",
       "      <th>Item Name</th>\n",
       "      <th>Price</th>\n",
       "    </tr>\n",
       "  </thead>\n",
       "  <tbody>\n",
       "    <tr>\n",
       "      <th>0</th>\n",
       "      <td>0</td>\n",
       "      <td>Lisim78</td>\n",
       "      <td>20</td>\n",
       "      <td>Male</td>\n",
       "      <td>108</td>\n",
       "      <td>Extraction, Quickblade Of Trembling Hands</td>\n",
       "      <td>3.53</td>\n",
       "    </tr>\n",
       "    <tr>\n",
       "      <th>1</th>\n",
       "      <td>1</td>\n",
       "      <td>Lisovynya38</td>\n",
       "      <td>40</td>\n",
       "      <td>Male</td>\n",
       "      <td>143</td>\n",
       "      <td>Frenzied Scimitar</td>\n",
       "      <td>1.56</td>\n",
       "    </tr>\n",
       "    <tr>\n",
       "      <th>2</th>\n",
       "      <td>2</td>\n",
       "      <td>Ithergue48</td>\n",
       "      <td>24</td>\n",
       "      <td>Male</td>\n",
       "      <td>92</td>\n",
       "      <td>Final Critic</td>\n",
       "      <td>4.88</td>\n",
       "    </tr>\n",
       "    <tr>\n",
       "      <th>3</th>\n",
       "      <td>3</td>\n",
       "      <td>Chamassasya86</td>\n",
       "      <td>24</td>\n",
       "      <td>Male</td>\n",
       "      <td>100</td>\n",
       "      <td>Blindscythe</td>\n",
       "      <td>3.27</td>\n",
       "    </tr>\n",
       "    <tr>\n",
       "      <th>4</th>\n",
       "      <td>4</td>\n",
       "      <td>Iskosia90</td>\n",
       "      <td>23</td>\n",
       "      <td>Male</td>\n",
       "      <td>131</td>\n",
       "      <td>Fury</td>\n",
       "      <td>1.44</td>\n",
       "    </tr>\n",
       "    <tr>\n",
       "      <th>...</th>\n",
       "      <td>...</td>\n",
       "      <td>...</td>\n",
       "      <td>...</td>\n",
       "      <td>...</td>\n",
       "      <td>...</td>\n",
       "      <td>...</td>\n",
       "      <td>...</td>\n",
       "    </tr>\n",
       "    <tr>\n",
       "      <th>775</th>\n",
       "      <td>775</td>\n",
       "      <td>Aethedru70</td>\n",
       "      <td>21</td>\n",
       "      <td>Female</td>\n",
       "      <td>60</td>\n",
       "      <td>Wolf</td>\n",
       "      <td>3.54</td>\n",
       "    </tr>\n",
       "    <tr>\n",
       "      <th>776</th>\n",
       "      <td>776</td>\n",
       "      <td>Iral74</td>\n",
       "      <td>21</td>\n",
       "      <td>Male</td>\n",
       "      <td>164</td>\n",
       "      <td>Exiled Doomblade</td>\n",
       "      <td>1.63</td>\n",
       "    </tr>\n",
       "    <tr>\n",
       "      <th>777</th>\n",
       "      <td>777</td>\n",
       "      <td>Yathecal72</td>\n",
       "      <td>20</td>\n",
       "      <td>Male</td>\n",
       "      <td>67</td>\n",
       "      <td>Celeste, Incarnation of the Corrupted</td>\n",
       "      <td>3.46</td>\n",
       "    </tr>\n",
       "    <tr>\n",
       "      <th>778</th>\n",
       "      <td>778</td>\n",
       "      <td>Sisur91</td>\n",
       "      <td>7</td>\n",
       "      <td>Male</td>\n",
       "      <td>101</td>\n",
       "      <td>Final Critic</td>\n",
       "      <td>4.19</td>\n",
       "    </tr>\n",
       "    <tr>\n",
       "      <th>779</th>\n",
       "      <td>779</td>\n",
       "      <td>Ennrian78</td>\n",
       "      <td>24</td>\n",
       "      <td>Male</td>\n",
       "      <td>50</td>\n",
       "      <td>Dawn</td>\n",
       "      <td>4.60</td>\n",
       "    </tr>\n",
       "  </tbody>\n",
       "</table>\n",
       "<p>780 rows × 7 columns</p>\n",
       "</div>"
      ],
      "text/plain": [
       "     Purchase ID             SN  Age  Gender  Item ID  \\\n",
       "0              0        Lisim78   20    Male      108   \n",
       "1              1    Lisovynya38   40    Male      143   \n",
       "2              2     Ithergue48   24    Male       92   \n",
       "3              3  Chamassasya86   24    Male      100   \n",
       "4              4      Iskosia90   23    Male      131   \n",
       "..           ...            ...  ...     ...      ...   \n",
       "775          775     Aethedru70   21  Female       60   \n",
       "776          776         Iral74   21    Male      164   \n",
       "777          777     Yathecal72   20    Male       67   \n",
       "778          778        Sisur91    7    Male      101   \n",
       "779          779      Ennrian78   24    Male       50   \n",
       "\n",
       "                                     Item Name  Price  \n",
       "0    Extraction, Quickblade Of Trembling Hands   3.53  \n",
       "1                            Frenzied Scimitar   1.56  \n",
       "2                                 Final Critic   4.88  \n",
       "3                                  Blindscythe   3.27  \n",
       "4                                         Fury   1.44  \n",
       "..                                         ...    ...  \n",
       "775                                       Wolf   3.54  \n",
       "776                           Exiled Doomblade   1.63  \n",
       "777      Celeste, Incarnation of the Corrupted   3.46  \n",
       "778                               Final Critic   4.19  \n",
       "779                                       Dawn   4.60  \n",
       "\n",
       "[780 rows x 7 columns]"
      ]
     },
     "execution_count": 77,
     "metadata": {},
     "output_type": "execute_result"
    }
   ],
   "source": [
    "purchase_data=pd.read_csv(\"purchase_data.csv\")\n",
    "purchase_data"
   ]
  },
  {
   "cell_type": "code",
   "execution_count": 78,
   "id": "d47a15fa",
   "metadata": {},
   "outputs": [
    {
     "name": "stdout",
     "output_type": "stream",
     "text": [
      "<class 'pandas.core.frame.DataFrame'>\n",
      "RangeIndex: 780 entries, 0 to 779\n",
      "Data columns (total 7 columns):\n",
      " #   Column       Non-Null Count  Dtype  \n",
      "---  ------       --------------  -----  \n",
      " 0   Purchase ID  780 non-null    int64  \n",
      " 1   SN           780 non-null    object \n",
      " 2   Age          780 non-null    int64  \n",
      " 3   Gender       780 non-null    object \n",
      " 4   Item ID      780 non-null    int64  \n",
      " 5   Item Name    780 non-null    object \n",
      " 6   Price        780 non-null    float64\n",
      "dtypes: float64(1), int64(3), object(3)\n",
      "memory usage: 42.8+ KB\n"
     ]
    }
   ],
   "source": [
    "purchase_data.info()"
   ]
  },
  {
   "cell_type": "code",
   "execution_count": 81,
   "id": "780e29c7",
   "metadata": {},
   "outputs": [
    {
     "data": {
      "text/plain": [
       "576"
      ]
     },
     "execution_count": 81,
     "metadata": {},
     "output_type": "execute_result"
    }
   ],
   "source": [
    "# Total no of players(Unique Names)\n",
    "purchase_data['SN'].nunique()"
   ]
  },
  {
   "cell_type": "code",
   "execution_count": null,
   "id": "edeeb6c3",
   "metadata": {},
   "outputs": [],
   "source": []
  },
  {
   "cell_type": "markdown",
   "id": "f40dfdd5",
   "metadata": {},
   "source": [
    "## 2. Purchasing Analysis (Total)"
   ]
  },
  {
   "cell_type": "markdown",
   "id": "a1af0ebb",
   "metadata": {},
   "source": [
    "### o Number of Unique Items"
   ]
  },
  {
   "cell_type": "code",
   "execution_count": 82,
   "id": "c6a623aa",
   "metadata": {},
   "outputs": [
    {
     "name": "stdout",
     "output_type": "stream",
     "text": [
      "<class 'pandas.core.frame.DataFrame'>\n",
      "RangeIndex: 780 entries, 0 to 779\n",
      "Data columns (total 7 columns):\n",
      " #   Column       Non-Null Count  Dtype  \n",
      "---  ------       --------------  -----  \n",
      " 0   Purchase ID  780 non-null    int64  \n",
      " 1   SN           780 non-null    object \n",
      " 2   Age          780 non-null    int64  \n",
      " 3   Gender       780 non-null    object \n",
      " 4   Item ID      780 non-null    int64  \n",
      " 5   Item Name    780 non-null    object \n",
      " 6   Price        780 non-null    float64\n",
      "dtypes: float64(1), int64(3), object(3)\n",
      "memory usage: 42.8+ KB\n"
     ]
    }
   ],
   "source": [
    "purchase_data.info()"
   ]
  },
  {
   "cell_type": "code",
   "execution_count": 86,
   "id": "67498a9e",
   "metadata": {},
   "outputs": [
    {
     "data": {
      "text/plain": [
       "183"
      ]
     },
     "execution_count": 86,
     "metadata": {},
     "output_type": "execute_result"
    }
   ],
   "source": [
    "purchase_data['Item ID'].nunique()"
   ]
  },
  {
   "cell_type": "markdown",
   "id": "a356c281",
   "metadata": {},
   "source": [
    "### o Average Purchase Price"
   ]
  },
  {
   "cell_type": "code",
   "execution_count": 103,
   "id": "29dd3bc5",
   "metadata": {},
   "outputs": [
    {
     "name": "stdout",
     "output_type": "stream",
     "text": [
      "Average purchase Price:  3.05\n"
     ]
    }
   ],
   "source": [
    "print(\"Average purchase Price: \",round(purchase_data['Price'].mean(),2))"
   ]
  },
  {
   "cell_type": "code",
   "execution_count": 104,
   "id": "1e2ddae4",
   "metadata": {},
   "outputs": [
    {
     "data": {
      "text/plain": [
       "'3.05'"
      ]
     },
     "execution_count": 104,
     "metadata": {},
     "output_type": "execute_result"
    }
   ],
   "source": [
    "format(purchase_data['Price'].mean(), \".2f\") # It returns a string"
   ]
  },
  {
   "cell_type": "markdown",
   "id": "c2233705",
   "metadata": {},
   "source": [
    "### o Total Number of Purchases"
   ]
  },
  {
   "cell_type": "code",
   "execution_count": 105,
   "id": "a9bff1b5",
   "metadata": {},
   "outputs": [
    {
     "name": "stdout",
     "output_type": "stream",
     "text": [
      "Total No of purchases:  780\n"
     ]
    }
   ],
   "source": [
    "print(\"Total No of purchases: \",purchase_data.shape[0])"
   ]
  },
  {
   "cell_type": "markdown",
   "id": "0ea31f3a",
   "metadata": {},
   "source": [
    "### o Total Revenue"
   ]
  },
  {
   "cell_type": "code",
   "execution_count": 106,
   "id": "1a12797b",
   "metadata": {},
   "outputs": [
    {
     "name": "stdout",
     "output_type": "stream",
     "text": [
      "Total Revenue:  2379.77\n"
     ]
    }
   ],
   "source": [
    "print(\"Total Revenue: \",purchase_data['Price'].sum())"
   ]
  },
  {
   "cell_type": "markdown",
   "id": "6159ec3c",
   "metadata": {},
   "source": [
    "## 3. Gender Demographics"
   ]
  },
  {
   "cell_type": "markdown",
   "id": "efd0727d",
   "metadata": {},
   "source": [
    "### o Percentage and Count of Male Players"
   ]
  },
  {
   "cell_type": "code",
   "execution_count": 108,
   "id": "8c9a7b2b",
   "metadata": {},
   "outputs": [
    {
     "data": {
      "text/html": [
       "<div>\n",
       "<style scoped>\n",
       "    .dataframe tbody tr th:only-of-type {\n",
       "        vertical-align: middle;\n",
       "    }\n",
       "\n",
       "    .dataframe tbody tr th {\n",
       "        vertical-align: top;\n",
       "    }\n",
       "\n",
       "    .dataframe thead th {\n",
       "        text-align: right;\n",
       "    }\n",
       "</style>\n",
       "<table border=\"1\" class=\"dataframe\">\n",
       "  <thead>\n",
       "    <tr style=\"text-align: right;\">\n",
       "      <th></th>\n",
       "      <th>Purchase ID</th>\n",
       "      <th>SN</th>\n",
       "      <th>Age</th>\n",
       "      <th>Gender</th>\n",
       "      <th>Item ID</th>\n",
       "      <th>Item Name</th>\n",
       "      <th>Price</th>\n",
       "    </tr>\n",
       "  </thead>\n",
       "  <tbody>\n",
       "    <tr>\n",
       "      <th>0</th>\n",
       "      <td>0</td>\n",
       "      <td>Lisim78</td>\n",
       "      <td>20</td>\n",
       "      <td>Male</td>\n",
       "      <td>108</td>\n",
       "      <td>Extraction, Quickblade Of Trembling Hands</td>\n",
       "      <td>3.53</td>\n",
       "    </tr>\n",
       "    <tr>\n",
       "      <th>1</th>\n",
       "      <td>1</td>\n",
       "      <td>Lisovynya38</td>\n",
       "      <td>40</td>\n",
       "      <td>Male</td>\n",
       "      <td>143</td>\n",
       "      <td>Frenzied Scimitar</td>\n",
       "      <td>1.56</td>\n",
       "    </tr>\n",
       "    <tr>\n",
       "      <th>2</th>\n",
       "      <td>2</td>\n",
       "      <td>Ithergue48</td>\n",
       "      <td>24</td>\n",
       "      <td>Male</td>\n",
       "      <td>92</td>\n",
       "      <td>Final Critic</td>\n",
       "      <td>4.88</td>\n",
       "    </tr>\n",
       "    <tr>\n",
       "      <th>3</th>\n",
       "      <td>3</td>\n",
       "      <td>Chamassasya86</td>\n",
       "      <td>24</td>\n",
       "      <td>Male</td>\n",
       "      <td>100</td>\n",
       "      <td>Blindscythe</td>\n",
       "      <td>3.27</td>\n",
       "    </tr>\n",
       "    <tr>\n",
       "      <th>4</th>\n",
       "      <td>4</td>\n",
       "      <td>Iskosia90</td>\n",
       "      <td>23</td>\n",
       "      <td>Male</td>\n",
       "      <td>131</td>\n",
       "      <td>Fury</td>\n",
       "      <td>1.44</td>\n",
       "    </tr>\n",
       "  </tbody>\n",
       "</table>\n",
       "</div>"
      ],
      "text/plain": [
       "   Purchase ID             SN  Age Gender  Item ID  \\\n",
       "0            0        Lisim78   20   Male      108   \n",
       "1            1    Lisovynya38   40   Male      143   \n",
       "2            2     Ithergue48   24   Male       92   \n",
       "3            3  Chamassasya86   24   Male      100   \n",
       "4            4      Iskosia90   23   Male      131   \n",
       "\n",
       "                                   Item Name  Price  \n",
       "0  Extraction, Quickblade Of Trembling Hands   3.53  \n",
       "1                          Frenzied Scimitar   1.56  \n",
       "2                               Final Critic   4.88  \n",
       "3                                Blindscythe   3.27  \n",
       "4                                       Fury   1.44  "
      ]
     },
     "execution_count": 108,
     "metadata": {},
     "output_type": "execute_result"
    }
   ],
   "source": [
    "purchase_data.head()"
   ]
  },
  {
   "cell_type": "code",
   "execution_count": 121,
   "id": "eb47e704",
   "metadata": {},
   "outputs": [
    {
     "name": "stdout",
     "output_type": "stream",
     "text": [
      "Count of Male Players:  652\n",
      "Percentage of Male Players:  83.59%\n"
     ]
    }
   ],
   "source": [
    "no_male=purchase_data['Gender'][purchase_data['Gender']=='Male'].count()\n",
    "total=purchase_data.shape[0]\n",
    "per_male=no_male/total*100\n",
    "print(\"Count of Male Players: \",no_male)\n",
    "print(f\"Percentage of Male Players:  {per_male:.2f}%\")"
   ]
  },
  {
   "cell_type": "markdown",
   "id": "f12d1edd",
   "metadata": {},
   "source": [
    "### o Percentage and Count of Female Players"
   ]
  },
  {
   "cell_type": "code",
   "execution_count": 122,
   "id": "c6042af2",
   "metadata": {},
   "outputs": [
    {
     "name": "stdout",
     "output_type": "stream",
     "text": [
      "Count of Female Players:  113\n",
      "Percentage of Female Players:  14.49%\n"
     ]
    }
   ],
   "source": [
    "no_female=purchase_data['Gender'][purchase_data['Gender']=='Female'].count()\n",
    "per_female=no_female/total*100\n",
    "print(\"Count of Female Players: \",no_female)\n",
    "print(f\"Percentage of Female Players:  {per_female:.2f}%\")"
   ]
  },
  {
   "cell_type": "markdown",
   "id": "a2ee27bd",
   "metadata": {},
   "source": [
    "### o Percentage and Count of Other / Non-Disclosed"
   ]
  },
  {
   "cell_type": "code",
   "execution_count": 123,
   "id": "1d835ec9",
   "metadata": {},
   "outputs": [
    {
     "data": {
      "text/plain": [
       "array(['Male', 'Other / Non-Disclosed', 'Female'], dtype=object)"
      ]
     },
     "execution_count": 123,
     "metadata": {},
     "output_type": "execute_result"
    }
   ],
   "source": [
    "purchase_data['Gender'].unique()"
   ]
  },
  {
   "cell_type": "code",
   "execution_count": 124,
   "id": "926d5315",
   "metadata": {},
   "outputs": [
    {
     "name": "stdout",
     "output_type": "stream",
     "text": [
      "Count of Other / Non-Disclosed Players:  15\n",
      "Percentage of Other / Non-Disclosed Players:  1.92%\n"
     ]
    }
   ],
   "source": [
    "no_other=purchase_data['Gender'][purchase_data['Gender']=='Other / Non-Disclosed'].count()\n",
    "per_other=no_other/total*100\n",
    "print(\"Count of Other / Non-Disclosed Players: \",no_other)\n",
    "print(f\"Percentage of Other / Non-Disclosed Players:  {per_other:.2f}%\")"
   ]
  },
  {
   "cell_type": "markdown",
   "id": "d8003e5a",
   "metadata": {},
   "source": [
    "## 4. Purchasing Analysis (Gender)"
   ]
  },
  {
   "cell_type": "markdown",
   "id": "05ec61ac",
   "metadata": {},
   "source": [
    "### o The below each broken by gender"
   ]
  },
  {
   "cell_type": "markdown",
   "id": "57c8c827",
   "metadata": {},
   "source": [
    "### Purchase Count"
   ]
  },
  {
   "cell_type": "code",
   "execution_count": 128,
   "id": "3826ff95",
   "metadata": {},
   "outputs": [
    {
     "name": "stdout",
     "output_type": "stream",
     "text": [
      "Purchase Count of Male Players:  652\n",
      "Purchase Count of Female Players:  113\n",
      "Purchase Count of Other / Non-Disclosed Players:  15\n"
     ]
    }
   ],
   "source": [
    "no_male=purchase_data['Gender'][purchase_data['Gender']=='Male'].count()\n",
    "no_female=purchase_data['Gender'][purchase_data['Gender']=='Female'].count()\n",
    "no_other=purchase_data['Gender'][purchase_data['Gender']=='Other / Non-Disclosed'].count()\n",
    "print(\"Purchase Count of Male Players: \",no_male)\n",
    "print(\"Purchase Count of Female Players: \",no_female)\n",
    "print(\"Purchase Count of Other / Non-Disclosed Players: \",no_other)"
   ]
  },
  {
   "cell_type": "markdown",
   "id": "75fff49f",
   "metadata": {},
   "source": [
    "### Average Purchase Price"
   ]
  },
  {
   "cell_type": "code",
   "execution_count": 135,
   "id": "80dc6f7d",
   "metadata": {},
   "outputs": [
    {
     "name": "stdout",
     "output_type": "stream",
     "text": [
      "Average Purchase Price of Male Players: 3.02\n",
      "Average Purchase Price of Female Players: 3.20\n",
      "Average Purchase Price of Other / Non-Disclosed Players: 3.35\n"
     ]
    }
   ],
   "source": [
    "avg_price_male=purchase_data['Price'][purchase_data['Gender']=='Male'].mean()\n",
    "avg_price_female=purchase_data['Price'][purchase_data['Gender']=='Female'].mean()\n",
    "avg_price_other=purchase_data['Price'][purchase_data['Gender']=='Other / Non-Disclosed'].mean()\n",
    "print(f\"Average Purchase Price of Male Players: {avg_price_male:.2f}\")\n",
    "print(f\"Average Purchase Price of Female Players: {avg_price_female:.2f}\")\n",
    "print(f\"Average Purchase Price of Other / Non-Disclosed Players: {avg_price_other:.2f}\")"
   ]
  },
  {
   "cell_type": "markdown",
   "id": "846f0d7e",
   "metadata": {},
   "source": [
    "### Total Purchase Value"
   ]
  },
  {
   "cell_type": "code",
   "execution_count": 134,
   "id": "094cab0b",
   "metadata": {},
   "outputs": [
    {
     "name": "stdout",
     "output_type": "stream",
     "text": [
      "Total purchase Value of Male Players: 1967.64\n",
      "Total purchase Value of Female Players: 361.94\n",
      "Total purchase Value of Other / Non-Disclosed Players: 50.19\n"
     ]
    }
   ],
   "source": [
    "pur_val_male=purchase_data['Price'][purchase_data['Gender']=='Male'].sum()\n",
    "pur_val_female=purchase_data['Price'][purchase_data['Gender']=='Female'].sum()\n",
    "pur_val_other=purchase_data['Price'][purchase_data['Gender']=='Other / Non-Disclosed'].sum()\n",
    "print(f\"Total purchase Value of Male Players: {pur_val_male:.2f}\")\n",
    "print(f\"Total purchase Value of Female Players: {pur_val_female:.2f}\")\n",
    "print(f\"Total purchase Value of Other / Non-Disclosed Players: {pur_val_other:.2f}\")"
   ]
  },
  {
   "cell_type": "markdown",
   "id": "344f1aab",
   "metadata": {},
   "source": [
    "### Average Purchase Total per Person by Gender"
   ]
  },
  {
   "cell_type": "code",
   "execution_count": 136,
   "id": "538216f2",
   "metadata": {},
   "outputs": [
    {
     "data": {
      "text/html": [
       "<div>\n",
       "<style scoped>\n",
       "    .dataframe tbody tr th:only-of-type {\n",
       "        vertical-align: middle;\n",
       "    }\n",
       "\n",
       "    .dataframe tbody tr th {\n",
       "        vertical-align: top;\n",
       "    }\n",
       "\n",
       "    .dataframe thead th {\n",
       "        text-align: right;\n",
       "    }\n",
       "</style>\n",
       "<table border=\"1\" class=\"dataframe\">\n",
       "  <thead>\n",
       "    <tr style=\"text-align: right;\">\n",
       "      <th></th>\n",
       "      <th>Purchase ID</th>\n",
       "      <th>SN</th>\n",
       "      <th>Age</th>\n",
       "      <th>Gender</th>\n",
       "      <th>Item ID</th>\n",
       "      <th>Item Name</th>\n",
       "      <th>Price</th>\n",
       "    </tr>\n",
       "  </thead>\n",
       "  <tbody>\n",
       "    <tr>\n",
       "      <th>0</th>\n",
       "      <td>0</td>\n",
       "      <td>Lisim78</td>\n",
       "      <td>20</td>\n",
       "      <td>Male</td>\n",
       "      <td>108</td>\n",
       "      <td>Extraction, Quickblade Of Trembling Hands</td>\n",
       "      <td>3.53</td>\n",
       "    </tr>\n",
       "    <tr>\n",
       "      <th>1</th>\n",
       "      <td>1</td>\n",
       "      <td>Lisovynya38</td>\n",
       "      <td>40</td>\n",
       "      <td>Male</td>\n",
       "      <td>143</td>\n",
       "      <td>Frenzied Scimitar</td>\n",
       "      <td>1.56</td>\n",
       "    </tr>\n",
       "    <tr>\n",
       "      <th>2</th>\n",
       "      <td>2</td>\n",
       "      <td>Ithergue48</td>\n",
       "      <td>24</td>\n",
       "      <td>Male</td>\n",
       "      <td>92</td>\n",
       "      <td>Final Critic</td>\n",
       "      <td>4.88</td>\n",
       "    </tr>\n",
       "    <tr>\n",
       "      <th>3</th>\n",
       "      <td>3</td>\n",
       "      <td>Chamassasya86</td>\n",
       "      <td>24</td>\n",
       "      <td>Male</td>\n",
       "      <td>100</td>\n",
       "      <td>Blindscythe</td>\n",
       "      <td>3.27</td>\n",
       "    </tr>\n",
       "    <tr>\n",
       "      <th>4</th>\n",
       "      <td>4</td>\n",
       "      <td>Iskosia90</td>\n",
       "      <td>23</td>\n",
       "      <td>Male</td>\n",
       "      <td>131</td>\n",
       "      <td>Fury</td>\n",
       "      <td>1.44</td>\n",
       "    </tr>\n",
       "    <tr>\n",
       "      <th>...</th>\n",
       "      <td>...</td>\n",
       "      <td>...</td>\n",
       "      <td>...</td>\n",
       "      <td>...</td>\n",
       "      <td>...</td>\n",
       "      <td>...</td>\n",
       "      <td>...</td>\n",
       "    </tr>\n",
       "    <tr>\n",
       "      <th>774</th>\n",
       "      <td>774</td>\n",
       "      <td>Jiskjask80</td>\n",
       "      <td>11</td>\n",
       "      <td>Male</td>\n",
       "      <td>101</td>\n",
       "      <td>Final Critic</td>\n",
       "      <td>4.19</td>\n",
       "    </tr>\n",
       "    <tr>\n",
       "      <th>776</th>\n",
       "      <td>776</td>\n",
       "      <td>Iral74</td>\n",
       "      <td>21</td>\n",
       "      <td>Male</td>\n",
       "      <td>164</td>\n",
       "      <td>Exiled Doomblade</td>\n",
       "      <td>1.63</td>\n",
       "    </tr>\n",
       "    <tr>\n",
       "      <th>777</th>\n",
       "      <td>777</td>\n",
       "      <td>Yathecal72</td>\n",
       "      <td>20</td>\n",
       "      <td>Male</td>\n",
       "      <td>67</td>\n",
       "      <td>Celeste, Incarnation of the Corrupted</td>\n",
       "      <td>3.46</td>\n",
       "    </tr>\n",
       "    <tr>\n",
       "      <th>778</th>\n",
       "      <td>778</td>\n",
       "      <td>Sisur91</td>\n",
       "      <td>7</td>\n",
       "      <td>Male</td>\n",
       "      <td>101</td>\n",
       "      <td>Final Critic</td>\n",
       "      <td>4.19</td>\n",
       "    </tr>\n",
       "    <tr>\n",
       "      <th>779</th>\n",
       "      <td>779</td>\n",
       "      <td>Ennrian78</td>\n",
       "      <td>24</td>\n",
       "      <td>Male</td>\n",
       "      <td>50</td>\n",
       "      <td>Dawn</td>\n",
       "      <td>4.60</td>\n",
       "    </tr>\n",
       "  </tbody>\n",
       "</table>\n",
       "<p>652 rows × 7 columns</p>\n",
       "</div>"
      ],
      "text/plain": [
       "     Purchase ID             SN  Age Gender  Item ID  \\\n",
       "0              0        Lisim78   20   Male      108   \n",
       "1              1    Lisovynya38   40   Male      143   \n",
       "2              2     Ithergue48   24   Male       92   \n",
       "3              3  Chamassasya86   24   Male      100   \n",
       "4              4      Iskosia90   23   Male      131   \n",
       "..           ...            ...  ...    ...      ...   \n",
       "774          774     Jiskjask80   11   Male      101   \n",
       "776          776         Iral74   21   Male      164   \n",
       "777          777     Yathecal72   20   Male       67   \n",
       "778          778        Sisur91    7   Male      101   \n",
       "779          779      Ennrian78   24   Male       50   \n",
       "\n",
       "                                     Item Name  Price  \n",
       "0    Extraction, Quickblade Of Trembling Hands   3.53  \n",
       "1                            Frenzied Scimitar   1.56  \n",
       "2                                 Final Critic   4.88  \n",
       "3                                  Blindscythe   3.27  \n",
       "4                                         Fury   1.44  \n",
       "..                                         ...    ...  \n",
       "774                               Final Critic   4.19  \n",
       "776                           Exiled Doomblade   1.63  \n",
       "777      Celeste, Incarnation of the Corrupted   3.46  \n",
       "778                               Final Critic   4.19  \n",
       "779                                       Dawn   4.60  \n",
       "\n",
       "[652 rows x 7 columns]"
      ]
     },
     "execution_count": 136,
     "metadata": {},
     "output_type": "execute_result"
    }
   ],
   "source": [
    "data_male=purchase_data[purchase_data['Gender']=='Male']\n",
    "data_male"
   ]
  },
  {
   "cell_type": "code",
   "execution_count": 144,
   "id": "b21f2ec2",
   "metadata": {},
   "outputs": [
    {
     "data": {
      "text/plain": [
       "SN\n",
       "Adairialis76    2.280000\n",
       "Aeda94          4.910000\n",
       "Aela59          4.320000\n",
       "Aelaria33       1.790000\n",
       "Aelastirin39    3.645000\n",
       "                  ...   \n",
       "Yasur85         1.100000\n",
       "Yathecal72      3.460000\n",
       "Yathedeu43      3.010000\n",
       "Zhisrisu83      3.945000\n",
       "Zontibe81       2.676667\n",
       "Name: Price, Length: 484, dtype: float64"
      ]
     },
     "execution_count": 144,
     "metadata": {},
     "output_type": "execute_result"
    }
   ],
   "source": [
    "# Average Purchase of per MAle person \n",
    "data_male.groupby('SN')['Price'].mean()"
   ]
  },
  {
   "cell_type": "code",
   "execution_count": 140,
   "id": "4fa32a37",
   "metadata": {},
   "outputs": [
    {
     "name": "stdout",
     "output_type": "stream",
     "text": [
      "Average Purchase Total per Person by Male Gender: 1458.91\n"
     ]
    }
   ],
   "source": [
    "n=data_male.groupby('SN')['Price'].mean().sum()\n",
    "print(f\"Average Purchase Total per Person by Male Gender: {n:.2f}\")"
   ]
  },
  {
   "cell_type": "code",
   "execution_count": 145,
   "id": "3cf2e5b5",
   "metadata": {},
   "outputs": [],
   "source": [
    "data_female=purchase_data[purchase_data['Gender']=='Female']"
   ]
  },
  {
   "cell_type": "code",
   "execution_count": 146,
   "id": "294ae2d7",
   "metadata": {},
   "outputs": [
    {
     "data": {
      "text/plain": [
       "SN\n",
       "Adastirin33      4.480000\n",
       "Aerithllora36    4.320000\n",
       "Aethedru70       3.540000\n",
       "Aidain51         3.450000\n",
       "Aiduesu86        4.480000\n",
       "                   ...   \n",
       "Wailin72         2.730000\n",
       "Yana46           3.550000\n",
       "Yarithrin84      4.140000\n",
       "Yathecal82       2.073333\n",
       "Yoishirrala98    4.580000\n",
       "Name: Price, Length: 81, dtype: float64"
      ]
     },
     "execution_count": 146,
     "metadata": {},
     "output_type": "execute_result"
    }
   ],
   "source": [
    "# Average Purchase of per Female person \n",
    "data_female.groupby('SN')['Price'].mean()"
   ]
  },
  {
   "cell_type": "code",
   "execution_count": 147,
   "id": "a59295df",
   "metadata": {},
   "outputs": [
    {
     "name": "stdout",
     "output_type": "stream",
     "text": [
      "Average Purchase Total per Person by Female Gender: 258.78\n"
     ]
    }
   ],
   "source": [
    "n=data_female.groupby('SN')['Price'].mean().sum()\n",
    "print(f\"Average Purchase Total per Person by Female Gender: {n:.2f}\")"
   ]
  },
  {
   "cell_type": "code",
   "execution_count": 148,
   "id": "cae6ece4",
   "metadata": {},
   "outputs": [],
   "source": [
    "data_other=purchase_data[purchase_data['Gender']=='Other / Non-Disclosed']"
   ]
  },
  {
   "cell_type": "code",
   "execution_count": 149,
   "id": "df3f9fe2",
   "metadata": {},
   "outputs": [
    {
     "data": {
      "text/plain": [
       "SN\n",
       "Airi27          3.450\n",
       "Chanosian48     3.760\n",
       "Eodaisu60       3.940\n",
       "Haerithp41      4.400\n",
       "Idairin51       3.500\n",
       "Jiskirran77     3.390\n",
       "Lirtim36        1.330\n",
       "Maluncil97      2.640\n",
       "Rairith81       2.220\n",
       "Siarithria38    3.455\n",
       "Sundim98        4.750\n",
       "Name: Price, dtype: float64"
      ]
     },
     "execution_count": 149,
     "metadata": {},
     "output_type": "execute_result"
    }
   ],
   "source": [
    "# Average Purchase of per person of other Gender\n",
    "data_other.groupby('SN')['Price'].mean()"
   ]
  },
  {
   "cell_type": "code",
   "execution_count": 150,
   "id": "3c2e167b",
   "metadata": {},
   "outputs": [
    {
     "name": "stdout",
     "output_type": "stream",
     "text": [
      "Average Purchase Total per Person by Other Gender: 36.84\n"
     ]
    }
   ],
   "source": [
    "\n",
    "n=data_other.groupby('SN')['Price'].mean().sum()\n",
    "print(f\"Average Purchase Total per Person by Other Gender: {n:.2f}\")"
   ]
  },
  {
   "cell_type": "markdown",
   "id": "1e670c60",
   "metadata": {},
   "source": [
    "## 5. Age Demographics"
   ]
  },
  {
   "cell_type": "markdown",
   "id": "5b29107b",
   "metadata": {},
   "source": [
    "### The below each broken into bins of 4 years (i.e. <10, 10-14, 15-19, etc.)"
   ]
  },
  {
   "cell_type": "code",
   "execution_count": 181,
   "id": "68779286",
   "metadata": {},
   "outputs": [
    {
     "data": {
      "text/plain": [
       "45"
      ]
     },
     "execution_count": 181,
     "metadata": {},
     "output_type": "execute_result"
    }
   ],
   "source": [
    "purchase_data['Age'].max()"
   ]
  },
  {
   "cell_type": "code",
   "execution_count": 182,
   "id": "e4e195ce",
   "metadata": {},
   "outputs": [],
   "source": [
    "mask1=purchase_data.Age<10\n",
    "mask2=(purchase_data.Age>=10) & (purchase_data.Age<=14)\n",
    "mask3=(purchase_data.Age>=15) & (purchase_data.Age<=19)\n",
    "mask4=(purchase_data.Age>=20) & (purchase_data.Age<=24)\n",
    "mask5=(purchase_data.Age>=25) & (purchase_data.Age<=29)\n",
    "mask6=(purchase_data.Age>=30) & (purchase_data.Age<=34)\n",
    "mask7=(purchase_data.Age>=35) & (purchase_data.Age<=39)\n",
    "mask8=(purchase_data.Age>=40) & (purchase_data.Age<=44)\n",
    "mask9=(purchase_data.Age>=45) & (purchase_data.Age<=49)\n",
    "mask10=purchase_data.Age>=50"
   ]
  },
  {
   "cell_type": "markdown",
   "id": "4dbb482b",
   "metadata": {},
   "source": [
    "### Purchase Count"
   ]
  },
  {
   "cell_type": "code",
   "execution_count": 183,
   "id": "a268c195",
   "metadata": {},
   "outputs": [
    {
     "name": "stdout",
     "output_type": "stream",
     "text": [
      "Purchase Count of Age group<10:  23\n"
     ]
    }
   ],
   "source": [
    "print(\"Purchase Count of Age group<10: \",purchase_data[mask1].count()[0])"
   ]
  },
  {
   "cell_type": "code",
   "execution_count": 184,
   "id": "038ee31e",
   "metadata": {},
   "outputs": [
    {
     "name": "stdout",
     "output_type": "stream",
     "text": [
      "Purchase Count of Age group 10-14:  28\n"
     ]
    }
   ],
   "source": [
    "print(\"Purchase Count of Age group 10-14: \",purchase_data[mask2].count()[0])"
   ]
  },
  {
   "cell_type": "code",
   "execution_count": 185,
   "id": "eaaea3ab",
   "metadata": {},
   "outputs": [
    {
     "name": "stdout",
     "output_type": "stream",
     "text": [
      "Purchase Count of Age group 15-19:  136\n",
      "Purchase Count of Age group 20-24:  365\n",
      "Purchase Count of Age group 25-29:  101\n",
      "Purchase Count of Age group 30-34:  73\n",
      "Purchase Count of Age group 35-39:  41\n",
      "Purchase Count of Age group 40-44:  12\n",
      "Purchase Count of Age group 45-49:  1\n",
      "Purchase Count of Age group 50-54:  0\n"
     ]
    }
   ],
   "source": [
    "print(\"Purchase Count of Age group 15-19: \",purchase_data[mask3].count()[0])\n",
    "print(\"Purchase Count of Age group 20-24: \",purchase_data[mask4].count()[0])\n",
    "print(\"Purchase Count of Age group 25-29: \",purchase_data[mask5].count()[0])\n",
    "print(\"Purchase Count of Age group 30-34: \",purchase_data[mask6].count()[0])\n",
    "print(\"Purchase Count of Age group 35-39: \",purchase_data[mask7].count()[0])\n",
    "print(\"Purchase Count of Age group 40-44: \",purchase_data[mask8].count()[0])\n",
    "print(\"Purchase Count of Age group 45-49: \",purchase_data[mask9].count()[0])\n",
    "print(\"Purchase Count of Age group 50-54: \",purchase_data[mask10].count()[0])"
   ]
  },
  {
   "cell_type": "markdown",
   "id": "3cf141f9",
   "metadata": {},
   "source": [
    "### Average Purchase Price"
   ]
  },
  {
   "cell_type": "code",
   "execution_count": 190,
   "id": "3be8c627",
   "metadata": {},
   "outputs": [
    {
     "name": "stdout",
     "output_type": "stream",
     "text": [
      "Average Purchase Price of Age group<10:  3.353478260869565\n",
      "Average Purchase Price of Age group 10-14:  2.9564285714285714\n",
      "Average Purchase Price of Age group 15-19:  3.035955882352941\n",
      "Average Purchase Price of Age group 20-24:  3.0522191780821917\n",
      "Average Purchase Price of Age group 25-29:  2.9009900990099005\n",
      "Average Purchase Price of Age group 30-34:  2.9315068493150687\n",
      "Average Purchase Price of Age group 35-39:  3.6017073170731706\n",
      "Average Purchase Price of Age group 40-44:  3.045\n",
      "Average Purchase Price of Age group 45-49:  1.7\n",
      "Average Purchase Price of Age group>50:  nan\n"
     ]
    }
   ],
   "source": [
    "print(\"Average Purchase Price of Age group<10: \",purchase_data[mask1]['Price'].mean())\n",
    "print(\"Average Purchase Price of Age group 10-14: \",purchase_data[mask2]['Price'].mean())\n",
    "print(\"Average Purchase Price of Age group 15-19: \",purchase_data[mask3]['Price'].mean())\n",
    "print(\"Average Purchase Price of Age group 20-24: \",purchase_data[mask4]['Price'].mean())\n",
    "print(\"Average Purchase Price of Age group 25-29: \",purchase_data[mask5]['Price'].mean())\n",
    "print(\"Average Purchase Price of Age group 30-34: \",purchase_data[mask6]['Price'].mean())\n",
    "print(\"Average Purchase Price of Age group 35-39: \",purchase_data[mask7]['Price'].mean())\n",
    "print(\"Average Purchase Price of Age group 40-44: \",purchase_data[mask8]['Price'].mean())\n",
    "print(\"Average Purchase Price of Age group 45-49: \",purchase_data[mask9]['Price'].mean())\n",
    "print(\"Average Purchase Price of Age group>50: \",purchase_data[mask10]['Price'].mean())"
   ]
  },
  {
   "cell_type": "markdown",
   "id": "4e10e936",
   "metadata": {},
   "source": [
    "### Total Purchase Value"
   ]
  },
  {
   "cell_type": "code",
   "execution_count": 194,
   "id": "37ca2f0b",
   "metadata": {},
   "outputs": [
    {
     "name": "stdout",
     "output_type": "stream",
     "text": [
      "Total Purchase Price of Age group<10:  77.13\n",
      "Total Purchase Price of Age group 10-14:  82.78\n",
      "Total Purchase Price of Age group 15-19:  412.89\n",
      "Total Purchase Price of Age group 20-24:  1114.06\n",
      "Total Purchase Price of Age group 25-29:  292.99999999999994\n",
      "Total Purchase Price of Age group 30-34:  214.00000000000003\n",
      "Total Purchase Price of Age group 35-39:  147.67\n",
      "Total Purchase Price of Age group 40-44:  36.54\n",
      "Total Purchase Price of Age group 45-49:  1.7\n",
      "Total Purchase Price of Age group>50:  0.0\n"
     ]
    }
   ],
   "source": [
    "print(\"Total Purchase Price of Age group<10: \",purchase_data[mask1]['Price'].sum())\n",
    "print(\"Total Purchase Price of Age group 10-14: \",purchase_data[mask2]['Price'].sum())\n",
    "print(\"Total Purchase Price of Age group 15-19: \",purchase_data[mask3]['Price'].sum())\n",
    "print(\"Total Purchase Price of Age group 20-24: \",purchase_data[mask4]['Price'].sum())\n",
    "print(\"Total Purchase Price of Age group 25-29: \",purchase_data[mask5]['Price'].sum())\n",
    "print(\"Total Purchase Price of Age group 30-34: \",purchase_data[mask6]['Price'].sum())\n",
    "print(\"Total Purchase Price of Age group 35-39: \",purchase_data[mask7]['Price'].sum())\n",
    "print(\"Total Purchase Price of Age group 40-44: \",purchase_data[mask8]['Price'].sum())\n",
    "print(\"Total Purchase Price of Age group 45-49: \",purchase_data[mask9]['Price'].sum())\n",
    "print(\"Total Purchase Price of Age group>50: \",purchase_data[mask10]['Price'].sum())"
   ]
  },
  {
   "cell_type": "markdown",
   "id": "6d881bec",
   "metadata": {},
   "source": [
    "### Average Purchase Total per Person by Age Group"
   ]
  },
  {
   "cell_type": "code",
   "execution_count": 207,
   "id": "3f586d36",
   "metadata": {},
   "outputs": [
    {
     "name": "stdout",
     "output_type": "stream",
     "text": [
      "Average Purchase per person in Age Group 0-10\n",
      "SN\n",
      "Anallorgue57     2.850000\n",
      "Chadjask77       4.930000\n",
      "Chanossast57     4.320000\n",
      "Eurithphos97     2.275000\n",
      "Eusri44          3.090000\n",
      "Frichossala54    3.080000\n",
      "Haillyrgue51     3.166667\n",
      "Heudai45         3.470000\n",
      "Ililsan66        2.850000\n",
      "Ilmol66          3.085000\n",
      "Quaecjask96      4.400000\n",
      "Quilassa66       4.230000\n",
      "Seuthep89        2.050000\n",
      "Sisur91          4.190000\n",
      "Sondadar26       3.235000\n",
      "Sondossa69       4.480000\n",
      "Tyeurith29       3.650000\n",
      "Name: Price, dtype: float64\n",
      "\n",
      "Average Purchase Total per person in Age Group 0-10 59.35166666666667\n"
     ]
    }
   ],
   "source": [
    "age_10=purchase_data[mask1]\n",
    "print(\"Average Purchase per person in Age Group 0-10\")\n",
    "n=age_10.groupby('SN')['Price'].mean() # Average Purchase per person in Age Group 0-10\n",
    "print(n)\n",
    "# Average Purchase Total per person in Age Group 0-10\n",
    "print(\"\\nAverage Purchase Total per person in Age Group 0-10\",n.sum())"
   ]
  },
  {
   "cell_type": "code",
   "execution_count": 208,
   "id": "b4a34cdf",
   "metadata": {},
   "outputs": [
    {
     "name": "stdout",
     "output_type": "stream",
     "text": [
      "Average Purchase per person in Age Group 10-14\n",
      "SN\n",
      "Aeralria27       4.090\n",
      "Aillyrin83       2.890\n",
      "Chanirrasta87    4.940\n",
      "Eosurdru76       1.790\n",
      "Ethralista69     2.220\n",
      "Iana95           3.100\n",
      "Iarilis73        2.745\n",
      "Ilastilis78      1.970\n",
      "Jiskjask80       4.190\n",
      "Lassassasda30    3.540\n",
      "Lirtirra81       1.560\n",
      "Lirtossa84       1.620\n",
      "Lisasi93         1.740\n",
      "Lisico81         4.190\n",
      "Lisjaskan36      3.360\n",
      "Mindadaran26     3.750\n",
      "Raesty92         2.910\n",
      "Raillydeu47      1.970\n",
      "Reulae52         4.180\n",
      "Siana77          1.970\n",
      "Sidap51          4.240\n",
      "Zhisrisu83       3.945\n",
      "Name: Price, dtype: float64\n",
      "\n",
      "Average Purchase Total per person in Age Group 10-14 66.91\n"
     ]
    }
   ],
   "source": [
    "age_10_14=purchase_data[mask2]\n",
    "print(\"Average Purchase per person in Age Group 10-14\")\n",
    "n=age_10_14.groupby('SN')['Price'].mean() # Average Purchase per person in Age Group 10-14\n",
    "print(n)\n",
    "# Average Purchase Total per person in Age Group 10-14\n",
    "print(\"\\nAverage Purchase Total per person in Age Group 10-14\",n.sum())"
   ]
  },
  {
   "cell_type": "code",
   "execution_count": 209,
   "id": "6f7a8065",
   "metadata": {},
   "outputs": [
    {
     "name": "stdout",
     "output_type": "stream",
     "text": [
      "Average Purchase per person in Age Group 15-19\n",
      "SN\n",
      "Adairialis76       2.28\n",
      "Aeda94             4.91\n",
      "Aerillorin70       3.33\n",
      "Aerithnucal56      4.40\n",
      "Aerithriaphos46    2.18\n",
      "                   ... \n",
      "Undosia27          3.77\n",
      "Undotesta33        4.74\n",
      "Yadacal26          3.27\n",
      "Yaliru88           3.03\n",
      "Yoishirrala98      4.58\n",
      "Name: Price, Length: 107, dtype: float64\n",
      "\n",
      "Average Purchase Total per person in Age Group 15-19 328.8383333333333\n"
     ]
    }
   ],
   "source": [
    "age_15_19=purchase_data[mask3]\n",
    "print(\"Average Purchase per person in Age Group 15-19\")\n",
    "n=age_15_19.groupby('SN')['Price'].mean() # Average Purchase per person in Age Group 15-19\n",
    "print(n)\n",
    "# Average Purchase Total per person in Age Group 15-19\n",
    "print(\"\\nAverage Purchase Total per person in Age Group 15-19\",n.sum())"
   ]
  },
  {
   "cell_type": "code",
   "execution_count": 210,
   "id": "a809d313",
   "metadata": {},
   "outputs": [
    {
     "name": "stdout",
     "output_type": "stream",
     "text": [
      "Average Purchase per person in Age Group 20-24\n",
      "SN\n",
      "Aela59          4.320000\n",
      "Aelaria33       1.790000\n",
      "Aelastirin39    3.645000\n",
      "Aelidru27       1.090000\n",
      "Aelin32         2.993333\n",
      "                  ...   \n",
      "Yasur85         1.100000\n",
      "Yathecal72      3.460000\n",
      "Yathecal82      2.073333\n",
      "Yathedeu43      3.010000\n",
      "Zontibe81       2.676667\n",
      "Name: Price, Length: 258, dtype: float64\n",
      "\n",
      "Average Purchase Total per person in Age Group 20-24 782.4525000000001\n"
     ]
    }
   ],
   "source": [
    "age_20_24=purchase_data[mask4]\n",
    "print(\"Average Purchase per person in Age Group 20-24\")\n",
    "n=age_20_24.groupby('SN')['Price'].mean() # Average Purchase per person in Age Group 20-24\n",
    "print(n)\n",
    "# Average Purchase Total per person in Age Group 20-24\n",
    "print(\"\\nAverage Purchase Total per person in Age Group 20-24\",n.sum())"
   ]
  },
  {
   "cell_type": "code",
   "execution_count": 211,
   "id": "9f4d192c",
   "metadata": {},
   "outputs": [
    {
     "name": "stdout",
     "output_type": "stream",
     "text": [
      "Average Purchase per person in Age Group 25-29\n",
      "SN\n",
      "Aellynun67        3.740000\n",
      "Aerithllora36     4.320000\n",
      "Aestysu37         2.690000\n",
      "Aesurstilis64     1.030000\n",
      "Aina42            3.073333\n",
      "                    ...   \n",
      "Yadam35           2.480000\n",
      "Yalostiphos68     4.400000\n",
      "Yarithsurgue62    4.940000\n",
      "Yasrisu92         3.440000\n",
      "Yasur35           4.480000\n",
      "Name: Price, Length: 77, dtype: float64\n",
      "\n",
      "Average Purchase Total per person in Age Group 25-29 218.12033333333332\n"
     ]
    }
   ],
   "source": [
    "age_25_29=purchase_data[mask5]\n",
    "print(\"Average Purchase per person in Age Group 25-29\")\n",
    "n=age_25_29.groupby('SN')['Price'].mean() # Average Purchase per person in Age Group 25-29\n",
    "print(n)\n",
    "# Average Purchase Total per person in Age Group 25-29\n",
    "print(\"\\nAverage Purchase Total per person in Age Group 25-29\",n.sum())"
   ]
  },
  {
   "cell_type": "code",
   "execution_count": 212,
   "id": "eecd10e6",
   "metadata": {},
   "outputs": [
    {
     "name": "stdout",
     "output_type": "stream",
     "text": [
      "Average Purchase per person in Age Group 30-34\n",
      "SN\n",
      "Aelollo59         2.815000\n",
      "Aesri53           1.760000\n",
      "Aidaira26         4.230000\n",
      "Alaesu77          2.490000\n",
      "Ardcil81          2.790000\n",
      "Caesrinusuir82    2.590000\n",
      "Chadadarla74      3.015000\n",
      "Chadista79        4.175000\n",
      "Chamalo71         4.640000\n",
      "Chamast86         2.050000\n",
      "Chamastya76       2.050000\n",
      "Chamistast30      3.580000\n",
      "Chanilsast61      2.080000\n",
      "Chanosia60        2.710000\n",
      "Ealrion88         4.480000\n",
      "Eodailis27        2.880000\n",
      "Eodairu79         3.400000\n",
      "Eolan54           1.540000\n",
      "Ethriel85         3.100000\n",
      "Eyista89          1.290000\n",
      "Fironon91         4.080000\n",
      "Iaralrgue74       1.615000\n",
      "Idacal95          2.070000\n",
      "Idaisuir85        3.150000\n",
      "Ilimya66          4.230000\n",
      "Ilosianya35       2.840000\n",
      "Ina92             4.580000\n",
      "Laedallo55        4.900000\n",
      "Lassjask63        1.940000\n",
      "Lirtosia63        2.145000\n",
      "Lisiriya82        2.270000\n",
      "Marynde90         2.655000\n",
      "Pheodaisun84      2.770000\n",
      "Philodil43        1.290000\n",
      "Qarirwen82        1.540000\n",
      "Rarallo90         3.016667\n",
      "Seolollo93        3.410000\n",
      "Siala43           3.630000\n",
      "Smaistysu35       3.345000\n",
      "Sundadar27        4.355000\n",
      "Sundjask71        4.000000\n",
      "Syathe73          1.400000\n",
      "Umolrian85        2.710000\n",
      "Undimsya85        3.460000\n",
      "Undirra73         2.890000\n",
      "Undjaskla97       2.660000\n",
      "Yadanu52          2.380000\n",
      "Yadaphos40        2.675000\n",
      "Yalaeria91        1.060000\n",
      "Yalo85            3.650000\n",
      "Yarithrin84       4.140000\n",
      "Yarolwen77        4.430000\n",
      "Name: Price, dtype: float64\n",
      "\n",
      "Average Purchase Total per person in Age Group 30-34 152.95166666666668\n"
     ]
    }
   ],
   "source": [
    "age_30_34=purchase_data[mask6]\n",
    "print(\"Average Purchase per person in Age Group 30-34\")\n",
    "n=age_30_34.groupby('SN')['Price'].mean() # Average Purchase per person in Age Group 30-34\n",
    "print(n)\n",
    "# Average Purchase Total per person in Age Group 30-34\n",
    "print(\"\\nAverage Purchase Total per person in Age Group 30-34\",n.sum())"
   ]
  },
  {
   "cell_type": "code",
   "execution_count": 213,
   "id": "14b5fe8e",
   "metadata": {},
   "outputs": [
    {
     "name": "stdout",
     "output_type": "stream",
     "text": [
      "Average Purchase per person in Age Group 35-39\n",
      "SN\n",
      "Adastirin33       4.480000\n",
      "Aerithnuphos61    4.910000\n",
      "Aidain51          3.450000\n",
      "Assassasta79      3.315000\n",
      "Chanista95        3.160000\n",
      "Chanosian48       3.760000\n",
      "Cosadar58         4.350000\n",
      "Ealiril69         4.400000\n",
      "Eustyria89        2.850000\n",
      "Eusur90           1.600000\n",
      "Farusrian86       4.480000\n",
      "Firon67           3.530000\n",
      "Frichirranya75    4.230000\n",
      "Hailaphos89       3.810000\n",
      "Ilirrasda54       2.530000\n",
      "Isri34            3.485000\n",
      "Itheria73         2.180000\n",
      "Lamil79           4.645000\n",
      "Lisassasda39      2.940000\n",
      "Lisossanya98      3.440000\n",
      "Maradaran90       2.730000\n",
      "Mindirranya33     3.870000\n",
      "Minduri31         4.070000\n",
      "Phistym51         4.750000\n",
      "Qilanrion65       3.030000\n",
      "Saesrideu94       4.590000\n",
      "Saistyphos30      3.443333\n",
      "Sastydeu50        2.180000\n",
      "Siarithria38      3.455000\n",
      "Tyaelo67          4.880000\n",
      "Tyaerith73        1.710000\n",
      "Name: Price, dtype: float64\n",
      "\n",
      "Average Purchase Total per person in Age Group 35-39 110.25333333333333\n"
     ]
    }
   ],
   "source": [
    "age_35_39=purchase_data[mask7]\n",
    "print(\"Average Purchase per person in Age Group 35-39\")\n",
    "n=age_35_39.groupby('SN')['Price'].mean() # Average Purchase per person in Age Group 35-39\n",
    "print(n)\n",
    "# Average Purchase Total per person in Age Group 35-39\n",
    "print(\"\\nAverage Purchase Total per person in Age Group 35-39\",n.sum())"
   ]
  },
  {
   "cell_type": "code",
   "execution_count": 214,
   "id": "59b8d80c",
   "metadata": {},
   "outputs": [
    {
     "name": "stdout",
     "output_type": "stream",
     "text": [
      "Average Purchase per person in Age Group 40-44\n",
      "SN\n",
      "Aeral68         4.000\n",
      "Chanosiaya39    1.970\n",
      "Eyrian71        2.595\n",
      "Frichaya88      3.930\n",
      "Hiasurria41     1.610\n",
      "Inasuir29       4.400\n",
      "Isursuir31      3.390\n",
      "Jiskjask85      1.330\n",
      "Lisovynya38     1.560\n",
      "Mindossa76      4.930\n",
      "Salilis27       4.230\n",
      "Name: Price, dtype: float64\n",
      "\n",
      "Average Purchase Total per person in Age Group 40-44 33.945\n"
     ]
    }
   ],
   "source": [
    "age_40_44=purchase_data[mask8]\n",
    "print(\"Average Purchase per person in Age Group 40-44\")\n",
    "n=age_40_44.groupby('SN')['Price'].mean() # Average Purchase per person in Age Group 40-44\n",
    "print(n)\n",
    "# Average Purchase Total per person in Age Group 40-44\n",
    "print(\"\\nAverage Purchase Total per person in Age Group 40-44\",n.sum())"
   ]
  },
  {
   "cell_type": "code",
   "execution_count": 215,
   "id": "55d9d069",
   "metadata": {},
   "outputs": [
    {
     "name": "stdout",
     "output_type": "stream",
     "text": [
      "Average Purchase per person in Age Group 44-49\n",
      "SN\n",
      "Assim27    1.7\n",
      "Name: Price, dtype: float64\n",
      "\n",
      "Average Purchase Total per person in Age Group 44-49 1.7\n"
     ]
    }
   ],
   "source": [
    "age_44_49=purchase_data[mask9]\n",
    "print(\"Average Purchase per person in Age Group 44-49\")\n",
    "n=age_44_49.groupby('SN')['Price'].mean() # Average Purchase per person in Age Group 44-49\n",
    "print(n)\n",
    "# Average Purchase Total per person in Age Group 40-44\n",
    "print(\"\\nAverage Purchase Total per person in Age Group 44-49\",n.sum())"
   ]
  },
  {
   "cell_type": "markdown",
   "id": "654a8750",
   "metadata": {},
   "source": [
    "## 6. Top Spenders"
   ]
  },
  {
   "cell_type": "markdown",
   "id": "38981f8d",
   "metadata": {},
   "source": [
    "### Identify the the top 5 spenders in the game by total purchase value, then list (in a table):\n",
    "### SN, Purchase Count, Average Purchase Price, Total Purchase Value"
   ]
  },
  {
   "cell_type": "code",
   "execution_count": 216,
   "id": "aa3fc7c8",
   "metadata": {},
   "outputs": [
    {
     "data": {
      "text/html": [
       "<div>\n",
       "<style scoped>\n",
       "    .dataframe tbody tr th:only-of-type {\n",
       "        vertical-align: middle;\n",
       "    }\n",
       "\n",
       "    .dataframe tbody tr th {\n",
       "        vertical-align: top;\n",
       "    }\n",
       "\n",
       "    .dataframe thead th {\n",
       "        text-align: right;\n",
       "    }\n",
       "</style>\n",
       "<table border=\"1\" class=\"dataframe\">\n",
       "  <thead>\n",
       "    <tr style=\"text-align: right;\">\n",
       "      <th></th>\n",
       "      <th>Purchase ID</th>\n",
       "      <th>SN</th>\n",
       "      <th>Age</th>\n",
       "      <th>Gender</th>\n",
       "      <th>Item ID</th>\n",
       "      <th>Item Name</th>\n",
       "      <th>Price</th>\n",
       "    </tr>\n",
       "  </thead>\n",
       "  <tbody>\n",
       "    <tr>\n",
       "      <th>0</th>\n",
       "      <td>0</td>\n",
       "      <td>Lisim78</td>\n",
       "      <td>20</td>\n",
       "      <td>Male</td>\n",
       "      <td>108</td>\n",
       "      <td>Extraction, Quickblade Of Trembling Hands</td>\n",
       "      <td>3.53</td>\n",
       "    </tr>\n",
       "    <tr>\n",
       "      <th>1</th>\n",
       "      <td>1</td>\n",
       "      <td>Lisovynya38</td>\n",
       "      <td>40</td>\n",
       "      <td>Male</td>\n",
       "      <td>143</td>\n",
       "      <td>Frenzied Scimitar</td>\n",
       "      <td>1.56</td>\n",
       "    </tr>\n",
       "    <tr>\n",
       "      <th>2</th>\n",
       "      <td>2</td>\n",
       "      <td>Ithergue48</td>\n",
       "      <td>24</td>\n",
       "      <td>Male</td>\n",
       "      <td>92</td>\n",
       "      <td>Final Critic</td>\n",
       "      <td>4.88</td>\n",
       "    </tr>\n",
       "    <tr>\n",
       "      <th>3</th>\n",
       "      <td>3</td>\n",
       "      <td>Chamassasya86</td>\n",
       "      <td>24</td>\n",
       "      <td>Male</td>\n",
       "      <td>100</td>\n",
       "      <td>Blindscythe</td>\n",
       "      <td>3.27</td>\n",
       "    </tr>\n",
       "    <tr>\n",
       "      <th>4</th>\n",
       "      <td>4</td>\n",
       "      <td>Iskosia90</td>\n",
       "      <td>23</td>\n",
       "      <td>Male</td>\n",
       "      <td>131</td>\n",
       "      <td>Fury</td>\n",
       "      <td>1.44</td>\n",
       "    </tr>\n",
       "  </tbody>\n",
       "</table>\n",
       "</div>"
      ],
      "text/plain": [
       "   Purchase ID             SN  Age Gender  Item ID  \\\n",
       "0            0        Lisim78   20   Male      108   \n",
       "1            1    Lisovynya38   40   Male      143   \n",
       "2            2     Ithergue48   24   Male       92   \n",
       "3            3  Chamassasya86   24   Male      100   \n",
       "4            4      Iskosia90   23   Male      131   \n",
       "\n",
       "                                   Item Name  Price  \n",
       "0  Extraction, Quickblade Of Trembling Hands   3.53  \n",
       "1                          Frenzied Scimitar   1.56  \n",
       "2                               Final Critic   4.88  \n",
       "3                                Blindscythe   3.27  \n",
       "4                                       Fury   1.44  "
      ]
     },
     "execution_count": 216,
     "metadata": {},
     "output_type": "execute_result"
    }
   ],
   "source": [
    "purchase_data.head()"
   ]
  },
  {
   "cell_type": "code",
   "execution_count": 218,
   "id": "2ddc3350",
   "metadata": {},
   "outputs": [
    {
     "name": "stdout",
     "output_type": "stream",
     "text": [
      "SN\n",
      "Adairialis76     2.28\n",
      "Adastirin33      4.48\n",
      "Aeda94           4.91\n",
      "Aela59           4.32\n",
      "Aelaria33        1.79\n",
      "                 ... \n",
      "Yathecal82       6.22\n",
      "Yathedeu43       6.02\n",
      "Yoishirrala98    4.58\n",
      "Zhisrisu83       7.89\n",
      "Zontibe81        8.03\n",
      "Name: Price, Length: 576, dtype: float64\n",
      "SN\n",
      "Adairialis76     2.280000\n",
      "Adastirin33      4.480000\n",
      "Aeda94           4.910000\n",
      "Aela59           4.320000\n",
      "Aelaria33        1.790000\n",
      "                   ...   \n",
      "Yathecal82       2.073333\n",
      "Yathedeu43       3.010000\n",
      "Yoishirrala98    4.580000\n",
      "Zhisrisu83       3.945000\n",
      "Zontibe81        2.676667\n",
      "Name: Price, Length: 576, dtype: float64\n",
      "SN\n",
      "Adairialis76     1\n",
      "Adastirin33      1\n",
      "Aeda94           1\n",
      "Aela59           1\n",
      "Aelaria33        1\n",
      "                ..\n",
      "Yathecal82       3\n",
      "Yathedeu43       2\n",
      "Yoishirrala98    1\n",
      "Zhisrisu83       2\n",
      "Zontibe81        3\n",
      "Name: Price, Length: 576, dtype: int64\n"
     ]
    }
   ],
   "source": [
    "total=purchase_data.groupby(\"SN\")['Price'].sum()\n",
    "avg=purchase_data.groupby(\"SN\")['Price'].mean()\n",
    "cnt=purchase_data.groupby(\"SN\")['Price'].count()\n",
    "print(total)\n",
    "print(avg)\n",
    "print(cnt)"
   ]
  },
  {
   "cell_type": "code",
   "execution_count": 245,
   "id": "f2bf55a5",
   "metadata": {},
   "outputs": [
    {
     "name": "stdout",
     "output_type": "stream",
     "text": [
      "['Lisosia93', 'Idastidru52', 'Chamjask73', 'Iral74', 'Iskadarya95']\n"
     ]
    }
   ],
   "source": [
    "# Names of Top 5 Players by Total Purchase Value\n",
    "ind=list(total.sort_values(ascending=False).head().index)\n",
    "print(ind)"
   ]
  },
  {
   "cell_type": "code",
   "execution_count": 246,
   "id": "38f9c365",
   "metadata": {},
   "outputs": [],
   "source": [
    "top_five={'SN':total.sort_values(ascending=False).head().index,\n",
    "          'Purchase Count':cnt.filter(ind).values,\n",
    "          'Average Purchase Price':avg.filter(ind).values,\n",
    "          'Total Purchase Value':total.sort_values(ascending=False).head().values}"
   ]
  },
  {
   "cell_type": "code",
   "execution_count": 249,
   "id": "b3ee035c",
   "metadata": {},
   "outputs": [
    {
     "data": {
      "text/html": [
       "<div>\n",
       "<style scoped>\n",
       "    .dataframe tbody tr th:only-of-type {\n",
       "        vertical-align: middle;\n",
       "    }\n",
       "\n",
       "    .dataframe tbody tr th {\n",
       "        vertical-align: top;\n",
       "    }\n",
       "\n",
       "    .dataframe thead th {\n",
       "        text-align: right;\n",
       "    }\n",
       "</style>\n",
       "<table border=\"1\" class=\"dataframe\">\n",
       "  <thead>\n",
       "    <tr style=\"text-align: right;\">\n",
       "      <th></th>\n",
       "      <th>SN</th>\n",
       "      <th>Purchase Count</th>\n",
       "      <th>Average Purchase Price</th>\n",
       "      <th>Total Purchase Value</th>\n",
       "    </tr>\n",
       "  </thead>\n",
       "  <tbody>\n",
       "    <tr>\n",
       "      <th>0</th>\n",
       "      <td>Lisosia93</td>\n",
       "      <td>5</td>\n",
       "      <td>3.792000</td>\n",
       "      <td>18.96</td>\n",
       "    </tr>\n",
       "    <tr>\n",
       "      <th>1</th>\n",
       "      <td>Idastidru52</td>\n",
       "      <td>4</td>\n",
       "      <td>3.862500</td>\n",
       "      <td>15.45</td>\n",
       "    </tr>\n",
       "    <tr>\n",
       "      <th>2</th>\n",
       "      <td>Chamjask73</td>\n",
       "      <td>3</td>\n",
       "      <td>4.610000</td>\n",
       "      <td>13.83</td>\n",
       "    </tr>\n",
       "    <tr>\n",
       "      <th>3</th>\n",
       "      <td>Iral74</td>\n",
       "      <td>4</td>\n",
       "      <td>3.405000</td>\n",
       "      <td>13.62</td>\n",
       "    </tr>\n",
       "    <tr>\n",
       "      <th>4</th>\n",
       "      <td>Iskadarya95</td>\n",
       "      <td>3</td>\n",
       "      <td>4.366667</td>\n",
       "      <td>13.10</td>\n",
       "    </tr>\n",
       "  </tbody>\n",
       "</table>\n",
       "</div>"
      ],
      "text/plain": [
       "            SN  Purchase Count  Average Purchase Price  Total Purchase Value\n",
       "0    Lisosia93               5                3.792000                 18.96\n",
       "1  Idastidru52               4                3.862500                 15.45\n",
       "2   Chamjask73               3                4.610000                 13.83\n",
       "3       Iral74               4                3.405000                 13.62\n",
       "4  Iskadarya95               3                4.366667                 13.10"
      ]
     },
     "execution_count": 249,
     "metadata": {},
     "output_type": "execute_result"
    }
   ],
   "source": [
    "top_five_data=pd.DataFrame(data=top_five)\n",
    "top_five_data"
   ]
  },
  {
   "cell_type": "markdown",
   "id": "1e8559fe",
   "metadata": {},
   "source": [
    "## 7. Most Popular Items"
   ]
  },
  {
   "cell_type": "markdown",
   "id": "00b2dfa5",
   "metadata": {},
   "source": [
    "### Identify the 5 most popular items by purchase count, then list (in a table):\n",
    "### Item ID, Item Name, Purchase Count, Item Price, Total Purchase Value"
   ]
  },
  {
   "cell_type": "code",
   "execution_count": 250,
   "id": "2ca55c2b",
   "metadata": {},
   "outputs": [
    {
     "data": {
      "text/html": [
       "<div>\n",
       "<style scoped>\n",
       "    .dataframe tbody tr th:only-of-type {\n",
       "        vertical-align: middle;\n",
       "    }\n",
       "\n",
       "    .dataframe tbody tr th {\n",
       "        vertical-align: top;\n",
       "    }\n",
       "\n",
       "    .dataframe thead th {\n",
       "        text-align: right;\n",
       "    }\n",
       "</style>\n",
       "<table border=\"1\" class=\"dataframe\">\n",
       "  <thead>\n",
       "    <tr style=\"text-align: right;\">\n",
       "      <th></th>\n",
       "      <th>Purchase ID</th>\n",
       "      <th>SN</th>\n",
       "      <th>Age</th>\n",
       "      <th>Gender</th>\n",
       "      <th>Item ID</th>\n",
       "      <th>Item Name</th>\n",
       "      <th>Price</th>\n",
       "    </tr>\n",
       "  </thead>\n",
       "  <tbody>\n",
       "    <tr>\n",
       "      <th>0</th>\n",
       "      <td>0</td>\n",
       "      <td>Lisim78</td>\n",
       "      <td>20</td>\n",
       "      <td>Male</td>\n",
       "      <td>108</td>\n",
       "      <td>Extraction, Quickblade Of Trembling Hands</td>\n",
       "      <td>3.53</td>\n",
       "    </tr>\n",
       "    <tr>\n",
       "      <th>1</th>\n",
       "      <td>1</td>\n",
       "      <td>Lisovynya38</td>\n",
       "      <td>40</td>\n",
       "      <td>Male</td>\n",
       "      <td>143</td>\n",
       "      <td>Frenzied Scimitar</td>\n",
       "      <td>1.56</td>\n",
       "    </tr>\n",
       "    <tr>\n",
       "      <th>2</th>\n",
       "      <td>2</td>\n",
       "      <td>Ithergue48</td>\n",
       "      <td>24</td>\n",
       "      <td>Male</td>\n",
       "      <td>92</td>\n",
       "      <td>Final Critic</td>\n",
       "      <td>4.88</td>\n",
       "    </tr>\n",
       "    <tr>\n",
       "      <th>3</th>\n",
       "      <td>3</td>\n",
       "      <td>Chamassasya86</td>\n",
       "      <td>24</td>\n",
       "      <td>Male</td>\n",
       "      <td>100</td>\n",
       "      <td>Blindscythe</td>\n",
       "      <td>3.27</td>\n",
       "    </tr>\n",
       "    <tr>\n",
       "      <th>4</th>\n",
       "      <td>4</td>\n",
       "      <td>Iskosia90</td>\n",
       "      <td>23</td>\n",
       "      <td>Male</td>\n",
       "      <td>131</td>\n",
       "      <td>Fury</td>\n",
       "      <td>1.44</td>\n",
       "    </tr>\n",
       "  </tbody>\n",
       "</table>\n",
       "</div>"
      ],
      "text/plain": [
       "   Purchase ID             SN  Age Gender  Item ID  \\\n",
       "0            0        Lisim78   20   Male      108   \n",
       "1            1    Lisovynya38   40   Male      143   \n",
       "2            2     Ithergue48   24   Male       92   \n",
       "3            3  Chamassasya86   24   Male      100   \n",
       "4            4      Iskosia90   23   Male      131   \n",
       "\n",
       "                                   Item Name  Price  \n",
       "0  Extraction, Quickblade Of Trembling Hands   3.53  \n",
       "1                          Frenzied Scimitar   1.56  \n",
       "2                               Final Critic   4.88  \n",
       "3                                Blindscythe   3.27  \n",
       "4                                       Fury   1.44  "
      ]
     },
     "execution_count": 250,
     "metadata": {},
     "output_type": "execute_result"
    }
   ],
   "source": [
    "purchase_data.head()"
   ]
  },
  {
   "cell_type": "code",
   "execution_count": 257,
   "id": "e025ac50",
   "metadata": {},
   "outputs": [],
   "source": [
    "each_item_cnt=purchase_data.groupby('Item ID')['Item Name'].count()\n",
    "each_item_totalpurchasevalue=purchase_data.groupby('Item ID')['Item Name'].sum()"
   ]
  },
  {
   "cell_type": "code",
   "execution_count": 258,
   "id": "af9ba7a7",
   "metadata": {},
   "outputs": [
    {
     "data": {
      "text/plain": [
       "Item ID\n",
       "178    12\n",
       "145     9\n",
       "108     9\n",
       "82      9\n",
       "19      8\n",
       "Name: Item Name, dtype: int64"
      ]
     },
     "execution_count": 258,
     "metadata": {},
     "output_type": "execute_result"
    }
   ],
   "source": [
    "each_item_cnt.sort_values(ascending=False).head()"
   ]
  },
  {
   "cell_type": "code",
   "execution_count": 259,
   "id": "1e4f8ecf",
   "metadata": {},
   "outputs": [
    {
     "data": {
      "text/plain": [
       "[178, 145, 108, 82, 19]"
      ]
     },
     "execution_count": 259,
     "metadata": {},
     "output_type": "execute_result"
    }
   ],
   "source": [
    "top_ind=list(each_item_cnt.sort_values(ascending=False).head().index)\n",
    "top_ind"
   ]
  },
  {
   "cell_type": "code",
   "execution_count": null,
   "id": "ec40e473",
   "metadata": {},
   "outputs": [],
   "source": [
    "top_five={'Item ID':top_ind,\n",
    "          'Item Name':.filter(top_ind).values,\n",
    "          'Purchase Count':avg.filter(ind).values,\n",
    "          'Item Price':total.sort_values(ascending=False).head().values,\n",
    "         'Total Purchase Value':total.sort_values(ascending=False).head().values}"
   ]
  },
  {
   "cell_type": "code",
   "execution_count": null,
   "id": "66d83da7",
   "metadata": {},
   "outputs": [],
   "source": []
  },
  {
   "cell_type": "code",
   "execution_count": null,
   "id": "ec600583",
   "metadata": {},
   "outputs": [],
   "source": []
  },
  {
   "cell_type": "code",
   "execution_count": null,
   "id": "b4a92c77",
   "metadata": {},
   "outputs": [],
   "source": []
  },
  {
   "cell_type": "code",
   "execution_count": null,
   "id": "c3efa859",
   "metadata": {},
   "outputs": [],
   "source": []
  },
  {
   "cell_type": "code",
   "execution_count": null,
   "id": "6fd45bc8",
   "metadata": {},
   "outputs": [],
   "source": []
  },
  {
   "cell_type": "code",
   "execution_count": null,
   "id": "f12982d6",
   "metadata": {},
   "outputs": [],
   "source": []
  },
  {
   "cell_type": "code",
   "execution_count": null,
   "id": "d5469e25",
   "metadata": {},
   "outputs": [],
   "source": []
  },
  {
   "cell_type": "code",
   "execution_count": null,
   "id": "b0f38c57",
   "metadata": {},
   "outputs": [],
   "source": []
  },
  {
   "cell_type": "code",
   "execution_count": null,
   "id": "5db97366",
   "metadata": {},
   "outputs": [],
   "source": []
  },
  {
   "cell_type": "code",
   "execution_count": null,
   "id": "56b21272",
   "metadata": {},
   "outputs": [],
   "source": []
  },
  {
   "cell_type": "code",
   "execution_count": null,
   "id": "d5c60161",
   "metadata": {},
   "outputs": [],
   "source": []
  }
 ],
 "metadata": {
  "kernelspec": {
   "display_name": "Python 3 (ipykernel)",
   "language": "python",
   "name": "python3"
  },
  "language_info": {
   "codemirror_mode": {
    "name": "ipython",
    "version": 3
   },
   "file_extension": ".py",
   "mimetype": "text/x-python",
   "name": "python",
   "nbconvert_exporter": "python",
   "pygments_lexer": "ipython3",
   "version": "3.11.4"
  }
 },
 "nbformat": 4,
 "nbformat_minor": 5
}
