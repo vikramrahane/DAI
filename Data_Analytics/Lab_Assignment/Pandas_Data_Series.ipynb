{
 "cells": [
  {
   "cell_type": "markdown",
   "id": "3eba28da",
   "metadata": {},
   "source": [
    "### 1. Write a Pandas program to create and display a one-dimensional array-like object containing an array of data using Pandas module."
   ]
  },
  {
   "cell_type": "code",
   "execution_count": 1,
   "id": "471e4055",
   "metadata": {},
   "outputs": [],
   "source": [
    "import pandas as pd\n",
    "import numpy as np"
   ]
  },
  {
   "cell_type": "code",
   "execution_count": 2,
   "id": "875ec079",
   "metadata": {},
   "outputs": [
    {
     "data": {
      "text/plain": [
       "0    1\n",
       "1    2\n",
       "2    3\n",
       "3    4\n",
       "4    5\n",
       "5    6\n",
       "dtype: int64"
      ]
     },
     "execution_count": 2,
     "metadata": {},
     "output_type": "execute_result"
    }
   ],
   "source": [
    "s=pd.Series(np.array([1,2,3,4,5,6]))\n",
    "s"
   ]
  },
  {
   "cell_type": "code",
   "execution_count": 3,
   "id": "5b9ac454",
   "metadata": {},
   "outputs": [
    {
     "data": {
      "text/plain": [
       "pandas.core.series.Series"
      ]
     },
     "execution_count": 3,
     "metadata": {},
     "output_type": "execute_result"
    }
   ],
   "source": [
    "type(s)"
   ]
  },
  {
   "cell_type": "markdown",
   "id": "454b023b",
   "metadata": {},
   "source": [
    "### 2. Write a Pandas program to convert a Panda module Series to Python list and it's type."
   ]
  },
  {
   "cell_type": "code",
   "execution_count": 5,
   "id": "d9323296",
   "metadata": {},
   "outputs": [
    {
     "data": {
      "text/plain": [
       "list"
      ]
     },
     "execution_count": 5,
     "metadata": {},
     "output_type": "execute_result"
    }
   ],
   "source": [
    "l=list(s)\n",
    "type(l)"
   ]
  },
  {
   "cell_type": "markdown",
   "id": "87e1b23f",
   "metadata": {},
   "source": [
    "### 3. Write a Pandas program to add, subtract, multiple and divide two Pandas Series.\n",
    "### Sample Series: [2, 4, 6, 8, 10], [1, 3, 5, 7, 9]"
   ]
  },
  {
   "cell_type": "code",
   "execution_count": 7,
   "id": "7527d127",
   "metadata": {},
   "outputs": [
    {
     "data": {
      "text/plain": [
       "0     3\n",
       "1     7\n",
       "2    11\n",
       "3    15\n",
       "4    19\n",
       "dtype: int64"
      ]
     },
     "execution_count": 7,
     "metadata": {},
     "output_type": "execute_result"
    }
   ],
   "source": [
    "s1=pd.Series([2, 4, 6, 8, 10])\n",
    "s2=pd.Series([1, 3, 5, 7, 9])\n",
    "s1+s2"
   ]
  },
  {
   "cell_type": "code",
   "execution_count": 8,
   "id": "74fc66a2",
   "metadata": {},
   "outputs": [
    {
     "data": {
      "text/plain": [
       "0    1\n",
       "1    1\n",
       "2    1\n",
       "3    1\n",
       "4    1\n",
       "dtype: int64"
      ]
     },
     "execution_count": 8,
     "metadata": {},
     "output_type": "execute_result"
    }
   ],
   "source": [
    "s1-s2"
   ]
  },
  {
   "cell_type": "code",
   "execution_count": 9,
   "id": "e02e6338",
   "metadata": {},
   "outputs": [
    {
     "data": {
      "text/plain": [
       "0    2.000000\n",
       "1    1.333333\n",
       "2    1.200000\n",
       "3    1.142857\n",
       "4    1.111111\n",
       "dtype: float64"
      ]
     },
     "execution_count": 9,
     "metadata": {},
     "output_type": "execute_result"
    }
   ],
   "source": [
    "s1/s2"
   ]
  },
  {
   "cell_type": "code",
   "execution_count": 10,
   "id": "0ea08373",
   "metadata": {},
   "outputs": [
    {
     "data": {
      "text/plain": [
       "0     2\n",
       "1    12\n",
       "2    30\n",
       "3    56\n",
       "4    90\n",
       "dtype: int64"
      ]
     },
     "execution_count": 10,
     "metadata": {},
     "output_type": "execute_result"
    }
   ],
   "source": [
    "s1*s2"
   ]
  },
  {
   "cell_type": "markdown",
   "id": "d90b01b4",
   "metadata": {},
   "source": [
    "### 4. Write a Pandas program to compare the elements of the two Pandas Series.\n",
    "### Sample Series: [2, 4, 6, 8, 10], [1, 3, 5, 7, 10]"
   ]
  },
  {
   "cell_type": "code",
   "execution_count": 11,
   "id": "fde6c603",
   "metadata": {},
   "outputs": [
    {
     "data": {
      "text/plain": [
       "0    False\n",
       "1    False\n",
       "2    False\n",
       "3    False\n",
       "4    False\n",
       "dtype: bool"
      ]
     },
     "execution_count": 11,
     "metadata": {},
     "output_type": "execute_result"
    }
   ],
   "source": [
    "s1=pd.Series([2, 4, 6, 8, 10])\n",
    "s2=pd.Series([1, 3, 5, 7, 10])\n",
    "s1<s2"
   ]
  },
  {
   "cell_type": "code",
   "execution_count": 12,
   "id": "3da299c5",
   "metadata": {},
   "outputs": [
    {
     "data": {
      "text/plain": [
       "0     True\n",
       "1     True\n",
       "2     True\n",
       "3     True\n",
       "4    False\n",
       "dtype: bool"
      ]
     },
     "execution_count": 12,
     "metadata": {},
     "output_type": "execute_result"
    }
   ],
   "source": [
    "s1>s2"
   ]
  },
  {
   "cell_type": "code",
   "execution_count": 13,
   "id": "a1cdf122",
   "metadata": {},
   "outputs": [
    {
     "data": {
      "text/plain": [
       "0    False\n",
       "1    False\n",
       "2    False\n",
       "3    False\n",
       "4     True\n",
       "dtype: bool"
      ]
     },
     "execution_count": 13,
     "metadata": {},
     "output_type": "execute_result"
    }
   ],
   "source": [
    "s1==s2"
   ]
  },
  {
   "cell_type": "code",
   "execution_count": 14,
   "id": "42547ea7",
   "metadata": {},
   "outputs": [
    {
     "data": {
      "text/plain": [
       "0     True\n",
       "1     True\n",
       "2     True\n",
       "3     True\n",
       "4    False\n",
       "dtype: bool"
      ]
     },
     "execution_count": 14,
     "metadata": {},
     "output_type": "execute_result"
    }
   ],
   "source": [
    "s1!=s2"
   ]
  },
  {
   "cell_type": "code",
   "execution_count": 15,
   "id": "81428693",
   "metadata": {},
   "outputs": [
    {
     "data": {
      "text/plain": [
       "0    False\n",
       "1    False\n",
       "2    False\n",
       "3    False\n",
       "4     True\n",
       "dtype: bool"
      ]
     },
     "execution_count": 15,
     "metadata": {},
     "output_type": "execute_result"
    }
   ],
   "source": [
    "s1<=s2"
   ]
  },
  {
   "cell_type": "code",
   "execution_count": 17,
   "id": "fd6d6b58",
   "metadata": {},
   "outputs": [
    {
     "data": {
      "text/plain": [
       "0    True\n",
       "1    True\n",
       "2    True\n",
       "3    True\n",
       "4    True\n",
       "dtype: bool"
      ]
     },
     "execution_count": 17,
     "metadata": {},
     "output_type": "execute_result"
    }
   ],
   "source": [
    "s1>=s2"
   ]
  },
  {
   "cell_type": "markdown",
   "id": "2f04d44c",
   "metadata": {},
   "source": [
    "### 5.Write a Pandas program to convert a dictionary to a Pandas series."
   ]
  },
  {
   "cell_type": "code",
   "execution_count": 18,
   "id": "3cea1a07",
   "metadata": {},
   "outputs": [],
   "source": [
    "d={'a':12,'b':56,'c':89}\n",
    "s=pd.Series(data=d)"
   ]
  },
  {
   "cell_type": "code",
   "execution_count": 20,
   "id": "210b42d3",
   "metadata": {},
   "outputs": [
    {
     "name": "stdout",
     "output_type": "stream",
     "text": [
      "a    12\n",
      "b    56\n",
      "c    89\n",
      "dtype: int64\n",
      "<class 'pandas.core.series.Series'>\n"
     ]
    }
   ],
   "source": [
    "print(s)\n",
    "print(type(s))"
   ]
  },
  {
   "cell_type": "markdown",
   "id": "c13a918c",
   "metadata": {},
   "source": [
    "### 6. Write a Pandas program to convert a NumPy array to a Pandas series."
   ]
  },
  {
   "cell_type": "code",
   "execution_count": 22,
   "id": "c1869815",
   "metadata": {},
   "outputs": [
    {
     "data": {
      "text/plain": [
       "0      1\n",
       "1      2\n",
       "2      3\n",
       "3      4\n",
       "4      5\n",
       "5      6\n",
       "6      7\n",
       "7      8\n",
       "8      9\n",
       "9     10\n",
       "10    11\n",
       "11    12\n",
       "12    13\n",
       "13    14\n",
       "14    15\n",
       "15    16\n",
       "16    17\n",
       "17    18\n",
       "18    19\n",
       "dtype: int64"
      ]
     },
     "execution_count": 22,
     "metadata": {},
     "output_type": "execute_result"
    }
   ],
   "source": [
    "a=np.arange(1,20)\n",
    "s=pd.Series(data=a)\n",
    "s"
   ]
  },
  {
   "cell_type": "markdown",
   "id": "4b93dfab",
   "metadata": {},
   "source": [
    "### 7. Write a Pandas program to change the data type of given a column or a Series."
   ]
  },
  {
   "cell_type": "code",
   "execution_count": 33,
   "id": "a58bff2e",
   "metadata": {},
   "outputs": [
    {
     "data": {
      "text/plain": [
       "0       100\n",
       "1       200\n",
       "2    python\n",
       "3    300.12\n",
       "4       400\n",
       "dtype: object"
      ]
     },
     "execution_count": 33,
     "metadata": {},
     "output_type": "execute_result"
    }
   ],
   "source": [
    "s=pd.Series([100,200,'python',300.12,400])\n",
    "s"
   ]
  },
  {
   "cell_type": "code",
   "execution_count": 35,
   "id": "cefeb9d1",
   "metadata": {},
   "outputs": [
    {
     "data": {
      "text/plain": [
       "0    100.00\n",
       "1    200.00\n",
       "2       NaN\n",
       "3    300.12\n",
       "4    400.00\n",
       "dtype: float64"
      ]
     },
     "execution_count": 35,
     "metadata": {},
     "output_type": "execute_result"
    }
   ],
   "source": [
    "s=pd.to_numeric(s,errors='coerce')\n",
    "s"
   ]
  },
  {
   "cell_type": "markdown",
   "id": "11719ae1",
   "metadata": {},
   "source": [
    "### 8. Write a Pandas program to convert the first column of a DataFrame as a Series."
   ]
  },
  {
   "cell_type": "code",
   "execution_count": 11,
   "id": "3bb4564e",
   "metadata": {},
   "outputs": [
    {
     "name": "stdout",
     "output_type": "stream",
     "text": [
      "Original Dataframe\n",
      "    col1  col2  col3\n",
      "0     1     4     7\n",
      "1     2     5     5\n",
      "2     3     6     8\n",
      "3     4     9    12\n",
      "4     7     5     1\n",
      "5    11     0    11\n",
      "1st Column as Data Series\n",
      " 0     1\n",
      "1     2\n",
      "2     3\n",
      "3     4\n",
      "4     7\n",
      "5    11\n",
      "Name: col1, dtype: int64\n",
      "<class 'pandas.core.series.Series'>\n"
     ]
    }
   ],
   "source": [
    "df=pd.DataFrame(data={'col1':[1,2,3,4,7,11],'col2':[4,5,6,9,5,0],'col3':[7,5,8,12,1,11]})\n",
    "print(\"Original Dataframe\\n\",df)\n",
    "s=pd.Series(df['col1'])\n",
    "print(\"1st Column as Data Series\\n\",s)\n",
    "print(type(s))"
   ]
  },
  {
   "cell_type": "markdown",
   "id": "a8de1995",
   "metadata": {},
   "source": [
    "### 9. Write a Pandas program to convert a given Series to an array."
   ]
  },
  {
   "cell_type": "code",
   "execution_count": 20,
   "id": "64716fb5",
   "metadata": {},
   "outputs": [
    {
     "name": "stdout",
     "output_type": "stream",
     "text": [
      "Original Data Series:\n",
      "0       100\n",
      "1       200\n",
      "2    python\n",
      "3    300.12\n",
      "4       400\n",
      "dtype: object\n",
      "Series to an array\n",
      "[100 200 'python' 300.12 400]\n",
      "<class 'numpy.ndarray'>\n"
     ]
    }
   ],
   "source": [
    "s=pd.Series([100,200,'python',300.12,400])\n",
    "print(\"Original Data Series:\")\n",
    "print(s)\n",
    "print(\"Series to an array\")\n",
    "a=s.values\n",
    "print(a)\n",
    "print(type(a))"
   ]
  },
  {
   "cell_type": "markdown",
   "id": "1bc9b422",
   "metadata": {},
   "source": [
    "### 10. Write a Pandas program to convert Series of lists to one Series."
   ]
  },
  {
   "cell_type": "code",
   "execution_count": 24,
   "id": "cd134fbe",
   "metadata": {},
   "outputs": [
    {
     "name": "stdout",
     "output_type": "stream",
     "text": [
      "Original Series of list\n",
      "0    [Red, Green, White]\n",
      "1           [Red, Black]\n",
      "2               [Yellow]\n",
      "dtype: object\n",
      "One Series\n",
      "0       Red\n",
      "1     Green\n",
      "2     White\n",
      "3       Red\n",
      "4     Black\n",
      "5    Yellow\n",
      "dtype: object\n"
     ]
    }
   ],
   "source": [
    "s=pd.Series([['Red', 'Green', 'White'],['Red', 'Black'],['Yellow']])\n",
    "print(\"Original Series of list\")\n",
    "print(s)\n",
    "print(\"One Series\")\n",
    "s1=s.apply(pd.Series).stack().reset_index(drop=True)\n",
    "print(s1)"
   ]
  },
  {
   "cell_type": "markdown",
   "id": "30ffaea8",
   "metadata": {},
   "source": [
    "### 11. Write a Pandas program to sort a given Series."
   ]
  },
  {
   "cell_type": "code",
   "execution_count": 27,
   "id": "8c6dc32a",
   "metadata": {},
   "outputs": [
    {
     "name": "stdout",
     "output_type": "stream",
     "text": [
      "Original Series of list\n",
      "0       100\n",
      "1       200\n",
      "2    python\n",
      "3    300.12\n",
      "4       400\n",
      "dtype: object\n"
     ]
    },
    {
     "data": {
      "text/plain": [
       "0       100\n",
       "1       200\n",
       "3    300.12\n",
       "4       400\n",
       "2    python\n",
       "dtype: object"
      ]
     },
     "execution_count": 27,
     "metadata": {},
     "output_type": "execute_result"
    }
   ],
   "source": [
    "s=pd.Series(['100','200','python','300.12','400'])\n",
    "print(\"Original Series of list\")\n",
    "print(s)\n",
    "s1=pd.Series(s).sort_values()\n",
    "s1"
   ]
  },
  {
   "cell_type": "markdown",
   "id": "afecae0b",
   "metadata": {},
   "source": [
    "### 12. Write a Pandas program to add some data to an existing Series."
   ]
  },
  {
   "cell_type": "code",
   "execution_count": 34,
   "id": "7b2ad0c6",
   "metadata": {},
   "outputs": [
    {
     "name": "stdout",
     "output_type": "stream",
     "text": [
      "Original Series of list\n",
      "0       100\n",
      "1       200\n",
      "2    python\n",
      "3    300.12\n",
      "4       400\n",
      "dtype: object\n"
     ]
    },
    {
     "data": {
      "text/plain": [
       "0       100\n",
       "1       200\n",
       "2    python\n",
       "3    300.12\n",
       "4       400\n",
       "5       500\n",
       "6       php\n",
       "dtype: object"
      ]
     },
     "execution_count": 34,
     "metadata": {},
     "output_type": "execute_result"
    }
   ],
   "source": [
    "s=pd.Series(['100','200','python','300.12','400'])\n",
    "print(\"Original Series of list\")\n",
    "print(s)\n",
    "#s=s.append(pd.Series(['500','php']),ignore_index=True)\n",
    "#s\n",
    "s=pd.concat([s,pd.Series(['500','php'])],ignore_index=True)\n",
    "s"
   ]
  },
  {
   "cell_type": "markdown",
   "id": "33925322",
   "metadata": {},
   "source": [
    "### 13. Write a Pandas program to create a subset of a given series based on value and condition."
   ]
  },
  {
   "cell_type": "code",
   "execution_count": 36,
   "id": "2d845e51",
   "metadata": {},
   "outputs": [
    {
     "name": "stdout",
     "output_type": "stream",
     "text": [
      "Original Data Series:\n",
      "0      0\n",
      "1      1\n",
      "2      2\n",
      "3      3\n",
      "4      4\n",
      "5      5\n",
      "6      6\n",
      "7      7\n",
      "8      8\n",
      "9      9\n",
      "10    10\n",
      "dtype: int64\n",
      "Subset of the above Data Series:\n",
      "0    0\n",
      "1    1\n",
      "2    2\n",
      "3    3\n",
      "4    4\n",
      "5    5\n",
      "dtype: int64\n"
     ]
    }
   ],
   "source": [
    "print(\"Original Data Series:\")\n",
    "s=pd.Series(np.arange(0,11))\n",
    "print(s)\n",
    "print(\"Subset of the above Data Series:\")\n",
    "print(s[s<6])"
   ]
  },
  {
   "cell_type": "markdown",
   "id": "c3856a92",
   "metadata": {},
   "source": [
    "### 14. Write a Pandas program to change the order of index of a given series."
   ]
  },
  {
   "cell_type": "code",
   "execution_count": 40,
   "id": "a3eedef2",
   "metadata": {},
   "outputs": [
    {
     "name": "stdout",
     "output_type": "stream",
     "text": [
      "Original Data Series:\n",
      "A    1\n",
      "B    2\n",
      "C    3\n",
      "D    4\n",
      "E    5\n",
      "dtype: int64\n",
      "Subset of the above Data Series:\n"
     ]
    },
    {
     "data": {
      "text/plain": [
       "E    5\n",
       "A    1\n",
       "D    4\n",
       "B    2\n",
       "C    3\n",
       "dtype: int64"
      ]
     },
     "execution_count": 40,
     "metadata": {},
     "output_type": "execute_result"
    }
   ],
   "source": [
    "print(\"Original Data Series:\")\n",
    "s=pd.Series(data=[1,2,3,4,5],index=['A', 'B', 'C','D','E'])\n",
    "print(s)\n",
    "print(\"Subset of the above Data Series:\")\n",
    "s=s.reindex(index = ['E','A','D','B','C'])\n",
    "s"
   ]
  },
  {
   "cell_type": "markdown",
   "id": "bd8e8b50",
   "metadata": {},
   "source": [
    "### 15. Write a Pandas program to create the mean and standard deviation of the data of a given Series."
   ]
  },
  {
   "cell_type": "code",
   "execution_count": 41,
   "id": "c9f4daab",
   "metadata": {},
   "outputs": [
    {
     "name": "stdout",
     "output_type": "stream",
     "text": [
      "mean:  4.375\n",
      "Standard Deviation:  2.8252686345094435\n"
     ]
    }
   ],
   "source": [
    "s=pd.Series(data=[1,8,2,9,3,4,5,3])\n",
    "print(\"mean: \",s.mean())\n",
    "print(\"Standard Deviation: \",s.std())"
   ]
  },
  {
   "cell_type": "markdown",
   "id": "0cd7c4eb",
   "metadata": {},
   "source": [
    "### 16. Write a Pandas program to get the items of a given series not present in another given series."
   ]
  },
  {
   "cell_type": "code",
   "execution_count": 46,
   "id": "cfd2e61b",
   "metadata": {},
   "outputs": [
    {
     "name": "stdout",
     "output_type": "stream",
     "text": [
      "Original Data Series:\n",
      "0    1\n",
      "1    2\n",
      "2    3\n",
      "3    4\n",
      "4    5\n",
      "dtype: int64\n",
      "0     6\n",
      "1     2\n",
      "2     8\n",
      "3     4\n",
      "4    10\n",
      "dtype: int64\n",
      "Items of sr1 not present in sr2:\n",
      "0    1\n",
      "2    3\n",
      "4    5\n",
      "dtype: int64\n"
     ]
    }
   ],
   "source": [
    "print(\"Original Data Series:\")\n",
    "s1=pd.Series(data=[1,2,3,4,5])\n",
    "s2=pd.Series(data=[6,2,8,4,10])\n",
    "print(s1)\n",
    "print(s2)\n",
    "print(\"Items of sr1 not present in sr2:\")\n",
    "print(s1[~s1.isin(s2)])"
   ]
  },
  {
   "cell_type": "markdown",
   "id": "8a5aa489",
   "metadata": {},
   "source": [
    "### 17. Write a Pandas program to get the items which are not common of two given series."
   ]
  },
  {
   "cell_type": "code",
   "execution_count": 51,
   "id": "0df3e60c",
   "metadata": {},
   "outputs": [
    {
     "name": "stdout",
     "output_type": "stream",
     "text": [
      "Original Data Series:\n",
      "0    1\n",
      "1    2\n",
      "2    3\n",
      "3    4\n",
      "4    5\n",
      "dtype: int64\n",
      "0     6\n",
      "1     2\n",
      "2     8\n",
      "3     4\n",
      "4    10\n",
      "dtype: int64\n",
      "Items which are not common in s1 and s2: \n",
      "0     1\n",
      "1     3\n",
      "2     5\n",
      "3     6\n",
      "4     8\n",
      "5    10\n",
      "dtype: int64\n"
     ]
    }
   ],
   "source": [
    "print(\"Original Data Series:\")\n",
    "s1=pd.Series(data=[1,2,3,4,5])\n",
    "s2=pd.Series(data=[6,2,8,4,10])\n",
    "print(s1)\n",
    "print(s2)\n",
    "print(\"Items which are not common in s1 and s2: \")\n",
    "s11=s1[~s1.isin(s2)]\n",
    "s12=s2[~s2.isin(s1)]\n",
    "print(pd.concat([s11,s12],ignore_index=True))"
   ]
  },
  {
   "cell_type": "markdown",
   "id": "3db71c96",
   "metadata": {},
   "source": [
    "### 18. Write a Pandas program to compute the minimum, 25th percentile, median, 75th, and maximum of a given series."
   ]
  },
  {
   "cell_type": "code",
   "execution_count": 61,
   "id": "59852dae",
   "metadata": {},
   "outputs": [
    {
     "name": "stdout",
     "output_type": "stream",
     "text": [
      "Minimum, 25th percentile, median, 75th, and maximum of a given series:\n",
      "[1.   2.75 3.5  5.75 9.  ]\n"
     ]
    }
   ],
   "source": [
    "s=pd.Series(data=[1,8,2,9,3,4,5,3])\n",
    "print(\"Minimum, 25th percentile, median, 75th, and maximum of a given series:\")\n",
    "print(np.percentile(s,[0,25,50,75,100]))"
   ]
  },
  {
   "cell_type": "markdown",
   "id": "e206edaf",
   "metadata": {},
   "source": [
    "### 19. Write a Pandas program to calculate the frequency counts of each unique value of a given series."
   ]
  },
  {
   "cell_type": "code",
   "execution_count": 62,
   "id": "11fd873a",
   "metadata": {},
   "outputs": [
    {
     "data": {
      "text/plain": [
       "0     3\n",
       "1     9\n",
       "2     8\n",
       "3     3\n",
       "4     6\n",
       "5     2\n",
       "6     2\n",
       "7     6\n",
       "8     5\n",
       "9     7\n",
       "10    5\n",
       "11    4\n",
       "12    1\n",
       "13    9\n",
       "14    7\n",
       "15    1\n",
       "16    5\n",
       "17    2\n",
       "18    4\n",
       "19    8\n",
       "dtype: int64"
      ]
     },
     "execution_count": 62,
     "metadata": {},
     "output_type": "execute_result"
    }
   ],
   "source": [
    "s=pd.Series(np.random.randint(1,10,20))\n",
    "s"
   ]
  },
  {
   "cell_type": "code",
   "execution_count": 65,
   "id": "342704bd",
   "metadata": {},
   "outputs": [
    {
     "data": {
      "text/plain": [
       "2    3\n",
       "5    3\n",
       "3    2\n",
       "9    2\n",
       "8    2\n",
       "6    2\n",
       "7    2\n",
       "4    2\n",
       "1    2\n",
       "dtype: int64"
      ]
     },
     "execution_count": 65,
     "metadata": {},
     "output_type": "execute_result"
    }
   ],
   "source": [
    "s.value_counts()"
   ]
  },
  {
   "cell_type": "markdown",
   "id": "7b76880e",
   "metadata": {},
   "source": [
    "### 20. Write a Pandas program to display most frequent value in a given series and replace everything else as 'Other' in the series."
   ]
  },
  {
   "cell_type": "code",
   "execution_count": 66,
   "id": "fe475a92",
   "metadata": {},
   "outputs": [
    {
     "data": {
      "text/plain": [
       "0     8\n",
       "1     5\n",
       "2     7\n",
       "3     1\n",
       "4     3\n",
       "5     7\n",
       "6     3\n",
       "7     6\n",
       "8     2\n",
       "9     7\n",
       "10    1\n",
       "11    1\n",
       "12    2\n",
       "13    6\n",
       "14    8\n",
       "15    7\n",
       "16    9\n",
       "17    3\n",
       "18    1\n",
       "19    8\n",
       "dtype: int64"
      ]
     },
     "execution_count": 66,
     "metadata": {},
     "output_type": "execute_result"
    }
   ],
   "source": [
    "s=pd.Series(np.random.randint(1,10,20))\n",
    "s"
   ]
  },
  {
   "cell_type": "code",
   "execution_count": 77,
   "id": "5a14c452",
   "metadata": {},
   "outputs": [
    {
     "name": "stdout",
     "output_type": "stream",
     "text": [
      "Top 3 Frequencies: \n"
     ]
    },
    {
     "data": {
      "text/plain": [
       "7    4\n",
       "1    4\n",
       "8    3\n",
       "dtype: int64"
      ]
     },
     "execution_count": 77,
     "metadata": {},
     "output_type": "execute_result"
    }
   ],
   "source": [
    "print(\"Top 3 Frequencies: \")\n",
    "s.value_counts()[0:3]"
   ]
  },
  {
   "cell_type": "code",
   "execution_count": 72,
   "id": "5a6f2acb",
   "metadata": {},
   "outputs": [
    {
     "data": {
      "text/plain": [
       "0     Other\n",
       "1     Other\n",
       "2         7\n",
       "3     Other\n",
       "4     Other\n",
       "5         7\n",
       "6     Other\n",
       "7     Other\n",
       "8     Other\n",
       "9         7\n",
       "10    Other\n",
       "11    Other\n",
       "12    Other\n",
       "13    Other\n",
       "14    Other\n",
       "15        7\n",
       "16    Other\n",
       "17    Other\n",
       "18    Other\n",
       "19    Other\n",
       "dtype: object"
      ]
     },
     "execution_count": 72,
     "metadata": {},
     "output_type": "execute_result"
    }
   ],
   "source": [
    "s1=s.map(lambda x:x if x==s.value_counts().index[0] else 'Other')\n",
    "s1"
   ]
  },
  {
   "cell_type": "markdown",
   "id": "88738649",
   "metadata": {},
   "source": [
    "### 21. Write a Pandas program to find the positions of numbers that are multiples of 5 of a given series."
   ]
  },
  {
   "cell_type": "code",
   "execution_count": 79,
   "id": "421e7b53",
   "metadata": {},
   "outputs": [
    {
     "name": "stdout",
     "output_type": "stream",
     "text": [
      "original Series:\n",
      "0     1\n",
      "1    15\n",
      "2     8\n",
      "3     6\n",
      "4     9\n",
      "5     5\n",
      "6     1\n",
      "7    10\n",
      "8     1\n",
      "dtype: int64\n",
      "the positions of numbers that are multiples of 5 \n",
      "(array([1, 5, 7]),)\n"
     ]
    }
   ],
   "source": [
    "s=pd.Series(data=[1,15,8,6,9,5,1,10,1])\n",
    "print(\"original Series:\")\n",
    "print(s)\n",
    "res=np.where(s%5==0)\n",
    "print(\"the positions of numbers that are multiples of 5 \")\n",
    "print(res)"
   ]
  },
  {
   "cell_type": "markdown",
   "id": "3a422a08",
   "metadata": {},
   "source": [
    "### 22. Write a Pandas program to extract items at given positions of a given series."
   ]
  },
  {
   "cell_type": "code",
   "execution_count": 83,
   "id": "948e8428",
   "metadata": {},
   "outputs": [
    {
     "name": "stdout",
     "output_type": "stream",
     "text": [
      "original series\n",
      "0     5\n",
      "1     4\n",
      "2     1\n",
      "3     2\n",
      "4     0\n",
      "5     6\n",
      "6     3\n",
      "7     4\n",
      "8     9\n",
      "9     1\n",
      "10    1\n",
      "11    2\n",
      "12    3\n",
      "13    9\n",
      "14    3\n",
      "15    9\n",
      "16    3\n",
      "17    3\n",
      "18    7\n",
      "19    0\n",
      "dtype: int64\n",
      "5     6\n",
      "8     9\n",
      "11    2\n",
      "15    9\n",
      "dtype: int64\n"
     ]
    }
   ],
   "source": [
    "s=pd.Series(np.random.randint(0,10,20))\n",
    "print(\"original series\")\n",
    "print(s)\n",
    "list1=[5,8,11,15]\n",
    "res=s.take(list1)\n",
    "print(res)"
   ]
  },
  {
   "cell_type": "markdown",
   "id": "76c6dd47",
   "metadata": {},
   "source": [
    "### 23. Write a Pandas program to get the positions of items of a given series in another given series."
   ]
  },
  {
   "cell_type": "code",
   "execution_count": 88,
   "id": "579eea61",
   "metadata": {},
   "outputs": [
    {
     "name": "stdout",
     "output_type": "stream",
     "text": [
      "original Series:\n",
      "0    4\n",
      "1    6\n",
      "2    7\n",
      "3    9\n",
      "4    4\n",
      "5    6\n",
      "6    1\n",
      "7    2\n",
      "8    3\n",
      "dtype: object\n",
      "0    3\n",
      "1    7\n",
      "2    9\n",
      "dtype: object\n",
      "the positions of items of a given series in another given series.\n",
      "[8, 2, 3]\n"
     ]
    }
   ],
   "source": [
    "s1=pd.Series(list('467946123'))\n",
    "s2=pd.Series(list('379'))\n",
    "print(\"original Series:\")\n",
    "print(s1)\n",
    "print(s2)\n",
    "res = [pd.Index(s1).get_loc(i) for i in s2]\n",
    "print(\"the positions of items of a given series in another given series.\")\n",
    "print(res)"
   ]
  },
  {
   "cell_type": "markdown",
   "id": "96826696",
   "metadata": {},
   "source": [
    "### 24. Write a Pandas program convert the first and last character of each word to upper case in each word of a given series."
   ]
  },
  {
   "cell_type": "code",
   "execution_count": 93,
   "id": "1c0e4704",
   "metadata": {},
   "outputs": [
    {
     "name": "stdout",
     "output_type": "stream",
     "text": [
      "original Series: \n",
      "0       php\n",
      "1      java\n",
      "2        c#\n",
      "3    python\n",
      "dtype: object\n",
      "0       PhP\n",
      "1      JavA\n",
      "2        C#\n",
      "3    PythoN\n",
      "dtype: object\n"
     ]
    }
   ],
   "source": [
    "s1=pd.Series(data=['php','java','c#','python'])\n",
    "print(\"original Series: \")\n",
    "print(s1)\n",
    "result=s1.map(lambda x:x[0].upper() + x[1:-1] + x[-1].upper())\n",
    "print(result)"
   ]
  },
  {
   "cell_type": "markdown",
   "id": "8edb6f67",
   "metadata": {},
   "source": [
    "### 25. Write a Pandas program to calculate the number of characters in each word in a given series."
   ]
  },
  {
   "cell_type": "code",
   "execution_count": 94,
   "id": "39812595",
   "metadata": {},
   "outputs": [
    {
     "name": "stdout",
     "output_type": "stream",
     "text": [
      "original Series: \n",
      "0       php\n",
      "1      java\n",
      "2        c#\n",
      "3    python\n",
      "dtype: object\n",
      "0    3\n",
      "1    4\n",
      "2    2\n",
      "3    6\n",
      "dtype: int64\n"
     ]
    }
   ],
   "source": [
    "s1=pd.Series(data=['php','java','c#','python'])\n",
    "print(\"original Series: \")\n",
    "print(s1)\n",
    "result=s1.map(lambda x: len(x))\n",
    "print(result)"
   ]
  },
  {
   "cell_type": "markdown",
   "id": "95232ea8",
   "metadata": {},
   "source": [
    "### 26. Write a Pandas program to compute difference of differences between consecutive numbers of a given series."
   ]
  },
  {
   "cell_type": "code",
   "execution_count": 97,
   "id": "f51ddd2c",
   "metadata": {},
   "outputs": [
    {
     "name": "stdout",
     "output_type": "stream",
     "text": [
      "original Series: \n",
      "0     1\n",
      "1     3\n",
      "2     4\n",
      "3     5\n",
      "4     8\n",
      "5    11\n",
      "6    16\n",
      "dtype: int64\n",
      "<bound method IndexOpsMixin.tolist of 0    NaN\n",
      "1    2.0\n",
      "2    1.0\n",
      "3    1.0\n",
      "4    3.0\n",
      "5    3.0\n",
      "6    5.0\n",
      "dtype: float64>\n",
      "<bound method IndexOpsMixin.tolist of 0    NaN\n",
      "1    NaN\n",
      "2   -1.0\n",
      "3    0.0\n",
      "4    2.0\n",
      "5    0.0\n",
      "6    2.0\n",
      "dtype: float64>\n"
     ]
    }
   ],
   "source": [
    "s1=pd.Series(data=[1,3,4,5,8,11,16])\n",
    "print(\"original Series: \")\n",
    "print(s1)\n",
    "print(s1.diff().to_list)\n",
    "print(s1.diff().diff().to_list)"
   ]
  },
  {
   "cell_type": "markdown",
   "id": "f338989b",
   "metadata": {},
   "source": [
    "### 27. Write a Pandas program to convert a series of date strings to a timeseries."
   ]
  },
  {
   "cell_type": "code",
   "execution_count": 101,
   "id": "258669b6",
   "metadata": {},
   "outputs": [
    {
     "name": "stdout",
     "output_type": "stream",
     "text": [
      "original series \n",
      "0             01 Jan 2015\n",
      "1              10-02-2016\n",
      "2                20180307\n",
      "3              2014/05/06\n",
      "4    2016-04-12 T13:45:40\n",
      "5        2019-04-06T11:20\n",
      "dtype: object\n",
      "timeseries\n",
      "0   2015-01-01 00:00:00\n",
      "1   2016-10-02 00:00:00\n",
      "2   2018-03-07 00:00:00\n",
      "3   2014-05-06 00:00:00\n",
      "4   2016-04-12 13:45:40\n",
      "5   2019-04-06 11:20:00\n",
      "dtype: datetime64[ns]\n"
     ]
    }
   ],
   "source": [
    "s1=pd.Series(['01 Jan 2015', '10-02-2016', '20180307', '2014/05/06', '2016-04-12 T13:45:40', '2019-04-06T11:20'] )\n",
    "print(\"original series \")\n",
    "print(s1)\n",
    "print(\"timeseries\")\n",
    "print(pd.to_datetime(s1))"
   ]
  },
  {
   "cell_type": "markdown",
   "id": "8a72ef54",
   "metadata": {},
   "source": [
    "### 28. Write a Pandas program to get the day of month, day of year, week number and day of week from a given series of date strings."
   ]
  },
  {
   "cell_type": "code",
   "execution_count": 118,
   "id": "9546f961",
   "metadata": {},
   "outputs": [
    {
     "name": "stdout",
     "output_type": "stream",
     "text": [
      "original series \n",
      "0             01 Jan 2015\n",
      "1              10-02-2016\n",
      "2                20180307\n",
      "3              2014/05/06\n",
      "4    2016-04-12 T13:45:40\n",
      "5        2019-04-06T11:20\n",
      "dtype: object\n",
      "the day of month\n",
      "[1, 2, 7, 6, 12, 6]\n",
      "the day of year\n",
      "[1, 276, 66, 126, 103, 96]\n",
      "week number\n",
      "0     1\n",
      "1    39\n",
      "2    10\n",
      "3    19\n",
      "4    15\n",
      "5    14\n",
      "Name: week, dtype: UInt32\n"
     ]
    }
   ],
   "source": [
    "from dateutil.parser import parse\n",
    "s1=pd.Series(['01 Jan 2015', '10-02-2016', '20180307', '2014/05/06', '2016-04-12 T13:45:40', '2019-04-06T11:20'] )\n",
    "print(\"original series \")\n",
    "print(s1)\n",
    "s1= s1.map(lambda x :parse(x))\n",
    "print(\"the day of month\")\n",
    "print(s1.dt.day.tolist())\n",
    "print(\"the day of year\")\n",
    "print(s1.dt.dayofyear.tolist())\n",
    "print(\"week number\")\n",
    "print(s1.dt.isocalendar().week)"
   ]
  },
  {
   "cell_type": "markdown",
   "id": "d99ff7a1",
   "metadata": {},
   "source": [
    "### 29. Write a Pandas program to convert year-month string to dates adding a specified day of the month."
   ]
  },
  {
   "cell_type": "code",
   "execution_count": 124,
   "id": "436f97e7",
   "metadata": {},
   "outputs": [
    {
     "name": "stdout",
     "output_type": "stream",
     "text": [
      "original series\n",
      "0    Jan 2015\n",
      "1    Feb 2016\n",
      "2    Mar 2017\n",
      "3    Apr 2018\n",
      "4    May 2019\n",
      "dtype: object\n",
      "new date\n",
      "0   2015-01-15\n",
      "1   2016-02-15\n",
      "2   2017-03-15\n",
      "3   2018-04-15\n",
      "4   2019-05-15\n",
      "dtype: datetime64[ns]\n"
     ]
    }
   ],
   "source": [
    "s1=pd.Series(['Jan 2015', 'Feb 2016', 'Mar 2017', 'Apr 2018', 'May 2019'])\n",
    "print(\"original series\")\n",
    "print(s1)\n",
    "print(\"new date\")\n",
    "res=s1.map(lambda x: parse('15' +x))\n",
    "print(res)"
   ]
  },
  {
   "cell_type": "markdown",
   "id": "67c22843",
   "metadata": {},
   "source": [
    "### 30. Write a Pandas program to filter words from a given series that contain atleast two vowels."
   ]
  },
  {
   "cell_type": "code",
   "execution_count": 131,
   "id": "03a8ba1f",
   "metadata": {},
   "outputs": [
    {
     "name": "stdout",
     "output_type": "stream",
     "text": [
      "Original series:\n",
      "0       Red\n",
      "1     Green\n",
      "2    Orange\n",
      "3      Pink\n",
      "4    Yellow\n",
      "5     White\n",
      "dtype: object\n",
      "1     Green\n",
      "2    Orange\n",
      "4    Yellow\n",
      "5     White\n",
      "dtype: object\n"
     ]
    }
   ],
   "source": [
    "from collections import Counter\n",
    "s1=pd.Series(['Red','Green','Orange','Pink','Yellow','White'])\n",
    "print(\"Original series:\")\n",
    "print(s1)\n",
    "res=s1.map(lambda x: sum([Counter(x.lower()).get(i,0) for i in list('aeiou')])>=2)\n",
    "print(s1[res])"
   ]
  },
  {
   "cell_type": "markdown",
   "id": "d37d08fd",
   "metadata": {},
   "source": [
    "### 31. Write a Pandas program to compute the Euclidean distance between two given series.\n",
    "### Euclidean distance\n",
    "### From Wikipedia,\n",
    "### In mathematics, the Euclidean distance or Euclidean metric is the \"ordinary\" straight-line distance between two points in Euclidean space. With this distance, Euclidean space becomes a metric space. The associated norm is called the Euclidean norm."
   ]
  },
  {
   "cell_type": "code",
   "execution_count": 134,
   "id": "46edc783",
   "metadata": {},
   "outputs": [
    {
     "name": "stdout",
     "output_type": "stream",
     "text": [
      "original Series: \n",
      "0     1\n",
      "1     2\n",
      "2     3\n",
      "3     4\n",
      "4     5\n",
      "5     6\n",
      "6     7\n",
      "7     8\n",
      "8     9\n",
      "9    10\n",
      "dtype: int64\n",
      "0    11\n",
      "1     8\n",
      "2     7\n",
      "3     5\n",
      "4     6\n",
      "5     5\n",
      "6     3\n",
      "7     4\n",
      "8     7\n",
      "9     1\n",
      "dtype: int64\n",
      "\n",
      "Euclidean distance between two given series\n",
      "16.492422502470642\n"
     ]
    }
   ],
   "source": [
    "s1=pd.Series([1,2,3,4,5,6,7,8,9,10])\n",
    "s2=pd.Series([11,8,7,5,6,5,3,4,7,1])\n",
    "print(\"original Series: \")\n",
    "print(s1)\n",
    "print(s2)\n",
    "print('\\nEuclidean distance between two given series')\n",
    "print(np.linalg.norm(s1-s2))"
   ]
  },
  {
   "cell_type": "markdown",
   "id": "875ff4d9",
   "metadata": {},
   "source": [
    "### 32. Write a Pandas program to find the positions of the values neighboured by smaller values on both sides in a given series."
   ]
  },
  {
   "cell_type": "code",
   "execution_count": 136,
   "id": "2100dcdc",
   "metadata": {},
   "outputs": [],
   "source": [
    "s2=pd.Series([1,8,7,5,6,5,3,4,7,1])\n"
   ]
  },
  {
   "cell_type": "code",
   "execution_count": 137,
   "id": "75706913",
   "metadata": {},
   "outputs": [
    {
     "data": {
      "text/plain": [
       "array([ 7, -1, -2,  1, -1, -2,  1,  3, -6])"
      ]
     },
     "execution_count": 137,
     "metadata": {},
     "output_type": "execute_result"
    }
   ],
   "source": [
    "t=np.diff(s2)\n",
    "t"
   ]
  },
  {
   "cell_type": "code",
   "execution_count": 138,
   "id": "9cd850f0",
   "metadata": {},
   "outputs": [
    {
     "data": {
      "text/plain": [
       "array([ 1, -1, -1,  1, -1, -1,  1,  1, -1])"
      ]
     },
     "execution_count": 138,
     "metadata": {},
     "output_type": "execute_result"
    }
   ],
   "source": [
    "t=np.sign(t)\n",
    "t"
   ]
  },
  {
   "cell_type": "code",
   "execution_count": 139,
   "id": "d290be28",
   "metadata": {},
   "outputs": [
    {
     "data": {
      "text/plain": [
       "array([-2,  0,  2, -2,  0,  2,  0, -2])"
      ]
     },
     "execution_count": 139,
     "metadata": {},
     "output_type": "execute_result"
    }
   ],
   "source": [
    "t=np.diff(t)\n",
    "t"
   ]
  },
  {
   "cell_type": "code",
   "execution_count": 147,
   "id": "d43934a5",
   "metadata": {},
   "outputs": [
    {
     "data": {
      "text/plain": [
       "array([0, 3, 7])"
      ]
     },
     "execution_count": 147,
     "metadata": {},
     "output_type": "execute_result"
    }
   ],
   "source": [
    "np.where(t==-2)[0]"
   ]
  },
  {
   "cell_type": "code",
   "execution_count": 148,
   "id": "4b369de0",
   "metadata": {},
   "outputs": [
    {
     "data": {
      "text/plain": [
       "array([1, 4, 8])"
      ]
     },
     "execution_count": 148,
     "metadata": {},
     "output_type": "execute_result"
    }
   ],
   "source": [
    "np.where(t==-2)[0]+1"
   ]
  },
  {
   "cell_type": "markdown",
   "id": "5b43d282",
   "metadata": {},
   "source": [
    "### 33. Write a Pandas program to replace missing white spaces in a given string with the least frequent character."
   ]
  },
  {
   "cell_type": "markdown",
   "id": "53306805",
   "metadata": {},
   "source": [
    "### 34. Write a Pandas program to compute the autocorrelations of a given numeric series.\n",
    "### From Wikipedia:\n",
    "### Autocorrelation, also known as serial correlation, is the correlation of a signal with a delayed copy of itself as a function of delay. Informally, it is the similarity between observations as a function of the time lag between them."
   ]
  },
  {
   "cell_type": "markdown",
   "id": "971362e6",
   "metadata": {},
   "source": [
    "### 35. Write a Pandas program to create a TimeSeries to display all the Sundays of given year."
   ]
  },
  {
   "cell_type": "markdown",
   "id": "0f77742e",
   "metadata": {},
   "source": [
    "### 36. Write a Pandas program to convert given series into a dataframe with its index as another column on the dataframe."
   ]
  },
  {
   "cell_type": "markdown",
   "id": "2d4690b6",
   "metadata": {},
   "source": [
    "### 37. Write a Pandas program to stack two given series vertically and horizontally."
   ]
  },
  {
   "cell_type": "markdown",
   "id": "bd4959c2",
   "metadata": {},
   "source": [
    "### 38. Write a Pandas program to check the equality of two given series."
   ]
  },
  {
   "cell_type": "markdown",
   "id": "d128421e",
   "metadata": {},
   "source": [
    "### 39. Write a Pandas program to find the index of the first occurrence of the smallest and largest value of a given series."
   ]
  },
  {
   "cell_type": "markdown",
   "id": "909fb1f0",
   "metadata": {},
   "source": [
    "### 40. Write a Pandas program to check inequality over the index axis of a given dataframe and a given series."
   ]
  },
  {
   "cell_type": "markdown",
   "id": "a003b74b",
   "metadata": {},
   "source": []
  },
  {
   "cell_type": "markdown",
   "id": "629c7ed8",
   "metadata": {},
   "source": []
  },
  {
   "cell_type": "markdown",
   "id": "7aa3967c",
   "metadata": {},
   "source": []
  },
  {
   "cell_type": "markdown",
   "id": "f6e33fb7",
   "metadata": {},
   "source": []
  },
  {
   "cell_type": "markdown",
   "id": "37ce7136",
   "metadata": {},
   "source": [
    "###"
   ]
  },
  {
   "cell_type": "markdown",
   "id": "24a80230",
   "metadata": {},
   "source": [
    "###"
   ]
  },
  {
   "cell_type": "markdown",
   "id": "c3471ddc",
   "metadata": {},
   "source": [
    "###"
   ]
  },
  {
   "cell_type": "markdown",
   "id": "8fc051a9",
   "metadata": {},
   "source": [
    "###"
   ]
  },
  {
   "cell_type": "markdown",
   "id": "fed1580f",
   "metadata": {},
   "source": [
    "###"
   ]
  },
  {
   "cell_type": "markdown",
   "id": "f63f422c",
   "metadata": {},
   "source": [
    "###"
   ]
  },
  {
   "cell_type": "markdown",
   "id": "cd151b24",
   "metadata": {},
   "source": [
    "###"
   ]
  },
  {
   "cell_type": "markdown",
   "id": "5339b0eb",
   "metadata": {},
   "source": [
    "###"
   ]
  },
  {
   "cell_type": "markdown",
   "id": "a70cbd77",
   "metadata": {},
   "source": [
    "###"
   ]
  },
  {
   "cell_type": "markdown",
   "id": "a1a53cf7",
   "metadata": {},
   "source": [
    "###"
   ]
  },
  {
   "cell_type": "markdown",
   "id": "5592d088",
   "metadata": {},
   "source": [
    "###"
   ]
  },
  {
   "cell_type": "markdown",
   "id": "671b14c1",
   "metadata": {},
   "source": [
    "###"
   ]
  },
  {
   "cell_type": "markdown",
   "id": "daf8e8d4",
   "metadata": {},
   "source": [
    "###"
   ]
  }
 ],
 "metadata": {
  "kernelspec": {
   "display_name": "Python 3 (ipykernel)",
   "language": "python",
   "name": "python3"
  },
  "language_info": {
   "codemirror_mode": {
    "name": "ipython",
    "version": 3
   },
   "file_extension": ".py",
   "mimetype": "text/x-python",
   "name": "python",
   "nbconvert_exporter": "python",
   "pygments_lexer": "ipython3",
   "version": "3.11.4"
  }
 },
 "nbformat": 4,
 "nbformat_minor": 5
}
