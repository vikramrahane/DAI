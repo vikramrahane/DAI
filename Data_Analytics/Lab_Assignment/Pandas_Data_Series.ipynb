{
 "cells": [
  {
   "cell_type": "markdown",
   "id": "3eba28da",
   "metadata": {},
   "source": [
    "### 1. Write a Pandas program to create and display a one-dimensional array-like object containing an array of data using Pandas module."
   ]
  },
  {
   "cell_type": "code",
   "execution_count": 1,
   "id": "471e4055",
   "metadata": {},
   "outputs": [],
   "source": [
    "import pandas as pd\n",
    "import numpy as np"
   ]
  },
  {
   "cell_type": "code",
   "execution_count": 2,
   "id": "875ec079",
   "metadata": {},
   "outputs": [
    {
     "data": {
      "text/plain": [
       "0    1\n",
       "1    2\n",
       "2    3\n",
       "3    4\n",
       "4    5\n",
       "5    6\n",
       "dtype: int64"
      ]
     },
     "execution_count": 2,
     "metadata": {},
     "output_type": "execute_result"
    }
   ],
   "source": [
    "s=pd.Series(np.array([1,2,3,4,5,6]))\n",
    "s"
   ]
  },
  {
   "cell_type": "code",
   "execution_count": 3,
   "id": "5b9ac454",
   "metadata": {},
   "outputs": [
    {
     "data": {
      "text/plain": [
       "pandas.core.series.Series"
      ]
     },
     "execution_count": 3,
     "metadata": {},
     "output_type": "execute_result"
    }
   ],
   "source": [
    "type(s)"
   ]
  },
  {
   "cell_type": "markdown",
   "id": "454b023b",
   "metadata": {},
   "source": [
    "### 2. Write a Pandas program to convert a Panda module Series to Python list and it's type."
   ]
  },
  {
   "cell_type": "code",
   "execution_count": 5,
   "id": "d9323296",
   "metadata": {},
   "outputs": [
    {
     "data": {
      "text/plain": [
       "list"
      ]
     },
     "execution_count": 5,
     "metadata": {},
     "output_type": "execute_result"
    }
   ],
   "source": [
    "l=list(s)\n",
    "type(l)"
   ]
  },
  {
   "cell_type": "markdown",
   "id": "87e1b23f",
   "metadata": {},
   "source": [
    "### 3. Write a Pandas program to add, subtract, multiple and divide two Pandas Series.\n",
    "### Sample Series: [2, 4, 6, 8, 10], [1, 3, 5, 7, 9]"
   ]
  },
  {
   "cell_type": "code",
   "execution_count": 7,
   "id": "7527d127",
   "metadata": {},
   "outputs": [
    {
     "data": {
      "text/plain": [
       "0     3\n",
       "1     7\n",
       "2    11\n",
       "3    15\n",
       "4    19\n",
       "dtype: int64"
      ]
     },
     "execution_count": 7,
     "metadata": {},
     "output_type": "execute_result"
    }
   ],
   "source": [
    "s1=pd.Series([2, 4, 6, 8, 10])\n",
    "s2=pd.Series([1, 3, 5, 7, 9])\n",
    "s1+s2"
   ]
  },
  {
   "cell_type": "code",
   "execution_count": 8,
   "id": "74fc66a2",
   "metadata": {},
   "outputs": [
    {
     "data": {
      "text/plain": [
       "0    1\n",
       "1    1\n",
       "2    1\n",
       "3    1\n",
       "4    1\n",
       "dtype: int64"
      ]
     },
     "execution_count": 8,
     "metadata": {},
     "output_type": "execute_result"
    }
   ],
   "source": [
    "s1-s2"
   ]
  },
  {
   "cell_type": "code",
   "execution_count": 9,
   "id": "e02e6338",
   "metadata": {},
   "outputs": [
    {
     "data": {
      "text/plain": [
       "0    2.000000\n",
       "1    1.333333\n",
       "2    1.200000\n",
       "3    1.142857\n",
       "4    1.111111\n",
       "dtype: float64"
      ]
     },
     "execution_count": 9,
     "metadata": {},
     "output_type": "execute_result"
    }
   ],
   "source": [
    "s1/s2"
   ]
  },
  {
   "cell_type": "code",
   "execution_count": 10,
   "id": "0ea08373",
   "metadata": {},
   "outputs": [
    {
     "data": {
      "text/plain": [
       "0     2\n",
       "1    12\n",
       "2    30\n",
       "3    56\n",
       "4    90\n",
       "dtype: int64"
      ]
     },
     "execution_count": 10,
     "metadata": {},
     "output_type": "execute_result"
    }
   ],
   "source": [
    "s1*s2"
   ]
  },
  {
   "cell_type": "markdown",
   "id": "d90b01b4",
   "metadata": {},
   "source": [
    "### 4. Write a Pandas program to compare the elements of the two Pandas Series.\n",
    "### Sample Series: [2, 4, 6, 8, 10], [1, 3, 5, 7, 10]"
   ]
  },
  {
   "cell_type": "code",
   "execution_count": 11,
   "id": "fde6c603",
   "metadata": {},
   "outputs": [
    {
     "data": {
      "text/plain": [
       "0    False\n",
       "1    False\n",
       "2    False\n",
       "3    False\n",
       "4    False\n",
       "dtype: bool"
      ]
     },
     "execution_count": 11,
     "metadata": {},
     "output_type": "execute_result"
    }
   ],
   "source": [
    "s1=pd.Series([2, 4, 6, 8, 10])\n",
    "s2=pd.Series([1, 3, 5, 7, 10])\n",
    "s1<s2"
   ]
  },
  {
   "cell_type": "code",
   "execution_count": 12,
   "id": "3da299c5",
   "metadata": {},
   "outputs": [
    {
     "data": {
      "text/plain": [
       "0     True\n",
       "1     True\n",
       "2     True\n",
       "3     True\n",
       "4    False\n",
       "dtype: bool"
      ]
     },
     "execution_count": 12,
     "metadata": {},
     "output_type": "execute_result"
    }
   ],
   "source": [
    "s1>s2"
   ]
  },
  {
   "cell_type": "code",
   "execution_count": 13,
   "id": "a1cdf122",
   "metadata": {},
   "outputs": [
    {
     "data": {
      "text/plain": [
       "0    False\n",
       "1    False\n",
       "2    False\n",
       "3    False\n",
       "4     True\n",
       "dtype: bool"
      ]
     },
     "execution_count": 13,
     "metadata": {},
     "output_type": "execute_result"
    }
   ],
   "source": [
    "s1==s2"
   ]
  },
  {
   "cell_type": "code",
   "execution_count": 14,
   "id": "42547ea7",
   "metadata": {},
   "outputs": [
    {
     "data": {
      "text/plain": [
       "0     True\n",
       "1     True\n",
       "2     True\n",
       "3     True\n",
       "4    False\n",
       "dtype: bool"
      ]
     },
     "execution_count": 14,
     "metadata": {},
     "output_type": "execute_result"
    }
   ],
   "source": [
    "s1!=s2"
   ]
  },
  {
   "cell_type": "code",
   "execution_count": 15,
   "id": "81428693",
   "metadata": {},
   "outputs": [
    {
     "data": {
      "text/plain": [
       "0    False\n",
       "1    False\n",
       "2    False\n",
       "3    False\n",
       "4     True\n",
       "dtype: bool"
      ]
     },
     "execution_count": 15,
     "metadata": {},
     "output_type": "execute_result"
    }
   ],
   "source": [
    "s1<=s2"
   ]
  },
  {
   "cell_type": "code",
   "execution_count": 17,
   "id": "fd6d6b58",
   "metadata": {},
   "outputs": [
    {
     "data": {
      "text/plain": [
       "0    True\n",
       "1    True\n",
       "2    True\n",
       "3    True\n",
       "4    True\n",
       "dtype: bool"
      ]
     },
     "execution_count": 17,
     "metadata": {},
     "output_type": "execute_result"
    }
   ],
   "source": [
    "s1>=s2"
   ]
  },
  {
   "cell_type": "markdown",
   "id": "2f04d44c",
   "metadata": {},
   "source": [
    "### 5.Write a Pandas program to convert a dictionary to a Pandas series."
   ]
  },
  {
   "cell_type": "code",
   "execution_count": 18,
   "id": "3cea1a07",
   "metadata": {},
   "outputs": [],
   "source": [
    "d={'a':12,'b':56,'c':89}\n",
    "s=pd.Series(data=d)"
   ]
  },
  {
   "cell_type": "code",
   "execution_count": 20,
   "id": "210b42d3",
   "metadata": {},
   "outputs": [
    {
     "name": "stdout",
     "output_type": "stream",
     "text": [
      "a    12\n",
      "b    56\n",
      "c    89\n",
      "dtype: int64\n",
      "<class 'pandas.core.series.Series'>\n"
     ]
    }
   ],
   "source": [
    "print(s)\n",
    "print(type(s))"
   ]
  },
  {
   "cell_type": "markdown",
   "id": "c13a918c",
   "metadata": {},
   "source": [
    "### 6. Write a Pandas program to convert a NumPy array to a Pandas series."
   ]
  },
  {
   "cell_type": "code",
   "execution_count": 22,
   "id": "c1869815",
   "metadata": {},
   "outputs": [
    {
     "data": {
      "text/plain": [
       "0      1\n",
       "1      2\n",
       "2      3\n",
       "3      4\n",
       "4      5\n",
       "5      6\n",
       "6      7\n",
       "7      8\n",
       "8      9\n",
       "9     10\n",
       "10    11\n",
       "11    12\n",
       "12    13\n",
       "13    14\n",
       "14    15\n",
       "15    16\n",
       "16    17\n",
       "17    18\n",
       "18    19\n",
       "dtype: int64"
      ]
     },
     "execution_count": 22,
     "metadata": {},
     "output_type": "execute_result"
    }
   ],
   "source": [
    "a=np.arange(1,20)\n",
    "s=pd.Series(data=a)\n",
    "s"
   ]
  },
  {
   "cell_type": "markdown",
   "id": "4b93dfab",
   "metadata": {},
   "source": [
    "### 7. Write a Pandas program to change the data type of given a column or a Series."
   ]
  },
  {
   "cell_type": "code",
   "execution_count": 33,
   "id": "a58bff2e",
   "metadata": {},
   "outputs": [
    {
     "data": {
      "text/plain": [
       "0       100\n",
       "1       200\n",
       "2    python\n",
       "3    300.12\n",
       "4       400\n",
       "dtype: object"
      ]
     },
     "execution_count": 33,
     "metadata": {},
     "output_type": "execute_result"
    }
   ],
   "source": [
    "s=pd.Series([100,200,'python',300.12,400])\n",
    "s"
   ]
  },
  {
   "cell_type": "code",
   "execution_count": 35,
   "id": "cefeb9d1",
   "metadata": {},
   "outputs": [
    {
     "data": {
      "text/plain": [
       "0    100.00\n",
       "1    200.00\n",
       "2       NaN\n",
       "3    300.12\n",
       "4    400.00\n",
       "dtype: float64"
      ]
     },
     "execution_count": 35,
     "metadata": {},
     "output_type": "execute_result"
    }
   ],
   "source": [
    "s=pd.to_numeric(s,errors='coerce')\n",
    "s"
   ]
  },
  {
   "cell_type": "code",
   "execution_count": null,
   "id": "3bb4564e",
   "metadata": {},
   "outputs": [],
   "source": []
  },
  {
   "cell_type": "markdown",
   "id": "11719ae1",
   "metadata": {},
   "source": [
    "### 8. Write a Pandas program to convert the first column of a DataFrame as a Series."
   ]
  },
  {
   "cell_type": "markdown",
   "id": "a8de1995",
   "metadata": {},
   "source": [
    "### 9. Write a Pandas program to convert a given Series to an array."
   ]
  },
  {
   "cell_type": "markdown",
   "id": "1bc9b422",
   "metadata": {},
   "source": [
    "### 10. Write a Pandas program to convert Series of lists to one Series."
   ]
  },
  {
   "cell_type": "markdown",
   "id": "30ffaea8",
   "metadata": {},
   "source": [
    "### 11. Write a Pandas program to sort a given Series."
   ]
  },
  {
   "cell_type": "markdown",
   "id": "afecae0b",
   "metadata": {},
   "source": [
    "### 12. Write a Pandas program to add some data to an existing Series."
   ]
  },
  {
   "cell_type": "markdown",
   "id": "33925322",
   "metadata": {},
   "source": [
    "### 13. Write a Pandas program to create a subset of a given series based on value and condition."
   ]
  },
  {
   "cell_type": "markdown",
   "id": "c3856a92",
   "metadata": {},
   "source": [
    "### 14. Write a Pandas program to change the order of index of a given series."
   ]
  },
  {
   "cell_type": "markdown",
   "id": "bd8e8b50",
   "metadata": {},
   "source": [
    "### 15. Write a Pandas program to create the mean and standard deviation of the data of a given Series."
   ]
  },
  {
   "cell_type": "markdown",
   "id": "0cd7c4eb",
   "metadata": {},
   "source": [
    "### 16. Write a Pandas program to get the items of a given series not present in another given series."
   ]
  },
  {
   "cell_type": "markdown",
   "id": "8a5aa489",
   "metadata": {},
   "source": [
    "### 17. Write a Pandas program to get the items which are not common of two given series."
   ]
  },
  {
   "cell_type": "markdown",
   "id": "3db71c96",
   "metadata": {},
   "source": [
    "### 18. Write a Pandas program to compute the minimum, 25th percentile, median, 75th, and maximum of a given series."
   ]
  },
  {
   "cell_type": "markdown",
   "id": "e206edaf",
   "metadata": {},
   "source": [
    "### 19. Write a Pandas program to calculate the frequency counts of each unique value of a given series."
   ]
  },
  {
   "cell_type": "markdown",
   "id": "7b76880e",
   "metadata": {},
   "source": [
    "### 20. Write a Pandas program to display most frequent value in a given series and replace everything else as 'Other' in the series."
   ]
  },
  {
   "cell_type": "markdown",
   "id": "88738649",
   "metadata": {},
   "source": [
    "### 21. Write a Pandas program to find the positions of numbers that are multiples of 5 of a given series."
   ]
  },
  {
   "cell_type": "markdown",
   "id": "3a422a08",
   "metadata": {},
   "source": [
    "### 22. Write a Pandas program to extract items at given positions of a given series."
   ]
  },
  {
   "cell_type": "markdown",
   "id": "76c6dd47",
   "metadata": {},
   "source": [
    "### 23. Write a Pandas program to get the positions of items of a given series in another given series."
   ]
  },
  {
   "cell_type": "markdown",
   "id": "96826696",
   "metadata": {},
   "source": [
    "### 24. Write a Pandas program convert the first and last character of each word to upper case in each word of a given series."
   ]
  },
  {
   "cell_type": "markdown",
   "id": "8edb6f67",
   "metadata": {},
   "source": [
    "### 25. Write a Pandas program to calculate the number of characters in each word in a given series."
   ]
  },
  {
   "cell_type": "markdown",
   "id": "95232ea8",
   "metadata": {},
   "source": [
    "### 26. Write a Pandas program to compute difference of differences between consecutive numbers of a given series."
   ]
  },
  {
   "cell_type": "markdown",
   "id": "f338989b",
   "metadata": {},
   "source": [
    "### 27. Write a Pandas program to convert a series of date strings to a timeseries."
   ]
  },
  {
   "cell_type": "markdown",
   "id": "8a72ef54",
   "metadata": {},
   "source": [
    "### 28. Write a Pandas program to get the day of month, day of year, week number and day of week from a given series of date strings."
   ]
  },
  {
   "cell_type": "markdown",
   "id": "d99ff7a1",
   "metadata": {},
   "source": [
    "### 29. Write a Pandas program to convert year-month string to dates adding a specified day of the month."
   ]
  },
  {
   "cell_type": "markdown",
   "id": "67c22843",
   "metadata": {},
   "source": [
    "### 30. Write a Pandas program to filter words from a given series that contain atleast two vowels."
   ]
  },
  {
   "cell_type": "markdown",
   "id": "d37d08fd",
   "metadata": {},
   "source": [
    "### 31. Write a Pandas program to compute the Euclidean distance between two given series.\n",
    "### Euclidean distance\n",
    "### From Wikipedia,\n",
    "### In mathematics, the Euclidean distance or Euclidean metric is the \"ordinary\" straight-line distance between two points in Euclidean space. With this distance, Euclidean space becomes a metric space. The associated norm is called the Euclidean norm."
   ]
  },
  {
   "cell_type": "markdown",
   "id": "875ff4d9",
   "metadata": {},
   "source": [
    "### 32. Write a Pandas program to find the positions of the values neighboured by smaller values on both sides in a given series."
   ]
  },
  {
   "cell_type": "markdown",
   "id": "5b43d282",
   "metadata": {},
   "source": [
    "### 33. Write a Pandas program to replace missing white spaces in a given string with the least frequent character."
   ]
  },
  {
   "cell_type": "markdown",
   "id": "53306805",
   "metadata": {},
   "source": [
    "### 34. Write a Pandas program to compute the autocorrelations of a given numeric series.\n",
    "### From Wikipedia:\n",
    "### Autocorrelation, also known as serial correlation, is the correlation of a signal with a delayed copy of itself as a function of delay. Informally, it is the similarity between observations as a function of the time lag between them."
   ]
  },
  {
   "cell_type": "markdown",
   "id": "971362e6",
   "metadata": {},
   "source": [
    "### 35. Write a Pandas program to create a TimeSeries to display all the Sundays of given year."
   ]
  },
  {
   "cell_type": "markdown",
   "id": "0f77742e",
   "metadata": {},
   "source": [
    "### 36. Write a Pandas program to convert given series into a dataframe with its index as another column on the dataframe."
   ]
  },
  {
   "cell_type": "markdown",
   "id": "2d4690b6",
   "metadata": {},
   "source": [
    "### 37. Write a Pandas program to stack two given series vertically and horizontally."
   ]
  },
  {
   "cell_type": "markdown",
   "id": "bd4959c2",
   "metadata": {},
   "source": [
    "### 38. Write a Pandas program to check the equality of two given series."
   ]
  },
  {
   "cell_type": "markdown",
   "id": "d128421e",
   "metadata": {},
   "source": [
    "### 39. Write a Pandas program to find the index of the first occurrence of the smallest and largest value of a given series."
   ]
  },
  {
   "cell_type": "markdown",
   "id": "909fb1f0",
   "metadata": {},
   "source": [
    "### 40. Write a Pandas program to check inequality over the index axis of a given dataframe and a given series."
   ]
  },
  {
   "cell_type": "markdown",
   "id": "a003b74b",
   "metadata": {},
   "source": []
  },
  {
   "cell_type": "markdown",
   "id": "629c7ed8",
   "metadata": {},
   "source": []
  },
  {
   "cell_type": "markdown",
   "id": "7aa3967c",
   "metadata": {},
   "source": []
  },
  {
   "cell_type": "markdown",
   "id": "f6e33fb7",
   "metadata": {},
   "source": []
  },
  {
   "cell_type": "markdown",
   "id": "37ce7136",
   "metadata": {},
   "source": [
    "###"
   ]
  },
  {
   "cell_type": "markdown",
   "id": "24a80230",
   "metadata": {},
   "source": [
    "###"
   ]
  },
  {
   "cell_type": "markdown",
   "id": "c3471ddc",
   "metadata": {},
   "source": [
    "###"
   ]
  },
  {
   "cell_type": "markdown",
   "id": "8fc051a9",
   "metadata": {},
   "source": [
    "###"
   ]
  },
  {
   "cell_type": "markdown",
   "id": "fed1580f",
   "metadata": {},
   "source": [
    "###"
   ]
  },
  {
   "cell_type": "markdown",
   "id": "f63f422c",
   "metadata": {},
   "source": [
    "###"
   ]
  },
  {
   "cell_type": "markdown",
   "id": "cd151b24",
   "metadata": {},
   "source": [
    "###"
   ]
  },
  {
   "cell_type": "markdown",
   "id": "5339b0eb",
   "metadata": {},
   "source": [
    "###"
   ]
  },
  {
   "cell_type": "markdown",
   "id": "a70cbd77",
   "metadata": {},
   "source": [
    "###"
   ]
  },
  {
   "cell_type": "markdown",
   "id": "a1a53cf7",
   "metadata": {},
   "source": [
    "###"
   ]
  },
  {
   "cell_type": "markdown",
   "id": "5592d088",
   "metadata": {},
   "source": [
    "###"
   ]
  },
  {
   "cell_type": "markdown",
   "id": "671b14c1",
   "metadata": {},
   "source": [
    "###"
   ]
  },
  {
   "cell_type": "markdown",
   "id": "daf8e8d4",
   "metadata": {},
   "source": [
    "###"
   ]
  }
 ],
 "metadata": {
  "kernelspec": {
   "display_name": "Python 3 (ipykernel)",
   "language": "python",
   "name": "python3"
  },
  "language_info": {
   "codemirror_mode": {
    "name": "ipython",
    "version": 3
   },
   "file_extension": ".py",
   "mimetype": "text/x-python",
   "name": "python",
   "nbconvert_exporter": "python",
   "pygments_lexer": "ipython3",
   "version": "3.11.4"
  }
 },
 "nbformat": 4,
 "nbformat_minor": 5
}
