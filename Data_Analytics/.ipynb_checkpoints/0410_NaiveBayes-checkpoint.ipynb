{
 "cells": [
  {
   "cell_type": "code",
   "execution_count": 3,
   "id": "cf598519",
   "metadata": {},
   "outputs": [],
   "source": [
    "import numpy as np\n",
    "import pandas as pd\n",
    "from sklearn.datasets import make_classification\n"
   ]
  },
  {
   "cell_type": "code",
   "execution_count": 4,
   "id": "b1ebb4bb",
   "metadata": {},
   "outputs": [],
   "source": [
    "x,y=make_classification(n_features=6,n_classes=3,n_samples=800,n_informative=2,random_state=1,n_clusters_per_class=1)"
   ]
  },
  {
   "cell_type": "code",
   "execution_count": 6,
   "id": "ce43d5da",
   "metadata": {},
   "outputs": [
    {
     "name": "stdout",
     "output_type": "stream",
     "text": [
      "[[ 1.34076287 -1.21573796 -0.06929943  0.84542643 -0.76549575 -1.31889683]\n",
      " [ 0.49869261 -0.23490061 -0.43071779  0.75949359 -0.42755223 -1.10296955]\n",
      " [-0.83870221  1.11953787 -0.62576716 -0.92699247  0.24284264  0.75537433]\n",
      " ...\n",
      " [ 1.44604798 -1.04922808 -0.56296398 -0.15364732 -0.99780991  0.81598915]\n",
      " [ 0.41410711 -0.65405841  0.49773464 -2.45291986 -0.05332349 -0.04538256]\n",
      " [ 0.92293213 -0.79973894 -0.11690007 -1.33230529 -0.55134594 -0.37302019]]\n"
     ]
    }
   ],
   "source": [
    "print(x)  #Input"
   ]
  },
  {
   "cell_type": "code",
   "execution_count": 7,
   "id": "85ea607f",
   "metadata": {},
   "outputs": [
    {
     "name": "stdout",
     "output_type": "stream",
     "text": [
      "[1 0 2 0 1 1 2 2 1 0 1 2 1 0 0 0 0 1 1 2 0 0 0 1 1 2 1 0 0 0 2 2 2 2 1 0 2\n",
      " 2 0 1 2 0 0 0 2 1 2 1 1 0 2 2 2 1 2 2 1 2 0 0 1 2 1 2 0 2 2 2 0 0 1 1 1 1\n",
      " 2 2 1 1 2 1 1 2 1 2 0 1 2 1 2 0 0 1 0 1 1 0 0 2 0 1 2 2 1 0 0 1 2 1 1 0 0\n",
      " 1 0 0 0 1 2 0 1 2 1 2 0 2 1 0 0 1 2 2 0 2 1 0 2 1 1 1 0 0 2 2 1 2 2 0 0 1\n",
      " 1 0 0 1 0 0 1 2 0 1 0 2 1 0 0 0 1 1 2 2 1 0 2 1 0 2 2 0 2 2 1 0 1 1 1 0 2\n",
      " 0 2 0 1 1 2 2 2 2 1 0 1 1 0 1 1 1 0 0 0 2 2 1 2 0 1 0 2 2 0 1 2 2 0 1 0 1\n",
      " 1 2 2 0 1 1 0 2 1 0 1 2 1 1 1 1 0 0 2 2 1 2 2 2 0 2 1 1 0 1 2 1 0 0 1 2 0\n",
      " 2 1 1 1 1 1 2 1 0 2 1 1 1 2 0 0 2 2 0 0 1 1 2 0 0 1 0 0 0 0 2 1 2 2 0 0 0\n",
      " 2 1 2 2 1 0 0 1 2 1 0 2 2 0 0 1 1 0 2 0 1 2 0 0 1 1 0 0 2 0 1 1 0 2 2 2 2\n",
      " 0 0 2 2 2 2 0 2 0 1 0 2 2 2 0 2 2 2 2 2 2 2 2 2 2 1 1 1 2 0 0 1 2 2 1 0 2\n",
      " 1 2 1 0 0 1 1 0 0 0 1 0 1 1 2 1 0 2 0 1 2 1 1 1 0 2 1 0 1 2 2 0 1 2 2 2 2\n",
      " 1 0 0 0 2 0 0 0 1 1 0 0 1 2 2 2 1 1 1 1 2 2 0 2 2 1 0 2 2 2 1 1 2 2 0 2 2\n",
      " 2 0 0 0 0 1 2 0 0 1 1 2 1 0 1 1 0 2 0 2 0 2 0 1 1 0 0 2 1 0 2 2 0 1 2 2 1\n",
      " 0 2 0 1 1 0 2 1 1 1 1 1 2 1 1 0 1 1 1 0 2 0 1 2 0 1 1 2 2 2 2 1 0 1 2 1 2\n",
      " 1 1 2 1 1 0 0 2 2 1 0 0 2 2 0 1 1 0 1 1 2 0 1 2 2 1 2 1 2 2 0 1 2 2 2 1 1\n",
      " 2 2 1 0 0 0 2 1 1 2 0 0 2 0 1 0 2 1 0 2 2 2 1 0 1 0 2 2 2 2 1 0 1 1 1 2 1\n",
      " 1 1 1 0 0 0 0 2 1 2 2 0 2 0 0 1 0 2 0 0 1 1 0 0 1 0 0 0 1 1 2 2 0 1 0 2 0\n",
      " 1 1 2 0 0 2 0 0 2 2 1 2 1 0 1 1 2 1 0 2 2 2 2 2 1 0 1 0 1 0 2 0 1 0 0 0 1\n",
      " 0 0 2 2 1 2 1 2 1 0 0 1 0 1 1 1 2 2 1 1 1 0 2 0 2 2 2 0 2 2 0 1 1 2 1 0 1\n",
      " 1 2 1 1 0 0 0 0 0 0 0 2 2 1 1 0 0 0 0 0 1 1 2 1 2 1 0 0 2 1 0 0 1 1 0 1 0\n",
      " 2 2 0 2 2 1 0 1 2 2 0 1 1 1 0 0 2 0 2 2 2 2 1 0 0 0 1 0 2 1 1 0 0 2 2 0 0\n",
      " 2 0 1 0 2 2 1 0 0 2 1 1 0 1 0 2 2 2 2 0 1 2 0]\n"
     ]
    }
   ],
   "source": [
    "print(y) # Output classified data in 2 classes 0/1/2"
   ]
  },
  {
   "cell_type": "code",
   "execution_count": null,
   "id": "d4fddb5f",
   "metadata": {},
   "outputs": [],
   "source": []
  }
 ],
 "metadata": {
  "kernelspec": {
   "display_name": "Python 3 (ipykernel)",
   "language": "python",
   "name": "python3"
  },
  "language_info": {
   "codemirror_mode": {
    "name": "ipython",
    "version": 3
   },
   "file_extension": ".py",
   "mimetype": "text/x-python",
   "name": "python",
   "nbconvert_exporter": "python",
   "pygments_lexer": "ipython3",
   "version": "3.11.4"
  }
 },
 "nbformat": 4,
 "nbformat_minor": 5
}
