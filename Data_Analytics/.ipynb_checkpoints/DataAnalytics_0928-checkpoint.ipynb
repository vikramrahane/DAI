{
 "cells": [
  {
   "cell_type": "code",
   "execution_count": 2,
   "id": "4d82fa08",
   "metadata": {},
   "outputs": [],
   "source": [
    "import pandas as pd"
   ]
  },
  {
   "cell_type": "code",
   "execution_count": 2,
   "id": "2b611c61",
   "metadata": {},
   "outputs": [
    {
     "data": {
      "text/plain": [
       "0    11\n",
       "1    28\n",
       "2    72\n",
       "3     3\n",
       "4     5\n",
       "5     8\n",
       "dtype: int64"
      ]
     },
     "execution_count": 2,
     "metadata": {},
     "output_type": "execute_result"
    }
   ],
   "source": [
    "s=pd.Series([11,28,72,3,5,8])\n",
    "s"
   ]
  },
  {
   "cell_type": "code",
   "execution_count": 6,
   "id": "51295d69",
   "metadata": {},
   "outputs": [
    {
     "name": "stdout",
     "output_type": "stream",
     "text": [
      "0\n",
      "1\n",
      "2\n",
      "3\n",
      "4\n",
      "5\n"
     ]
    }
   ],
   "source": [
    "for i in s.index:\n",
    "    print(i)"
   ]
  },
  {
   "cell_type": "code",
   "execution_count": 7,
   "id": "9338fd89",
   "metadata": {},
   "outputs": [],
   "source": [
    "s=pd.Series([1,2,3,4,5],['Pune','Mumbai','NAshik','Akola','Delhi'])"
   ]
  },
  {
   "cell_type": "code",
   "execution_count": 8,
   "id": "65cd4b61",
   "metadata": {},
   "outputs": [
    {
     "data": {
      "text/plain": [
       "Pune      1\n",
       "Mumbai    2\n",
       "NAshik    3\n",
       "Akola     4\n",
       "Delhi     5\n",
       "dtype: int64"
      ]
     },
     "execution_count": 8,
     "metadata": {},
     "output_type": "execute_result"
    }
   ],
   "source": [
    "s"
   ]
  },
  {
   "cell_type": "code",
   "execution_count": 9,
   "id": "dc085ab1",
   "metadata": {},
   "outputs": [
    {
     "data": {
      "text/plain": [
       "P      Pune\n",
       "M    Mumbai\n",
       "N    NAshik\n",
       "A     Akola\n",
       "D     Delhi\n",
       "dtype: object"
      ]
     },
     "execution_count": 9,
     "metadata": {},
     "output_type": "execute_result"
    }
   ],
   "source": [
    "s=pd.Series(data=['Pune','Mumbai','NAshik','Akola','Delhi'],index=['P',\"M\",'N','A','D'])\n",
    "s"
   ]
  },
  {
   "cell_type": "code",
   "execution_count": 4,
   "id": "d89d9884",
   "metadata": {},
   "outputs": [
    {
     "data": {
      "text/plain": [
       "Prada     0\n",
       "Viki     99\n",
       "Ram      98\n",
       "dtype: int64"
      ]
     },
     "execution_count": 4,
     "metadata": {},
     "output_type": "execute_result"
    }
   ],
   "source": [
    "d={'Prada':0,'Viki':99,'Ram':98}\n",
    "s=pd.Series(d)\n",
    "s"
   ]
  },
  {
   "cell_type": "code",
   "execution_count": 8,
   "id": "cdf97369",
   "metadata": {},
   "outputs": [],
   "source": [
    "q1={'JApan':80,'China':450,'India':200,'USA':250}\n",
    "q2={'JApan':100,'China':500,'India':210,'USA':260}\n",
    "sales_q1=pd.Series(q1)\n",
    "sales_q2=pd.Series(q2)"
   ]
  },
  {
   "cell_type": "code",
   "execution_count": 9,
   "id": "bbd95b44",
   "metadata": {},
   "outputs": [
    {
     "data": {
      "text/plain": [
       "JApan     80\n",
       "China    450\n",
       "India    200\n",
       "USA      250\n",
       "dtype: int64"
      ]
     },
     "execution_count": 9,
     "metadata": {},
     "output_type": "execute_result"
    }
   ],
   "source": [
    "sales_q1"
   ]
  },
  {
   "cell_type": "code",
   "execution_count": 10,
   "id": "ee4ac702",
   "metadata": {},
   "outputs": [
    {
     "data": {
      "text/plain": [
       "JApan    100\n",
       "China    500\n",
       "India    210\n",
       "USA      260\n",
       "dtype: int64"
      ]
     },
     "execution_count": 10,
     "metadata": {},
     "output_type": "execute_result"
    }
   ],
   "source": [
    "sales_q2"
   ]
  },
  {
   "cell_type": "code",
   "execution_count": 11,
   "id": "43ebdeec",
   "metadata": {},
   "outputs": [
    {
     "data": {
      "text/plain": [
       "80"
      ]
     },
     "execution_count": 11,
     "metadata": {},
     "output_type": "execute_result"
    }
   ],
   "source": [
    "sales_q1[0]"
   ]
  },
  {
   "cell_type": "code",
   "execution_count": 12,
   "id": "3f486a69",
   "metadata": {},
   "outputs": [
    {
     "data": {
      "text/plain": [
       "100"
      ]
     },
     "execution_count": 12,
     "metadata": {},
     "output_type": "execute_result"
    }
   ],
   "source": [
    "sales_q2['JApan']"
   ]
  },
  {
   "cell_type": "code",
   "execution_count": null,
   "id": "d493ca55",
   "metadata": {},
   "outputs": [],
   "source": []
  },
  {
   "cell_type": "code",
   "execution_count": null,
   "id": "92ba198d",
   "metadata": {},
   "outputs": [],
   "source": []
  }
 ],
 "metadata": {
  "kernelspec": {
   "display_name": "Python 3 (ipykernel)",
   "language": "python",
   "name": "python3"
  },
  "language_info": {
   "codemirror_mode": {
    "name": "ipython",
    "version": 3
   },
   "file_extension": ".py",
   "mimetype": "text/x-python",
   "name": "python",
   "nbconvert_exporter": "python",
   "pygments_lexer": "ipython3",
   "version": "3.11.4"
  }
 },
 "nbformat": 4,
 "nbformat_minor": 5
}
