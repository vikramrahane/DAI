{
 "cells": [
  {
   "cell_type": "code",
   "execution_count": 1,
   "id": "f3a8687c",
   "metadata": {},
   "outputs": [],
   "source": [
    "import pandas as pd\n",
    "import numpy as np\n",
    "import matplotlib.pyplot as plt"
   ]
  },
  {
   "cell_type": "code",
   "execution_count": 36,
   "id": "74c915ac",
   "metadata": {},
   "outputs": [
    {
     "data": {
      "text/html": [
       "<div>\n",
       "<style scoped>\n",
       "    .dataframe tbody tr th:only-of-type {\n",
       "        vertical-align: middle;\n",
       "    }\n",
       "\n",
       "    .dataframe tbody tr th {\n",
       "        vertical-align: top;\n",
       "    }\n",
       "\n",
       "    .dataframe thead th {\n",
       "        text-align: right;\n",
       "    }\n",
       "</style>\n",
       "<table border=\"1\" class=\"dataframe\">\n",
       "  <thead>\n",
       "    <tr style=\"text-align: right;\">\n",
       "      <th></th>\n",
       "      <th>Gender</th>\n",
       "      <th>Age</th>\n",
       "    </tr>\n",
       "  </thead>\n",
       "  <tbody>\n",
       "    <tr>\n",
       "      <th>0</th>\n",
       "      <td>Male</td>\n",
       "      <td>20</td>\n",
       "    </tr>\n",
       "    <tr>\n",
       "      <th>1</th>\n",
       "      <td>Female</td>\n",
       "      <td>31</td>\n",
       "    </tr>\n",
       "    <tr>\n",
       "      <th>2</th>\n",
       "      <td>Male</td>\n",
       "      <td>35</td>\n",
       "    </tr>\n",
       "    <tr>\n",
       "      <th>3</th>\n",
       "      <td>Female</td>\n",
       "      <td>34</td>\n",
       "    </tr>\n",
       "    <tr>\n",
       "      <th>4</th>\n",
       "      <td>Male</td>\n",
       "      <td>18</td>\n",
       "    </tr>\n",
       "    <tr>\n",
       "      <th>5</th>\n",
       "      <td>Female</td>\n",
       "      <td>28</td>\n",
       "    </tr>\n",
       "    <tr>\n",
       "      <th>6</th>\n",
       "      <td>Male</td>\n",
       "      <td>44</td>\n",
       "    </tr>\n",
       "    <tr>\n",
       "      <th>7</th>\n",
       "      <td>Female</td>\n",
       "      <td>39</td>\n",
       "    </tr>\n",
       "  </tbody>\n",
       "</table>\n",
       "</div>"
      ],
      "text/plain": [
       "   Gender  Age\n",
       "0    Male   20\n",
       "1  Female   31\n",
       "2    Male   35\n",
       "3  Female   34\n",
       "4    Male   18\n",
       "5  Female   28\n",
       "6    Male   44\n",
       "7  Female   39"
      ]
     },
     "execution_count": 36,
     "metadata": {},
     "output_type": "execute_result"
    }
   ],
   "source": [
    "df=pd.DataFrame({'Gender':['Male','Female','Male','Female','Male','Female','Male','Female'],\n",
    "                 'Age':[20,31,35,34,18,28,44,39]})\n",
    "df"
   ]
  },
  {
   "cell_type": "code",
   "execution_count": 37,
   "id": "fc8082c7",
   "metadata": {},
   "outputs": [
    {
     "data": {
      "text/plain": [
       "3"
      ]
     },
     "execution_count": 37,
     "metadata": {},
     "output_type": "execute_result"
    }
   ],
   "source": [
    "len(df[(df['Gender']=='Female') & (df['Age']>30)])"
   ]
  },
  {
   "cell_type": "code",
   "execution_count": 38,
   "id": "d749b9ee",
   "metadata": {},
   "outputs": [
    {
     "data": {
      "text/plain": [
       "0.375"
      ]
     },
     "execution_count": 38,
     "metadata": {},
     "output_type": "execute_result"
    }
   ],
   "source": [
    "# B - Gender is Female  A - age>30\n",
    "#P(A and B)\n",
    "p_a_and_b=len(df[(df['Gender']=='Female') & (df['Age']>30)])/len(df)\n",
    "p_a_and_b"
   ]
  },
  {
   "cell_type": "code",
   "execution_count": 42,
   "id": "99d9eaab",
   "metadata": {},
   "outputs": [
    {
     "data": {
      "text/plain": [
       "0.5"
      ]
     },
     "execution_count": 42,
     "metadata": {},
     "output_type": "execute_result"
    }
   ],
   "source": [
    "#P(B)\n",
    "p_b=len(df[df['Gender']=='Female'])/len(df)\n",
    "p_b"
   ]
  },
  {
   "cell_type": "code",
   "execution_count": 43,
   "id": "a7f15424",
   "metadata": {},
   "outputs": [
    {
     "data": {
      "text/plain": [
       "0.625"
      ]
     },
     "execution_count": 43,
     "metadata": {},
     "output_type": "execute_result"
    }
   ],
   "source": [
    "#P(A)\n",
    "p_a=len(df[df['Age']>30])/len(df)\n",
    "p_a"
   ]
  },
  {
   "cell_type": "code",
   "execution_count": 44,
   "id": "f165f44d",
   "metadata": {},
   "outputs": [
    {
     "data": {
      "text/plain": [
       "0.75"
      ]
     },
     "execution_count": 44,
     "metadata": {},
     "output_type": "execute_result"
    }
   ],
   "source": [
    "#P(A|B)\n",
    "p_a_given_b=p_a_and_b/p_b\n",
    "p_a_given_b"
   ]
  },
  {
   "cell_type": "code",
   "execution_count": 50,
   "id": "d4fbb385",
   "metadata": {},
   "outputs": [
    {
     "data": {
      "text/plain": [
       "0.6"
      ]
     },
     "execution_count": 50,
     "metadata": {},
     "output_type": "execute_result"
    }
   ],
   "source": [
    "#P(B|A)\n",
    "p_b_given_a=p_a_and_b/p_a\n",
    "p_b_given_a"
   ]
  },
  {
   "cell_type": "code",
   "execution_count": 45,
   "id": "23534c2e",
   "metadata": {},
   "outputs": [],
   "source": [
    "#Group the DataFrame by Gender\n",
    "g=df.groupby('Gender')"
   ]
  },
  {
   "cell_type": "code",
   "execution_count": 46,
   "id": "c4ff2b9c",
   "metadata": {},
   "outputs": [
    {
     "data": {
      "text/plain": [
       "Gender\n",
       "Female    3\n",
       "Male      2\n",
       "Name: Age, dtype: int64"
      ]
     },
     "execution_count": 46,
     "metadata": {},
     "output_type": "execute_result"
    }
   ],
   "source": [
    "# count the no of people in each group who are over 30\n",
    "over_30_count=g['Age'].apply(lambda x:(x>30).sum())\n",
    "over_30_count"
   ]
  },
  {
   "cell_type": "code",
   "execution_count": 47,
   "id": "2e264a13",
   "metadata": {},
   "outputs": [
    {
     "data": {
      "text/plain": [
       "Gender\n",
       "Female    4\n",
       "Male      4\n",
       "Name: Age, dtype: int64"
      ]
     },
     "execution_count": 47,
     "metadata": {},
     "output_type": "execute_result"
    }
   ],
   "source": [
    "#count the total no of people in each group\n",
    "total_cnt=g['Age'].count()\n",
    "total_cnt"
   ]
  },
  {
   "cell_type": "code",
   "execution_count": 48,
   "id": "75216bde",
   "metadata": {},
   "outputs": [
    {
     "data": {
      "text/plain": [
       "Gender\n",
       "Female    0.75\n",
       "Male      0.50\n",
       "Name: Age, dtype: float64"
      ]
     },
     "execution_count": 48,
     "metadata": {},
     "output_type": "execute_result"
    }
   ],
   "source": [
    "#calculate the conditional probability for each group\n",
    "cond_prob=over_30_count/total_cnt\n",
    "cond_prob"
   ]
  },
  {
   "cell_type": "code",
   "execution_count": 49,
   "id": "5e7761b9",
   "metadata": {},
   "outputs": [
    {
     "data": {
      "image/png": "[encoded data removed]",
      "text/plain": [
       "<Figure size 640x480 with 1 Axes>"
      ]
     },
     "metadata": {},
     "output_type": "display_data"
    }
   ],
   "source": [
    "# create bar chart\n",
    "plt.bar(cond_prob.index,cond_prob)\n",
    "#Add labels and title\n",
    "plt.xlabel(\"Gender\")\n",
    "plt.ylabel(\"Probability\")\n",
    "plt.title(\"Probability of being over 30\")\n",
    "#show the plot\n",
    "plt.show()"
   ]
  },
  {
   "cell_type": "markdown",
   "id": "d1c7d050",
   "metadata": {},
   "source": [
    "## Example 2"
   ]
  },
  {
   "cell_type": "code",
   "execution_count": 52,
   "id": "bfee6211",
   "metadata": {},
   "outputs": [],
   "source": [
    "from numpy import random\n",
    "random.seed(0) # ensures that if we return the code, we will get the same random numbers"
   ]
  },
  {
   "cell_type": "code",
   "execution_count": 53,
   "id": "cadbc0c8",
   "metadata": {},
   "outputs": [],
   "source": [
    "#total no of people in each group\n",
    "totals={20:0,30:0,40:0,50:0,60:0,70:0}"
   ]
  },
  {
   "cell_type": "code",
   "execution_count": 55,
   "id": "b42efd8c",
   "metadata": {},
   "outputs": [],
   "source": [
    "purchases={20:0,30:0,40:0,50:0,60:0,70:0}\n",
    "total_purchase=0"
   ]
  },
  {
   "cell_type": "code",
   "execution_count": 56,
   "id": "377a2455",
   "metadata": {},
   "outputs": [
    {
     "name": "stdout",
     "output_type": "stream",
     "text": [
      "{20: 16576, 30: 16619, 40: 16632, 50: 16805, 60: 16664, 70: 16704}\n",
      "{20: 3392, 30: 4974, 40: 6670, 50: 8319, 60: 9944, 70: 11713}\n",
      "45012\n"
     ]
    }
   ],
   "source": [
    "for _ in range(100000):\n",
    "    ageDecade=random.choice([20,30,40,50,60,70])  # select one of these\n",
    "    purchase_prob=float(ageDecade)/100.0 # lesser the age, lesser the probability\n",
    "    totals[ageDecade]+=1\n",
    "    \n",
    "    \n",
    "    if(random.random()<purchase_prob):\n",
    "        total_purchase+=1\n",
    "        purchases[ageDecade]+=1\n",
    "print(totals)\n",
    "print(purchases)\n",
    "print(total_purchase)"
   ]
  },
  {
   "cell_type": "code",
   "execution_count": 57,
   "id": "99fe22f4",
   "metadata": {},
   "outputs": [
    {
     "name": "stdout",
     "output_type": "stream",
     "text": [
      "P(Purchase|30s):0.29929598652145134\n"
     ]
    }
   ],
   "source": [
    "'''Conditional Probability\n",
    "    First we calculate P(E|F), where E is \"Purchase\" and F is \"you'r in 30's\"        \n",
    "        '''\n",
    "PEF=float(purchases[30])/float(totals[30])\n",
    "print(\"P(Purchase|30s):\"+str(PEF))"
   ]
  },
  {
   "cell_type": "code",
   "execution_count": 59,
   "id": "2d03d8e3",
   "metadata": {},
   "outputs": [
    {
     "name": "stdout",
     "output_type": "stream",
     "text": [
      "P(30s):0.16619\n"
     ]
    }
   ],
   "source": [
    "# P(F) is just probability of being 30 in this data set:\n",
    "PF=float(totals[30])/100000\n",
    "print(\"P(30s):\"+str(PF))"
   ]
  },
  {
   "cell_type": "code",
   "execution_count": null,
   "id": "de0d0600",
   "metadata": {},
   "outputs": [],
   "source": []
  },
  {
   "cell_type": "code",
   "execution_count": 60,
   "id": "1b80fa00",
   "metadata": {},
   "outputs": [
    {
     "name": "stdout",
     "output_type": "stream",
     "text": [
      "P(Purchase|70s):0.7012092911877394\n",
      "P(70s):0.16704\n"
     ]
    }
   ],
   "source": [
    "'''Conditional Probability\n",
    "    First we calculate P(E|F), where E is \"Purchase\" and F is \"you'r in 70's\"\n",
    "        \n",
    "        '''\n",
    "PEF=float(purchases[70])/float(totals[70])\n",
    "print(\"P(Purchase|70s):\"+str(PEF))\n",
    "# P(F) is just probability of being 70 in this data set:\n",
    "PF=float(totals[70])/100000\n",
    "print(\"P(70s):\"+str(PF))"
   ]
  },
  {
   "cell_type": "code",
   "execution_count": 61,
   "id": "401886d4",
   "metadata": {},
   "outputs": [
    {
     "name": "stdout",
     "output_type": "stream",
     "text": [
      "P(E):0.45012\n"
     ]
    }
   ],
   "source": [
    "# P(E) is just over all probability of buying something, regardless of age\n",
    "PE=float(total_purchase)/100000\n",
    "print(\"P(E):\"+str(PE))"
   ]
  },
  {
   "cell_type": "code",
   "execution_count": 63,
   "id": "0d2bf659",
   "metadata": {},
   "outputs": [
    {
     "name": "stdout",
     "output_type": "stream",
     "text": [
      "P(30s,Purchase): 0.04974\n"
     ]
    }
   ],
   "source": [
    "print(\"P(30s,Purchase): \" +str(float(purchases[30])/100000))"
   ]
  },
  {
   "cell_type": "code",
   "execution_count": 64,
   "id": "179e53c6",
   "metadata": {},
   "outputs": [
    {
     "name": "stdout",
     "output_type": "stream",
     "text": [
      "P(70s,Purchase): 0.11713\n"
     ]
    }
   ],
   "source": [
    "print(\"P(70s,Purchase): \" +str(float(purchases[70])/100000))"
   ]
  },
  {
   "cell_type": "code",
   "execution_count": 65,
   "id": "608a5c32",
   "metadata": {},
   "outputs": [
    {
     "data": {
      "text/plain": [
       "'Exercise: purchase probability does not vary with age, making E and F actually independent. then confirm\\n    that P(E|F) is about the same as P(E) showing that the conditional probability of Purchase for given age is not \\n    any different than the probability of purchase regardless of age'"
      ]
     },
     "execution_count": 65,
     "metadata": {},
     "output_type": "execute_result"
    }
   ],
   "source": [
    "'''Exercise: purchase probability does not vary with age, making E and F actually independent. then confirm\n",
    "    that P(E|F) is about the same as P(E) showing that the conditional probability of Purchase for given age is not \n",
    "    any different than the probability of purchase regardless of age'''"
   ]
  },
  {
   "cell_type": "code",
   "execution_count": 71,
   "id": "36f18238",
   "metadata": {},
   "outputs": [
    {
     "name": "stdout",
     "output_type": "stream",
     "text": [
      "{20: 16862, 30: 16729, 40: 16406, 50: 16866, 60: 16506, 70: 16631}\n",
      "{20: 16862, 30: 16729, 40: 16406, 50: 16866, 60: 16506, 70: 16631}\n",
      "100000\n"
     ]
    }
   ],
   "source": [
    "#total no of people in each group\n",
    "totals={20:0,30:0,40:0,50:0,60:0,70:0}\n",
    "purchases={20:0,30:0,40:0,50:0,60:0,70:0}\n",
    "total_purchase=0\n",
    "for _ in range(100000):\n",
    "    ageDecade=random.choice([20,30,40,50,60,70])  # select one of these\n",
    "    purchase_prob=float(ageDecade)/100.0 # lesser the age, lesser the probability\n",
    "    totals[ageDecade]+=1    \n",
    "    \n",
    "    #if(random.random()<purchase_prob):\n",
    "    total_purchase+=1\n",
    "    purchases[ageDecade]+=1\n",
    "print(totals)\n",
    "print(purchases)\n",
    "print(total_purchase)"
   ]
  },
  {
   "cell_type": "code",
   "execution_count": 73,
   "id": "9ec84aba",
   "metadata": {},
   "outputs": [
    {
     "name": "stdout",
     "output_type": "stream",
     "text": [
      "{20: 16697, 30: 16482, 40: 16861, 50: 16691, 60: 16740, 70: 16529}\n",
      "{20: 6631, 30: 6577, 40: 6719, 50: 6569, 60: 6719, 70: 6678}\n",
      "39893\n"
     ]
    }
   ],
   "source": [
    "#total no of people in each group\n",
    "totals={20:0,30:0,40:0,50:0,60:0,70:0}\n",
    "purchases={20:0,30:0,40:0,50:0,60:0,70:0}\n",
    "total_purchase=0\n",
    "for _ in range(100000):\n",
    "    ageDecade=random.choice([20,30,40,50,60,70])  # select one of these\n",
    "    purchase_prob=float(ageDecade)/100.0 # lesser the age, lesser the probability\n",
    "    totals[ageDecade]+=1    \n",
    "    \n",
    "    if(random.random()<0.4):\n",
    "        total_purchase+=1\n",
    "        purchases[ageDecade]+=1\n",
    "print(totals)\n",
    "print(purchases)\n",
    "print(total_purchase)"
   ]
  },
  {
   "cell_type": "code",
   "execution_count": 74,
   "id": "9778cc07",
   "metadata": {},
   "outputs": [
    {
     "name": "stdout",
     "output_type": "stream",
     "text": [
      "P(Purchase|30s):0.39904137847348625\n",
      "P(30s):0.16482\n"
     ]
    }
   ],
   "source": [
    "'''Conditional Probability\n",
    "    First we calculate P(E|F), where E is \"Purchase\" and F is \"you'r in 30's\"        \n",
    "        '''\n",
    "PEF=float(purchases[30])/float(totals[30])\n",
    "print(\"P(Purchase|30s):\"+str(PEF))\n",
    "# P(F) is just probability of being 30 in this data set:\n",
    "PF=float(totals[30])/100000\n",
    "print(\"P(30s):\"+str(PF))"
   ]
  },
  {
   "cell_type": "code",
   "execution_count": null,
   "id": "52b5e415",
   "metadata": {},
   "outputs": [],
   "source": []
  },
  {
   "cell_type": "code",
   "execution_count": null,
   "id": "e88520bf",
   "metadata": {},
   "outputs": [],
   "source": []
  },
  {
   "cell_type": "code",
   "execution_count": null,
   "id": "69f166de",
   "metadata": {},
   "outputs": [],
   "source": []
  },
  {
   "cell_type": "code",
   "execution_count": null,
   "id": "1b069932",
   "metadata": {},
   "outputs": [],
   "source": []
  },
  {
   "cell_type": "code",
   "execution_count": null,
   "id": "9a3425c3",
   "metadata": {},
   "outputs": [],
   "source": []
  },
  {
   "cell_type": "code",
   "execution_count": null,
   "id": "5709faa0",
   "metadata": {},
   "outputs": [],
   "source": []
  },
  {
   "cell_type": "code",
   "execution_count": null,
   "id": "dd463631",
   "metadata": {},
   "outputs": [],
   "source": []
  },
  {
   "cell_type": "code",
   "execution_count": null,
   "id": "74ffe8a2",
   "metadata": {},
   "outputs": [],
   "source": []
  }
 ],
 "metadata": {
  "kernelspec": {
   "display_name": "Python 3 (ipykernel)",
   "language": "python",
   "name": "python3"
  },
  "language_info": {
   "codemirror_mode": {
    "name": "ipython",
    "version": 3
   },
   "file_extension": ".py",
   "mimetype": "text/x-python",
   "name": "python",
   "nbconvert_exporter": "python",
   "pygments_lexer": "ipython3",
   "version": "3.11.4"
  }
 },
 "nbformat": 4,
 "nbformat_minor": 5
}
