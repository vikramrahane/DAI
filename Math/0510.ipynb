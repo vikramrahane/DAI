{
 "cells": [
  {
   "cell_type": "code",
   "execution_count": 2,
   "id": "74c2a297",
   "metadata": {},
   "outputs": [],
   "source": [
    "from sympy.abc import x,y,z\n",
    "from sympy import exp, Matrix, pprint, sin"
   ]
  },
  {
   "cell_type": "code",
   "execution_count": null,
   "id": "23fbb47c",
   "metadata": {},
   "outputs": [],
   "source": [
    "#Ex1\n",
    "f= Matrix([x,5*])"
   ]
  }
 ],
 "metadata": {
  "kernelspec": {
   "display_name": "Python 3 (ipykernel)",
   "language": "python",
   "name": "python3"
  },
  "language_info": {
   "codemirror_mode": {
    "name": "ipython",
    "version": 3
   },
   "file_extension": ".py",
   "mimetype": "text/x-python",
   "name": "python",
   "nbconvert_exporter": "python",
   "pygments_lexer": "ipython3",
   "version": "3.11.4"
  }
 },
 "nbformat": 4,
 "nbformat_minor": 5
}
