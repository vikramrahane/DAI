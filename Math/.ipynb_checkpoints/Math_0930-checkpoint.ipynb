{
 "cells": [
  {
   "cell_type": "code",
   "execution_count": 1,
   "id": "9f009eba",
   "metadata": {},
   "outputs": [],
   "source": [
    "import pandas as pd\n",
    "import numpy as np\n",
    "from numpy import linalg as la"
   ]
  },
  {
   "cell_type": "code",
   "execution_count": 2,
   "id": "d5251055",
   "metadata": {},
   "outputs": [],
   "source": [
    "housing=pd.read_csv(\"Housing.csv\")"
   ]
  },
  {
   "cell_type": "code",
   "execution_count": 3,
   "id": "61b9e1a2",
   "metadata": {},
   "outputs": [
    {
     "data": {
      "text/html": [
       "<div>\n",
       "<style scoped>\n",
       "    .dataframe tbody tr th:only-of-type {\n",
       "        vertical-align: middle;\n",
       "    }\n",
       "\n",
       "    .dataframe tbody tr th {\n",
       "        vertical-align: top;\n",
       "    }\n",
       "\n",
       "    .dataframe thead th {\n",
       "        text-align: right;\n",
       "    }\n",
       "</style>\n",
       "<table border=\"1\" class=\"dataframe\">\n",
       "  <thead>\n",
       "    <tr style=\"text-align: right;\">\n",
       "      <th></th>\n",
       "      <th>price</th>\n",
       "      <th>lotsize</th>\n",
       "      <th>bedrooms</th>\n",
       "      <th>bathrms</th>\n",
       "      <th>stories</th>\n",
       "      <th>driveway</th>\n",
       "      <th>recroom</th>\n",
       "      <th>fullbase</th>\n",
       "      <th>gashw</th>\n",
       "      <th>airco</th>\n",
       "      <th>garagepl</th>\n",
       "      <th>prefarea</th>\n",
       "    </tr>\n",
       "  </thead>\n",
       "  <tbody>\n",
       "    <tr>\n",
       "      <th>541</th>\n",
       "      <td>91500.0</td>\n",
       "      <td>4800</td>\n",
       "      <td>3</td>\n",
       "      <td>2</td>\n",
       "      <td>4</td>\n",
       "      <td>yes</td>\n",
       "      <td>yes</td>\n",
       "      <td>no</td>\n",
       "      <td>no</td>\n",
       "      <td>yes</td>\n",
       "      <td>0</td>\n",
       "      <td>no</td>\n",
       "    </tr>\n",
       "    <tr>\n",
       "      <th>542</th>\n",
       "      <td>94000.0</td>\n",
       "      <td>6000</td>\n",
       "      <td>3</td>\n",
       "      <td>2</td>\n",
       "      <td>4</td>\n",
       "      <td>yes</td>\n",
       "      <td>no</td>\n",
       "      <td>no</td>\n",
       "      <td>no</td>\n",
       "      <td>yes</td>\n",
       "      <td>0</td>\n",
       "      <td>no</td>\n",
       "    </tr>\n",
       "    <tr>\n",
       "      <th>543</th>\n",
       "      <td>103000.0</td>\n",
       "      <td>6000</td>\n",
       "      <td>3</td>\n",
       "      <td>2</td>\n",
       "      <td>4</td>\n",
       "      <td>yes</td>\n",
       "      <td>yes</td>\n",
       "      <td>no</td>\n",
       "      <td>no</td>\n",
       "      <td>yes</td>\n",
       "      <td>1</td>\n",
       "      <td>no</td>\n",
       "    </tr>\n",
       "    <tr>\n",
       "      <th>544</th>\n",
       "      <td>105000.0</td>\n",
       "      <td>6000</td>\n",
       "      <td>3</td>\n",
       "      <td>2</td>\n",
       "      <td>2</td>\n",
       "      <td>yes</td>\n",
       "      <td>yes</td>\n",
       "      <td>no</td>\n",
       "      <td>no</td>\n",
       "      <td>yes</td>\n",
       "      <td>1</td>\n",
       "      <td>no</td>\n",
       "    </tr>\n",
       "    <tr>\n",
       "      <th>545</th>\n",
       "      <td>105000.0</td>\n",
       "      <td>6000</td>\n",
       "      <td>3</td>\n",
       "      <td>1</td>\n",
       "      <td>2</td>\n",
       "      <td>yes</td>\n",
       "      <td>no</td>\n",
       "      <td>no</td>\n",
       "      <td>no</td>\n",
       "      <td>yes</td>\n",
       "      <td>1</td>\n",
       "      <td>no</td>\n",
       "    </tr>\n",
       "  </tbody>\n",
       "</table>\n",
       "</div>"
      ],
      "text/plain": [
       "        price  lotsize  bedrooms  bathrms  stories driveway recroom fullbase  \\\n",
       "541   91500.0     4800         3        2        4      yes     yes       no   \n",
       "542   94000.0     6000         3        2        4      yes      no       no   \n",
       "543  103000.0     6000         3        2        4      yes     yes       no   \n",
       "544  105000.0     6000         3        2        2      yes     yes       no   \n",
       "545  105000.0     6000         3        1        2      yes      no       no   \n",
       "\n",
       "    gashw airco  garagepl prefarea  \n",
       "541    no   yes         0       no  \n",
       "542    no   yes         0       no  \n",
       "543    no   yes         1       no  \n",
       "544    no   yes         1       no  \n",
       "545    no   yes         1       no  "
      ]
     },
     "execution_count": 3,
     "metadata": {},
     "output_type": "execute_result"
    }
   ],
   "source": [
    "housing.tail()"
   ]
  },
  {
   "cell_type": "code",
   "execution_count": 4,
   "id": "5d67717e",
   "metadata": {},
   "outputs": [],
   "source": [
    "x1=housing['lotsize']\n",
    "y=housing['price']\n",
    "n=len(x1)"
   ]
  },
  {
   "cell_type": "code",
   "execution_count": 5,
   "id": "b2ec37a8",
   "metadata": {},
   "outputs": [],
   "source": [
    "sx1=np.sum(x1)\n",
    "sy=np.sum(y)\n",
    "sx12=np.sum(x1*x1)\n",
    "sx1y=np.sum(x1*y)\n",
    "a=np.array([[n,sx1],[sx1,sx12]])\n",
    "b=np.array([sy,sx1y])"
   ]
  },
  {
   "cell_type": "code",
   "execution_count": 6,
   "id": "849a1580",
   "metadata": {},
   "outputs": [],
   "source": [
    "sol=la.solve(a,b)"
   ]
  },
  {
   "cell_type": "code",
   "execution_count": 7,
   "id": "d2db5dac",
   "metadata": {},
   "outputs": [
    {
     "data": {
      "text/plain": [
       "array([3.41361916e+04, 6.59876759e+00])"
      ]
     },
     "execution_count": 7,
     "metadata": {},
     "output_type": "execute_result"
    }
   ],
   "source": [
    "sol"
   ]
  },
  {
   "cell_type": "code",
   "execution_count": 8,
   "id": "62861782",
   "metadata": {},
   "outputs": [
    {
     "name": "stdout",
     "output_type": "stream",
     "text": [
      "Z=  344192602448101.0\n"
     ]
    }
   ],
   "source": [
    "ycap=sol[0]+sol[1]\n",
    "print(\"Z= \",np.sum(y-ycap)**2)"
   ]
  },
  {
   "cell_type": "code",
   "execution_count": 9,
   "id": "8adbfc35",
   "metadata": {},
   "outputs": [
    {
     "data": {
      "text/html": [
       "<div>\n",
       "<style scoped>\n",
       "    .dataframe tbody tr th:only-of-type {\n",
       "        vertical-align: middle;\n",
       "    }\n",
       "\n",
       "    .dataframe tbody tr th {\n",
       "        vertical-align: top;\n",
       "    }\n",
       "\n",
       "    .dataframe thead th {\n",
       "        text-align: right;\n",
       "    }\n",
       "</style>\n",
       "<table border=\"1\" class=\"dataframe\">\n",
       "  <thead>\n",
       "    <tr style=\"text-align: right;\">\n",
       "      <th></th>\n",
       "      <th>price</th>\n",
       "      <th>lotsize</th>\n",
       "      <th>bedrooms</th>\n",
       "      <th>bathrms</th>\n",
       "      <th>stories</th>\n",
       "      <th>garagepl</th>\n",
       "      <th>driveway_no</th>\n",
       "      <th>driveway_yes</th>\n",
       "      <th>recroom_no</th>\n",
       "      <th>recroom_yes</th>\n",
       "      <th>fullbase_no</th>\n",
       "      <th>fullbase_yes</th>\n",
       "      <th>gashw_no</th>\n",
       "      <th>gashw_yes</th>\n",
       "      <th>airco_no</th>\n",
       "      <th>airco_yes</th>\n",
       "      <th>prefarea_no</th>\n",
       "      <th>prefarea_yes</th>\n",
       "    </tr>\n",
       "  </thead>\n",
       "  <tbody>\n",
       "    <tr>\n",
       "      <th>0</th>\n",
       "      <td>42000.0</td>\n",
       "      <td>5850</td>\n",
       "      <td>3</td>\n",
       "      <td>1</td>\n",
       "      <td>2</td>\n",
       "      <td>1</td>\n",
       "      <td>0</td>\n",
       "      <td>1</td>\n",
       "      <td>1</td>\n",
       "      <td>0</td>\n",
       "      <td>0</td>\n",
       "      <td>1</td>\n",
       "      <td>1</td>\n",
       "      <td>0</td>\n",
       "      <td>1</td>\n",
       "      <td>0</td>\n",
       "      <td>1</td>\n",
       "      <td>0</td>\n",
       "    </tr>\n",
       "    <tr>\n",
       "      <th>1</th>\n",
       "      <td>38500.0</td>\n",
       "      <td>4000</td>\n",
       "      <td>2</td>\n",
       "      <td>1</td>\n",
       "      <td>1</td>\n",
       "      <td>0</td>\n",
       "      <td>0</td>\n",
       "      <td>1</td>\n",
       "      <td>1</td>\n",
       "      <td>0</td>\n",
       "      <td>1</td>\n",
       "      <td>0</td>\n",
       "      <td>1</td>\n",
       "      <td>0</td>\n",
       "      <td>1</td>\n",
       "      <td>0</td>\n",
       "      <td>1</td>\n",
       "      <td>0</td>\n",
       "    </tr>\n",
       "    <tr>\n",
       "      <th>2</th>\n",
       "      <td>49500.0</td>\n",
       "      <td>3060</td>\n",
       "      <td>3</td>\n",
       "      <td>1</td>\n",
       "      <td>1</td>\n",
       "      <td>0</td>\n",
       "      <td>0</td>\n",
       "      <td>1</td>\n",
       "      <td>1</td>\n",
       "      <td>0</td>\n",
       "      <td>1</td>\n",
       "      <td>0</td>\n",
       "      <td>1</td>\n",
       "      <td>0</td>\n",
       "      <td>1</td>\n",
       "      <td>0</td>\n",
       "      <td>1</td>\n",
       "      <td>0</td>\n",
       "    </tr>\n",
       "    <tr>\n",
       "      <th>3</th>\n",
       "      <td>60500.0</td>\n",
       "      <td>6650</td>\n",
       "      <td>3</td>\n",
       "      <td>1</td>\n",
       "      <td>2</td>\n",
       "      <td>0</td>\n",
       "      <td>0</td>\n",
       "      <td>1</td>\n",
       "      <td>0</td>\n",
       "      <td>1</td>\n",
       "      <td>1</td>\n",
       "      <td>0</td>\n",
       "      <td>1</td>\n",
       "      <td>0</td>\n",
       "      <td>1</td>\n",
       "      <td>0</td>\n",
       "      <td>1</td>\n",
       "      <td>0</td>\n",
       "    </tr>\n",
       "    <tr>\n",
       "      <th>4</th>\n",
       "      <td>61000.0</td>\n",
       "      <td>6360</td>\n",
       "      <td>2</td>\n",
       "      <td>1</td>\n",
       "      <td>1</td>\n",
       "      <td>0</td>\n",
       "      <td>0</td>\n",
       "      <td>1</td>\n",
       "      <td>1</td>\n",
       "      <td>0</td>\n",
       "      <td>1</td>\n",
       "      <td>0</td>\n",
       "      <td>1</td>\n",
       "      <td>0</td>\n",
       "      <td>1</td>\n",
       "      <td>0</td>\n",
       "      <td>1</td>\n",
       "      <td>0</td>\n",
       "    </tr>\n",
       "    <tr>\n",
       "      <th>...</th>\n",
       "      <td>...</td>\n",
       "      <td>...</td>\n",
       "      <td>...</td>\n",
       "      <td>...</td>\n",
       "      <td>...</td>\n",
       "      <td>...</td>\n",
       "      <td>...</td>\n",
       "      <td>...</td>\n",
       "      <td>...</td>\n",
       "      <td>...</td>\n",
       "      <td>...</td>\n",
       "      <td>...</td>\n",
       "      <td>...</td>\n",
       "      <td>...</td>\n",
       "      <td>...</td>\n",
       "      <td>...</td>\n",
       "      <td>...</td>\n",
       "      <td>...</td>\n",
       "    </tr>\n",
       "    <tr>\n",
       "      <th>541</th>\n",
       "      <td>91500.0</td>\n",
       "      <td>4800</td>\n",
       "      <td>3</td>\n",
       "      <td>2</td>\n",
       "      <td>4</td>\n",
       "      <td>0</td>\n",
       "      <td>0</td>\n",
       "      <td>1</td>\n",
       "      <td>0</td>\n",
       "      <td>1</td>\n",
       "      <td>1</td>\n",
       "      <td>0</td>\n",
       "      <td>1</td>\n",
       "      <td>0</td>\n",
       "      <td>0</td>\n",
       "      <td>1</td>\n",
       "      <td>1</td>\n",
       "      <td>0</td>\n",
       "    </tr>\n",
       "    <tr>\n",
       "      <th>542</th>\n",
       "      <td>94000.0</td>\n",
       "      <td>6000</td>\n",
       "      <td>3</td>\n",
       "      <td>2</td>\n",
       "      <td>4</td>\n",
       "      <td>0</td>\n",
       "      <td>0</td>\n",
       "      <td>1</td>\n",
       "      <td>1</td>\n",
       "      <td>0</td>\n",
       "      <td>1</td>\n",
       "      <td>0</td>\n",
       "      <td>1</td>\n",
       "      <td>0</td>\n",
       "      <td>0</td>\n",
       "      <td>1</td>\n",
       "      <td>1</td>\n",
       "      <td>0</td>\n",
       "    </tr>\n",
       "    <tr>\n",
       "      <th>543</th>\n",
       "      <td>103000.0</td>\n",
       "      <td>6000</td>\n",
       "      <td>3</td>\n",
       "      <td>2</td>\n",
       "      <td>4</td>\n",
       "      <td>1</td>\n",
       "      <td>0</td>\n",
       "      <td>1</td>\n",
       "      <td>0</td>\n",
       "      <td>1</td>\n",
       "      <td>1</td>\n",
       "      <td>0</td>\n",
       "      <td>1</td>\n",
       "      <td>0</td>\n",
       "      <td>0</td>\n",
       "      <td>1</td>\n",
       "      <td>1</td>\n",
       "      <td>0</td>\n",
       "    </tr>\n",
       "    <tr>\n",
       "      <th>544</th>\n",
       "      <td>105000.0</td>\n",
       "      <td>6000</td>\n",
       "      <td>3</td>\n",
       "      <td>2</td>\n",
       "      <td>2</td>\n",
       "      <td>1</td>\n",
       "      <td>0</td>\n",
       "      <td>1</td>\n",
       "      <td>0</td>\n",
       "      <td>1</td>\n",
       "      <td>1</td>\n",
       "      <td>0</td>\n",
       "      <td>1</td>\n",
       "      <td>0</td>\n",
       "      <td>0</td>\n",
       "      <td>1</td>\n",
       "      <td>1</td>\n",
       "      <td>0</td>\n",
       "    </tr>\n",
       "    <tr>\n",
       "      <th>545</th>\n",
       "      <td>105000.0</td>\n",
       "      <td>6000</td>\n",
       "      <td>3</td>\n",
       "      <td>1</td>\n",
       "      <td>2</td>\n",
       "      <td>1</td>\n",
       "      <td>0</td>\n",
       "      <td>1</td>\n",
       "      <td>1</td>\n",
       "      <td>0</td>\n",
       "      <td>1</td>\n",
       "      <td>0</td>\n",
       "      <td>1</td>\n",
       "      <td>0</td>\n",
       "      <td>0</td>\n",
       "      <td>1</td>\n",
       "      <td>1</td>\n",
       "      <td>0</td>\n",
       "    </tr>\n",
       "  </tbody>\n",
       "</table>\n",
       "<p>546 rows × 18 columns</p>\n",
       "</div>"
      ],
      "text/plain": [
       "        price  lotsize  bedrooms  bathrms  stories  garagepl  driveway_no  \\\n",
       "0     42000.0     5850         3        1        2         1            0   \n",
       "1     38500.0     4000         2        1        1         0            0   \n",
       "2     49500.0     3060         3        1        1         0            0   \n",
       "3     60500.0     6650         3        1        2         0            0   \n",
       "4     61000.0     6360         2        1        1         0            0   \n",
       "..        ...      ...       ...      ...      ...       ...          ...   \n",
       "541   91500.0     4800         3        2        4         0            0   \n",
       "542   94000.0     6000         3        2        4         0            0   \n",
       "543  103000.0     6000         3        2        4         1            0   \n",
       "544  105000.0     6000         3        2        2         1            0   \n",
       "545  105000.0     6000         3        1        2         1            0   \n",
       "\n",
       "     driveway_yes  recroom_no  recroom_yes  fullbase_no  fullbase_yes  \\\n",
       "0               1           1            0            0             1   \n",
       "1               1           1            0            1             0   \n",
       "2               1           1            0            1             0   \n",
       "3               1           0            1            1             0   \n",
       "4               1           1            0            1             0   \n",
       "..            ...         ...          ...          ...           ...   \n",
       "541             1           0            1            1             0   \n",
       "542             1           1            0            1             0   \n",
       "543             1           0            1            1             0   \n",
       "544             1           0            1            1             0   \n",
       "545             1           1            0            1             0   \n",
       "\n",
       "     gashw_no  gashw_yes  airco_no  airco_yes  prefarea_no  prefarea_yes  \n",
       "0           1          0         1          0            1             0  \n",
       "1           1          0         1          0            1             0  \n",
       "2           1          0         1          0            1             0  \n",
       "3           1          0         1          0            1             0  \n",
       "4           1          0         1          0            1             0  \n",
       "..        ...        ...       ...        ...          ...           ...  \n",
       "541         1          0         0          1            1             0  \n",
       "542         1          0         0          1            1             0  \n",
       "543         1          0         0          1            1             0  \n",
       "544         1          0         0          1            1             0  \n",
       "545         1          0         0          1            1             0  \n",
       "\n",
       "[546 rows x 18 columns]"
      ]
     },
     "execution_count": 9,
     "metadata": {},
     "output_type": "execute_result"
    }
   ],
   "source": [
    "dum_house=pd.get_dummies(housing)\n",
    "dum_house"
   ]
  },
  {
   "cell_type": "code",
   "execution_count": 10,
   "id": "14760a1d",
   "metadata": {},
   "outputs": [],
   "source": [
    "x1=dum_house['lotsize']\n",
    "x2=dum_house['driveway_yes']\n",
    "x3=dum_house['bedrooms']\n",
    "y=dum_house['price']"
   ]
  },
  {
   "cell_type": "code",
   "execution_count": 11,
   "id": "f237e601",
   "metadata": {},
   "outputs": [],
   "source": [
    "n=len(x1)\n",
    "sx1=np.sum(x1)\n",
    "sx2=np.sum(x2)\n",
    "sx3=np.sum(x3)\n",
    "sy=np.sum(y)\n",
    "sx12=np.sum(x1*x1)\n",
    "sx22=np.sum(x2*x2)\n",
    "sx32=np.sum(x3*x3)\n",
    "sx1x2=np.sum(x1*x2)\n",
    "sx1x3=np.sum(x1*x3)\n",
    "sx2x3=np.sum(x2*x3)\n",
    "sx1y=np.sum(x1*y)\n",
    "sx2y=np.sum(x2*y)\n",
    "sx3y=np.sum(x3*y)"
   ]
  },
  {
   "cell_type": "code",
   "execution_count": 12,
   "id": "474fad5a",
   "metadata": {},
   "outputs": [],
   "source": [
    "A = np.array([[n,sx1,sx2,sx3],\n",
    "             [sx1,sx12,sx1x2,sx1x3],\n",
    "             [sx2,sx1x2,sx22,sx2x3],\n",
    "             [sx3,sx1x3,sx2x3,sx32]])\n",
    "B=np.array([sy,sx1y,sx2y,sx3y])"
   ]
  },
  {
   "cell_type": "code",
   "execution_count": 13,
   "id": "bd851134",
   "metadata": {},
   "outputs": [
    {
     "data": {
      "text/plain": [
       "array([-3.61744978e+03,  5.41636859e+00,  1.33208107e+04,  1.09271076e+04])"
      ]
     },
     "execution_count": 13,
     "metadata": {},
     "output_type": "execute_result"
    }
   ],
   "source": [
    "soln=la.solve(A,B)\n",
    "soln"
   ]
  },
  {
   "cell_type": "code",
   "execution_count": 25,
   "id": "58da4f6c",
   "metadata": {},
   "outputs": [],
   "source": []
  },
  {
   "cell_type": "code",
   "execution_count": 14,
   "id": "21415d73",
   "metadata": {},
   "outputs": [
    {
     "name": "stdout",
     "output_type": "stream",
     "text": [
      "Intercept:  -3617.449779897448\n",
      "Coefficients:  [5.41636859e+00 1.33208107e+04 1.09271076e+04]\n",
      "Z=  233994951113.40485\n",
      "Mean Squared Error:  428562181.5263825\n"
     ]
    }
   ],
   "source": [
    "from sklearn.linear_model import LinearRegression\n",
    "from sklearn.metrics import *\n",
    "lr=LinearRegression()\n",
    "x=dum_house[['lotsize','driveway_yes','bedrooms']]\n",
    "y=dum_house['price']\n",
    "lr.fit(x,y)\n",
    "print(\"Intercept: \",lr.intercept_)\n",
    "print(\"Coefficients: \",lr.coef_)\n",
    "\n",
    "ycap=lr.predict(x)\n",
    "print(\"Z= \", np.sum((y-ycap)**2))\n",
    "print(\"Mean Squared Error: \", mean_squared_error(y,ycap))"
   ]
  },
  {
   "cell_type": "code",
   "execution_count": 15,
   "id": "ce1c5ec5",
   "metadata": {},
   "outputs": [],
   "source": [
    "## All VAriables\n",
    "dum_house=pd.get_dummies(housing,drop_first=True)"
   ]
  },
  {
   "cell_type": "code",
   "execution_count": 20,
   "id": "61c82bd3",
   "metadata": {},
   "outputs": [],
   "source": [
    "x=dum_house.drop('price',axis=1)\n",
    "y=dum_house['price']"
   ]
  },
  {
   "cell_type": "code",
   "execution_count": 21,
   "id": "7c4f7477",
   "metadata": {},
   "outputs": [
    {
     "name": "stdout",
     "output_type": "stream",
     "text": [
      "Intercept:  -4038.350425098368\n",
      "Coefficients:  [3.54630297e+00 1.83200347e+03 1.43355585e+04 6.55694571e+03\n",
      " 4.24482900e+03 6.68777889e+03 4.51128383e+03 5.45238554e+03\n",
      " 1.28314063e+04 1.26328904e+04 9.36951324e+03]\n"
     ]
    }
   ],
   "source": [
    "lr.fit(x,y)\n",
    "print(\"Intercept: \",lr.intercept_)\n",
    "print(\"Coefficients: \",lr.coef_)"
   ]
  },
  {
   "cell_type": "code",
   "execution_count": 22,
   "id": "e55e28e4",
   "metadata": {},
   "outputs": [
    {
     "name": "stdout",
     "output_type": "stream",
     "text": [
      "Z=  127025071644.46799\n",
      "Mean Squared Error:  232646651.3634945\n"
     ]
    }
   ],
   "source": [
    "ycap=lr.predict(x)\n",
    "print(\"Z= \", np.sum((y-ycap)**2))\n",
    "print(\"Mean Squared Error: \", mean_squared_error(y,ycap))"
   ]
  },
  {
   "cell_type": "code",
   "execution_count": 23,
   "id": "98debfac",
   "metadata": {},
   "outputs": [
    {
     "name": "stdout",
     "output_type": "stream",
     "text": [
      "   * \n",
      "  * * \n",
      " * * * \n"
     ]
    }
   ],
   "source": [
    "for i in range(2,-1,-1):\n",
    "    print(\" \"*i,\"* \"*(3-i))"
   ]
  },
  {
   "cell_type": "code",
   "execution_count": 38,
   "id": "fc8683e6",
   "metadata": {},
   "outputs": [
    {
     "name": "stdout",
     "output_type": "stream",
     "text": [
      "Enter: 5\n",
      "     *\n",
      "    ***\n",
      "   *****\n",
      "  *******\n",
      " *********\n",
      "  *******\n",
      "   *****\n",
      "    ***\n",
      "     *\n",
      "      \n"
     ]
    }
   ],
   "source": [
    "n=int(input(\"Enter: \"))\n",
    "for i in range(0,n):\n",
    "    print(\" \"*((n-1)-i),\"*\"*(2*i+1))\n",
    "for i in range(n-1,-1,-1):\n",
    "    print(\" \"*(n-i),\"*\"*(2*i-1))"
   ]
  },
  {
   "cell_type": "code",
   "execution_count": 37,
   "id": "b12ef767",
   "metadata": {},
   "outputs": [
    {
     "name": "stdout",
     "output_type": "stream",
     "text": [
      "Enter: 9\n",
      " *****************\n",
      "  ***************\n",
      "   *************\n",
      "    ***********\n",
      "     *********\n",
      "      *******\n",
      "       *****\n",
      "        ***\n",
      "         *\n",
      "          \n"
     ]
    }
   ],
   "source": [
    "n=int(input(\"Enter: \"))\n",
    "for i in range(n,-1,-1):\n",
    "    print(\" \"*(n-i),\"*\"*(2*i-1))"
   ]
  },
  {
   "cell_type": "code",
   "execution_count": 72,
   "id": "44f425d7",
   "metadata": {},
   "outputs": [
    {
     "name": "stdout",
     "output_type": "stream",
     "text": [
      "7\n",
      "\u001b[31m*  *  *  *  *  *  *  \n",
      "\u001b[31m*  *  *  *  *  *  \n",
      "\u001b[31m*  *  *  *  *  \n",
      "\u001b[31m*  *  *  *  \n",
      "\u001b[31m*  *  *  \n",
      "\u001b[31m*  *  \n",
      "\u001b[31m*  \n",
      "\u001b[31m*  \n",
      "\u001b[31m*  *  \n",
      "\u001b[31m*  *  *  \n",
      "\u001b[31m*  *  *  *  \n",
      "\u001b[31m*  *  *  *  *  \n",
      "\u001b[31m*  *  *  *  *  *  \n",
      "\u001b[31m*  *  *  *  *  *  *  \n",
      "\u001b[31m*\n",
      "*\n",
      "*\n",
      "*\n",
      "*\n",
      "*\n",
      "*\n",
      "*\n",
      "*\n",
      "*\n",
      "\n"
     ]
    }
   ],
   "source": [
    "from colorama import Fore\n",
    "n=int(input())\n",
    "for i in range(n,0,-1):\n",
    "    print(Fore.RED+\"*  \"*i)\n",
    "for j in range(1,n+1):\n",
    "    print(Fore.RED+\"*  \"*j)\n",
    "print(Fore.RED+\"*\\n\"*(n+3))"
   ]
  },
  {
   "cell_type": "code",
   "execution_count": 90,
   "id": "a1146937",
   "metadata": {},
   "outputs": [
    {
     "name": "stdout",
     "output_type": "stream",
     "text": [
      "Enter: 5\n",
      "    1\n",
      "   121\n",
      "  12321\n",
      " 1234321\n",
      "123454321\n"
     ]
    }
   ],
   "source": [
    "n=int(input(\"Enter: \"))\n",
    "for i in range(0,n):\n",
    "    print(\" \"*((n-1)-i),end=\"\")\n",
    "    k=2\n",
    "    for j in range(1,(2*i)+2):\n",
    "        if j<=i+1:\n",
    "            print(j,end=\"\")\n",
    "        else:\n",
    "            print(j-k,end=\"\")\n",
    "            k+=2\n",
    "    print()"
   ]
  },
  {
   "cell_type": "code",
   "execution_count": null,
   "id": "29896c5b",
   "metadata": {},
   "outputs": [],
   "source": []
  },
  {
   "cell_type": "code",
   "execution_count": 95,
   "id": "a7dc5ad3",
   "metadata": {},
   "outputs": [
    {
     "name": "stdout",
     "output_type": "stream",
     "text": [
      "Enter: 4\n",
      "1234321\n",
      " 12321\n",
      "  121\n",
      "   1\n"
     ]
    }
   ],
   "source": [
    "n=int(input(\"Enter: \"))\n",
    "for i in range(n-1,-1,-1):\n",
    "    print(\" \"*((n-1)-i),end=\"\")\n",
    "    k=2\n",
    "    for j in range(1,(2*i)+2):\n",
    "        if j<=i+1:\n",
    "            print(j,end=\"\")\n",
    "        else:\n",
    "            print(j-k,end=\"\")\n",
    "            k+=2\n",
    "    print()"
   ]
  },
  {
   "cell_type": "code",
   "execution_count": 96,
   "id": "02e1c83f",
   "metadata": {},
   "outputs": [
    {
     "name": "stdout",
     "output_type": "stream",
     "text": [
      "Enter a number: 5\n",
      "120\n"
     ]
    }
   ],
   "source": [
    "n=int(input(\"Enter a number: \"))\n",
    "res=1\n",
    "for i in range(1,n+1):\n",
    "    res=res*i\n",
    "print(res)"
   ]
  },
  {
   "cell_type": "code",
   "execution_count": 74,
   "id": "29615be7",
   "metadata": {},
   "outputs": [
    {
     "name": "stdout",
     "output_type": "stream",
     "text": [
      "Enter: 4\n",
      "********\n",
      "***  ***\n",
      "**    **\n",
      "*      *\n"
     ]
    }
   ],
   "source": [
    "n=int(input(\"Enter: \"))\n",
    "for i in range(n,0,-1):\n",
    "    print(\"*\"*i,\"  \"*(n-i),\"*\"*i,sep=\"\")"
   ]
  },
  {
   "cell_type": "code",
   "execution_count": 39,
   "id": "c779eb5a",
   "metadata": {},
   "outputs": [],
   "source": [
    "import numpy as np\n",
    "from sympy import diff,log,exp\n",
    "from sympy.abc import x"
   ]
  },
  {
   "cell_type": "code",
   "execution_count": 40,
   "id": "872cdb2d",
   "metadata": {},
   "outputs": [],
   "source": [
    "e=exp(x)-log(x)\n",
    "dy_dx=diff(e,x)"
   ]
  },
  {
   "cell_type": "code",
   "execution_count": 42,
   "id": "27c6d63c",
   "metadata": {},
   "outputs": [
    {
     "name": "stdout",
     "output_type": "stream",
     "text": [
      "xi:  1.46184977596329\n",
      "f(xi)=  3.93422935648359\n"
     ]
    }
   ],
   "source": [
    "xi=1.5\n",
    "eta=0.01\n",
    "new_x=xi-eta*dy_dx.subs([(x,xi)])\n",
    "print(\"xi: \",new_x)\n",
    "print(\"f(xi)= \",e.subs([(x,new_x)]))"
   ]
  },
  {
   "cell_type": "code",
   "execution_count": 43,
   "id": "cc208a01",
   "metadata": {},
   "outputs": [
    {
     "name": "stdout",
     "output_type": "stream",
     "text": [
      "xi:  1.46184977596329\n",
      "f(xi)=  3.93422935648359\n",
      "\n",
      "\n",
      "xi:  1.42555110453574\n",
      "f(xi)=  3.80559140961150\n",
      "\n",
      "\n",
      "xi:  1.39096443659357\n",
      "f(xi)=  3.68872664326224\n",
      "\n",
      "\n",
      "xi:  1.35796645311857\n",
      "f(xi)=  3.58228993490954\n",
      "\n",
      "\n",
      "xi:  1.32644762267589\n",
      "f(xi)=  3.48513111531231\n",
      "\n",
      "\n",
      "xi:  1.29631020062259\n",
      "f(xi)=  3.39626072478328\n",
      "\n",
      "\n",
      "xi:  1.26746657712878\n",
      "f(xi)=  3.31482274757073\n",
      "\n",
      "\n",
      "xi:  1.23983790318005\n",
      "f(xi)=  3.24007271837535\n",
      "\n",
      "\n",
      "xi:  1.21335294000455\n",
      "f(xi)=  3.17136000457020\n",
      "\n",
      "\n",
      "xi:  1.18794708949940\n",
      "f(xi)=  3.10811336323424\n",
      "\n",
      "\n"
     ]
    }
   ],
   "source": [
    "xi=1.5\n",
    "eta=0.01\n",
    "for i in range(10):\n",
    "    new_x=xi-eta*dy_dx.subs([(x,xi)])\n",
    "    print(\"xi: \",new_x)\n",
    "    print(\"f(xi)= \",e.subs([(x,new_x)]))\n",
    "    print(\"\\n\")\n",
    "    xi=new_x"
   ]
  },
  {
   "cell_type": "code",
   "execution_count": 47,
   "id": "a29c5148",
   "metadata": {},
   "outputs": [
    {
     "name": "stdout",
     "output_type": "stream",
     "text": [
      "xi:  1.42369955192657\n",
      "f(xi)=  3.79919547691058\n",
      "\n",
      "\n",
      "xi:  1.35469837412175\n",
      "f(xi)=  3.57201297410948\n",
      "\n",
      "\n",
      "xi:  1.29194997206424\n",
      "f(xi)=  3.38372461588264\n",
      "\n",
      "\n",
      "xi:  1.23463290166595\n",
      "f(xi)=  3.22634284905088\n",
      "\n",
      "\n",
      "xi:  1.18208971818859\n",
      "f(xi)=  3.09389821878933\n",
      "\n",
      "\n",
      "xi:  1.13378526696044\n",
      "f(xi)=  2.98183476363519\n",
      "\n",
      "\n",
      "xi:  1.08927735971880\n",
      "f(xi)=  2.88661101507778\n",
      "\n",
      "\n",
      "xi:  1.04819564590512\n",
      "f(xi)=  2.80542929908901\n",
      "\n",
      "\n",
      "xi:  1.01022606229269\n",
      "f(xi)=  2.73604763217781\n",
      "\n",
      "\n",
      "xi:  0.975099176082293\n",
      "f(xi)=  2.67664625049739\n",
      "\n",
      "\n"
     ]
    }
   ],
   "source": [
    "xi=1.5\n",
    "eta=0.02\n",
    "for i in range(10):\n",
    "    new_x=xi-eta*dy_dx.subs([(x,xi)])\n",
    "    print(\"xi: \",new_x)\n",
    "    print(\"f(xi)= \",e.subs([(x,new_x)]))\n",
    "    print(\"\\n\")\n",
    "    xi=new_x"
   ]
  },
  {
   "cell_type": "code",
   "execution_count": null,
   "id": "1298e206",
   "metadata": {},
   "outputs": [],
   "source": []
  },
  {
   "cell_type": "code",
   "execution_count": null,
   "id": "49600a09",
   "metadata": {},
   "outputs": [],
   "source": []
  },
  {
   "cell_type": "code",
   "execution_count": null,
   "id": "85c9d899",
   "metadata": {},
   "outputs": [],
   "source": []
  },
  {
   "cell_type": "code",
   "execution_count": null,
   "id": "3874be9f",
   "metadata": {},
   "outputs": [],
   "source": []
  },
  {
   "cell_type": "code",
   "execution_count": null,
   "id": "3e49a5c8",
   "metadata": {},
   "outputs": [],
   "source": []
  },
  {
   "cell_type": "code",
   "execution_count": null,
   "id": "cfcb5fe6",
   "metadata": {},
   "outputs": [],
   "source": []
  },
  {
   "cell_type": "code",
   "execution_count": null,
   "id": "d46d367e",
   "metadata": {},
   "outputs": [],
   "source": []
  },
  {
   "cell_type": "code",
   "execution_count": null,
   "id": "0f0be1e3",
   "metadata": {},
   "outputs": [],
   "source": []
  },
  {
   "cell_type": "code",
   "execution_count": null,
   "id": "2652ecba",
   "metadata": {},
   "outputs": [],
   "source": []
  },
  {
   "cell_type": "code",
   "execution_count": null,
   "id": "be739cea",
   "metadata": {},
   "outputs": [],
   "source": []
  },
  {
   "cell_type": "code",
   "execution_count": null,
   "id": "56bfb20f",
   "metadata": {},
   "outputs": [],
   "source": []
  },
  {
   "cell_type": "code",
   "execution_count": null,
   "id": "e2b73876",
   "metadata": {},
   "outputs": [],
   "source": []
  },
  {
   "cell_type": "code",
   "execution_count": null,
   "id": "0180ffbb",
   "metadata": {},
   "outputs": [],
   "source": []
  },
  {
   "cell_type": "code",
   "execution_count": null,
   "id": "b9133ba2",
   "metadata": {},
   "outputs": [],
   "source": []
  }
 ],
 "metadata": {
  "kernelspec": {
   "display_name": "Python 3 (ipykernel)",
   "language": "python",
   "name": "python3"
  },
  "language_info": {
   "codemirror_mode": {
    "name": "ipython",
    "version": 3
   },
   "file_extension": ".py",
   "mimetype": "text/x-python",
   "name": "python",
   "nbconvert_exporter": "python",
   "pygments_lexer": "ipython3",
   "version": "3.11.4"
  }
 },
 "nbformat": 4,
 "nbformat_minor": 5
}
