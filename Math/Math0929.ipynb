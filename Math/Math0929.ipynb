{
 "cells": [
  {
   "cell_type": "code",
   "execution_count": 2,
   "id": "2b7e08b1",
   "metadata": {},
   "outputs": [],
   "source": [
    "import numpy as np\n",
    "from numpy import linalg as la"
   ]
  },
  {
   "cell_type": "code",
   "execution_count": 3,
   "id": "f09aadb8",
   "metadata": {},
   "outputs": [],
   "source": [
    "x=np.array([4,6,7,8,1,9])\n",
    "y=np.array([17,23,26,29,8,32])"
   ]
  },
  {
   "cell_type": "code",
   "execution_count": 6,
   "id": "f6fceb5f",
   "metadata": {},
   "outputs": [],
   "source": [
    "n=len(x)\n",
    "sx=np.sum(x)\n",
    "sy=np.sum(y)\n",
    "sx2=np.sum(x*x)\n",
    "sxy=np.sum(x*y)"
   ]
  },
  {
   "cell_type": "code",
   "execution_count": 9,
   "id": "2f78893d",
   "metadata": {},
   "outputs": [],
   "source": [
    "A=np.array([[n,sx],[sx,sx2]])\n",
    "b=np.array([sy,sxy])"
   ]
  },
  {
   "cell_type": "code",
   "execution_count": 10,
   "id": "2e22d453",
   "metadata": {},
   "outputs": [],
   "source": [
    "sol=la.solve(A,b)"
   ]
  },
  {
   "cell_type": "code",
   "execution_count": 11,
   "id": "0d8942ec",
   "metadata": {},
   "outputs": [
    {
     "data": {
      "text/plain": [
       "5.0000000000000036"
      ]
     },
     "execution_count": 11,
     "metadata": {},
     "output_type": "execute_result"
    }
   ],
   "source": [
    "sol[0]"
   ]
  },
  {
   "cell_type": "code",
   "execution_count": 12,
   "id": "23b75393",
   "metadata": {},
   "outputs": [
    {
     "data": {
      "text/plain": [
       "2.9999999999999996"
      ]
     },
     "execution_count": 12,
     "metadata": {},
     "output_type": "execute_result"
    }
   ],
   "source": [
    "sol[1]"
   ]
  },
  {
   "cell_type": "code",
   "execution_count": 13,
   "id": "dd79d2c7",
   "metadata": {},
   "outputs": [],
   "source": [
    "import pandas as pd\n",
    "import matplotlib.pyplot as plt\n",
    "pizza=pd.read_csv('pizza.csv')"
   ]
  },
  {
   "cell_type": "code",
   "execution_count": 15,
   "id": "c5d7c6cc",
   "metadata": {},
   "outputs": [
    {
     "data": {
      "image/png": "[encoded data removed]",
      "text/plain": [
       "<Figure size 640x480 with 1 Axes>"
      ]
     },
     "metadata": {},
     "output_type": "display_data"
    }
   ],
   "source": [
    "plt.scatter(pizza['Promote'],pizza['Sales'])\n",
    "plt.xlabel('Promotional Expenditure')\n",
    "plt.ylabel('Sales')\n",
    "plt.show()"
   ]
  },
  {
   "cell_type": "code",
   "execution_count": 16,
   "id": "ac7946ed",
   "metadata": {},
   "outputs": [],
   "source": [
    "x=pizza['Promote']\n",
    "y=pizza['Sales']"
   ]
  },
  {
   "cell_type": "code",
   "execution_count": 18,
   "id": "e767ac33",
   "metadata": {},
   "outputs": [],
   "source": [
    "n=len(x)\n",
    "sx=np.sum(x)\n",
    "sy=np.sum(y)\n",
    "sx2=np.sum(x*x)\n",
    "sxy=np.sum(x*y)"
   ]
  },
  {
   "cell_type": "code",
   "execution_count": 19,
   "id": "f0fb9060",
   "metadata": {},
   "outputs": [],
   "source": [
    "A=np.array([[n,sx],[sx,sx2]])\n",
    "b=np.array([sy,sxy])\n",
    "sol=la.solve(A,b)"
   ]
  },
  {
   "cell_type": "code",
   "execution_count": 20,
   "id": "b336770a",
   "metadata": {},
   "outputs": [
    {
     "data": {
      "text/plain": [
       "5.4858653632525725"
      ]
     },
     "execution_count": 20,
     "metadata": {},
     "output_type": "execute_result"
    }
   ],
   "source": [
    "sol[0]"
   ]
  },
  {
   "cell_type": "code",
   "execution_count": 21,
   "id": "25c2d69e",
   "metadata": {},
   "outputs": [
    {
     "data": {
      "text/plain": [
       "23.506403021550767"
      ]
     },
     "execution_count": 21,
     "metadata": {},
     "output_type": "execute_result"
    }
   ],
   "source": [
    "sol[1]"
   ]
  },
  {
   "cell_type": "markdown",
   "id": "d88117a4",
   "metadata": {},
   "source": [
    "## Insurance"
   ]
  },
  {
   "cell_type": "code",
   "execution_count": 22,
   "id": "d0891181",
   "metadata": {},
   "outputs": [],
   "source": [
    "ins=pd.read_csv('Insure_auto.csv') #y=b0+b1.x1+b2.x2"
   ]
  },
  {
   "cell_type": "code",
   "execution_count": 23,
   "id": "77071fc5",
   "metadata": {},
   "outputs": [
    {
     "data": {
      "text/html": [
       "<div>\n",
       "<style scoped>\n",
       "    .dataframe tbody tr th:only-of-type {\n",
       "        vertical-align: middle;\n",
       "    }\n",
       "\n",
       "    .dataframe tbody tr th {\n",
       "        vertical-align: top;\n",
       "    }\n",
       "\n",
       "    .dataframe thead th {\n",
       "        text-align: right;\n",
       "    }\n",
       "</style>\n",
       "<table border=\"1\" class=\"dataframe\">\n",
       "  <thead>\n",
       "    <tr style=\"text-align: right;\">\n",
       "      <th></th>\n",
       "      <th>Branch</th>\n",
       "      <th>Home</th>\n",
       "      <th>Automobile</th>\n",
       "      <th>Operating_Cost</th>\n",
       "    </tr>\n",
       "  </thead>\n",
       "  <tbody>\n",
       "    <tr>\n",
       "      <th>0</th>\n",
       "      <td>B01</td>\n",
       "      <td>400</td>\n",
       "      <td>1200</td>\n",
       "      <td>124000</td>\n",
       "    </tr>\n",
       "    <tr>\n",
       "      <th>1</th>\n",
       "      <td>B02</td>\n",
       "      <td>350</td>\n",
       "      <td>360</td>\n",
       "      <td>71000</td>\n",
       "    </tr>\n",
       "    <tr>\n",
       "      <th>2</th>\n",
       "      <td>B03</td>\n",
       "      <td>600</td>\n",
       "      <td>800</td>\n",
       "      <td>136000</td>\n",
       "    </tr>\n",
       "    <tr>\n",
       "      <th>3</th>\n",
       "      <td>B04</td>\n",
       "      <td>800</td>\n",
       "      <td>1800</td>\n",
       "      <td>219000</td>\n",
       "    </tr>\n",
       "    <tr>\n",
       "      <th>4</th>\n",
       "      <td>B05</td>\n",
       "      <td>900</td>\n",
       "      <td>1600</td>\n",
       "      <td>230000</td>\n",
       "    </tr>\n",
       "    <tr>\n",
       "      <th>5</th>\n",
       "      <td>B06</td>\n",
       "      <td>200</td>\n",
       "      <td>1000</td>\n",
       "      <td>75000</td>\n",
       "    </tr>\n",
       "    <tr>\n",
       "      <th>6</th>\n",
       "      <td>B07</td>\n",
       "      <td>120</td>\n",
       "      <td>900</td>\n",
       "      <td>56000</td>\n",
       "    </tr>\n",
       "    <tr>\n",
       "      <th>7</th>\n",
       "      <td>B08</td>\n",
       "      <td>340</td>\n",
       "      <td>1100</td>\n",
       "      <td>110000</td>\n",
       "    </tr>\n",
       "    <tr>\n",
       "      <th>8</th>\n",
       "      <td>B09</td>\n",
       "      <td>490</td>\n",
       "      <td>900</td>\n",
       "      <td>120000</td>\n",
       "    </tr>\n",
       "    <tr>\n",
       "      <th>9</th>\n",
       "      <td>B10</td>\n",
       "      <td>700</td>\n",
       "      <td>800</td>\n",
       "      <td>144000</td>\n",
       "    </tr>\n",
       "  </tbody>\n",
       "</table>\n",
       "</div>"
      ],
      "text/plain": [
       "  Branch  Home  Automobile  Operating_Cost\n",
       "0    B01   400        1200          124000\n",
       "1    B02   350         360           71000\n",
       "2    B03   600         800          136000\n",
       "3    B04   800        1800          219000\n",
       "4    B05   900        1600          230000\n",
       "5    B06   200        1000           75000\n",
       "6    B07   120         900           56000\n",
       "7    B08   340        1100          110000\n",
       "8    B09   490         900          120000\n",
       "9    B10   700         800          144000"
      ]
     },
     "execution_count": 23,
     "metadata": {},
     "output_type": "execute_result"
    }
   ],
   "source": [
    "ins #x1=Home  x2=Automobile  y=Operating_Cost"
   ]
  },
  {
   "cell_type": "code",
   "execution_count": 24,
   "id": "8da884c7",
   "metadata": {},
   "outputs": [],
   "source": [
    "x1=ins['Home']\n",
    "x2=ins['Automobile']\n",
    "y=ins['Operating_Cost']"
   ]
  },
  {
   "cell_type": "code",
   "execution_count": 25,
   "id": "5a2bdc99",
   "metadata": {},
   "outputs": [],
   "source": [
    "sx1=np.sum(x1)\n",
    "sx2=np.sum(x2)\n",
    "sy=np.sum(y)"
   ]
  },
  {
   "cell_type": "code",
   "execution_count": null,
   "id": "9c353941",
   "metadata": {},
   "outputs": [],
   "source": []
  },
  {
   "cell_type": "code",
   "execution_count": null,
   "id": "1446770a",
   "metadata": {},
   "outputs": [],
   "source": []
  },
  {
   "cell_type": "code",
   "execution_count": null,
   "id": "1c57fac1",
   "metadata": {},
   "outputs": [],
   "source": []
  },
  {
   "cell_type": "code",
   "execution_count": null,
   "id": "5a0cb8fd",
   "metadata": {},
   "outputs": [],
   "source": []
  }
 ],
 "metadata": {
  "kernelspec": {
   "display_name": "Python 3 (ipykernel)",
   "language": "python",
   "name": "python3"
  },
  "language_info": {
   "codemirror_mode": {
    "name": "ipython",
    "version": 3
   },
   "file_extension": ".py",
   "mimetype": "text/x-python",
   "name": "python",
   "nbconvert_exporter": "python",
   "pygments_lexer": "ipython3",
   "version": "3.11.4"
  }
 },
 "nbformat": 4,
 "nbformat_minor": 5
}
