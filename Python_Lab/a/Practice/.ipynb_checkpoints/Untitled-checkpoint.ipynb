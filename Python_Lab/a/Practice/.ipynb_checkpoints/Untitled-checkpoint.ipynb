{
 "cells": [
  {
   "cell_type": "code",
   "execution_count": 2,
   "id": "8d118cd2",
   "metadata": {},
   "outputs": [
    {
     "data": {
      "text/plain": [
       "\"'df { } & '\""
      ]
     },
     "execution_count": 2,
     "metadata": {},
     "output_type": "execute_result"
    }
   ],
   "source": [
    "s=ascii(\"df { } & \")\n",
    "s"
   ]
  },
  {
   "cell_type": "code",
   "execution_count": 6,
   "id": "6571da38",
   "metadata": {},
   "outputs": [
    {
     "name": "stdout",
     "output_type": "stream",
     "text": [
      "'\n",
      "d\n",
      "f\n",
      " \n",
      "{\n",
      " \n",
      "}\n",
      " \n",
      "&\n",
      " \n",
      "'\n"
     ]
    }
   ],
   "source": [
    "for a in s:\n",
    "    print(a)"
   ]
  },
  {
   "cell_type": "code",
   "execution_count": 11,
   "id": "44877ce4",
   "metadata": {},
   "outputs": [
    {
     "data": {
      "text/plain": [
       "True"
      ]
     },
     "execution_count": 11,
     "metadata": {},
     "output_type": "execute_result"
    }
   ],
   "source": [
    "x=0.9\n",
    "bool(x)"
   ]
  },
  {
   "cell_type": "code",
   "execution_count": 9,
   "id": "d7ab31c4",
   "metadata": {},
   "outputs": [
    {
     "data": {
      "text/plain": [
       "False"
      ]
     },
     "execution_count": 9,
     "metadata": {},
     "output_type": "execute_result"
    }
   ],
   "source": [
    "x=[]\n",
    "bool(x)"
   ]
  },
  {
   "cell_type": "code",
   "execution_count": 12,
   "id": "c85490ce",
   "metadata": {},
   "outputs": [
    {
     "data": {
      "text/plain": [
       "90"
      ]
     },
     "execution_count": 12,
     "metadata": {},
     "output_type": "execute_result"
    }
   ],
   "source": [
    "max(2,8,4,67,90)"
   ]
  },
  {
   "cell_type": "code",
   "execution_count": 22,
   "id": "c7ab0fcc",
   "metadata": {},
   "outputs": [
    {
     "data": {
      "text/plain": [
       "3.9"
      ]
     },
     "execution_count": 22,
     "metadata": {},
     "output_type": "execute_result"
    }
   ],
   "source": [
    "round(3.88349,ndigits=1)"
   ]
  },
  {
   "cell_type": "code",
   "execution_count": 23,
   "id": "0d1e71dc",
   "metadata": {},
   "outputs": [
    {
     "name": "stdout",
     "output_type": "stream",
     "text": [
      "8885352 8885352 8885352\n"
     ]
    }
   ],
   "source": [
    "a=12\n",
    "b=a\n",
    "c=12\n",
    "print(id(a),id(b),id(c))"
   ]
  },
  {
   "cell_type": "code",
   "execution_count": 25,
   "id": "361bc4e7",
   "metadata": {},
   "outputs": [
    {
     "name": "stdout",
     "output_type": "stream",
     "text": [
      "enetr number12\n",
      "8885352\n",
      "8885288 8885352 8885352\n",
      "False\n"
     ]
    }
   ],
   "source": [
    "d=int(input(\"enetr number\"))\n",
    "print(id(d))\n",
    "a=10\n",
    "print(id(a),id(b),id(c))\n",
    "print(a is b)"
   ]
  },
  {
   "cell_type": "code",
   "execution_count": 26,
   "id": "93a597bf",
   "metadata": {},
   "outputs": [
    {
     "name": "stdout",
     "output_type": "stream",
     "text": [
      "enter stringHello\n",
      "140189371826544 140189371826544 140189371826544 140189371880368\n"
     ]
    }
   ],
   "source": [
    "s=\"Hello\"\n",
    "t=s\n",
    "x=\"Hello\"\n",
    "y=input(\"enter string\")\n",
    "print(id(s),id(t),id(x),id(y))  # if string take from user then even if string is same its id will be different"
   ]
  },
  {
   "cell_type": "code",
   "execution_count": 27,
   "id": "693569a2",
   "metadata": {},
   "outputs": [
    {
     "data": {
      "text/plain": [
       "False"
      ]
     },
     "execution_count": 27,
     "metadata": {},
     "output_type": "execute_result"
    }
   ],
   "source": [
    "s=\"1.56\"\n",
    "s.isalnum()"
   ]
  },
  {
   "cell_type": "code",
   "execution_count": 28,
   "id": "866e2753",
   "metadata": {},
   "outputs": [
    {
     "data": {
      "text/plain": [
       "False"
      ]
     },
     "execution_count": 28,
     "metadata": {},
     "output_type": "execute_result"
    }
   ],
   "source": [
    "s.isdecimal()"
   ]
  },
  {
   "cell_type": "code",
   "execution_count": 29,
   "id": "9a68e398",
   "metadata": {},
   "outputs": [
    {
     "data": {
      "text/plain": [
       "False"
      ]
     },
     "execution_count": 29,
     "metadata": {},
     "output_type": "execute_result"
    }
   ],
   "source": [
    "s.isdigit()"
   ]
  },
  {
   "cell_type": "code",
   "execution_count": 30,
   "id": "f4225a12",
   "metadata": {},
   "outputs": [
    {
     "data": {
      "text/plain": [
       "False"
      ]
     },
     "execution_count": 30,
     "metadata": {},
     "output_type": "execute_result"
    }
   ],
   "source": [
    "s.isnumeric()"
   ]
  },
  {
   "cell_type": "code",
   "execution_count": 32,
   "id": "508eebd5",
   "metadata": {},
   "outputs": [
    {
     "data": {
      "text/plain": [
       "['Thank you for the music', 'Welcome to the jungle']"
      ]
     },
     "execution_count": 32,
     "metadata": {},
     "output_type": "execute_result"
    }
   ],
   "source": [
    "txt = \"Thank you for the music\\nWelcome to the jungle\"\n",
    "txt.splitlines()"
   ]
  },
  {
   "cell_type": "code",
   "execution_count": 33,
   "id": "6ce01788",
   "metadata": {},
   "outputs": [
    {
     "data": {
      "text/plain": [
       "['Thank you for the music. Welcome to the jungle']"
      ]
     },
     "execution_count": 33,
     "metadata": {},
     "output_type": "execute_result"
    }
   ],
   "source": [
    "txt = \"Thank you for the music. Welcome to the jungle\"\n",
    "txt.splitlines()"
   ]
  },
  {
   "cell_type": "code",
   "execution_count": 34,
   "id": "cac4531d",
   "metadata": {},
   "outputs": [],
   "source": []
  },
  {
   "cell_type": "code",
   "execution_count": null,
   "id": "a3314e1e",
   "metadata": {},
   "outputs": [],
   "source": []
  }
 ],
 "metadata": {
  "kernelspec": {
   "display_name": "Python 3 (ipykernel)",
   "language": "python",
   "name": "python3"
  },
  "language_info": {
   "codemirror_mode": {
    "name": "ipython",
    "version": 3
   },
   "file_extension": ".py",
   "mimetype": "text/x-python",
   "name": "python",
   "nbconvert_exporter": "python",
   "pygments_lexer": "ipython3",
   "version": "3.11.4"
  }
 },
 "nbformat": 4,
 "nbformat_minor": 5
}
