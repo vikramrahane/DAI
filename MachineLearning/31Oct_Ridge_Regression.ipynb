{
 "cells": [
  {
   "cell_type": "code",
   "execution_count": 56,
   "id": "d83cecef",
   "metadata": {},
   "outputs": [],
   "source": [
    "import pandas as pd\n",
    "import numpy as np\n",
    "from sklearn.model_selection import train_test_split\n",
    "from sklearn.linear_model import Ridge, Lasso, ElasticNet\n",
    "from sklearn.metrics import mean_squared_error as mse"
   ]
  },
  {
   "cell_type": "code",
   "execution_count": 57,
   "id": "8332a80d",
   "metadata": {},
   "outputs": [],
   "source": [
    "boston= pd.read_csv(\"Boston.csv\")"
   ]
  },
  {
   "cell_type": "code",
   "execution_count": 58,
   "id": "c6208345",
   "metadata": {},
   "outputs": [],
   "source": [
    "X= boston.drop('medv',axis=1)\n",
    "y=boston['medv']"
   ]
  },
  {
   "cell_type": "code",
   "execution_count": 59,
   "id": "9bb1a7dd",
   "metadata": {},
   "outputs": [],
   "source": [
    "X_train, X_test, y_train, y_test=train_test_split(X,y, test_size=0.3,random_state=23)\n"
   ]
  },
  {
   "cell_type": "code",
   "execution_count": 60,
   "id": "df440569",
   "metadata": {},
   "outputs": [],
   "source": [
    "l=[0.1,0.5,1,2,2.5,3]\n",
    "errors=[]\n",
    "for e in l:\n",
    "    ridge=Ridge(alpha=e)\n",
    "    ridge.fit(X_train,y_train)\n",
    "    y_pred= ridge.predict(X_test)\n",
    "    errors.append(mean_squared_error(y_test, y_pred))"
   ]
  },
  {
   "cell_type": "code",
   "execution_count": 61,
   "id": "3c75dfe2",
   "metadata": {},
   "outputs": [
    {
     "name": "stdout",
     "output_type": "stream",
     "text": [
      "[25.38203639719029, 25.51102170316692, 25.647900623108608, 25.802597851870264, 25.842482328893436, 25.86766999255288]\n"
     ]
    }
   ],
   "source": [
    "print(errors)"
   ]
  },
  {
   "cell_type": "code",
   "execution_count": 62,
   "id": "2b3d3f8c",
   "metadata": {},
   "outputs": [
    {
     "name": "stdout",
     "output_type": "stream",
     "text": [
      "Best Score:  25.38203639719029\n",
      "Best Parameter:  0.1\n"
     ]
    }
   ],
   "source": [
    "print(\"Best Score: \", np.min(errors))\n",
    "i_min=np.argmin(errors)\n",
    "print(\"Best Parameter: \", l[i_min])"
   ]
  },
  {
   "cell_type": "markdown",
   "id": "bcafb1c0",
   "metadata": {},
   "source": [
    "### *********************************************************************************************************"
   ]
  },
  {
   "cell_type": "markdown",
   "id": "6ce4db9e",
   "metadata": {},
   "source": [
    "### Lasso"
   ]
  },
  {
   "cell_type": "code",
   "execution_count": 63,
   "id": "6bac3901",
   "metadata": {},
   "outputs": [],
   "source": [
    "l=[0.1,0.5,1,2,2.5,3]\n",
    "errors=[]\n",
    "for e in l:\n",
    "    lasso=Lasso(alpha=e)\n",
    "    lasso.fit(X_train,y_train)\n",
    "    y_pred= lasso.predict(X_test)\n",
    "    errors.append(mean_squared_error(y_test, y_pred))"
   ]
  },
  {
   "cell_type": "code",
   "execution_count": 64,
   "id": "91855713",
   "metadata": {},
   "outputs": [
    {
     "name": "stdout",
     "output_type": "stream",
     "text": [
      "[26.02760641642854, 26.028318310307192, 28.888749212797446, 34.844507072693226, 36.29553467631803, 37.72700114143434]\n"
     ]
    }
   ],
   "source": [
    "print(errors)"
   ]
  },
  {
   "cell_type": "code",
   "execution_count": 65,
   "id": "6d511bc7",
   "metadata": {},
   "outputs": [
    {
     "name": "stdout",
     "output_type": "stream",
     "text": [
      "Best Score:  26.02760641642854\n",
      "Best Parameter:  0.1\n"
     ]
    }
   ],
   "source": [
    "print(\"Best Score: \", np.min(errors))\n",
    "i_min=np.argmin(errors)\n",
    "print(\"Best Parameter: \", l[i_min])"
   ]
  },
  {
   "cell_type": "markdown",
   "id": "ccc91d0e",
   "metadata": {},
   "source": [
    "### ***************************************************************************************"
   ]
  },
  {
   "cell_type": "code",
   "execution_count": 66,
   "id": "58e4e29f",
   "metadata": {},
   "outputs": [
    {
     "name": "stdout",
     "output_type": "stream",
     "text": [
      "28.34945977955968\n"
     ]
    }
   ],
   "source": [
    "elastic=ElasticNet()\n",
    "elastic.fit(X_train,y_train)\n",
    "\n",
    "y_pred =elastic.predict(X_test)\n",
    "print(mean_squared_error(y_test,y_pred))"
   ]
  },
  {
   "cell_type": "code",
   "execution_count": 67,
   "id": "93f26add",
   "metadata": {},
   "outputs": [
    {
     "data": {
      "text/plain": [
       "alpha:0.1  , L1_ratio:0.1     25.559230\n",
       "           , L1_ratio:0.25    25.592090\n",
       "           , L1_ratio:0.5     25.688603\n",
       "           , L1_ratio:0.8     25.841213\n",
       "           , L1_ratio:0.9     25.923046\n",
       "alpha:0.5  , L1_ratio:0.9     26.147785\n",
       "           , L1_ratio:0.8     26.267650\n",
       "           , L1_ratio:0.5     26.540804\n",
       "           , L1_ratio:0.25    26.679782\n",
       "           , L1_ratio:0.1     26.741802\n",
       "alpha:1    , L1_ratio:0.1     28.072520\n",
       "           , L1_ratio:0.25    28.164799\n",
       "           , L1_ratio:0.5     28.349460\n",
       "           , L1_ratio:0.8     28.643562\n",
       "           , L1_ratio:0.9     28.761215\n",
       "alpha:2    , L1_ratio:0.1     29.896721\n",
       "           , L1_ratio:0.25    30.364218\n",
       "alpha:2.5  , L1_ratio:0.1     30.612963\n",
       "alpha:3    , L1_ratio:0.1     31.252973\n",
       "alpha:2.5  , L1_ratio:0.25    31.271473\n",
       "alpha:2    , L1_ratio:0.5     31.512857\n",
       "alpha:3    , L1_ratio:0.25    32.099091\n",
       "alpha:2.5  , L1_ratio:0.5     32.917028\n",
       "alpha:2    , L1_ratio:0.8     33.429465\n",
       "           , L1_ratio:0.9     34.058678\n",
       "alpha:3    , L1_ratio:0.5     34.133752\n",
       "alpha:2.5  , L1_ratio:0.8     35.199782\n",
       "           , L1_ratio:0.9     35.826966\n",
       "alpha:3    , L1_ratio:0.8     36.482244\n",
       "           , L1_ratio:0.9     37.046052\n",
       "dtype: float64"
      ]
     },
     "execution_count": 67,
     "metadata": {},
     "output_type": "execute_result"
    }
   ],
   "source": [
    "l1_rat=[0.1,0.25,0.5,0.8,0.9]\n",
    "alpha = [0.1,0.5,1,2,2.5,3]\n",
    "\n",
    "errors=dict()\n",
    "for a in alpha:\n",
    "    for l in l1_rat:\n",
    "        elastic =ElasticNet(alpha=a,l1_ratio=l)\n",
    "        elastic.fit(X_train,y_train)\n",
    "        y_pred= elastic.predict(X_test)\n",
    "        errors['alpha:'+ str(a) ,', L1_ratio:'+ str(l)] = mse(y_test,y_pred)\n",
    "er_pd= pd.Series(errors)\n",
    "er_pd.sort_values()"
   ]
  },
  {
   "cell_type": "markdown",
   "id": "06a8b6fa",
   "metadata": {},
   "source": [
    "### **********************************************************************************************************"
   ]
  },
  {
   "cell_type": "code",
   "execution_count": 72,
   "id": "559c8896",
   "metadata": {},
   "outputs": [],
   "source": [
    "import pandas as pd\n",
    "import numpy as np\n",
    "from sklearn.model_selection import train_test_split\n",
    "from sklearn.linear_model import Ridge, Lasso, ElasticNet\n",
    "from sklearn.metrics import mean_squared_error as mse\n",
    "from sklearn.model_selection import KFold, cross_val_score"
   ]
  },
  {
   "cell_type": "code",
   "execution_count": 73,
   "id": "e76bf541",
   "metadata": {},
   "outputs": [],
   "source": [
    "boston= pd.read_csv(\"Boston.csv\")\n",
    "X=boston.drop('medv',axis=1)\n",
    "y=boston['medv']"
   ]
  },
  {
   "cell_type": "code",
   "execution_count": 74,
   "id": "499eb831",
   "metadata": {},
   "outputs": [],
   "source": [
    "X_train, X_test, y_train, y_test=train_test_split(X,y, test_size=0.15,random_state=23)"
   ]
  },
  {
   "cell_type": "code",
   "execution_count": 76,
   "id": "211a61bb",
   "metadata": {},
   "outputs": [
    {
     "name": "stdout",
     "output_type": "stream",
     "text": [
      "-25.60255002552403\n"
     ]
    }
   ],
   "source": [
    "kfold=KFold(n_splits=5, shuffle=True, random_state=23)\n",
    "elastic= ElasticNet(alpha=0.1,l1_ratio=0.3)\n",
    "result= cross_val_score(elastic,X_train,y_train, cv=kfold, scoring=\"neg_mean_squared_error\")\n",
    "print(result.mean())"
   ]
  },
  {
   "cell_type": "code",
   "execution_count": null,
   "id": "91a7bbd0",
   "metadata": {},
   "outputs": [],
   "source": []
  },
  {
   "cell_type": "code",
   "execution_count": null,
   "id": "811cafe8",
   "metadata": {},
   "outputs": [],
   "source": []
  },
  {
   "cell_type": "code",
   "execution_count": null,
   "id": "3963b1bb",
   "metadata": {},
   "outputs": [],
   "source": []
  },
  {
   "cell_type": "code",
   "execution_count": null,
   "id": "89d21b3f",
   "metadata": {},
   "outputs": [],
   "source": []
  },
  {
   "cell_type": "code",
   "execution_count": null,
   "id": "ae3bd632",
   "metadata": {},
   "outputs": [],
   "source": []
  },
  {
   "cell_type": "code",
   "execution_count": null,
   "id": "6b48bfc4",
   "metadata": {},
   "outputs": [],
   "source": []
  },
  {
   "cell_type": "code",
   "execution_count": null,
   "id": "0d3a3b65",
   "metadata": {},
   "outputs": [],
   "source": []
  },
  {
   "cell_type": "code",
   "execution_count": null,
   "id": "63cf46ec",
   "metadata": {},
   "outputs": [],
   "source": []
  }
 ],
 "metadata": {
  "kernelspec": {
   "display_name": "Python 3 (ipykernel)",
   "language": "python",
   "name": "python3"
  },
  "language_info": {
   "codemirror_mode": {
    "name": "ipython",
    "version": 3
   },
   "file_extension": ".py",
   "mimetype": "text/x-python",
   "name": "python",
   "nbconvert_exporter": "python",
   "pygments_lexer": "ipython3",
   "version": "3.11.4"
  }
 },
 "nbformat": 4,
 "nbformat_minor": 5
}
