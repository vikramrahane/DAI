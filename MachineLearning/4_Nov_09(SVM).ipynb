{
 "cells": [
  {
   "cell_type": "code",
   "execution_count": 21,
   "id": "def21c2c",
   "metadata": {},
   "outputs": [],
   "source": [
    "import pandas as pd\n",
    "import numpy as np\n",
    "from sklearn.preprocessing import LabelEncoder\n",
    "from sklearn.model_selection import StratifiedKFold, GridSearchCV\n",
    "from sklearn.svm import SVC\n",
    "from sklearn.model_selection import train_test_split\n",
    "from sklearn.metrics import accuracy_score,log_loss"
   ]
  },
  {
   "cell_type": "code",
   "execution_count": 22,
   "id": "6af6e9e0",
   "metadata": {},
   "outputs": [],
   "source": [
    "bcancer = pd.read_csv('BreastCancer.csv', index_col=0)\n",
    "lbl=LabelEncoder()\n",
    "bcancer['Class']=lbl.fit_transform(bcancer['Class'])\n",
    "X= bcancer.drop(\"Class\",axis=1)\n",
    "y= bcancer['Class']"
   ]
  },
  {
   "cell_type": "code",
   "execution_count": 23,
   "id": "742bb654",
   "metadata": {},
   "outputs": [],
   "source": [
    "X_train, X_test, y_train, y_test=train_test_split(X,y,test_size=0.3,random_state=23, stratify=y)"
   ]
  },
  {
   "cell_type": "code",
   "execution_count": 24,
   "id": "ee7f84ac",
   "metadata": {},
   "outputs": [
    {
     "data": {
      "text/html": [
       "<style>#sk-container-id-3 {color: black;}#sk-container-id-3 pre{padding: 0;}#sk-container-id-3 div.sk-toggleable {background-color: white;}#sk-container-id-3 label.sk-toggleable__label {cursor: pointer;display: block;width: 100%;margin-bottom: 0;padding: 0.3em;box-sizing: border-box;text-align: center;}#sk-container-id-3 label.sk-toggleable__label-arrow:before {content: \"▸\";float: left;margin-right: 0.25em;color: #696969;}#sk-container-id-3 label.sk-toggleable__label-arrow:hover:before {color: black;}#sk-container-id-3 div.sk-estimator:hover label.sk-toggleable__label-arrow:before {color: black;}#sk-container-id-3 div.sk-toggleable__content {max-height: 0;max-width: 0;overflow: hidden;text-align: left;background-color: #f0f8ff;}#sk-container-id-3 div.sk-toggleable__content pre {margin: 0.2em;color: black;border-radius: 0.25em;background-color: #f0f8ff;}#sk-container-id-3 input.sk-toggleable__control:checked~div.sk-toggleable__content {max-height: 200px;max-width: 100%;overflow: auto;}#sk-container-id-3 input.sk-toggleable__control:checked~label.sk-toggleable__label-arrow:before {content: \"▾\";}#sk-container-id-3 div.sk-estimator input.sk-toggleable__control:checked~label.sk-toggleable__label {background-color: #d4ebff;}#sk-container-id-3 div.sk-label input.sk-toggleable__control:checked~label.sk-toggleable__label {background-color: #d4ebff;}#sk-container-id-3 input.sk-hidden--visually {border: 0;clip: rect(1px 1px 1px 1px);clip: rect(1px, 1px, 1px, 1px);height: 1px;margin: -1px;overflow: hidden;padding: 0;position: absolute;width: 1px;}#sk-container-id-3 div.sk-estimator {font-family: monospace;background-color: #f0f8ff;border: 1px dotted black;border-radius: 0.25em;box-sizing: border-box;margin-bottom: 0.5em;}#sk-container-id-3 div.sk-estimator:hover {background-color: #d4ebff;}#sk-container-id-3 div.sk-parallel-item::after {content: \"\";width: 100%;border-bottom: 1px solid gray;flex-grow: 1;}#sk-container-id-3 div.sk-label:hover label.sk-toggleable__label {background-color: #d4ebff;}#sk-container-id-3 div.sk-serial::before {content: \"\";position: absolute;border-left: 1px solid gray;box-sizing: border-box;top: 0;bottom: 0;left: 50%;z-index: 0;}#sk-container-id-3 div.sk-serial {display: flex;flex-direction: column;align-items: center;background-color: white;padding-right: 0.2em;padding-left: 0.2em;position: relative;}#sk-container-id-3 div.sk-item {position: relative;z-index: 1;}#sk-container-id-3 div.sk-parallel {display: flex;align-items: stretch;justify-content: center;background-color: white;position: relative;}#sk-container-id-3 div.sk-item::before, #sk-container-id-3 div.sk-parallel-item::before {content: \"\";position: absolute;border-left: 1px solid gray;box-sizing: border-box;top: 0;bottom: 0;left: 50%;z-index: -1;}#sk-container-id-3 div.sk-parallel-item {display: flex;flex-direction: column;z-index: 1;position: relative;background-color: white;}#sk-container-id-3 div.sk-parallel-item:first-child::after {align-self: flex-end;width: 50%;}#sk-container-id-3 div.sk-parallel-item:last-child::after {align-self: flex-start;width: 50%;}#sk-container-id-3 div.sk-parallel-item:only-child::after {width: 0;}#sk-container-id-3 div.sk-dashed-wrapped {border: 1px dashed gray;margin: 0 0.4em 0.5em 0.4em;box-sizing: border-box;padding-bottom: 0.4em;background-color: white;}#sk-container-id-3 div.sk-label label {font-family: monospace;font-weight: bold;display: inline-block;line-height: 1.2em;}#sk-container-id-3 div.sk-label-container {text-align: center;}#sk-container-id-3 div.sk-container {/* jupyter's `normalize.less` sets `[hidden] { display: none; }` but bootstrap.min.css set `[hidden] { display: none !important; }` so we also need the `!important` here to be able to override the default hidden behavior on the sphinx rendered scikit-learn.org. See: https://github.com/scikit-learn/scikit-learn/issues/21755 */display: inline-block !important;position: relative;}#sk-container-id-3 div.sk-text-repr-fallback {display: none;}</style><div id=\"sk-container-id-3\" class=\"sk-top-container\"><div class=\"sk-text-repr-fallback\"><pre>SVC(kernel=&#x27;linear&#x27;, probability=True, random_state=23)</pre><b>In a Jupyter environment, please rerun this cell to show the HTML representation or trust the notebook. <br />On GitHub, the HTML representation is unable to render, please try loading this page with nbviewer.org.</b></div><div class=\"sk-container\" hidden><div class=\"sk-item\"><div class=\"sk-estimator sk-toggleable\"><input class=\"sk-toggleable__control sk-hidden--visually\" id=\"sk-estimator-id-3\" type=\"checkbox\" checked><label for=\"sk-estimator-id-3\" class=\"sk-toggleable__label sk-toggleable__label-arrow\">SVC</label><div class=\"sk-toggleable__content\"><pre>SVC(kernel=&#x27;linear&#x27;, probability=True, random_state=23)</pre></div></div></div></div></div>"
      ],
      "text/plain": [
       "SVC(kernel='linear', probability=True, random_state=23)"
      ]
     },
     "execution_count": 24,
     "metadata": {},
     "output_type": "execute_result"
    }
   ],
   "source": [
    "svm= SVC(kernel='linear', probability=True,random_state=23)\n",
    "svm.fit(X_train, y_train)\n"
   ]
  },
  {
   "cell_type": "code",
   "execution_count": 25,
   "id": "2023e22e",
   "metadata": {},
   "outputs": [
    {
     "name": "stdout",
     "output_type": "stream",
     "text": [
      "0.9476190476190476\n"
     ]
    }
   ],
   "source": [
    "y_pred = svm.predict(X_test)\n",
    "print(accuracy_score(y_test,y_pred))"
   ]
  },
  {
   "cell_type": "code",
   "execution_count": 26,
   "id": "e1331336",
   "metadata": {},
   "outputs": [
    {
     "name": "stdout",
     "output_type": "stream",
     "text": [
      "0.14528917761346982\n"
     ]
    }
   ],
   "source": [
    "y_pred_prob= svm.predict_proba(X_test)[:,1]\n",
    "print(log_loss(y_test,y_pred_prob))"
   ]
  },
  {
   "cell_type": "code",
   "execution_count": 36,
   "id": "cb093312",
   "metadata": {},
   "outputs": [],
   "source": [
    "# Linear SVM\n",
    "kfold = StratifiedKFold(n_splits=5, shuffle=True,\n",
    "                        random_state=23)\n",
    "params = {'C': np.linspace(0.001, 5, 10)}\n",
    "gcv = GridSearchCV(svm, param_grid=params,\n",
    "                   cv=kfold, scoring='neg_log_loss')"
   ]
  },
  {
   "cell_type": "code",
   "execution_count": 37,
   "id": "c6d9e0cb",
   "metadata": {},
   "outputs": [
    {
     "data": {
      "text/html": [
       "<style>#sk-container-id-6 {color: black;}#sk-container-id-6 pre{padding: 0;}#sk-container-id-6 div.sk-toggleable {background-color: white;}#sk-container-id-6 label.sk-toggleable__label {cursor: pointer;display: block;width: 100%;margin-bottom: 0;padding: 0.3em;box-sizing: border-box;text-align: center;}#sk-container-id-6 label.sk-toggleable__label-arrow:before {content: \"▸\";float: left;margin-right: 0.25em;color: #696969;}#sk-container-id-6 label.sk-toggleable__label-arrow:hover:before {color: black;}#sk-container-id-6 div.sk-estimator:hover label.sk-toggleable__label-arrow:before {color: black;}#sk-container-id-6 div.sk-toggleable__content {max-height: 0;max-width: 0;overflow: hidden;text-align: left;background-color: #f0f8ff;}#sk-container-id-6 div.sk-toggleable__content pre {margin: 0.2em;color: black;border-radius: 0.25em;background-color: #f0f8ff;}#sk-container-id-6 input.sk-toggleable__control:checked~div.sk-toggleable__content {max-height: 200px;max-width: 100%;overflow: auto;}#sk-container-id-6 input.sk-toggleable__control:checked~label.sk-toggleable__label-arrow:before {content: \"▾\";}#sk-container-id-6 div.sk-estimator input.sk-toggleable__control:checked~label.sk-toggleable__label {background-color: #d4ebff;}#sk-container-id-6 div.sk-label input.sk-toggleable__control:checked~label.sk-toggleable__label {background-color: #d4ebff;}#sk-container-id-6 input.sk-hidden--visually {border: 0;clip: rect(1px 1px 1px 1px);clip: rect(1px, 1px, 1px, 1px);height: 1px;margin: -1px;overflow: hidden;padding: 0;position: absolute;width: 1px;}#sk-container-id-6 div.sk-estimator {font-family: monospace;background-color: #f0f8ff;border: 1px dotted black;border-radius: 0.25em;box-sizing: border-box;margin-bottom: 0.5em;}#sk-container-id-6 div.sk-estimator:hover {background-color: #d4ebff;}#sk-container-id-6 div.sk-parallel-item::after {content: \"\";width: 100%;border-bottom: 1px solid gray;flex-grow: 1;}#sk-container-id-6 div.sk-label:hover label.sk-toggleable__label {background-color: #d4ebff;}#sk-container-id-6 div.sk-serial::before {content: \"\";position: absolute;border-left: 1px solid gray;box-sizing: border-box;top: 0;bottom: 0;left: 50%;z-index: 0;}#sk-container-id-6 div.sk-serial {display: flex;flex-direction: column;align-items: center;background-color: white;padding-right: 0.2em;padding-left: 0.2em;position: relative;}#sk-container-id-6 div.sk-item {position: relative;z-index: 1;}#sk-container-id-6 div.sk-parallel {display: flex;align-items: stretch;justify-content: center;background-color: white;position: relative;}#sk-container-id-6 div.sk-item::before, #sk-container-id-6 div.sk-parallel-item::before {content: \"\";position: absolute;border-left: 1px solid gray;box-sizing: border-box;top: 0;bottom: 0;left: 50%;z-index: -1;}#sk-container-id-6 div.sk-parallel-item {display: flex;flex-direction: column;z-index: 1;position: relative;background-color: white;}#sk-container-id-6 div.sk-parallel-item:first-child::after {align-self: flex-end;width: 50%;}#sk-container-id-6 div.sk-parallel-item:last-child::after {align-self: flex-start;width: 50%;}#sk-container-id-6 div.sk-parallel-item:only-child::after {width: 0;}#sk-container-id-6 div.sk-dashed-wrapped {border: 1px dashed gray;margin: 0 0.4em 0.5em 0.4em;box-sizing: border-box;padding-bottom: 0.4em;background-color: white;}#sk-container-id-6 div.sk-label label {font-family: monospace;font-weight: bold;display: inline-block;line-height: 1.2em;}#sk-container-id-6 div.sk-label-container {text-align: center;}#sk-container-id-6 div.sk-container {/* jupyter's `normalize.less` sets `[hidden] { display: none; }` but bootstrap.min.css set `[hidden] { display: none !important; }` so we also need the `!important` here to be able to override the default hidden behavior on the sphinx rendered scikit-learn.org. See: https://github.com/scikit-learn/scikit-learn/issues/21755 */display: inline-block !important;position: relative;}#sk-container-id-6 div.sk-text-repr-fallback {display: none;}</style><div id=\"sk-container-id-6\" class=\"sk-top-container\"><div class=\"sk-text-repr-fallback\"><pre>GridSearchCV(cv=StratifiedKFold(n_splits=5, random_state=23, shuffle=True),\n",
       "             estimator=SVC(kernel=&#x27;poly&#x27;, probability=True, random_state=23),\n",
       "             param_grid={&#x27;C&#x27;: array([1.00000000e-03, 5.56444444e-01, 1.11188889e+00, 1.66733333e+00,\n",
       "       2.22277778e+00, 2.77822222e+00, 3.33366667e+00, 3.88911111e+00,\n",
       "       4.44455556e+00, 5.00000000e+00])},\n",
       "             scoring=&#x27;neg_log_loss&#x27;)</pre><b>In a Jupyter environment, please rerun this cell to show the HTML representation or trust the notebook. <br />On GitHub, the HTML representation is unable to render, please try loading this page with nbviewer.org.</b></div><div class=\"sk-container\" hidden><div class=\"sk-item sk-dashed-wrapped\"><div class=\"sk-label-container\"><div class=\"sk-label sk-toggleable\"><input class=\"sk-toggleable__control sk-hidden--visually\" id=\"sk-estimator-id-10\" type=\"checkbox\" ><label for=\"sk-estimator-id-10\" class=\"sk-toggleable__label sk-toggleable__label-arrow\">GridSearchCV</label><div class=\"sk-toggleable__content\"><pre>GridSearchCV(cv=StratifiedKFold(n_splits=5, random_state=23, shuffle=True),\n",
       "             estimator=SVC(kernel=&#x27;poly&#x27;, probability=True, random_state=23),\n",
       "             param_grid={&#x27;C&#x27;: array([1.00000000e-03, 5.56444444e-01, 1.11188889e+00, 1.66733333e+00,\n",
       "       2.22277778e+00, 2.77822222e+00, 3.33366667e+00, 3.88911111e+00,\n",
       "       4.44455556e+00, 5.00000000e+00])},\n",
       "             scoring=&#x27;neg_log_loss&#x27;)</pre></div></div></div><div class=\"sk-parallel\"><div class=\"sk-parallel-item\"><div class=\"sk-item\"><div class=\"sk-label-container\"><div class=\"sk-label sk-toggleable\"><input class=\"sk-toggleable__control sk-hidden--visually\" id=\"sk-estimator-id-11\" type=\"checkbox\" ><label for=\"sk-estimator-id-11\" class=\"sk-toggleable__label sk-toggleable__label-arrow\">estimator: SVC</label><div class=\"sk-toggleable__content\"><pre>SVC(kernel=&#x27;poly&#x27;, probability=True, random_state=23)</pre></div></div></div><div class=\"sk-serial\"><div class=\"sk-item\"><div class=\"sk-estimator sk-toggleable\"><input class=\"sk-toggleable__control sk-hidden--visually\" id=\"sk-estimator-id-12\" type=\"checkbox\" ><label for=\"sk-estimator-id-12\" class=\"sk-toggleable__label sk-toggleable__label-arrow\">SVC</label><div class=\"sk-toggleable__content\"><pre>SVC(kernel=&#x27;poly&#x27;, probability=True, random_state=23)</pre></div></div></div></div></div></div></div></div></div></div>"
      ],
      "text/plain": [
       "GridSearchCV(cv=StratifiedKFold(n_splits=5, random_state=23, shuffle=True),\n",
       "             estimator=SVC(kernel='poly', probability=True, random_state=23),\n",
       "             param_grid={'C': array([1.00000000e-03, 5.56444444e-01, 1.11188889e+00, 1.66733333e+00,\n",
       "       2.22277778e+00, 2.77822222e+00, 3.33366667e+00, 3.88911111e+00,\n",
       "       4.44455556e+00, 5.00000000e+00])},\n",
       "             scoring='neg_log_loss')"
      ]
     },
     "execution_count": 37,
     "metadata": {},
     "output_type": "execute_result"
    }
   ],
   "source": [
    "gcv.fit(X, y)"
   ]
  },
  {
   "cell_type": "code",
   "execution_count": 38,
   "id": "64433630",
   "metadata": {},
   "outputs": [
    {
     "name": "stdout",
     "output_type": "stream",
     "text": [
      "{'C': 0.001}\n"
     ]
    }
   ],
   "source": [
    "print(gcv.best_params_)"
   ]
  },
  {
   "cell_type": "code",
   "execution_count": 39,
   "id": "7c79886e",
   "metadata": {},
   "outputs": [
    {
     "name": "stdout",
     "output_type": "stream",
     "text": [
      "-0.1336971554707796\n"
     ]
    }
   ],
   "source": [
    "print(gcv.best_score_)"
   ]
  },
  {
   "cell_type": "code",
   "execution_count": 40,
   "id": "b18b0e3b",
   "metadata": {},
   "outputs": [],
   "source": [
    "# Polynomial SVM\n",
    "kfold = StratifiedKFold(n_splits=5, shuffle=True,\n",
    "                        random_state=23)\n",
    "svm = SVC(kernel='poly',\n",
    "          probability=True, random_state=23)\n",
    "params = {'C': np.linspace(0.001, 5, 10),\n",
    "          'degree':[1,2,3], 'coef0':[0.0, 0.3]}\n",
    "gcv = GridSearchCV(svm, param_grid=params,verbose=3,\n",
    "                   cv=kfold, scoring='neg_log_loss')"
   ]
  },
  {
   "cell_type": "code",
   "execution_count": 41,
   "id": "840a8cc0",
   "metadata": {},
   "outputs": [
    {
     "name": "stdout",
     "output_type": "stream",
     "text": [
      "Fitting 5 folds for each of 60 candidates, totalling 300 fits\n",
      "[CV 1/5] END .....C=0.001, coef0=0.0, degree=1;, score=-0.180 total time=   0.1s\n",
      "[CV 2/5] END .....C=0.001, coef0=0.0, degree=1;, score=-0.078 total time=   0.1s\n",
      "[CV 3/5] END .....C=0.001, coef0=0.0, degree=1;, score=-0.109 total time=   0.1s\n",
      "[CV 4/5] END .....C=0.001, coef0=0.0, degree=1;, score=-0.109 total time=   0.1s\n",
      "[CV 5/5] END .....C=0.001, coef0=0.0, degree=1;, score=-0.156 total time=   0.1s\n",
      "[CV 1/5] END .....C=0.001, coef0=0.0, degree=2;, score=-0.116 total time=   0.0s\n",
      "[CV 2/5] END .....C=0.001, coef0=0.0, degree=2;, score=-0.093 total time=   0.1s\n",
      "[CV 3/5] END .....C=0.001, coef0=0.0, degree=2;, score=-0.072 total time=   0.1s\n",
      "[CV 4/5] END .....C=0.001, coef0=0.0, degree=2;, score=-0.088 total time=   0.0s\n",
      "[CV 5/5] END .....C=0.001, coef0=0.0, degree=2;, score=-0.188 total time=   0.0s\n",
      "[CV 1/5] END .....C=0.001, coef0=0.0, degree=3;, score=-0.120 total time=   0.0s\n",
      "[CV 2/5] END .....C=0.001, coef0=0.0, degree=3;, score=-0.107 total time=   0.0s\n",
      "[CV 3/5] END .....C=0.001, coef0=0.0, degree=3;, score=-0.121 total time=   0.0s\n",
      "[CV 4/5] END .....C=0.001, coef0=0.0, degree=3;, score=-0.098 total time=   0.0s\n",
      "[CV 5/5] END .....C=0.001, coef0=0.0, degree=3;, score=-0.223 total time=   0.0s\n",
      "[CV 1/5] END .....C=0.001, coef0=0.3, degree=1;, score=-0.180 total time=   0.1s\n",
      "[CV 2/5] END .....C=0.001, coef0=0.3, degree=1;, score=-0.078 total time=   0.1s\n",
      "[CV 3/5] END .....C=0.001, coef0=0.3, degree=1;, score=-0.109 total time=   0.1s\n",
      "[CV 4/5] END .....C=0.001, coef0=0.3, degree=1;, score=-0.109 total time=   0.1s\n",
      "[CV 5/5] END .....C=0.001, coef0=0.3, degree=1;, score=-0.156 total time=   0.1s\n",
      "[CV 1/5] END .....C=0.001, coef0=0.3, degree=2;, score=-0.116 total time=   0.1s\n",
      "[CV 2/5] END .....C=0.001, coef0=0.3, degree=2;, score=-0.092 total time=   0.1s\n",
      "[CV 3/5] END .....C=0.001, coef0=0.3, degree=2;, score=-0.071 total time=   0.0s\n",
      "[CV 4/5] END .....C=0.001, coef0=0.3, degree=2;, score=-0.087 total time=   0.0s\n",
      "[CV 5/5] END .....C=0.001, coef0=0.3, degree=2;, score=-0.185 total time=   0.0s\n",
      "[CV 1/5] END .....C=0.001, coef0=0.3, degree=3;, score=-0.117 total time=   0.0s\n",
      "[CV 2/5] END .....C=0.001, coef0=0.3, degree=3;, score=-0.103 total time=   0.0s\n",
      "[CV 3/5] END .....C=0.001, coef0=0.3, degree=3;, score=-0.080 total time=   0.0s\n",
      "[CV 4/5] END .....C=0.001, coef0=0.3, degree=3;, score=-0.096 total time=   0.0s\n",
      "[CV 5/5] END .....C=0.001, coef0=0.3, degree=3;, score=-0.216 total time=   0.0s\n",
      "[CV 1/5] END C=0.5564444444444444, coef0=0.0, degree=1;, score=-0.095 total time=   0.0s\n",
      "[CV 2/5] END C=0.5564444444444444, coef0=0.0, degree=1;, score=-0.077 total time=   0.0s\n",
      "[CV 3/5] END C=0.5564444444444444, coef0=0.0, degree=1;, score=-0.054 total time=   0.0s\n",
      "[CV 4/5] END C=0.5564444444444444, coef0=0.0, degree=1;, score=-0.100 total time=   0.0s\n",
      "[CV 5/5] END C=0.5564444444444444, coef0=0.0, degree=1;, score=-0.163 total time=   0.0s\n",
      "[CV 1/5] END C=0.5564444444444444, coef0=0.0, degree=2;, score=-0.098 total time=   0.0s\n",
      "[CV 2/5] END C=0.5564444444444444, coef0=0.0, degree=2;, score=-0.099 total time=   0.0s\n",
      "[CV 3/5] END C=0.5564444444444444, coef0=0.0, degree=2;, score=-0.076 total time=   0.0s\n",
      "[CV 4/5] END C=0.5564444444444444, coef0=0.0, degree=2;, score=-0.125 total time=   0.0s\n",
      "[CV 5/5] END C=0.5564444444444444, coef0=0.0, degree=2;, score=-0.191 total time=   0.0s\n",
      "[CV 1/5] END C=0.5564444444444444, coef0=0.0, degree=3;, score=-0.109 total time=   0.0s\n",
      "[CV 2/5] END C=0.5564444444444444, coef0=0.0, degree=3;, score=-0.111 total time=   0.0s\n",
      "[CV 3/5] END C=0.5564444444444444, coef0=0.0, degree=3;, score=-0.091 total time=   0.0s\n",
      "[CV 4/5] END C=0.5564444444444444, coef0=0.0, degree=3;, score=-0.145 total time=   0.0s\n",
      "[CV 5/5] END C=0.5564444444444444, coef0=0.0, degree=3;, score=-0.274 total time=   0.0s\n",
      "[CV 1/5] END C=0.5564444444444444, coef0=0.3, degree=1;, score=-0.095 total time=   0.0s\n",
      "[CV 2/5] END C=0.5564444444444444, coef0=0.3, degree=1;, score=-0.077 total time=   0.0s\n",
      "[CV 3/5] END C=0.5564444444444444, coef0=0.3, degree=1;, score=-0.054 total time=   0.0s\n",
      "[CV 4/5] END C=0.5564444444444444, coef0=0.3, degree=1;, score=-0.100 total time=   0.0s\n",
      "[CV 5/5] END C=0.5564444444444444, coef0=0.3, degree=1;, score=-0.163 total time=   0.0s\n",
      "[CV 1/5] END C=0.5564444444444444, coef0=0.3, degree=2;, score=-0.097 total time=   0.0s\n",
      "[CV 2/5] END C=0.5564444444444444, coef0=0.3, degree=2;, score=-0.096 total time=   0.0s\n",
      "[CV 3/5] END C=0.5564444444444444, coef0=0.3, degree=2;, score=-0.075 total time=   0.0s\n",
      "[CV 4/5] END C=0.5564444444444444, coef0=0.3, degree=2;, score=-0.125 total time=   0.0s\n",
      "[CV 5/5] END C=0.5564444444444444, coef0=0.3, degree=2;, score=-0.187 total time=   0.0s\n",
      "[CV 1/5] END C=0.5564444444444444, coef0=0.3, degree=3;, score=-0.101 total time=   0.0s\n",
      "[CV 2/5] END C=0.5564444444444444, coef0=0.3, degree=3;, score=-0.099 total time=   0.0s\n",
      "[CV 3/5] END C=0.5564444444444444, coef0=0.3, degree=3;, score=-0.081 total time=   0.0s\n",
      "[CV 4/5] END C=0.5564444444444444, coef0=0.3, degree=3;, score=-0.150 total time=   0.0s\n",
      "[CV 5/5] END C=0.5564444444444444, coef0=0.3, degree=3;, score=-0.272 total time=   0.0s\n",
      "[CV 1/5] END C=1.1118888888888887, coef0=0.0, degree=1;, score=-0.095 total time=   0.0s\n",
      "[CV 2/5] END C=1.1118888888888887, coef0=0.0, degree=1;, score=-0.082 total time=   0.0s\n",
      "[CV 3/5] END C=1.1118888888888887, coef0=0.0, degree=1;, score=-0.058 total time=   0.0s\n",
      "[CV 4/5] END C=1.1118888888888887, coef0=0.0, degree=1;, score=-0.104 total time=   0.0s\n",
      "[CV 5/5] END C=1.1118888888888887, coef0=0.0, degree=1;, score=-0.160 total time=   0.0s\n",
      "[CV 1/5] END C=1.1118888888888887, coef0=0.0, degree=2;, score=-0.098 total time=   0.0s\n",
      "[CV 2/5] END C=1.1118888888888887, coef0=0.0, degree=2;, score=-0.098 total time=   0.0s\n",
      "[CV 3/5] END C=1.1118888888888887, coef0=0.0, degree=2;, score=-0.080 total time=   0.0s\n",
      "[CV 4/5] END C=1.1118888888888887, coef0=0.0, degree=2;, score=-0.130 total time=   0.0s\n",
      "[CV 5/5] END C=1.1118888888888887, coef0=0.0, degree=2;, score=-0.191 total time=   0.0s\n",
      "[CV 1/5] END C=1.1118888888888887, coef0=0.0, degree=3;, score=-0.117 total time=   0.0s\n",
      "[CV 2/5] END C=1.1118888888888887, coef0=0.0, degree=3;, score=-0.122 total time=   0.0s\n",
      "[CV 3/5] END C=1.1118888888888887, coef0=0.0, degree=3;, score=-0.093 total time=   0.0s\n",
      "[CV 4/5] END C=1.1118888888888887, coef0=0.0, degree=3;, score=-0.158 total time=   0.0s\n",
      "[CV 5/5] END C=1.1118888888888887, coef0=0.0, degree=3;, score=-0.291 total time=   0.0s\n",
      "[CV 1/5] END C=1.1118888888888887, coef0=0.3, degree=1;, score=-0.095 total time=   0.0s\n",
      "[CV 2/5] END C=1.1118888888888887, coef0=0.3, degree=1;, score=-0.082 total time=   0.0s\n",
      "[CV 3/5] END C=1.1118888888888887, coef0=0.3, degree=1;, score=-0.058 total time=   0.0s\n",
      "[CV 4/5] END C=1.1118888888888887, coef0=0.3, degree=1;, score=-0.104 total time=   0.0s\n",
      "[CV 5/5] END C=1.1118888888888887, coef0=0.3, degree=1;, score=-0.160 total time=   0.0s\n",
      "[CV 1/5] END C=1.1118888888888887, coef0=0.3, degree=2;, score=-0.096 total time=   0.0s\n",
      "[CV 2/5] END C=1.1118888888888887, coef0=0.3, degree=2;, score=-0.093 total time=   0.0s\n",
      "[CV 3/5] END C=1.1118888888888887, coef0=0.3, degree=2;, score=-0.077 total time=   0.0s\n",
      "[CV 4/5] END C=1.1118888888888887, coef0=0.3, degree=2;, score=-0.132 total time=   0.0s\n",
      "[CV 5/5] END C=1.1118888888888887, coef0=0.3, degree=2;, score=-0.188 total time=   0.0s\n",
      "[CV 1/5] END C=1.1118888888888887, coef0=0.3, degree=3;, score=-0.117 total time=   0.0s\n",
      "[CV 2/5] END C=1.1118888888888887, coef0=0.3, degree=3;, score=-0.119 total time=   0.0s\n",
      "[CV 3/5] END C=1.1118888888888887, coef0=0.3, degree=3;, score=-0.085 total time=   0.0s\n",
      "[CV 4/5] END C=1.1118888888888887, coef0=0.3, degree=3;, score=-0.159 total time=   0.0s\n",
      "[CV 5/5] END C=1.1118888888888887, coef0=0.3, degree=3;, score=-0.273 total time=   0.0s\n",
      "[CV 1/5] END C=1.6673333333333331, coef0=0.0, degree=1;, score=-0.095 total time=   0.0s\n",
      "[CV 2/5] END C=1.6673333333333331, coef0=0.0, degree=1;, score=-0.083 total time=   0.0s\n",
      "[CV 3/5] END C=1.6673333333333331, coef0=0.0, degree=1;, score=-0.058 total time=   0.0s\n",
      "[CV 4/5] END C=1.6673333333333331, coef0=0.0, degree=1;, score=-0.112 total time=   0.0s\n",
      "[CV 5/5] END C=1.6673333333333331, coef0=0.0, degree=1;, score=-0.157 total time=   0.0s\n",
      "[CV 1/5] END C=1.6673333333333331, coef0=0.0, degree=2;, score=-0.099 total time=   0.0s\n"
     ]
    },
    {
     "name": "stdout",
     "output_type": "stream",
     "text": [
      "[CV 2/5] END C=1.6673333333333331, coef0=0.0, degree=2;, score=-0.099 total time=   0.0s\n",
      "[CV 3/5] END C=1.6673333333333331, coef0=0.0, degree=2;, score=-0.080 total time=   0.0s\n",
      "[CV 4/5] END C=1.6673333333333331, coef0=0.0, degree=2;, score=-0.138 total time=   0.0s\n",
      "[CV 5/5] END C=1.6673333333333331, coef0=0.0, degree=2;, score=-0.196 total time=   0.0s\n",
      "[CV 1/5] END C=1.6673333333333331, coef0=0.0, degree=3;, score=-0.122 total time=   0.0s\n",
      "[CV 2/5] END C=1.6673333333333331, coef0=0.0, degree=3;, score=-0.134 total time=   0.0s\n",
      "[CV 3/5] END C=1.6673333333333331, coef0=0.0, degree=3;, score=-0.102 total time=   0.0s\n",
      "[CV 4/5] END C=1.6673333333333331, coef0=0.0, degree=3;, score=-0.169 total time=   0.0s\n",
      "[CV 5/5] END C=1.6673333333333331, coef0=0.0, degree=3;, score=-0.294 total time=   0.0s\n",
      "[CV 1/5] END C=1.6673333333333331, coef0=0.3, degree=1;, score=-0.095 total time=   0.0s\n",
      "[CV 2/5] END C=1.6673333333333331, coef0=0.3, degree=1;, score=-0.083 total time=   0.0s\n",
      "[CV 3/5] END C=1.6673333333333331, coef0=0.3, degree=1;, score=-0.058 total time=   0.0s\n",
      "[CV 4/5] END C=1.6673333333333331, coef0=0.3, degree=1;, score=-0.112 total time=   0.0s\n",
      "[CV 5/5] END C=1.6673333333333331, coef0=0.3, degree=1;, score=-0.157 total time=   0.0s\n",
      "[CV 1/5] END C=1.6673333333333331, coef0=0.3, degree=2;, score=-0.095 total time=   0.0s\n",
      "[CV 2/5] END C=1.6673333333333331, coef0=0.3, degree=2;, score=-0.094 total time=   0.0s\n",
      "[CV 3/5] END C=1.6673333333333331, coef0=0.3, degree=2;, score=-0.076 total time=   0.0s\n",
      "[CV 4/5] END C=1.6673333333333331, coef0=0.3, degree=2;, score=-0.136 total time=   0.0s\n",
      "[CV 5/5] END C=1.6673333333333331, coef0=0.3, degree=2;, score=-0.190 total time=   0.0s\n",
      "[CV 1/5] END C=1.6673333333333331, coef0=0.3, degree=3;, score=-0.118 total time=   0.0s\n",
      "[CV 2/5] END C=1.6673333333333331, coef0=0.3, degree=3;, score=-0.132 total time=   0.0s\n",
      "[CV 3/5] END C=1.6673333333333331, coef0=0.3, degree=3;, score=-0.092 total time=   0.0s\n",
      "[CV 4/5] END C=1.6673333333333331, coef0=0.3, degree=3;, score=-0.167 total time=   0.0s\n",
      "[CV 5/5] END C=1.6673333333333331, coef0=0.3, degree=3;, score=-0.281 total time=   0.0s\n",
      "[CV 1/5] END C=2.2227777777777775, coef0=0.0, degree=1;, score=-0.094 total time=   0.0s\n",
      "[CV 2/5] END C=2.2227777777777775, coef0=0.0, degree=1;, score=-0.083 total time=   0.0s\n",
      "[CV 3/5] END C=2.2227777777777775, coef0=0.0, degree=1;, score=-0.057 total time=   0.0s\n",
      "[CV 4/5] END C=2.2227777777777775, coef0=0.0, degree=1;, score=-0.113 total time=   0.0s\n",
      "[CV 5/5] END C=2.2227777777777775, coef0=0.0, degree=1;, score=-0.159 total time=   0.0s\n",
      "[CV 1/5] END C=2.2227777777777775, coef0=0.0, degree=2;, score=-0.100 total time=   0.0s\n",
      "[CV 2/5] END C=2.2227777777777775, coef0=0.0, degree=2;, score=-0.100 total time=   0.0s\n",
      "[CV 3/5] END C=2.2227777777777775, coef0=0.0, degree=2;, score=-0.079 total time=   0.0s\n",
      "[CV 4/5] END C=2.2227777777777775, coef0=0.0, degree=2;, score=-0.140 total time=   0.0s\n",
      "[CV 5/5] END C=2.2227777777777775, coef0=0.0, degree=2;, score=-0.200 total time=   0.0s\n",
      "[CV 1/5] END C=2.2227777777777775, coef0=0.0, degree=3;, score=-0.123 total time=   0.0s\n",
      "[CV 2/5] END C=2.2227777777777775, coef0=0.0, degree=3;, score=-0.143 total time=   0.0s\n",
      "[CV 3/5] END C=2.2227777777777775, coef0=0.0, degree=3;, score=-0.104 total time=   0.0s\n",
      "[CV 4/5] END C=2.2227777777777775, coef0=0.0, degree=3;, score=-0.172 total time=   0.0s\n",
      "[CV 5/5] END C=2.2227777777777775, coef0=0.0, degree=3;, score=-0.300 total time=   0.0s\n",
      "[CV 1/5] END C=2.2227777777777775, coef0=0.3, degree=1;, score=-0.094 total time=   0.0s\n",
      "[CV 2/5] END C=2.2227777777777775, coef0=0.3, degree=1;, score=-0.083 total time=   0.0s\n",
      "[CV 3/5] END C=2.2227777777777775, coef0=0.3, degree=1;, score=-0.057 total time=   0.0s\n",
      "[CV 4/5] END C=2.2227777777777775, coef0=0.3, degree=1;, score=-0.113 total time=   0.0s\n",
      "[CV 5/5] END C=2.2227777777777775, coef0=0.3, degree=1;, score=-0.159 total time=   0.0s\n",
      "[CV 1/5] END C=2.2227777777777775, coef0=0.3, degree=2;, score=-0.094 total time=   0.0s\n",
      "[CV 2/5] END C=2.2227777777777775, coef0=0.3, degree=2;, score=-0.093 total time=   0.0s\n",
      "[CV 3/5] END C=2.2227777777777775, coef0=0.3, degree=2;, score=-0.075 total time=   0.0s\n",
      "[CV 4/5] END C=2.2227777777777775, coef0=0.3, degree=2;, score=-0.137 total time=   0.0s\n",
      "[CV 5/5] END C=2.2227777777777775, coef0=0.3, degree=2;, score=-0.192 total time=   0.0s\n",
      "[CV 1/5] END C=2.2227777777777775, coef0=0.3, degree=3;, score=-0.120 total time=   0.0s\n",
      "[CV 2/5] END C=2.2227777777777775, coef0=0.3, degree=3;, score=-0.148 total time=   0.0s\n",
      "[CV 3/5] END C=2.2227777777777775, coef0=0.3, degree=3;, score=-0.105 total time=   0.0s\n",
      "[CV 4/5] END C=2.2227777777777775, coef0=0.3, degree=3;, score=-0.164 total time=   0.0s\n",
      "[CV 5/5] END C=2.2227777777777775, coef0=0.3, degree=3;, score=-0.284 total time=   0.0s\n",
      "[CV 1/5] END C=2.778222222222222, coef0=0.0, degree=1;, score=-0.094 total time=   0.0s\n",
      "[CV 2/5] END C=2.778222222222222, coef0=0.0, degree=1;, score=-0.080 total time=   0.0s\n",
      "[CV 3/5] END C=2.778222222222222, coef0=0.0, degree=1;, score=-0.058 total time=   0.0s\n",
      "[CV 4/5] END C=2.778222222222222, coef0=0.0, degree=1;, score=-0.112 total time=   0.0s\n",
      "[CV 5/5] END C=2.778222222222222, coef0=0.0, degree=1;, score=-0.165 total time=   0.0s\n",
      "[CV 1/5] END C=2.778222222222222, coef0=0.0, degree=2;, score=-0.101 total time=   0.0s\n",
      "[CV 2/5] END C=2.778222222222222, coef0=0.0, degree=2;, score=-0.099 total time=   0.0s\n",
      "[CV 3/5] END C=2.778222222222222, coef0=0.0, degree=2;, score=-0.078 total time=   0.0s\n",
      "[CV 4/5] END C=2.778222222222222, coef0=0.0, degree=2;, score=-0.137 total time=   0.0s\n",
      "[CV 5/5] END C=2.778222222222222, coef0=0.0, degree=2;, score=-0.200 total time=   0.0s\n",
      "[CV 1/5] END C=2.778222222222222, coef0=0.0, degree=3;, score=-0.123 total time=   0.0s\n",
      "[CV 2/5] END C=2.778222222222222, coef0=0.0, degree=3;, score=-0.151 total time=   0.0s\n",
      "[CV 3/5] END C=2.778222222222222, coef0=0.0, degree=3;, score=-0.108 total time=   0.0s\n",
      "[CV 4/5] END C=2.778222222222222, coef0=0.0, degree=3;, score=-0.170 total time=   0.0s\n",
      "[CV 5/5] END C=2.778222222222222, coef0=0.0, degree=3;, score=-0.303 total time=   0.0s\n",
      "[CV 1/5] END C=2.778222222222222, coef0=0.3, degree=1;, score=-0.094 total time=   0.0s\n",
      "[CV 2/5] END C=2.778222222222222, coef0=0.3, degree=1;, score=-0.081 total time=   0.0s\n",
      "[CV 3/5] END C=2.778222222222222, coef0=0.3, degree=1;, score=-0.058 total time=   0.0s\n",
      "[CV 4/5] END C=2.778222222222222, coef0=0.3, degree=1;, score=-0.112 total time=   0.0s\n",
      "[CV 5/5] END C=2.778222222222222, coef0=0.3, degree=1;, score=-0.165 total time=   0.0s\n",
      "[CV 1/5] END C=2.778222222222222, coef0=0.3, degree=2;, score=-0.093 total time=   0.0s\n",
      "[CV 2/5] END C=2.778222222222222, coef0=0.3, degree=2;, score=-0.091 total time=   0.0s\n",
      "[CV 3/5] END C=2.778222222222222, coef0=0.3, degree=2;, score=-0.073 total time=   0.0s\n",
      "[CV 4/5] END C=2.778222222222222, coef0=0.3, degree=2;, score=-0.138 total time=   0.0s\n",
      "[CV 5/5] END C=2.778222222222222, coef0=0.3, degree=2;, score=-0.190 total time=   0.0s\n",
      "[CV 1/5] END C=2.778222222222222, coef0=0.3, degree=3;, score=-0.120 total time=   0.0s\n",
      "[CV 2/5] END C=2.778222222222222, coef0=0.3, degree=3;, score=-0.159 total time=   0.0s\n",
      "[CV 3/5] END C=2.778222222222222, coef0=0.3, degree=3;, score=-0.114 total time=   0.0s\n",
      "[CV 4/5] END C=2.778222222222222, coef0=0.3, degree=3;, score=-0.165 total time=   0.0s\n",
      "[CV 5/5] END C=2.778222222222222, coef0=0.3, degree=3;, score=-0.287 total time=   0.0s\n",
      "[CV 1/5] END C=3.3336666666666663, coef0=0.0, degree=1;, score=-0.093 total time=   0.0s\n",
      "[CV 2/5] END C=3.3336666666666663, coef0=0.0, degree=1;, score=-0.080 total time=   0.0s\n",
      "[CV 3/5] END C=3.3336666666666663, coef0=0.0, degree=1;, score=-0.060 total time=   0.0s\n",
      "[CV 4/5] END C=3.3336666666666663, coef0=0.0, degree=1;, score=-0.109 total time=   0.0s\n",
      "[CV 5/5] END C=3.3336666666666663, coef0=0.0, degree=1;, score=-0.170 total time=   0.0s\n",
      "[CV 1/5] END C=3.3336666666666663, coef0=0.0, degree=2;, score=-0.100 total time=   0.0s\n",
      "[CV 2/5] END C=3.3336666666666663, coef0=0.0, degree=2;, score=-0.098 total time=   0.0s\n",
      "[CV 3/5] END C=3.3336666666666663, coef0=0.0, degree=2;, score=-0.079 total time=   0.0s\n",
      "[CV 4/5] END C=3.3336666666666663, coef0=0.0, degree=2;, score=-0.134 total time=   0.0s\n",
      "[CV 5/5] END C=3.3336666666666663, coef0=0.0, degree=2;, score=-0.196 total time=   0.0s\n"
     ]
    },
    {
     "name": "stdout",
     "output_type": "stream",
     "text": [
      "[CV 1/5] END C=3.3336666666666663, coef0=0.0, degree=3;, score=-0.123 total time=   0.0s\n",
      "[CV 2/5] END C=3.3336666666666663, coef0=0.0, degree=3;, score=-0.161 total time=   0.0s\n",
      "[CV 3/5] END C=3.3336666666666663, coef0=0.0, degree=3;, score=-0.114 total time=   0.0s\n",
      "[CV 4/5] END C=3.3336666666666663, coef0=0.0, degree=3;, score=-0.191 total time=   0.0s\n",
      "[CV 5/5] END C=3.3336666666666663, coef0=0.0, degree=3;, score=-0.308 total time=   0.0s\n",
      "[CV 1/5] END C=3.3336666666666663, coef0=0.3, degree=1;, score=-0.093 total time=   0.0s\n",
      "[CV 2/5] END C=3.3336666666666663, coef0=0.3, degree=1;, score=-0.080 total time=   0.0s\n",
      "[CV 3/5] END C=3.3336666666666663, coef0=0.3, degree=1;, score=-0.060 total time=   0.0s\n",
      "[CV 4/5] END C=3.3336666666666663, coef0=0.3, degree=1;, score=-0.109 total time=   0.0s\n",
      "[CV 5/5] END C=3.3336666666666663, coef0=0.3, degree=1;, score=-0.170 total time=   0.0s\n",
      "[CV 1/5] END C=3.3336666666666663, coef0=0.3, degree=2;, score=-0.093 total time=   0.0s\n",
      "[CV 2/5] END C=3.3336666666666663, coef0=0.3, degree=2;, score=-0.089 total time=   0.0s\n",
      "[CV 3/5] END C=3.3336666666666663, coef0=0.3, degree=2;, score=-0.073 total time=   0.0s\n",
      "[CV 4/5] END C=3.3336666666666663, coef0=0.3, degree=2;, score=-0.138 total time=   0.0s\n",
      "[CV 5/5] END C=3.3336666666666663, coef0=0.3, degree=2;, score=-0.185 total time=   0.0s\n",
      "[CV 1/5] END C=3.3336666666666663, coef0=0.3, degree=3;, score=-0.121 total time=   0.0s\n",
      "[CV 2/5] END C=3.3336666666666663, coef0=0.3, degree=3;, score=-0.169 total time=   0.0s\n",
      "[CV 3/5] END C=3.3336666666666663, coef0=0.3, degree=3;, score=-0.124 total time=   0.0s\n",
      "[CV 4/5] END C=3.3336666666666663, coef0=0.3, degree=3;, score=-0.179 total time=   0.0s\n",
      "[CV 5/5] END C=3.3336666666666663, coef0=0.3, degree=3;, score=-0.292 total time=   0.0s\n",
      "[CV 1/5] END C=3.8891111111111107, coef0=0.0, degree=1;, score=-0.093 total time=   0.0s\n",
      "[CV 2/5] END C=3.8891111111111107, coef0=0.0, degree=1;, score=-0.079 total time=   0.0s\n",
      "[CV 3/5] END C=3.8891111111111107, coef0=0.0, degree=1;, score=-0.062 total time=   0.0s\n",
      "[CV 4/5] END C=3.8891111111111107, coef0=0.0, degree=1;, score=-0.108 total time=   0.0s\n",
      "[CV 5/5] END C=3.8891111111111107, coef0=0.0, degree=1;, score=-0.173 total time=   0.0s\n",
      "[CV 1/5] END C=3.8891111111111107, coef0=0.0, degree=2;, score=-0.099 total time=   0.0s\n",
      "[CV 2/5] END C=3.8891111111111107, coef0=0.0, degree=2;, score=-0.098 total time=   0.0s\n",
      "[CV 3/5] END C=3.8891111111111107, coef0=0.0, degree=2;, score=-0.079 total time=   0.0s\n",
      "[CV 4/5] END C=3.8891111111111107, coef0=0.0, degree=2;, score=-0.132 total time=   0.0s\n",
      "[CV 5/5] END C=3.8891111111111107, coef0=0.0, degree=2;, score=-0.194 total time=   0.0s\n",
      "[CV 1/5] END C=3.8891111111111107, coef0=0.0, degree=3;, score=-0.124 total time=   0.0s\n",
      "[CV 2/5] END C=3.8891111111111107, coef0=0.0, degree=3;, score=-0.169 total time=   0.0s\n",
      "[CV 3/5] END C=3.8891111111111107, coef0=0.0, degree=3;, score=-0.119 total time=   0.0s\n",
      "[CV 4/5] END C=3.8891111111111107, coef0=0.0, degree=3;, score=-0.209 total time=   0.0s\n",
      "[CV 5/5] END C=3.8891111111111107, coef0=0.0, degree=3;, score=-0.312 total time=   0.0s\n",
      "[CV 1/5] END C=3.8891111111111107, coef0=0.3, degree=1;, score=-0.093 total time=   0.0s\n",
      "[CV 2/5] END C=3.8891111111111107, coef0=0.3, degree=1;, score=-0.079 total time=   0.0s\n",
      "[CV 3/5] END C=3.8891111111111107, coef0=0.3, degree=1;, score=-0.062 total time=   0.0s\n",
      "[CV 4/5] END C=3.8891111111111107, coef0=0.3, degree=1;, score=-0.108 total time=   0.0s\n",
      "[CV 5/5] END C=3.8891111111111107, coef0=0.3, degree=1;, score=-0.173 total time=   0.0s\n",
      "[CV 1/5] END C=3.8891111111111107, coef0=0.3, degree=2;, score=-0.094 total time=   0.0s\n",
      "[CV 2/5] END C=3.8891111111111107, coef0=0.3, degree=2;, score=-0.089 total time=   0.0s\n",
      "[CV 3/5] END C=3.8891111111111107, coef0=0.3, degree=2;, score=-0.072 total time=   0.0s\n",
      "[CV 4/5] END C=3.8891111111111107, coef0=0.3, degree=2;, score=-0.136 total time=   0.0s\n",
      "[CV 5/5] END C=3.8891111111111107, coef0=0.3, degree=2;, score=-0.182 total time=   0.0s\n",
      "[CV 1/5] END C=3.8891111111111107, coef0=0.3, degree=3;, score=-0.121 total time=   0.0s\n",
      "[CV 2/5] END C=3.8891111111111107, coef0=0.3, degree=3;, score=-0.180 total time=   0.0s\n",
      "[CV 3/5] END C=3.8891111111111107, coef0=0.3, degree=3;, score=-0.135 total time=   0.0s\n",
      "[CV 4/5] END C=3.8891111111111107, coef0=0.3, degree=3;, score=-0.192 total time=   0.0s\n",
      "[CV 5/5] END C=3.8891111111111107, coef0=0.3, degree=3;, score=-0.297 total time=   0.0s\n",
      "[CV 1/5] END C=4.444555555555556, coef0=0.0, degree=1;, score=-0.093 total time=   0.0s\n",
      "[CV 2/5] END C=4.444555555555556, coef0=0.0, degree=1;, score=-0.079 total time=   0.0s\n",
      "[CV 3/5] END C=4.444555555555556, coef0=0.0, degree=1;, score=-0.063 total time=   0.0s\n",
      "[CV 4/5] END C=4.444555555555556, coef0=0.0, degree=1;, score=-0.108 total time=   0.0s\n",
      "[CV 5/5] END C=4.444555555555556, coef0=0.0, degree=1;, score=-0.173 total time=   0.0s\n",
      "[CV 1/5] END C=4.444555555555556, coef0=0.0, degree=2;, score=-0.098 total time=   0.0s\n",
      "[CV 2/5] END C=4.444555555555556, coef0=0.0, degree=2;, score=-0.098 total time=   0.0s\n",
      "[CV 3/5] END C=4.444555555555556, coef0=0.0, degree=2;, score=-0.079 total time=   0.0s\n",
      "[CV 4/5] END C=4.444555555555556, coef0=0.0, degree=2;, score=-0.132 total time=   0.0s\n",
      "[CV 5/5] END C=4.444555555555556, coef0=0.0, degree=2;, score=-0.193 total time=   0.0s\n",
      "[CV 1/5] END C=4.444555555555556, coef0=0.0, degree=3;, score=-0.125 total time=   0.0s\n",
      "[CV 2/5] END C=4.444555555555556, coef0=0.0, degree=3;, score=-0.177 total time=   0.0s\n",
      "[CV 3/5] END C=4.444555555555556, coef0=0.0, degree=3;, score=-0.124 total time=   0.0s\n",
      "[CV 4/5] END C=4.444555555555556, coef0=0.0, degree=3;, score=-0.216 total time=   0.0s\n",
      "[CV 5/5] END C=4.444555555555556, coef0=0.0, degree=3;, score=-0.310 total time=   0.0s\n",
      "[CV 1/5] END C=4.444555555555556, coef0=0.3, degree=1;, score=-0.093 total time=   0.0s\n",
      "[CV 2/5] END C=4.444555555555556, coef0=0.3, degree=1;, score=-0.079 total time=   0.0s\n",
      "[CV 3/5] END C=4.444555555555556, coef0=0.3, degree=1;, score=-0.063 total time=   0.0s\n",
      "[CV 4/5] END C=4.444555555555556, coef0=0.3, degree=1;, score=-0.108 total time=   0.0s\n",
      "[CV 5/5] END C=4.444555555555556, coef0=0.3, degree=1;, score=-0.173 total time=   0.0s\n",
      "[CV 1/5] END C=4.444555555555556, coef0=0.3, degree=2;, score=-0.096 total time=   0.0s\n",
      "[CV 2/5] END C=4.444555555555556, coef0=0.3, degree=2;, score=-0.089 total time=   0.0s\n",
      "[CV 3/5] END C=4.444555555555556, coef0=0.3, degree=2;, score=-0.073 total time=   0.0s\n",
      "[CV 4/5] END C=4.444555555555556, coef0=0.3, degree=2;, score=-0.134 total time=   0.0s\n",
      "[CV 5/5] END C=4.444555555555556, coef0=0.3, degree=2;, score=-0.180 total time=   0.0s\n",
      "[CV 1/5] END C=4.444555555555556, coef0=0.3, degree=3;, score=-0.122 total time=   0.0s\n",
      "[CV 2/5] END C=4.444555555555556, coef0=0.3, degree=3;, score=-0.188 total time=   0.0s\n",
      "[CV 3/5] END C=4.444555555555556, coef0=0.3, degree=3;, score=-0.144 total time=   0.0s\n",
      "[CV 4/5] END C=4.444555555555556, coef0=0.3, degree=3;, score=-0.203 total time=   0.0s\n",
      "[CV 5/5] END C=4.444555555555556, coef0=0.3, degree=3;, score=-0.300 total time=   0.0s\n",
      "[CV 1/5] END .......C=5.0, coef0=0.0, degree=1;, score=-0.092 total time=   0.0s\n",
      "[CV 2/5] END .......C=5.0, coef0=0.0, degree=1;, score=-0.079 total time=   0.0s\n",
      "[CV 3/5] END .......C=5.0, coef0=0.0, degree=1;, score=-0.065 total time=   0.0s\n",
      "[CV 4/5] END .......C=5.0, coef0=0.0, degree=1;, score=-0.109 total time=   0.0s\n",
      "[CV 5/5] END .......C=5.0, coef0=0.0, degree=1;, score=-0.172 total time=   0.0s\n",
      "[CV 1/5] END .......C=5.0, coef0=0.0, degree=2;, score=-0.099 total time=   0.0s\n",
      "[CV 2/5] END .......C=5.0, coef0=0.0, degree=2;, score=-0.098 total time=   0.0s\n",
      "[CV 3/5] END .......C=5.0, coef0=0.0, degree=2;, score=-0.079 total time=   0.0s\n",
      "[CV 4/5] END .......C=5.0, coef0=0.0, degree=2;, score=-0.133 total time=   0.0s\n",
      "[CV 5/5] END .......C=5.0, coef0=0.0, degree=2;, score=-0.193 total time=   0.0s\n",
      "[CV 1/5] END .......C=5.0, coef0=0.0, degree=3;, score=-0.125 total time=   0.0s\n",
      "[CV 2/5] END .......C=5.0, coef0=0.0, degree=3;, score=-0.182 total time=   0.0s\n",
      "[CV 3/5] END .......C=5.0, coef0=0.0, degree=3;, score=-0.131 total time=   0.0s\n",
      "[CV 4/5] END .......C=5.0, coef0=0.0, degree=3;, score=-0.223 total time=   0.0s\n",
      "[CV 5/5] END .......C=5.0, coef0=0.0, degree=3;, score=-0.308 total time=   0.0s\n",
      "[CV 1/5] END .......C=5.0, coef0=0.3, degree=1;, score=-0.092 total time=   0.0s\n",
      "[CV 2/5] END .......C=5.0, coef0=0.3, degree=1;, score=-0.079 total time=   0.0s\n",
      "[CV 3/5] END .......C=5.0, coef0=0.3, degree=1;, score=-0.065 total time=   0.0s\n",
      "[CV 4/5] END .......C=5.0, coef0=0.3, degree=1;, score=-0.109 total time=   0.0s\n",
      "[CV 5/5] END .......C=5.0, coef0=0.3, degree=1;, score=-0.172 total time=   0.0s\n"
     ]
    },
    {
     "name": "stdout",
     "output_type": "stream",
     "text": [
      "[CV 1/5] END .......C=5.0, coef0=0.3, degree=2;, score=-0.098 total time=   0.0s\n",
      "[CV 2/5] END .......C=5.0, coef0=0.3, degree=2;, score=-0.089 total time=   0.0s\n",
      "[CV 3/5] END .......C=5.0, coef0=0.3, degree=2;, score=-0.073 total time=   0.0s\n",
      "[CV 4/5] END .......C=5.0, coef0=0.3, degree=2;, score=-0.132 total time=   0.0s\n",
      "[CV 5/5] END .......C=5.0, coef0=0.3, degree=2;, score=-0.180 total time=   0.0s\n",
      "[CV 1/5] END .......C=5.0, coef0=0.3, degree=3;, score=-0.122 total time=   0.0s\n",
      "[CV 2/5] END .......C=5.0, coef0=0.3, degree=3;, score=-0.195 total time=   0.0s\n",
      "[CV 3/5] END .......C=5.0, coef0=0.3, degree=3;, score=-0.152 total time=   0.0s\n",
      "[CV 4/5] END .......C=5.0, coef0=0.3, degree=3;, score=-0.211 total time=   0.0s\n",
      "[CV 5/5] END .......C=5.0, coef0=0.3, degree=3;, score=-0.303 total time=   0.0s\n"
     ]
    },
    {
     "data": {
      "text/html": [
       "<style>#sk-container-id-7 {color: black;}#sk-container-id-7 pre{padding: 0;}#sk-container-id-7 div.sk-toggleable {background-color: white;}#sk-container-id-7 label.sk-toggleable__label {cursor: pointer;display: block;width: 100%;margin-bottom: 0;padding: 0.3em;box-sizing: border-box;text-align: center;}#sk-container-id-7 label.sk-toggleable__label-arrow:before {content: \"▸\";float: left;margin-right: 0.25em;color: #696969;}#sk-container-id-7 label.sk-toggleable__label-arrow:hover:before {color: black;}#sk-container-id-7 div.sk-estimator:hover label.sk-toggleable__label-arrow:before {color: black;}#sk-container-id-7 div.sk-toggleable__content {max-height: 0;max-width: 0;overflow: hidden;text-align: left;background-color: #f0f8ff;}#sk-container-id-7 div.sk-toggleable__content pre {margin: 0.2em;color: black;border-radius: 0.25em;background-color: #f0f8ff;}#sk-container-id-7 input.sk-toggleable__control:checked~div.sk-toggleable__content {max-height: 200px;max-width: 100%;overflow: auto;}#sk-container-id-7 input.sk-toggleable__control:checked~label.sk-toggleable__label-arrow:before {content: \"▾\";}#sk-container-id-7 div.sk-estimator input.sk-toggleable__control:checked~label.sk-toggleable__label {background-color: #d4ebff;}#sk-container-id-7 div.sk-label input.sk-toggleable__control:checked~label.sk-toggleable__label {background-color: #d4ebff;}#sk-container-id-7 input.sk-hidden--visually {border: 0;clip: rect(1px 1px 1px 1px);clip: rect(1px, 1px, 1px, 1px);height: 1px;margin: -1px;overflow: hidden;padding: 0;position: absolute;width: 1px;}#sk-container-id-7 div.sk-estimator {font-family: monospace;background-color: #f0f8ff;border: 1px dotted black;border-radius: 0.25em;box-sizing: border-box;margin-bottom: 0.5em;}#sk-container-id-7 div.sk-estimator:hover {background-color: #d4ebff;}#sk-container-id-7 div.sk-parallel-item::after {content: \"\";width: 100%;border-bottom: 1px solid gray;flex-grow: 1;}#sk-container-id-7 div.sk-label:hover label.sk-toggleable__label {background-color: #d4ebff;}#sk-container-id-7 div.sk-serial::before {content: \"\";position: absolute;border-left: 1px solid gray;box-sizing: border-box;top: 0;bottom: 0;left: 50%;z-index: 0;}#sk-container-id-7 div.sk-serial {display: flex;flex-direction: column;align-items: center;background-color: white;padding-right: 0.2em;padding-left: 0.2em;position: relative;}#sk-container-id-7 div.sk-item {position: relative;z-index: 1;}#sk-container-id-7 div.sk-parallel {display: flex;align-items: stretch;justify-content: center;background-color: white;position: relative;}#sk-container-id-7 div.sk-item::before, #sk-container-id-7 div.sk-parallel-item::before {content: \"\";position: absolute;border-left: 1px solid gray;box-sizing: border-box;top: 0;bottom: 0;left: 50%;z-index: -1;}#sk-container-id-7 div.sk-parallel-item {display: flex;flex-direction: column;z-index: 1;position: relative;background-color: white;}#sk-container-id-7 div.sk-parallel-item:first-child::after {align-self: flex-end;width: 50%;}#sk-container-id-7 div.sk-parallel-item:last-child::after {align-self: flex-start;width: 50%;}#sk-container-id-7 div.sk-parallel-item:only-child::after {width: 0;}#sk-container-id-7 div.sk-dashed-wrapped {border: 1px dashed gray;margin: 0 0.4em 0.5em 0.4em;box-sizing: border-box;padding-bottom: 0.4em;background-color: white;}#sk-container-id-7 div.sk-label label {font-family: monospace;font-weight: bold;display: inline-block;line-height: 1.2em;}#sk-container-id-7 div.sk-label-container {text-align: center;}#sk-container-id-7 div.sk-container {/* jupyter's `normalize.less` sets `[hidden] { display: none; }` but bootstrap.min.css set `[hidden] { display: none !important; }` so we also need the `!important` here to be able to override the default hidden behavior on the sphinx rendered scikit-learn.org. See: https://github.com/scikit-learn/scikit-learn/issues/21755 */display: inline-block !important;position: relative;}#sk-container-id-7 div.sk-text-repr-fallback {display: none;}</style><div id=\"sk-container-id-7\" class=\"sk-top-container\"><div class=\"sk-text-repr-fallback\"><pre>GridSearchCV(cv=StratifiedKFold(n_splits=5, random_state=23, shuffle=True),\n",
       "             estimator=SVC(kernel=&#x27;poly&#x27;, probability=True, random_state=23),\n",
       "             param_grid={&#x27;C&#x27;: array([1.00000000e-03, 5.56444444e-01, 1.11188889e+00, 1.66733333e+00,\n",
       "       2.22277778e+00, 2.77822222e+00, 3.33366667e+00, 3.88911111e+00,\n",
       "       4.44455556e+00, 5.00000000e+00]),\n",
       "                         &#x27;coef0&#x27;: [0.0, 0.3], &#x27;degree&#x27;: [1, 2, 3]},\n",
       "             scoring=&#x27;neg_log_loss&#x27;, verbose=3)</pre><b>In a Jupyter environment, please rerun this cell to show the HTML representation or trust the notebook. <br />On GitHub, the HTML representation is unable to render, please try loading this page with nbviewer.org.</b></div><div class=\"sk-container\" hidden><div class=\"sk-item sk-dashed-wrapped\"><div class=\"sk-label-container\"><div class=\"sk-label sk-toggleable\"><input class=\"sk-toggleable__control sk-hidden--visually\" id=\"sk-estimator-id-13\" type=\"checkbox\" ><label for=\"sk-estimator-id-13\" class=\"sk-toggleable__label sk-toggleable__label-arrow\">GridSearchCV</label><div class=\"sk-toggleable__content\"><pre>GridSearchCV(cv=StratifiedKFold(n_splits=5, random_state=23, shuffle=True),\n",
       "             estimator=SVC(kernel=&#x27;poly&#x27;, probability=True, random_state=23),\n",
       "             param_grid={&#x27;C&#x27;: array([1.00000000e-03, 5.56444444e-01, 1.11188889e+00, 1.66733333e+00,\n",
       "       2.22277778e+00, 2.77822222e+00, 3.33366667e+00, 3.88911111e+00,\n",
       "       4.44455556e+00, 5.00000000e+00]),\n",
       "                         &#x27;coef0&#x27;: [0.0, 0.3], &#x27;degree&#x27;: [1, 2, 3]},\n",
       "             scoring=&#x27;neg_log_loss&#x27;, verbose=3)</pre></div></div></div><div class=\"sk-parallel\"><div class=\"sk-parallel-item\"><div class=\"sk-item\"><div class=\"sk-label-container\"><div class=\"sk-label sk-toggleable\"><input class=\"sk-toggleable__control sk-hidden--visually\" id=\"sk-estimator-id-14\" type=\"checkbox\" ><label for=\"sk-estimator-id-14\" class=\"sk-toggleable__label sk-toggleable__label-arrow\">estimator: SVC</label><div class=\"sk-toggleable__content\"><pre>SVC(kernel=&#x27;poly&#x27;, probability=True, random_state=23)</pre></div></div></div><div class=\"sk-serial\"><div class=\"sk-item\"><div class=\"sk-estimator sk-toggleable\"><input class=\"sk-toggleable__control sk-hidden--visually\" id=\"sk-estimator-id-15\" type=\"checkbox\" ><label for=\"sk-estimator-id-15\" class=\"sk-toggleable__label sk-toggleable__label-arrow\">SVC</label><div class=\"sk-toggleable__content\"><pre>SVC(kernel=&#x27;poly&#x27;, probability=True, random_state=23)</pre></div></div></div></div></div></div></div></div></div></div>"
      ],
      "text/plain": [
       "GridSearchCV(cv=StratifiedKFold(n_splits=5, random_state=23, shuffle=True),\n",
       "             estimator=SVC(kernel='poly', probability=True, random_state=23),\n",
       "             param_grid={'C': array([1.00000000e-03, 5.56444444e-01, 1.11188889e+00, 1.66733333e+00,\n",
       "       2.22277778e+00, 2.77822222e+00, 3.33366667e+00, 3.88911111e+00,\n",
       "       4.44455556e+00, 5.00000000e+00]),\n",
       "                         'coef0': [0.0, 0.3], 'degree': [1, 2, 3]},\n",
       "             scoring='neg_log_loss', verbose=3)"
      ]
     },
     "execution_count": 41,
     "metadata": {},
     "output_type": "execute_result"
    }
   ],
   "source": [
    "gcv.fit(X, y)"
   ]
  },
  {
   "cell_type": "code",
   "execution_count": 42,
   "id": "1da944ed",
   "metadata": {},
   "outputs": [
    {
     "name": "stdout",
     "output_type": "stream",
     "text": [
      "{'C': 0.5564444444444444, 'coef0': 0.0, 'degree': 1}\n"
     ]
    }
   ],
   "source": [
    "print(gcv.best_params_)"
   ]
  },
  {
   "cell_type": "code",
   "execution_count": 43,
   "id": "abce778a",
   "metadata": {},
   "outputs": [
    {
     "name": "stdout",
     "output_type": "stream",
     "text": [
      "-0.09791435969482494\n"
     ]
    }
   ],
   "source": [
    "print(gcv.best_score_)"
   ]
  },
  {
   "cell_type": "code",
   "execution_count": null,
   "id": "a25a9366",
   "metadata": {},
   "outputs": [],
   "source": []
  }
 ],
 "metadata": {
  "kernelspec": {
   "display_name": "Python 3 (ipykernel)",
   "language": "python",
   "name": "python3"
  },
  "language_info": {
   "codemirror_mode": {
    "name": "ipython",
    "version": 3
   },
   "file_extension": ".py",
   "mimetype": "text/x-python",
   "name": "python",
   "nbconvert_exporter": "python",
   "pygments_lexer": "ipython3",
   "version": "3.11.4"
  }
 },
 "nbformat": 4,
 "nbformat_minor": 5
}
