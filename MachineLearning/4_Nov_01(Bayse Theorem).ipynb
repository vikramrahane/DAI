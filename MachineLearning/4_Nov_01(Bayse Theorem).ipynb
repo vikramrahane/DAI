{
 "cells": [
  {
   "cell_type": "code",
   "execution_count": 2,
   "id": "7b39e639",
   "metadata": {},
   "outputs": [],
   "source": [
    "import pandas as pd\n",
    "import numpy as np\n",
    "from sklearn.naive_bayes import BernoulliNB"
   ]
  },
  {
   "cell_type": "code",
   "execution_count": 10,
   "id": "14c82725",
   "metadata": {},
   "outputs": [
    {
     "data": {
      "text/html": [
       "<div>\n",
       "<style scoped>\n",
       "    .dataframe tbody tr th:only-of-type {\n",
       "        vertical-align: middle;\n",
       "    }\n",
       "\n",
       "    .dataframe tbody tr th {\n",
       "        vertical-align: top;\n",
       "    }\n",
       "\n",
       "    .dataframe thead th {\n",
       "        text-align: right;\n",
       "    }\n",
       "</style>\n",
       "<table border=\"1\" class=\"dataframe\">\n",
       "  <thead>\n",
       "    <tr style=\"text-align: right;\">\n",
       "      <th></th>\n",
       "      <th>TT_gt_100_y</th>\n",
       "      <th>Gender_male</th>\n",
       "      <th>Response_not bought</th>\n",
       "    </tr>\n",
       "  </thead>\n",
       "  <tbody>\n",
       "    <tr>\n",
       "      <th>0</th>\n",
       "      <td>1</td>\n",
       "      <td>1</td>\n",
       "      <td>1</td>\n",
       "    </tr>\n",
       "    <tr>\n",
       "      <th>1</th>\n",
       "      <td>0</td>\n",
       "      <td>1</td>\n",
       "      <td>1</td>\n",
       "    </tr>\n",
       "    <tr>\n",
       "      <th>2</th>\n",
       "      <td>0</td>\n",
       "      <td>0</td>\n",
       "      <td>1</td>\n",
       "    </tr>\n",
       "    <tr>\n",
       "      <th>3</th>\n",
       "      <td>0</td>\n",
       "      <td>0</td>\n",
       "      <td>1</td>\n",
       "    </tr>\n",
       "    <tr>\n",
       "      <th>4</th>\n",
       "      <td>0</td>\n",
       "      <td>1</td>\n",
       "      <td>1</td>\n",
       "    </tr>\n",
       "  </tbody>\n",
       "</table>\n",
       "</div>"
      ],
      "text/plain": [
       "   TT_gt_100_y  Gender_male  Response_not bought\n",
       "0            1            1                    1\n",
       "1            0            1                    1\n",
       "2            0            0                    1\n",
       "3            0            0                    1\n",
       "4            0            1                    1"
      ]
     },
     "execution_count": 10,
     "metadata": {},
     "output_type": "execute_result"
    }
   ],
   "source": [
    "tel = pd.read_csv('tel_bayes.csv')\n",
    "dum_tel= pd.get_dummies(tel, drop_first=True)\n",
    "nb= BernoulliNB(alpha=0,force_alpha=True)\n",
    "dum_tel.head(5)"
   ]
  },
  {
   "cell_type": "code",
   "execution_count": 4,
   "id": "a88bd969",
   "metadata": {},
   "outputs": [],
   "source": [
    "X = dum_tel[['TT_gt_100_y','Gender_male']]\n",
    "y= dum_tel['Response_not bought']"
   ]
  },
  {
   "cell_type": "code",
   "execution_count": 7,
   "id": "214f7302",
   "metadata": {},
   "outputs": [],
   "source": [
    "nb.fit(X,y)  # Calculate apriori probas\n",
    "tst= np.array([['n','female'],\n",
    "              ['n','male'],\n",
    "              ['y','female'],\n",
    "              ['y','male']])\n",
    "tst= pd.DataFrame(tst, columns=['TT_gt_100','Gender'])\n",
    "dum_tst= pd.get_dummies(tst, drop_first=True)\n"
   ]
  },
  {
   "cell_type": "code",
   "execution_count": 8,
   "id": "7f40282d",
   "metadata": {},
   "outputs": [
    {
     "data": {
      "text/plain": [
       "array([[0.31034483, 0.68965517],\n",
       "       [0.06976744, 0.93023256],\n",
       "       [0.87096774, 0.12903226],\n",
       "       [0.52941176, 0.47058824]])"
      ]
     },
     "execution_count": 8,
     "metadata": {},
     "output_type": "execute_result"
    }
   ],
   "source": [
    "nb.predict_proba(dum_tst) #Calculate posterior probas"
   ]
  },
  {
   "cell_type": "code",
   "execution_count": 9,
   "id": "a188a778",
   "metadata": {},
   "outputs": [
    {
     "data": {
      "text/plain": [
       "array([1, 1, 0, 0], dtype=uint8)"
      ]
     },
     "execution_count": 9,
     "metadata": {},
     "output_type": "execute_result"
    }
   ],
   "source": [
    "nb.predict(dum_tst)"
   ]
  },
  {
   "cell_type": "code",
   "execution_count": null,
   "id": "ace72ada",
   "metadata": {},
   "outputs": [],
   "source": []
  }
 ],
 "metadata": {
  "kernelspec": {
   "display_name": "Python 3 (ipykernel)",
   "language": "python",
   "name": "python3"
  },
  "language_info": {
   "codemirror_mode": {
    "name": "ipython",
    "version": 3
   },
   "file_extension": ".py",
   "mimetype": "text/x-python",
   "name": "python",
   "nbconvert_exporter": "python",
   "pygments_lexer": "ipython3",
   "version": "3.11.4"
  }
 },
 "nbformat": 4,
 "nbformat_minor": 5
}
