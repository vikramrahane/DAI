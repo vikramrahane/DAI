{
 "cells": [
  {
   "cell_type": "code",
   "execution_count": 2,
   "id": "03448ff4",
   "metadata": {},
   "outputs": [],
   "source": [
    "import pandas as pd\n",
    "import numpy as np\n",
    "from sklearn.naive_bayes import BernoulliNB"
   ]
  },
  {
   "cell_type": "code",
   "execution_count": 3,
   "id": "2a63a740",
   "metadata": {},
   "outputs": [],
   "source": [
    "tel = pd.read_csv('tel_bayes.csv')\n",
    "dum_tel= pd.get_dummies(tel, drop_first=True)\n",
    "nb= BernoulliNB(alpha=0,force_alpha=True)"
   ]
  },
  {
   "cell_type": "code",
   "execution_count": 4,
   "id": "5793911a",
   "metadata": {},
   "outputs": [],
   "source": [
    "X = dum_tel[['TT_gt_100_y','Gender_male']]\n",
    "y= dum_tel['Response_not bought']"
   ]
  },
  {
   "cell_type": "code",
   "execution_count": 7,
   "id": "233be05b",
   "metadata": {},
   "outputs": [],
   "source": [
    "nb.fit(X,y)  # Calculate apriori probas\n",
    "tst= np.array([['n','female'],\n",
    "              ['n','male'],\n",
    "              ['y','female'],\n",
    "              ['y','male']])\n",
    "tst= pd.DataFrame(tst, columns=['TT_gt_100','Gender'])\n",
    "dum_tst= pd.get_dummies(tst, drop_first=True)\n"
   ]
  },
  {
   "cell_type": "code",
   "execution_count": 8,
   "id": "edde996f",
   "metadata": {},
   "outputs": [
    {
     "data": {
      "text/plain": [
       "array([[0.31034483, 0.68965517],\n",
       "       [0.06976744, 0.93023256],\n",
       "       [0.87096774, 0.12903226],\n",
       "       [0.52941176, 0.47058824]])"
      ]
     },
     "execution_count": 8,
     "metadata": {},
     "output_type": "execute_result"
    }
   ],
   "source": [
    "nb.predict_proba(dum_tst) #Calculate posterior probas"
   ]
  },
  {
   "cell_type": "code",
   "execution_count": null,
   "id": "0585871e",
   "metadata": {},
   "outputs": [],
   "source": []
  },
  {
   "cell_type": "code",
   "execution_count": null,
   "id": "bf943993",
   "metadata": {},
   "outputs": [],
   "source": []
  },
  {
   "cell_type": "code",
   "execution_count": null,
   "id": "360ddb88",
   "metadata": {},
   "outputs": [],
   "source": []
  },
  {
   "cell_type": "code",
   "execution_count": null,
   "id": "90902e2e",
   "metadata": {},
   "outputs": [],
   "source": []
  },
  {
   "cell_type": "code",
   "execution_count": null,
   "id": "3eb8aedc",
   "metadata": {},
   "outputs": [],
   "source": []
  },
  {
   "cell_type": "code",
   "execution_count": null,
   "id": "ae5e1ba8",
   "metadata": {},
   "outputs": [],
   "source": []
  },
  {
   "cell_type": "code",
   "execution_count": null,
   "id": "efdf3d7e",
   "metadata": {},
   "outputs": [],
   "source": []
  },
  {
   "cell_type": "code",
   "execution_count": null,
   "id": "fa773f01",
   "metadata": {},
   "outputs": [],
   "source": []
  },
  {
   "cell_type": "code",
   "execution_count": null,
   "id": "6d1db7ad",
   "metadata": {},
   "outputs": [],
   "source": []
  },
  {
   "cell_type": "code",
   "execution_count": null,
   "id": "a3da4365",
   "metadata": {},
   "outputs": [],
   "source": []
  },
  {
   "cell_type": "code",
   "execution_count": null,
   "id": "14d78e7b",
   "metadata": {},
   "outputs": [],
   "source": []
  },
  {
   "cell_type": "code",
   "execution_count": null,
   "id": "23ddd728",
   "metadata": {},
   "outputs": [],
   "source": []
  },
  {
   "cell_type": "code",
   "execution_count": null,
   "id": "e96f6c0a",
   "metadata": {},
   "outputs": [],
   "source": []
  },
  {
   "cell_type": "code",
   "execution_count": null,
   "id": "6b1984db",
   "metadata": {},
   "outputs": [],
   "source": []
  },
  {
   "cell_type": "code",
   "execution_count": null,
   "id": "d8d8b9df",
   "metadata": {},
   "outputs": [],
   "source": []
  }
 ],
 "metadata": {
  "kernelspec": {
   "display_name": "Python 3 (ipykernel)",
   "language": "python",
   "name": "python3"
  },
  "language_info": {
   "codemirror_mode": {
    "name": "ipython",
    "version": 3
   },
   "file_extension": ".py",
   "mimetype": "text/x-python",
   "name": "python",
   "nbconvert_exporter": "python",
   "pygments_lexer": "ipython3",
   "version": "3.11.4"
  }
 },
 "nbformat": 4,
 "nbformat_minor": 5
}
